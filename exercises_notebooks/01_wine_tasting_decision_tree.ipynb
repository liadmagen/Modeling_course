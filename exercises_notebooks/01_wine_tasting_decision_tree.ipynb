{
  "cells": [
    {
      "cell_type": "markdown",
      "metadata": {
        "id": "view-in-github",
        "colab_type": "text"
      },
      "source": [
        "<a href=\"https://colab.research.google.com/github/liadmagen/Modeling_course/blob/main/exercises_notebooks/01_wine_tasting_decision_tree.ipynb\" target=\"_parent\"><img src=\"https://colab.research.google.com/assets/colab-badge.svg\" alt=\"Open In Colab\"/></a>"
      ]
    },
    {
      "cell_type": "markdown",
      "metadata": {
        "id": "sT8MYR4hYfHf"
      },
      "source": [
        "# Wine Tasting\n",
        "\n",
        "In this exercise you will create and train a Decision-Tree classifier model, and compare it to two differet regression models. You will use Python for this and get to know the popular scientific package - [Sci-Kit-Learn](https://scikit-learn.org/stable/). \n",
        "\n",
        "## Context\n",
        "\n",
        "This dataset is related to red variants of the Portuguese \"Vinho Verde\" wine and was taken from here: https://archive.ics.uci.edu/ml/datasets/wine+quality. Due to privacy and logistic issues, only physicochemical (inputs) and sensory (the output) variables are available (e.g. there is no data about grape types, wine brand, wine selling price, etc.).\n",
        "\n",
        "## The Data\n",
        "\n",
        "For more information, read [Cortez et al., 2009].\n",
        "\n",
        "Input variables (based on physicochemical tests):\n",
        "1. fixed acidity\n",
        "2. volatile acidity\n",
        "3. citric acid\n",
        "4. residual sugar\n",
        "5. chlorides\n",
        "6. free sulfur dioxide\n",
        "7. total sulfur dioxide\n",
        "8. density\n",
        "9. pH\n",
        "10. sulphates\n",
        "11. alcohol\n",
        "\n",
        "Output variable (based on sensory data) - the *label*:\n",
        "12. quality (score between 0 and 10)\n",
        "\n",
        "## Our task today:\n",
        "\n",
        "Use machine learning to determine which physiochemical properties make a wine 'good'!\n",
        "\n",
        "## Acknowledgements\n",
        "\n",
        "P. Cortez, A. Cerdeira, F. Almeida, T. Matos and J. Reis. Modeling wine preferences by data mining from physicochemical properties. In Decision Support Systems, Elsevier, 47(4):547-553, 2009.\n"
      ]
    },
    {
      "cell_type": "markdown",
      "metadata": {
        "id": "9z3WDL62MPcl"
      },
      "source": [
        "# Decision Tree\n",
        "\n",
        "## Introduction\n",
        "We will start with an analysis of our data. We will plot the histograms and try to think which features would be the best to describe the wine taste.\n",
        "\n",
        "Decision Trees use yes/no (binary) questions to query the feautres to make a decision.\n",
        "\n",
        "Please read more about them in the SciKit-learn python package which we're using here to creat them: https://scikit-learn.org/stable/modules/tree.html\n",
        " "
      ]
    },
    {
      "cell_type": "markdown",
      "metadata": {
        "id": "XT99F-V88FkI"
      },
      "source": [
        "## Data preparation and examination"
      ]
    },
    {
      "cell_type": "code",
      "execution_count": null,
      "metadata": {
        "id": "h7A0xZiRYbad"
      },
      "outputs": [],
      "source": [
        "# Import the needed packages\n",
        "import graphviz\n",
        "\n",
        "import numpy as np\n",
        "import pandas as pd\n",
        "import matplotlib.pyplot as plt\n",
        "\n",
        "from sklearn import tree\n",
        "from sklearn.model_selection import train_test_split\n",
        "from sklearn.metrics import classification_report\n",
        "\n",
        "import seaborn as sns\n",
        "\n",
        "%matplotlib inline\n",
        "sns.set(style='white', context='notebook', rc={'figure.figsize':(14,10)})"
      ]
    },
    {
      "cell_type": "code",
      "execution_count": null,
      "metadata": {
        "id": "QJbYJLvbOE-s"
      },
      "outputs": [],
      "source": [
        "# Load the data:\n",
        "df = pd.read_csv('https://raw.githubusercontent.com/liadmagen/Modeling_course/main/data/winequality-red.csv')"
      ]
    },
    {
      "cell_type": "markdown",
      "metadata": {
        "id": "BKV9y19jN85A"
      },
      "source": [
        "We begin (ALWAYS) with looking at our data."
      ]
    },
    {
      "cell_type": "code",
      "execution_count": null,
      "metadata": {
        "colab": {
          "base_uri": "https://localhost:8080/",
          "height": 424
        },
        "id": "1uKeo_eYOTj8",
        "outputId": "5e0697b6-7615-4b04-e8ae-14829efd5643"
      },
      "outputs": [
        {
          "output_type": "execute_result",
          "data": {
            "text/html": [
              "\n",
              "  <div id=\"df-3a58c42e-f1c9-49cb-92c5-3797dc4413f8\">\n",
              "    <div class=\"colab-df-container\">\n",
              "      <div>\n",
              "<style scoped>\n",
              "    .dataframe tbody tr th:only-of-type {\n",
              "        vertical-align: middle;\n",
              "    }\n",
              "\n",
              "    .dataframe tbody tr th {\n",
              "        vertical-align: top;\n",
              "    }\n",
              "\n",
              "    .dataframe thead th {\n",
              "        text-align: right;\n",
              "    }\n",
              "</style>\n",
              "<table border=\"1\" class=\"dataframe\">\n",
              "  <thead>\n",
              "    <tr style=\"text-align: right;\">\n",
              "      <th></th>\n",
              "      <th>fixed acidity</th>\n",
              "      <th>volatile acidity</th>\n",
              "      <th>citric acid</th>\n",
              "      <th>residual sugar</th>\n",
              "      <th>chlorides</th>\n",
              "      <th>free sulfur dioxide</th>\n",
              "      <th>total sulfur dioxide</th>\n",
              "      <th>density</th>\n",
              "      <th>pH</th>\n",
              "      <th>sulphates</th>\n",
              "      <th>alcohol</th>\n",
              "      <th>quality</th>\n",
              "    </tr>\n",
              "  </thead>\n",
              "  <tbody>\n",
              "    <tr>\n",
              "      <th>0</th>\n",
              "      <td>7.4</td>\n",
              "      <td>0.700</td>\n",
              "      <td>0.00</td>\n",
              "      <td>1.9</td>\n",
              "      <td>0.076</td>\n",
              "      <td>11.0</td>\n",
              "      <td>34.0</td>\n",
              "      <td>0.99780</td>\n",
              "      <td>3.51</td>\n",
              "      <td>0.56</td>\n",
              "      <td>9.4</td>\n",
              "      <td>5</td>\n",
              "    </tr>\n",
              "    <tr>\n",
              "      <th>1</th>\n",
              "      <td>7.8</td>\n",
              "      <td>0.880</td>\n",
              "      <td>0.00</td>\n",
              "      <td>2.6</td>\n",
              "      <td>0.098</td>\n",
              "      <td>25.0</td>\n",
              "      <td>67.0</td>\n",
              "      <td>0.99680</td>\n",
              "      <td>3.20</td>\n",
              "      <td>0.68</td>\n",
              "      <td>9.8</td>\n",
              "      <td>5</td>\n",
              "    </tr>\n",
              "    <tr>\n",
              "      <th>2</th>\n",
              "      <td>7.8</td>\n",
              "      <td>0.760</td>\n",
              "      <td>0.04</td>\n",
              "      <td>2.3</td>\n",
              "      <td>0.092</td>\n",
              "      <td>15.0</td>\n",
              "      <td>54.0</td>\n",
              "      <td>0.99700</td>\n",
              "      <td>3.26</td>\n",
              "      <td>0.65</td>\n",
              "      <td>9.8</td>\n",
              "      <td>5</td>\n",
              "    </tr>\n",
              "    <tr>\n",
              "      <th>3</th>\n",
              "      <td>11.2</td>\n",
              "      <td>0.280</td>\n",
              "      <td>0.56</td>\n",
              "      <td>1.9</td>\n",
              "      <td>0.075</td>\n",
              "      <td>17.0</td>\n",
              "      <td>60.0</td>\n",
              "      <td>0.99800</td>\n",
              "      <td>3.16</td>\n",
              "      <td>0.58</td>\n",
              "      <td>9.8</td>\n",
              "      <td>6</td>\n",
              "    </tr>\n",
              "    <tr>\n",
              "      <th>4</th>\n",
              "      <td>7.4</td>\n",
              "      <td>0.700</td>\n",
              "      <td>0.00</td>\n",
              "      <td>1.9</td>\n",
              "      <td>0.076</td>\n",
              "      <td>11.0</td>\n",
              "      <td>34.0</td>\n",
              "      <td>0.99780</td>\n",
              "      <td>3.51</td>\n",
              "      <td>0.56</td>\n",
              "      <td>9.4</td>\n",
              "      <td>5</td>\n",
              "    </tr>\n",
              "    <tr>\n",
              "      <th>...</th>\n",
              "      <td>...</td>\n",
              "      <td>...</td>\n",
              "      <td>...</td>\n",
              "      <td>...</td>\n",
              "      <td>...</td>\n",
              "      <td>...</td>\n",
              "      <td>...</td>\n",
              "      <td>...</td>\n",
              "      <td>...</td>\n",
              "      <td>...</td>\n",
              "      <td>...</td>\n",
              "      <td>...</td>\n",
              "    </tr>\n",
              "    <tr>\n",
              "      <th>1594</th>\n",
              "      <td>6.2</td>\n",
              "      <td>0.600</td>\n",
              "      <td>0.08</td>\n",
              "      <td>2.0</td>\n",
              "      <td>0.090</td>\n",
              "      <td>32.0</td>\n",
              "      <td>44.0</td>\n",
              "      <td>0.99490</td>\n",
              "      <td>3.45</td>\n",
              "      <td>0.58</td>\n",
              "      <td>10.5</td>\n",
              "      <td>5</td>\n",
              "    </tr>\n",
              "    <tr>\n",
              "      <th>1595</th>\n",
              "      <td>5.9</td>\n",
              "      <td>0.550</td>\n",
              "      <td>0.10</td>\n",
              "      <td>2.2</td>\n",
              "      <td>0.062</td>\n",
              "      <td>39.0</td>\n",
              "      <td>51.0</td>\n",
              "      <td>0.99512</td>\n",
              "      <td>3.52</td>\n",
              "      <td>0.76</td>\n",
              "      <td>11.2</td>\n",
              "      <td>6</td>\n",
              "    </tr>\n",
              "    <tr>\n",
              "      <th>1596</th>\n",
              "      <td>6.3</td>\n",
              "      <td>0.510</td>\n",
              "      <td>0.13</td>\n",
              "      <td>2.3</td>\n",
              "      <td>0.076</td>\n",
              "      <td>29.0</td>\n",
              "      <td>40.0</td>\n",
              "      <td>0.99574</td>\n",
              "      <td>3.42</td>\n",
              "      <td>0.75</td>\n",
              "      <td>11.0</td>\n",
              "      <td>6</td>\n",
              "    </tr>\n",
              "    <tr>\n",
              "      <th>1597</th>\n",
              "      <td>5.9</td>\n",
              "      <td>0.645</td>\n",
              "      <td>0.12</td>\n",
              "      <td>2.0</td>\n",
              "      <td>0.075</td>\n",
              "      <td>32.0</td>\n",
              "      <td>44.0</td>\n",
              "      <td>0.99547</td>\n",
              "      <td>3.57</td>\n",
              "      <td>0.71</td>\n",
              "      <td>10.2</td>\n",
              "      <td>5</td>\n",
              "    </tr>\n",
              "    <tr>\n",
              "      <th>1598</th>\n",
              "      <td>6.0</td>\n",
              "      <td>0.310</td>\n",
              "      <td>0.47</td>\n",
              "      <td>3.6</td>\n",
              "      <td>0.067</td>\n",
              "      <td>18.0</td>\n",
              "      <td>42.0</td>\n",
              "      <td>0.99549</td>\n",
              "      <td>3.39</td>\n",
              "      <td>0.66</td>\n",
              "      <td>11.0</td>\n",
              "      <td>6</td>\n",
              "    </tr>\n",
              "  </tbody>\n",
              "</table>\n",
              "<p>1599 rows × 12 columns</p>\n",
              "</div>\n",
              "      <button class=\"colab-df-convert\" onclick=\"convertToInteractive('df-3a58c42e-f1c9-49cb-92c5-3797dc4413f8')\"\n",
              "              title=\"Convert this dataframe to an interactive table.\"\n",
              "              style=\"display:none;\">\n",
              "        \n",
              "  <svg xmlns=\"http://www.w3.org/2000/svg\" height=\"24px\"viewBox=\"0 0 24 24\"\n",
              "       width=\"24px\">\n",
              "    <path d=\"M0 0h24v24H0V0z\" fill=\"none\"/>\n",
              "    <path d=\"M18.56 5.44l.94 2.06.94-2.06 2.06-.94-2.06-.94-.94-2.06-.94 2.06-2.06.94zm-11 1L8.5 8.5l.94-2.06 2.06-.94-2.06-.94L8.5 2.5l-.94 2.06-2.06.94zm10 10l.94 2.06.94-2.06 2.06-.94-2.06-.94-.94-2.06-.94 2.06-2.06.94z\"/><path d=\"M17.41 7.96l-1.37-1.37c-.4-.4-.92-.59-1.43-.59-.52 0-1.04.2-1.43.59L10.3 9.45l-7.72 7.72c-.78.78-.78 2.05 0 2.83L4 21.41c.39.39.9.59 1.41.59.51 0 1.02-.2 1.41-.59l7.78-7.78 2.81-2.81c.8-.78.8-2.07 0-2.86zM5.41 20L4 18.59l7.72-7.72 1.47 1.35L5.41 20z\"/>\n",
              "  </svg>\n",
              "      </button>\n",
              "      \n",
              "  <style>\n",
              "    .colab-df-container {\n",
              "      display:flex;\n",
              "      flex-wrap:wrap;\n",
              "      gap: 12px;\n",
              "    }\n",
              "\n",
              "    .colab-df-convert {\n",
              "      background-color: #E8F0FE;\n",
              "      border: none;\n",
              "      border-radius: 50%;\n",
              "      cursor: pointer;\n",
              "      display: none;\n",
              "      fill: #1967D2;\n",
              "      height: 32px;\n",
              "      padding: 0 0 0 0;\n",
              "      width: 32px;\n",
              "    }\n",
              "\n",
              "    .colab-df-convert:hover {\n",
              "      background-color: #E2EBFA;\n",
              "      box-shadow: 0px 1px 2px rgba(60, 64, 67, 0.3), 0px 1px 3px 1px rgba(60, 64, 67, 0.15);\n",
              "      fill: #174EA6;\n",
              "    }\n",
              "\n",
              "    [theme=dark] .colab-df-convert {\n",
              "      background-color: #3B4455;\n",
              "      fill: #D2E3FC;\n",
              "    }\n",
              "\n",
              "    [theme=dark] .colab-df-convert:hover {\n",
              "      background-color: #434B5C;\n",
              "      box-shadow: 0px 1px 3px 1px rgba(0, 0, 0, 0.15);\n",
              "      filter: drop-shadow(0px 1px 2px rgba(0, 0, 0, 0.3));\n",
              "      fill: #FFFFFF;\n",
              "    }\n",
              "  </style>\n",
              "\n",
              "      <script>\n",
              "        const buttonEl =\n",
              "          document.querySelector('#df-3a58c42e-f1c9-49cb-92c5-3797dc4413f8 button.colab-df-convert');\n",
              "        buttonEl.style.display =\n",
              "          google.colab.kernel.accessAllowed ? 'block' : 'none';\n",
              "\n",
              "        async function convertToInteractive(key) {\n",
              "          const element = document.querySelector('#df-3a58c42e-f1c9-49cb-92c5-3797dc4413f8');\n",
              "          const dataTable =\n",
              "            await google.colab.kernel.invokeFunction('convertToInteractive',\n",
              "                                                     [key], {});\n",
              "          if (!dataTable) return;\n",
              "\n",
              "          const docLinkHtml = 'Like what you see? Visit the ' +\n",
              "            '<a target=\"_blank\" href=https://colab.research.google.com/notebooks/data_table.ipynb>data table notebook</a>'\n",
              "            + ' to learn more about interactive tables.';\n",
              "          element.innerHTML = '';\n",
              "          dataTable['output_type'] = 'display_data';\n",
              "          await google.colab.output.renderOutput(dataTable, element);\n",
              "          const docLink = document.createElement('div');\n",
              "          docLink.innerHTML = docLinkHtml;\n",
              "          element.appendChild(docLink);\n",
              "        }\n",
              "      </script>\n",
              "    </div>\n",
              "  </div>\n",
              "  "
            ],
            "text/plain": [
              "      fixed acidity  volatile acidity  citric acid  ...  sulphates  alcohol  quality\n",
              "0               7.4             0.700         0.00  ...       0.56      9.4        5\n",
              "1               7.8             0.880         0.00  ...       0.68      9.8        5\n",
              "2               7.8             0.760         0.04  ...       0.65      9.8        5\n",
              "3              11.2             0.280         0.56  ...       0.58      9.8        6\n",
              "4               7.4             0.700         0.00  ...       0.56      9.4        5\n",
              "...             ...               ...          ...  ...        ...      ...      ...\n",
              "1594            6.2             0.600         0.08  ...       0.58     10.5        5\n",
              "1595            5.9             0.550         0.10  ...       0.76     11.2        6\n",
              "1596            6.3             0.510         0.13  ...       0.75     11.0        6\n",
              "1597            5.9             0.645         0.12  ...       0.71     10.2        5\n",
              "1598            6.0             0.310         0.47  ...       0.66     11.0        6\n",
              "\n",
              "[1599 rows x 12 columns]"
            ]
          },
          "metadata": {},
          "execution_count": 4
        }
      ],
      "source": [
        "# The data itself\n",
        "df"
      ]
    },
    {
      "cell_type": "code",
      "execution_count": null,
      "metadata": {
        "colab": {
          "base_uri": "https://localhost:8080/",
          "height": 426
        },
        "id": "_6rVHsjiOVoN",
        "outputId": "e14cdb8c-5f75-4c8d-c775-25c57c8031b5"
      },
      "outputs": [
        {
          "output_type": "execute_result",
          "data": {
            "text/html": [
              "\n",
              "  <div id=\"df-e1aebcc9-e180-4401-8acf-d68fb26e821a\">\n",
              "    <div class=\"colab-df-container\">\n",
              "      <div>\n",
              "<style scoped>\n",
              "    .dataframe tbody tr th:only-of-type {\n",
              "        vertical-align: middle;\n",
              "    }\n",
              "\n",
              "    .dataframe tbody tr th {\n",
              "        vertical-align: top;\n",
              "    }\n",
              "\n",
              "    .dataframe thead th {\n",
              "        text-align: right;\n",
              "    }\n",
              "</style>\n",
              "<table border=\"1\" class=\"dataframe\">\n",
              "  <thead>\n",
              "    <tr style=\"text-align: right;\">\n",
              "      <th></th>\n",
              "      <th>count</th>\n",
              "      <th>mean</th>\n",
              "      <th>std</th>\n",
              "      <th>min</th>\n",
              "      <th>25%</th>\n",
              "      <th>50%</th>\n",
              "      <th>75%</th>\n",
              "      <th>max</th>\n",
              "    </tr>\n",
              "  </thead>\n",
              "  <tbody>\n",
              "    <tr>\n",
              "      <th>fixed acidity</th>\n",
              "      <td>1599.0</td>\n",
              "      <td>8.319637</td>\n",
              "      <td>1.741096</td>\n",
              "      <td>4.60000</td>\n",
              "      <td>7.1000</td>\n",
              "      <td>7.90000</td>\n",
              "      <td>9.200000</td>\n",
              "      <td>15.90000</td>\n",
              "    </tr>\n",
              "    <tr>\n",
              "      <th>volatile acidity</th>\n",
              "      <td>1599.0</td>\n",
              "      <td>0.527821</td>\n",
              "      <td>0.179060</td>\n",
              "      <td>0.12000</td>\n",
              "      <td>0.3900</td>\n",
              "      <td>0.52000</td>\n",
              "      <td>0.640000</td>\n",
              "      <td>1.58000</td>\n",
              "    </tr>\n",
              "    <tr>\n",
              "      <th>citric acid</th>\n",
              "      <td>1599.0</td>\n",
              "      <td>0.270976</td>\n",
              "      <td>0.194801</td>\n",
              "      <td>0.00000</td>\n",
              "      <td>0.0900</td>\n",
              "      <td>0.26000</td>\n",
              "      <td>0.420000</td>\n",
              "      <td>1.00000</td>\n",
              "    </tr>\n",
              "    <tr>\n",
              "      <th>residual sugar</th>\n",
              "      <td>1599.0</td>\n",
              "      <td>2.538806</td>\n",
              "      <td>1.409928</td>\n",
              "      <td>0.90000</td>\n",
              "      <td>1.9000</td>\n",
              "      <td>2.20000</td>\n",
              "      <td>2.600000</td>\n",
              "      <td>15.50000</td>\n",
              "    </tr>\n",
              "    <tr>\n",
              "      <th>chlorides</th>\n",
              "      <td>1599.0</td>\n",
              "      <td>0.087467</td>\n",
              "      <td>0.047065</td>\n",
              "      <td>0.01200</td>\n",
              "      <td>0.0700</td>\n",
              "      <td>0.07900</td>\n",
              "      <td>0.090000</td>\n",
              "      <td>0.61100</td>\n",
              "    </tr>\n",
              "    <tr>\n",
              "      <th>free sulfur dioxide</th>\n",
              "      <td>1599.0</td>\n",
              "      <td>15.874922</td>\n",
              "      <td>10.460157</td>\n",
              "      <td>1.00000</td>\n",
              "      <td>7.0000</td>\n",
              "      <td>14.00000</td>\n",
              "      <td>21.000000</td>\n",
              "      <td>72.00000</td>\n",
              "    </tr>\n",
              "    <tr>\n",
              "      <th>total sulfur dioxide</th>\n",
              "      <td>1599.0</td>\n",
              "      <td>46.467792</td>\n",
              "      <td>32.895324</td>\n",
              "      <td>6.00000</td>\n",
              "      <td>22.0000</td>\n",
              "      <td>38.00000</td>\n",
              "      <td>62.000000</td>\n",
              "      <td>289.00000</td>\n",
              "    </tr>\n",
              "    <tr>\n",
              "      <th>density</th>\n",
              "      <td>1599.0</td>\n",
              "      <td>0.996747</td>\n",
              "      <td>0.001887</td>\n",
              "      <td>0.99007</td>\n",
              "      <td>0.9956</td>\n",
              "      <td>0.99675</td>\n",
              "      <td>0.997835</td>\n",
              "      <td>1.00369</td>\n",
              "    </tr>\n",
              "    <tr>\n",
              "      <th>pH</th>\n",
              "      <td>1599.0</td>\n",
              "      <td>3.311113</td>\n",
              "      <td>0.154386</td>\n",
              "      <td>2.74000</td>\n",
              "      <td>3.2100</td>\n",
              "      <td>3.31000</td>\n",
              "      <td>3.400000</td>\n",
              "      <td>4.01000</td>\n",
              "    </tr>\n",
              "    <tr>\n",
              "      <th>sulphates</th>\n",
              "      <td>1599.0</td>\n",
              "      <td>0.658149</td>\n",
              "      <td>0.169507</td>\n",
              "      <td>0.33000</td>\n",
              "      <td>0.5500</td>\n",
              "      <td>0.62000</td>\n",
              "      <td>0.730000</td>\n",
              "      <td>2.00000</td>\n",
              "    </tr>\n",
              "    <tr>\n",
              "      <th>alcohol</th>\n",
              "      <td>1599.0</td>\n",
              "      <td>10.422983</td>\n",
              "      <td>1.065668</td>\n",
              "      <td>8.40000</td>\n",
              "      <td>9.5000</td>\n",
              "      <td>10.20000</td>\n",
              "      <td>11.100000</td>\n",
              "      <td>14.90000</td>\n",
              "    </tr>\n",
              "    <tr>\n",
              "      <th>quality</th>\n",
              "      <td>1599.0</td>\n",
              "      <td>5.636023</td>\n",
              "      <td>0.807569</td>\n",
              "      <td>3.00000</td>\n",
              "      <td>5.0000</td>\n",
              "      <td>6.00000</td>\n",
              "      <td>6.000000</td>\n",
              "      <td>8.00000</td>\n",
              "    </tr>\n",
              "  </tbody>\n",
              "</table>\n",
              "</div>\n",
              "      <button class=\"colab-df-convert\" onclick=\"convertToInteractive('df-e1aebcc9-e180-4401-8acf-d68fb26e821a')\"\n",
              "              title=\"Convert this dataframe to an interactive table.\"\n",
              "              style=\"display:none;\">\n",
              "        \n",
              "  <svg xmlns=\"http://www.w3.org/2000/svg\" height=\"24px\"viewBox=\"0 0 24 24\"\n",
              "       width=\"24px\">\n",
              "    <path d=\"M0 0h24v24H0V0z\" fill=\"none\"/>\n",
              "    <path d=\"M18.56 5.44l.94 2.06.94-2.06 2.06-.94-2.06-.94-.94-2.06-.94 2.06-2.06.94zm-11 1L8.5 8.5l.94-2.06 2.06-.94-2.06-.94L8.5 2.5l-.94 2.06-2.06.94zm10 10l.94 2.06.94-2.06 2.06-.94-2.06-.94-.94-2.06-.94 2.06-2.06.94z\"/><path d=\"M17.41 7.96l-1.37-1.37c-.4-.4-.92-.59-1.43-.59-.52 0-1.04.2-1.43.59L10.3 9.45l-7.72 7.72c-.78.78-.78 2.05 0 2.83L4 21.41c.39.39.9.59 1.41.59.51 0 1.02-.2 1.41-.59l7.78-7.78 2.81-2.81c.8-.78.8-2.07 0-2.86zM5.41 20L4 18.59l7.72-7.72 1.47 1.35L5.41 20z\"/>\n",
              "  </svg>\n",
              "      </button>\n",
              "      \n",
              "  <style>\n",
              "    .colab-df-container {\n",
              "      display:flex;\n",
              "      flex-wrap:wrap;\n",
              "      gap: 12px;\n",
              "    }\n",
              "\n",
              "    .colab-df-convert {\n",
              "      background-color: #E8F0FE;\n",
              "      border: none;\n",
              "      border-radius: 50%;\n",
              "      cursor: pointer;\n",
              "      display: none;\n",
              "      fill: #1967D2;\n",
              "      height: 32px;\n",
              "      padding: 0 0 0 0;\n",
              "      width: 32px;\n",
              "    }\n",
              "\n",
              "    .colab-df-convert:hover {\n",
              "      background-color: #E2EBFA;\n",
              "      box-shadow: 0px 1px 2px rgba(60, 64, 67, 0.3), 0px 1px 3px 1px rgba(60, 64, 67, 0.15);\n",
              "      fill: #174EA6;\n",
              "    }\n",
              "\n",
              "    [theme=dark] .colab-df-convert {\n",
              "      background-color: #3B4455;\n",
              "      fill: #D2E3FC;\n",
              "    }\n",
              "\n",
              "    [theme=dark] .colab-df-convert:hover {\n",
              "      background-color: #434B5C;\n",
              "      box-shadow: 0px 1px 3px 1px rgba(0, 0, 0, 0.15);\n",
              "      filter: drop-shadow(0px 1px 2px rgba(0, 0, 0, 0.3));\n",
              "      fill: #FFFFFF;\n",
              "    }\n",
              "  </style>\n",
              "\n",
              "      <script>\n",
              "        const buttonEl =\n",
              "          document.querySelector('#df-e1aebcc9-e180-4401-8acf-d68fb26e821a button.colab-df-convert');\n",
              "        buttonEl.style.display =\n",
              "          google.colab.kernel.accessAllowed ? 'block' : 'none';\n",
              "\n",
              "        async function convertToInteractive(key) {\n",
              "          const element = document.querySelector('#df-e1aebcc9-e180-4401-8acf-d68fb26e821a');\n",
              "          const dataTable =\n",
              "            await google.colab.kernel.invokeFunction('convertToInteractive',\n",
              "                                                     [key], {});\n",
              "          if (!dataTable) return;\n",
              "\n",
              "          const docLinkHtml = 'Like what you see? Visit the ' +\n",
              "            '<a target=\"_blank\" href=https://colab.research.google.com/notebooks/data_table.ipynb>data table notebook</a>'\n",
              "            + ' to learn more about interactive tables.';\n",
              "          element.innerHTML = '';\n",
              "          dataTable['output_type'] = 'display_data';\n",
              "          await google.colab.output.renderOutput(dataTable, element);\n",
              "          const docLink = document.createElement('div');\n",
              "          docLink.innerHTML = docLinkHtml;\n",
              "          element.appendChild(docLink);\n",
              "        }\n",
              "      </script>\n",
              "    </div>\n",
              "  </div>\n",
              "  "
            ],
            "text/plain": [
              "                       count       mean  ...        75%        max\n",
              "fixed acidity         1599.0   8.319637  ...   9.200000   15.90000\n",
              "volatile acidity      1599.0   0.527821  ...   0.640000    1.58000\n",
              "citric acid           1599.0   0.270976  ...   0.420000    1.00000\n",
              "residual sugar        1599.0   2.538806  ...   2.600000   15.50000\n",
              "chlorides             1599.0   0.087467  ...   0.090000    0.61100\n",
              "free sulfur dioxide   1599.0  15.874922  ...  21.000000   72.00000\n",
              "total sulfur dioxide  1599.0  46.467792  ...  62.000000  289.00000\n",
              "density               1599.0   0.996747  ...   0.997835    1.00369\n",
              "pH                    1599.0   3.311113  ...   3.400000    4.01000\n",
              "sulphates             1599.0   0.658149  ...   0.730000    2.00000\n",
              "alcohol               1599.0  10.422983  ...  11.100000   14.90000\n",
              "quality               1599.0   5.636023  ...   6.000000    8.00000\n",
              "\n",
              "[12 rows x 8 columns]"
            ]
          },
          "metadata": {},
          "execution_count": 5
        }
      ],
      "source": [
        "# Statistics about the data - the percentiles can give us already a good indication about the features\n",
        "# Can you  guess at this stage which of these features would be the most prominant in determing the quality (the taste)?\n",
        "df.describe().T"
      ]
    },
    {
      "cell_type": "code",
      "execution_count": null,
      "metadata": {
        "colab": {
          "base_uri": "https://localhost:8080/",
          "height": 610
        },
        "id": "2URgb5MNNa2S",
        "outputId": "a7e577cf-69c1-475d-f872-abb574ddd489"
      },
      "outputs": [
        {
          "output_type": "display_data",
          "data": {
            "image/png": "[encoded data removed]",
            "text/plain": [
              "<Figure size 1008x720 with 12 Axes>"
            ]
          },
          "metadata": {}
        }
      ],
      "source": [
        "# And plotting histograms\n",
        "hists = df.hist()"
      ]
    },
    {
      "cell_type": "markdown",
      "metadata": {
        "id": "tZQtjm22PzCY"
      },
      "source": [
        "Before we train our Decision Tree, we want to do several thing:\n",
        "\n",
        "1. We want to leave aside some of the values so we can have a good test for the model, so we can determine how well it performed. \n",
        "  \n",
        "  Remind yourself that when a teacher creates an exam, they want to see that the students have actually understood the material, and not learned it by heart.\n",
        "\n",
        "  Therefore, we need to put aside some wines to test the Decision Tree model on.\n",
        "\n",
        "  [Scikit-Learn](https://scikit-learn.org/stable/index.html) has a great method for that: [train_test_split](https://scikit-learn.org/stable/modules/generated/sklearn.model_selection.train_test_split.html), which we are going to use here.\n",
        "2. The quality is a number between 3 to 8 (look at the min/max in the statistics section), where most of the values are around 5 and 6. We can divide the quality into two classes, by answering the question - is this wine very good? Then we will get two classes: **FALSE** (<=6.5), and **TRUE** (>6.5), representing the **OK** and **VERY GOOD** labels. This will make the task easier for the algorithm (less leaf-types, mean more options to create helpful features). \n",
        "\n",
        "3. Machine Learning models are a function that based on the data, it creates a function. The data that the Machine Learning needs is in the form of:  `f(X) --> y`. Where `X` is a set of `features` and `y` is the `label` for these features."
      ]
    },
    {
      "cell_type": "code",
      "execution_count": null,
      "metadata": {
        "id": "-jEROOVuQcvj"
      },
      "outputs": [],
      "source": [
        "# 'quality' is our label - the column we would like to predict. \n",
        "features_df = df.drop('quality', axis=1)\n",
        "\n",
        "label = df['quality'] > 6.5\n",
        "\n",
        "X_train, X_test, y_train, y_test = train_test_split(features_df, \n",
        "                                                    label, \n",
        "                                                    test_size=0.33, \n",
        "                                                    random_state=42)\n"
      ]
    },
    {
      "cell_type": "code",
      "execution_count": null,
      "metadata": {
        "colab": {
          "base_uri": "https://localhost:8080/",
          "height": 611
        },
        "id": "gkCmBjs7Rnbs",
        "outputId": "f2a81076-f70f-401a-b0de-9d23e8d33872"
      },
      "outputs": [
        {
          "output_type": "execute_result",
          "data": {
            "text/plain": [
              "<matplotlib.axes._subplots.AxesSubplot at 0x7fb738f3ce10>"
            ]
          },
          "metadata": {},
          "execution_count": 8
        },
        {
          "output_type": "display_data",
          "data": {
            "image/png": "[encoded data removed]",
            "text/plain": [
              "<Figure size 1008x720 with 1 Axes>"
            ]
          },
          "metadata": {}
        }
      ],
      "source": [
        "label.map(int).hist()"
      ]
    },
    {
      "cell_type": "markdown",
      "metadata": {
        "id": "RDzk-GhKWC_a"
      },
      "source": [
        "Before training our Decision Tree, let's look at the data again - this time according to our division of the good wines:"
      ]
    },
    {
      "cell_type": "code",
      "execution_count": null,
      "metadata": {
        "colab": {
          "base_uri": "https://localhost:8080/",
          "height": 426
        },
        "id": "7dRs5LdWV7Pu",
        "outputId": "006dcf50-b6e4-46bc-c9a5-cc847b7ce0b4"
      },
      "outputs": [
        {
          "output_type": "execute_result",
          "data": {
            "text/html": [
              "\n",
              "  <div id=\"df-09b67177-5cd9-4393-819e-8ed2d7a292e1\">\n",
              "    <div class=\"colab-df-container\">\n",
              "      <div>\n",
              "<style scoped>\n",
              "    .dataframe tbody tr th:only-of-type {\n",
              "        vertical-align: middle;\n",
              "    }\n",
              "\n",
              "    .dataframe tbody tr th {\n",
              "        vertical-align: top;\n",
              "    }\n",
              "\n",
              "    .dataframe thead th {\n",
              "        text-align: right;\n",
              "    }\n",
              "</style>\n",
              "<table border=\"1\" class=\"dataframe\">\n",
              "  <thead>\n",
              "    <tr style=\"text-align: right;\">\n",
              "      <th></th>\n",
              "      <th>count</th>\n",
              "      <th>mean</th>\n",
              "      <th>std</th>\n",
              "      <th>min</th>\n",
              "      <th>25%</th>\n",
              "      <th>50%</th>\n",
              "      <th>75%</th>\n",
              "      <th>max</th>\n",
              "    </tr>\n",
              "  </thead>\n",
              "  <tbody>\n",
              "    <tr>\n",
              "      <th>fixed acidity</th>\n",
              "      <td>217.0</td>\n",
              "      <td>8.847005</td>\n",
              "      <td>1.999977</td>\n",
              "      <td>4.90000</td>\n",
              "      <td>7.4000</td>\n",
              "      <td>8.70000</td>\n",
              "      <td>10.10000</td>\n",
              "      <td>15.6000</td>\n",
              "    </tr>\n",
              "    <tr>\n",
              "      <th>volatile acidity</th>\n",
              "      <td>217.0</td>\n",
              "      <td>0.405530</td>\n",
              "      <td>0.144963</td>\n",
              "      <td>0.12000</td>\n",
              "      <td>0.3000</td>\n",
              "      <td>0.37000</td>\n",
              "      <td>0.49000</td>\n",
              "      <td>0.9150</td>\n",
              "    </tr>\n",
              "    <tr>\n",
              "      <th>citric acid</th>\n",
              "      <td>217.0</td>\n",
              "      <td>0.376498</td>\n",
              "      <td>0.194438</td>\n",
              "      <td>0.00000</td>\n",
              "      <td>0.3000</td>\n",
              "      <td>0.40000</td>\n",
              "      <td>0.49000</td>\n",
              "      <td>0.7600</td>\n",
              "    </tr>\n",
              "    <tr>\n",
              "      <th>residual sugar</th>\n",
              "      <td>217.0</td>\n",
              "      <td>2.708756</td>\n",
              "      <td>1.363026</td>\n",
              "      <td>1.20000</td>\n",
              "      <td>2.0000</td>\n",
              "      <td>2.30000</td>\n",
              "      <td>2.70000</td>\n",
              "      <td>8.9000</td>\n",
              "    </tr>\n",
              "    <tr>\n",
              "      <th>chlorides</th>\n",
              "      <td>217.0</td>\n",
              "      <td>0.075912</td>\n",
              "      <td>0.028480</td>\n",
              "      <td>0.01200</td>\n",
              "      <td>0.0620</td>\n",
              "      <td>0.07300</td>\n",
              "      <td>0.08500</td>\n",
              "      <td>0.3580</td>\n",
              "    </tr>\n",
              "    <tr>\n",
              "      <th>free sulfur dioxide</th>\n",
              "      <td>217.0</td>\n",
              "      <td>13.981567</td>\n",
              "      <td>10.234615</td>\n",
              "      <td>3.00000</td>\n",
              "      <td>6.0000</td>\n",
              "      <td>11.00000</td>\n",
              "      <td>18.00000</td>\n",
              "      <td>54.0000</td>\n",
              "    </tr>\n",
              "    <tr>\n",
              "      <th>total sulfur dioxide</th>\n",
              "      <td>217.0</td>\n",
              "      <td>34.889401</td>\n",
              "      <td>32.572238</td>\n",
              "      <td>7.00000</td>\n",
              "      <td>17.0000</td>\n",
              "      <td>27.00000</td>\n",
              "      <td>43.00000</td>\n",
              "      <td>289.0000</td>\n",
              "    </tr>\n",
              "    <tr>\n",
              "      <th>density</th>\n",
              "      <td>217.0</td>\n",
              "      <td>0.996030</td>\n",
              "      <td>0.002201</td>\n",
              "      <td>0.99064</td>\n",
              "      <td>0.9947</td>\n",
              "      <td>0.99572</td>\n",
              "      <td>0.99735</td>\n",
              "      <td>1.0032</td>\n",
              "    </tr>\n",
              "    <tr>\n",
              "      <th>pH</th>\n",
              "      <td>217.0</td>\n",
              "      <td>3.288802</td>\n",
              "      <td>0.154478</td>\n",
              "      <td>2.88000</td>\n",
              "      <td>3.2000</td>\n",
              "      <td>3.27000</td>\n",
              "      <td>3.38000</td>\n",
              "      <td>3.7800</td>\n",
              "    </tr>\n",
              "    <tr>\n",
              "      <th>sulphates</th>\n",
              "      <td>217.0</td>\n",
              "      <td>0.743456</td>\n",
              "      <td>0.134038</td>\n",
              "      <td>0.39000</td>\n",
              "      <td>0.6500</td>\n",
              "      <td>0.74000</td>\n",
              "      <td>0.82000</td>\n",
              "      <td>1.3600</td>\n",
              "    </tr>\n",
              "    <tr>\n",
              "      <th>alcohol</th>\n",
              "      <td>217.0</td>\n",
              "      <td>11.518049</td>\n",
              "      <td>0.998153</td>\n",
              "      <td>9.20000</td>\n",
              "      <td>10.8000</td>\n",
              "      <td>11.60000</td>\n",
              "      <td>12.20000</td>\n",
              "      <td>14.0000</td>\n",
              "    </tr>\n",
              "    <tr>\n",
              "      <th>quality</th>\n",
              "      <td>217.0</td>\n",
              "      <td>7.082949</td>\n",
              "      <td>0.276443</td>\n",
              "      <td>7.00000</td>\n",
              "      <td>7.0000</td>\n",
              "      <td>7.00000</td>\n",
              "      <td>7.00000</td>\n",
              "      <td>8.0000</td>\n",
              "    </tr>\n",
              "  </tbody>\n",
              "</table>\n",
              "</div>\n",
              "      <button class=\"colab-df-convert\" onclick=\"convertToInteractive('df-09b67177-5cd9-4393-819e-8ed2d7a292e1')\"\n",
              "              title=\"Convert this dataframe to an interactive table.\"\n",
              "              style=\"display:none;\">\n",
              "        \n",
              "  <svg xmlns=\"http://www.w3.org/2000/svg\" height=\"24px\"viewBox=\"0 0 24 24\"\n",
              "       width=\"24px\">\n",
              "    <path d=\"M0 0h24v24H0V0z\" fill=\"none\"/>\n",
              "    <path d=\"M18.56 5.44l.94 2.06.94-2.06 2.06-.94-2.06-.94-.94-2.06-.94 2.06-2.06.94zm-11 1L8.5 8.5l.94-2.06 2.06-.94-2.06-.94L8.5 2.5l-.94 2.06-2.06.94zm10 10l.94 2.06.94-2.06 2.06-.94-2.06-.94-.94-2.06-.94 2.06-2.06.94z\"/><path d=\"M17.41 7.96l-1.37-1.37c-.4-.4-.92-.59-1.43-.59-.52 0-1.04.2-1.43.59L10.3 9.45l-7.72 7.72c-.78.78-.78 2.05 0 2.83L4 21.41c.39.39.9.59 1.41.59.51 0 1.02-.2 1.41-.59l7.78-7.78 2.81-2.81c.8-.78.8-2.07 0-2.86zM5.41 20L4 18.59l7.72-7.72 1.47 1.35L5.41 20z\"/>\n",
              "  </svg>\n",
              "      </button>\n",
              "      \n",
              "  <style>\n",
              "    .colab-df-container {\n",
              "      display:flex;\n",
              "      flex-wrap:wrap;\n",
              "      gap: 12px;\n",
              "    }\n",
              "\n",
              "    .colab-df-convert {\n",
              "      background-color: #E8F0FE;\n",
              "      border: none;\n",
              "      border-radius: 50%;\n",
              "      cursor: pointer;\n",
              "      display: none;\n",
              "      fill: #1967D2;\n",
              "      height: 32px;\n",
              "      padding: 0 0 0 0;\n",
              "      width: 32px;\n",
              "    }\n",
              "\n",
              "    .colab-df-convert:hover {\n",
              "      background-color: #E2EBFA;\n",
              "      box-shadow: 0px 1px 2px rgba(60, 64, 67, 0.3), 0px 1px 3px 1px rgba(60, 64, 67, 0.15);\n",
              "      fill: #174EA6;\n",
              "    }\n",
              "\n",
              "    [theme=dark] .colab-df-convert {\n",
              "      background-color: #3B4455;\n",
              "      fill: #D2E3FC;\n",
              "    }\n",
              "\n",
              "    [theme=dark] .colab-df-convert:hover {\n",
              "      background-color: #434B5C;\n",
              "      box-shadow: 0px 1px 3px 1px rgba(0, 0, 0, 0.15);\n",
              "      filter: drop-shadow(0px 1px 2px rgba(0, 0, 0, 0.3));\n",
              "      fill: #FFFFFF;\n",
              "    }\n",
              "  </style>\n",
              "\n",
              "      <script>\n",
              "        const buttonEl =\n",
              "          document.querySelector('#df-09b67177-5cd9-4393-819e-8ed2d7a292e1 button.colab-df-convert');\n",
              "        buttonEl.style.display =\n",
              "          google.colab.kernel.accessAllowed ? 'block' : 'none';\n",
              "\n",
              "        async function convertToInteractive(key) {\n",
              "          const element = document.querySelector('#df-09b67177-5cd9-4393-819e-8ed2d7a292e1');\n",
              "          const dataTable =\n",
              "            await google.colab.kernel.invokeFunction('convertToInteractive',\n",
              "                                                     [key], {});\n",
              "          if (!dataTable) return;\n",
              "\n",
              "          const docLinkHtml = 'Like what you see? Visit the ' +\n",
              "            '<a target=\"_blank\" href=https://colab.research.google.com/notebooks/data_table.ipynb>data table notebook</a>'\n",
              "            + ' to learn more about interactive tables.';\n",
              "          element.innerHTML = '';\n",
              "          dataTable['output_type'] = 'display_data';\n",
              "          await google.colab.output.renderOutput(dataTable, element);\n",
              "          const docLink = document.createElement('div');\n",
              "          docLink.innerHTML = docLinkHtml;\n",
              "          element.appendChild(docLink);\n",
              "        }\n",
              "      </script>\n",
              "    </div>\n",
              "  </div>\n",
              "  "
            ],
            "text/plain": [
              "                      count       mean        std  ...       50%       75%       max\n",
              "fixed acidity         217.0   8.847005   1.999977  ...   8.70000  10.10000   15.6000\n",
              "volatile acidity      217.0   0.405530   0.144963  ...   0.37000   0.49000    0.9150\n",
              "citric acid           217.0   0.376498   0.194438  ...   0.40000   0.49000    0.7600\n",
              "residual sugar        217.0   2.708756   1.363026  ...   2.30000   2.70000    8.9000\n",
              "chlorides             217.0   0.075912   0.028480  ...   0.07300   0.08500    0.3580\n",
              "free sulfur dioxide   217.0  13.981567  10.234615  ...  11.00000  18.00000   54.0000\n",
              "total sulfur dioxide  217.0  34.889401  32.572238  ...  27.00000  43.00000  289.0000\n",
              "density               217.0   0.996030   0.002201  ...   0.99572   0.99735    1.0032\n",
              "pH                    217.0   3.288802   0.154478  ...   3.27000   3.38000    3.7800\n",
              "sulphates             217.0   0.743456   0.134038  ...   0.74000   0.82000    1.3600\n",
              "alcohol               217.0  11.518049   0.998153  ...  11.60000  12.20000   14.0000\n",
              "quality               217.0   7.082949   0.276443  ...   7.00000   7.00000    8.0000\n",
              "\n",
              "[12 rows x 8 columns]"
            ]
          },
          "metadata": {},
          "execution_count": 9
        }
      ],
      "source": [
        "df[label].describe().T"
      ]
    },
    {
      "cell_type": "markdown",
      "metadata": {
        "id": "hQYCxRsOWMzk"
      },
      "source": [
        "And the 'OK' wines:"
      ]
    },
    {
      "cell_type": "code",
      "execution_count": null,
      "metadata": {
        "colab": {
          "base_uri": "https://localhost:8080/",
          "height": 426
        },
        "id": "NqwOOngvV_JT",
        "outputId": "81b685cd-f6e6-488e-8ca4-95c4b3cf5e6f"
      },
      "outputs": [
        {
          "output_type": "execute_result",
          "data": {
            "text/html": [
              "\n",
              "  <div id=\"df-e3fa01b5-29c9-4994-8c1e-b4c67442c6d9\">\n",
              "    <div class=\"colab-df-container\">\n",
              "      <div>\n",
              "<style scoped>\n",
              "    .dataframe tbody tr th:only-of-type {\n",
              "        vertical-align: middle;\n",
              "    }\n",
              "\n",
              "    .dataframe tbody tr th {\n",
              "        vertical-align: top;\n",
              "    }\n",
              "\n",
              "    .dataframe thead th {\n",
              "        text-align: right;\n",
              "    }\n",
              "</style>\n",
              "<table border=\"1\" class=\"dataframe\">\n",
              "  <thead>\n",
              "    <tr style=\"text-align: right;\">\n",
              "      <th></th>\n",
              "      <th>count</th>\n",
              "      <th>mean</th>\n",
              "      <th>std</th>\n",
              "      <th>min</th>\n",
              "      <th>25%</th>\n",
              "      <th>50%</th>\n",
              "      <th>75%</th>\n",
              "      <th>max</th>\n",
              "    </tr>\n",
              "  </thead>\n",
              "  <tbody>\n",
              "    <tr>\n",
              "      <th>fixed acidity</th>\n",
              "      <td>1382.0</td>\n",
              "      <td>8.236831</td>\n",
              "      <td>1.682726</td>\n",
              "      <td>4.60000</td>\n",
              "      <td>7.100000</td>\n",
              "      <td>7.8000</td>\n",
              "      <td>9.1000</td>\n",
              "      <td>15.90000</td>\n",
              "    </tr>\n",
              "    <tr>\n",
              "      <th>volatile acidity</th>\n",
              "      <td>1382.0</td>\n",
              "      <td>0.547022</td>\n",
              "      <td>0.176337</td>\n",
              "      <td>0.16000</td>\n",
              "      <td>0.420000</td>\n",
              "      <td>0.5400</td>\n",
              "      <td>0.6500</td>\n",
              "      <td>1.58000</td>\n",
              "    </tr>\n",
              "    <tr>\n",
              "      <th>citric acid</th>\n",
              "      <td>1382.0</td>\n",
              "      <td>0.254407</td>\n",
              "      <td>0.189665</td>\n",
              "      <td>0.00000</td>\n",
              "      <td>0.082500</td>\n",
              "      <td>0.2400</td>\n",
              "      <td>0.4000</td>\n",
              "      <td>1.00000</td>\n",
              "    </tr>\n",
              "    <tr>\n",
              "      <th>residual sugar</th>\n",
              "      <td>1382.0</td>\n",
              "      <td>2.512120</td>\n",
              "      <td>1.415778</td>\n",
              "      <td>0.90000</td>\n",
              "      <td>1.900000</td>\n",
              "      <td>2.2000</td>\n",
              "      <td>2.6000</td>\n",
              "      <td>15.50000</td>\n",
              "    </tr>\n",
              "    <tr>\n",
              "      <th>chlorides</th>\n",
              "      <td>1382.0</td>\n",
              "      <td>0.089281</td>\n",
              "      <td>0.049113</td>\n",
              "      <td>0.03400</td>\n",
              "      <td>0.071000</td>\n",
              "      <td>0.0800</td>\n",
              "      <td>0.0910</td>\n",
              "      <td>0.61100</td>\n",
              "    </tr>\n",
              "    <tr>\n",
              "      <th>free sulfur dioxide</th>\n",
              "      <td>1382.0</td>\n",
              "      <td>16.172214</td>\n",
              "      <td>10.467685</td>\n",
              "      <td>1.00000</td>\n",
              "      <td>8.000000</td>\n",
              "      <td>14.0000</td>\n",
              "      <td>22.0000</td>\n",
              "      <td>72.00000</td>\n",
              "    </tr>\n",
              "    <tr>\n",
              "      <th>total sulfur dioxide</th>\n",
              "      <td>1382.0</td>\n",
              "      <td>48.285818</td>\n",
              "      <td>32.585604</td>\n",
              "      <td>6.00000</td>\n",
              "      <td>23.000000</td>\n",
              "      <td>39.5000</td>\n",
              "      <td>65.0000</td>\n",
              "      <td>165.00000</td>\n",
              "    </tr>\n",
              "    <tr>\n",
              "      <th>density</th>\n",
              "      <td>1382.0</td>\n",
              "      <td>0.996859</td>\n",
              "      <td>0.001808</td>\n",
              "      <td>0.99007</td>\n",
              "      <td>0.995785</td>\n",
              "      <td>0.9968</td>\n",
              "      <td>0.9979</td>\n",
              "      <td>1.00369</td>\n",
              "    </tr>\n",
              "    <tr>\n",
              "      <th>pH</th>\n",
              "      <td>1382.0</td>\n",
              "      <td>3.314616</td>\n",
              "      <td>0.154135</td>\n",
              "      <td>2.74000</td>\n",
              "      <td>3.210000</td>\n",
              "      <td>3.3100</td>\n",
              "      <td>3.4100</td>\n",
              "      <td>4.01000</td>\n",
              "    </tr>\n",
              "    <tr>\n",
              "      <th>sulphates</th>\n",
              "      <td>1382.0</td>\n",
              "      <td>0.644754</td>\n",
              "      <td>0.170629</td>\n",
              "      <td>0.33000</td>\n",
              "      <td>0.540000</td>\n",
              "      <td>0.6000</td>\n",
              "      <td>0.7000</td>\n",
              "      <td>2.00000</td>\n",
              "    </tr>\n",
              "    <tr>\n",
              "      <th>alcohol</th>\n",
              "      <td>1382.0</td>\n",
              "      <td>10.251037</td>\n",
              "      <td>0.969664</td>\n",
              "      <td>8.40000</td>\n",
              "      <td>9.500000</td>\n",
              "      <td>10.0000</td>\n",
              "      <td>10.9000</td>\n",
              "      <td>14.90000</td>\n",
              "    </tr>\n",
              "    <tr>\n",
              "      <th>quality</th>\n",
              "      <td>1382.0</td>\n",
              "      <td>5.408828</td>\n",
              "      <td>0.601719</td>\n",
              "      <td>3.00000</td>\n",
              "      <td>5.000000</td>\n",
              "      <td>5.0000</td>\n",
              "      <td>6.0000</td>\n",
              "      <td>6.00000</td>\n",
              "    </tr>\n",
              "  </tbody>\n",
              "</table>\n",
              "</div>\n",
              "      <button class=\"colab-df-convert\" onclick=\"convertToInteractive('df-e3fa01b5-29c9-4994-8c1e-b4c67442c6d9')\"\n",
              "              title=\"Convert this dataframe to an interactive table.\"\n",
              "              style=\"display:none;\">\n",
              "        \n",
              "  <svg xmlns=\"http://www.w3.org/2000/svg\" height=\"24px\"viewBox=\"0 0 24 24\"\n",
              "       width=\"24px\">\n",
              "    <path d=\"M0 0h24v24H0V0z\" fill=\"none\"/>\n",
              "    <path d=\"M18.56 5.44l.94 2.06.94-2.06 2.06-.94-2.06-.94-.94-2.06-.94 2.06-2.06.94zm-11 1L8.5 8.5l.94-2.06 2.06-.94-2.06-.94L8.5 2.5l-.94 2.06-2.06.94zm10 10l.94 2.06.94-2.06 2.06-.94-2.06-.94-.94-2.06-.94 2.06-2.06.94z\"/><path d=\"M17.41 7.96l-1.37-1.37c-.4-.4-.92-.59-1.43-.59-.52 0-1.04.2-1.43.59L10.3 9.45l-7.72 7.72c-.78.78-.78 2.05 0 2.83L4 21.41c.39.39.9.59 1.41.59.51 0 1.02-.2 1.41-.59l7.78-7.78 2.81-2.81c.8-.78.8-2.07 0-2.86zM5.41 20L4 18.59l7.72-7.72 1.47 1.35L5.41 20z\"/>\n",
              "  </svg>\n",
              "      </button>\n",
              "      \n",
              "  <style>\n",
              "    .colab-df-container {\n",
              "      display:flex;\n",
              "      flex-wrap:wrap;\n",
              "      gap: 12px;\n",
              "    }\n",
              "\n",
              "    .colab-df-convert {\n",
              "      background-color: #E8F0FE;\n",
              "      border: none;\n",
              "      border-radius: 50%;\n",
              "      cursor: pointer;\n",
              "      display: none;\n",
              "      fill: #1967D2;\n",
              "      height: 32px;\n",
              "      padding: 0 0 0 0;\n",
              "      width: 32px;\n",
              "    }\n",
              "\n",
              "    .colab-df-convert:hover {\n",
              "      background-color: #E2EBFA;\n",
              "      box-shadow: 0px 1px 2px rgba(60, 64, 67, 0.3), 0px 1px 3px 1px rgba(60, 64, 67, 0.15);\n",
              "      fill: #174EA6;\n",
              "    }\n",
              "\n",
              "    [theme=dark] .colab-df-convert {\n",
              "      background-color: #3B4455;\n",
              "      fill: #D2E3FC;\n",
              "    }\n",
              "\n",
              "    [theme=dark] .colab-df-convert:hover {\n",
              "      background-color: #434B5C;\n",
              "      box-shadow: 0px 1px 3px 1px rgba(0, 0, 0, 0.15);\n",
              "      filter: drop-shadow(0px 1px 2px rgba(0, 0, 0, 0.3));\n",
              "      fill: #FFFFFF;\n",
              "    }\n",
              "  </style>\n",
              "\n",
              "      <script>\n",
              "        const buttonEl =\n",
              "          document.querySelector('#df-e3fa01b5-29c9-4994-8c1e-b4c67442c6d9 button.colab-df-convert');\n",
              "        buttonEl.style.display =\n",
              "          google.colab.kernel.accessAllowed ? 'block' : 'none';\n",
              "\n",
              "        async function convertToInteractive(key) {\n",
              "          const element = document.querySelector('#df-e3fa01b5-29c9-4994-8c1e-b4c67442c6d9');\n",
              "          const dataTable =\n",
              "            await google.colab.kernel.invokeFunction('convertToInteractive',\n",
              "                                                     [key], {});\n",
              "          if (!dataTable) return;\n",
              "\n",
              "          const docLinkHtml = 'Like what you see? Visit the ' +\n",
              "            '<a target=\"_blank\" href=https://colab.research.google.com/notebooks/data_table.ipynb>data table notebook</a>'\n",
              "            + ' to learn more about interactive tables.';\n",
              "          element.innerHTML = '';\n",
              "          dataTable['output_type'] = 'display_data';\n",
              "          await google.colab.output.renderOutput(dataTable, element);\n",
              "          const docLink = document.createElement('div');\n",
              "          docLink.innerHTML = docLinkHtml;\n",
              "          element.appendChild(docLink);\n",
              "        }\n",
              "      </script>\n",
              "    </div>\n",
              "  </div>\n",
              "  "
            ],
            "text/plain": [
              "                       count       mean        std  ...      50%      75%        max\n",
              "fixed acidity         1382.0   8.236831   1.682726  ...   7.8000   9.1000   15.90000\n",
              "volatile acidity      1382.0   0.547022   0.176337  ...   0.5400   0.6500    1.58000\n",
              "citric acid           1382.0   0.254407   0.189665  ...   0.2400   0.4000    1.00000\n",
              "residual sugar        1382.0   2.512120   1.415778  ...   2.2000   2.6000   15.50000\n",
              "chlorides             1382.0   0.089281   0.049113  ...   0.0800   0.0910    0.61100\n",
              "free sulfur dioxide   1382.0  16.172214  10.467685  ...  14.0000  22.0000   72.00000\n",
              "total sulfur dioxide  1382.0  48.285818  32.585604  ...  39.5000  65.0000  165.00000\n",
              "density               1382.0   0.996859   0.001808  ...   0.9968   0.9979    1.00369\n",
              "pH                    1382.0   3.314616   0.154135  ...   3.3100   3.4100    4.01000\n",
              "sulphates             1382.0   0.644754   0.170629  ...   0.6000   0.7000    2.00000\n",
              "alcohol               1382.0  10.251037   0.969664  ...  10.0000  10.9000   14.90000\n",
              "quality               1382.0   5.408828   0.601719  ...   5.0000   6.0000    6.00000\n",
              "\n",
              "[12 rows x 8 columns]"
            ]
          },
          "metadata": {},
          "execution_count": 10
        }
      ],
      "source": [
        "df[~label].describe().T"
      ]
    },
    {
      "cell_type": "markdown",
      "metadata": {
        "id": "PWQmIWzMWQpf"
      },
      "source": [
        "Can you guestimate now which top 3 features would be meaningful in determing the wine quality?"
      ]
    },
    {
      "cell_type": "markdown",
      "metadata": {
        "id": "LM1CXLRYQLw9"
      },
      "source": [
        "## Training a Decision-Tree\n",
        "Now we are ready to train our classifier!\n",
        "Remember to never show your classifier the test-data! (Otherwise, it's cheating...)"
      ]
    },
    {
      "cell_type": "code",
      "execution_count": null,
      "metadata": {
        "colab": {
          "base_uri": "https://localhost:8080/"
        },
        "id": "IyI20DUTN6Da",
        "outputId": "344c10f1-60a0-405c-94f5-2c9f07f164fc"
      },
      "outputs": [
        {
          "output_type": "execute_result",
          "data": {
            "text/plain": [
              "DecisionTreeClassifier()"
            ]
          },
          "metadata": {},
          "execution_count": 11
        }
      ],
      "source": [
        "# Instantiate the class instance:\n",
        "decTree = tree.DecisionTreeClassifier()\n",
        "\n",
        "# Train it on our data\n",
        "decTree.fit(X_train, y_train)"
      ]
    },
    {
      "cell_type": "markdown",
      "metadata": {
        "id": "6SvmEskQViVT"
      },
      "source": [
        "Let's plot the first 3 layers of the tree, to examine which features contributes to the good wines:"
      ]
    },
    {
      "cell_type": "code",
      "execution_count": null,
      "metadata": {
        "colab": {
          "base_uri": "https://localhost:8080/",
          "height": 735
        },
        "id": "WzE4PwztPYnn",
        "outputId": "f27f8b49-2619-40fa-ec9f-059fa6ad5c2a"
      },
      "outputs": [
        {
          "output_type": "execute_result",
          "data": {
            "text/plain": [
              "<graphviz.files.Source at 0x7fb73772cb50>"
            ],
            "image/svg+xml": "<?xml version=\"1.0\" encoding=\"UTF-8\" standalone=\"no\"?>\n<!DOCTYPE svg PUBLIC \"-//W3C//DTD SVG 1.1//EN\"\n \"http://www.w3.org/Graphics/SVG/1.1/DTD/svg11.dtd\">\n<!-- Generated by graphviz version 2.40.1 (20161225.0304)\n -->\n<!-- Title: Tree Pages: 1 -->\n<svg width=\"1317pt\" height=\"520pt\"\n viewBox=\"0.00 0.00 1317.00 520.00\" xmlns=\"http://www.w3.org/2000/svg\" xmlns:xlink=\"http://www.w3.org/1999/xlink\">\n<g id=\"graph0\" class=\"graph\" transform=\"scale(1 1) rotate(0) translate(4 516)\">\n<title>Tree</title>\n<polygon fill=\"#ffffff\" stroke=\"transparent\" points=\"-4,4 -4,-516 1313,-516 1313,4 -4,4\"/>\n<!-- 0 -->\n<g id=\"node1\" class=\"node\">\n<title>0</title>\n<path fill=\"#e99457\" stroke=\"#000000\" d=\"M696,-512C696,-512 588,-512 588,-512 582,-512 576,-506 576,-500 576,-500 576,-441 576,-441 576,-435 582,-429 588,-429 588,-429 696,-429 696,-429 702,-429 708,-435 708,-441 708,-441 708,-500 708,-500 708,-506 702,-512 696,-512\"/>\n<text text-anchor=\"start\" x=\"592.5\" y=\"-496.8\" font-family=\"Helvetica,sans-Serif\" font-size=\"14.00\" fill=\"#000000\">alcohol ≤ 11.55</text>\n<text text-anchor=\"start\" x=\"604\" y=\"-481.8\" font-family=\"Helvetica,sans-Serif\" font-size=\"14.00\" fill=\"#000000\">gini = 0.227</text>\n<text text-anchor=\"start\" x=\"590\" y=\"-466.8\" font-family=\"Helvetica,sans-Serif\" font-size=\"14.00\" fill=\"#000000\">samples = 1071</text>\n<text text-anchor=\"start\" x=\"584\" y=\"-451.8\" font-family=\"Helvetica,sans-Serif\" font-size=\"14.00\" fill=\"#000000\">value = [931, 140]</text>\n<text text-anchor=\"start\" x=\"613\" y=\"-436.8\" font-family=\"Helvetica,sans-Serif\" font-size=\"14.00\" fill=\"#000000\">class = q</text>\n</g>\n<!-- 1 -->\n<g id=\"node2\" class=\"node\">\n<title>1</title>\n<path fill=\"#e78a48\" stroke=\"#000000\" d=\"M544,-393C544,-393 410,-393 410,-393 404,-393 398,-387 398,-381 398,-381 398,-322 398,-322 398,-316 404,-310 410,-310 410,-310 544,-310 544,-310 550,-310 556,-316 556,-322 556,-322 556,-381 556,-381 556,-387 550,-393 544,-393\"/>\n<text text-anchor=\"start\" x=\"406\" y=\"-377.8\" font-family=\"Helvetica,sans-Serif\" font-size=\"14.00\" fill=\"#000000\">volatile acidity ≤ 0.375</text>\n<text text-anchor=\"start\" x=\"439\" y=\"-362.8\" font-family=\"Helvetica,sans-Serif\" font-size=\"14.00\" fill=\"#000000\">gini = 0.129</text>\n<text text-anchor=\"start\" x=\"429\" y=\"-347.8\" font-family=\"Helvetica,sans-Serif\" font-size=\"14.00\" fill=\"#000000\">samples = 908</text>\n<text text-anchor=\"start\" x=\"423\" y=\"-332.8\" font-family=\"Helvetica,sans-Serif\" font-size=\"14.00\" fill=\"#000000\">value = [845, 63]</text>\n<text text-anchor=\"start\" x=\"448\" y=\"-317.8\" font-family=\"Helvetica,sans-Serif\" font-size=\"14.00\" fill=\"#000000\">class = q</text>\n</g>\n<!-- 0&#45;&gt;1 -->\n<g id=\"edge1\" class=\"edge\">\n<title>0&#45;&gt;1</title>\n<path fill=\"none\" stroke=\"#000000\" d=\"M584.291,-428.8796C570.977,-419.2774 556.7134,-408.9903 543.0741,-399.1534\"/>\n<polygon fill=\"#000000\" stroke=\"#000000\" points=\"544.8345,-396.1077 534.6764,-393.0969 540.7398,-401.7852 544.8345,-396.1077\"/>\n<text text-anchor=\"middle\" x=\"538.6736\" y=\"-414.0753\" font-family=\"Helvetica,sans-Serif\" font-size=\"14.00\" fill=\"#000000\">True</text>\n</g>\n<!-- 126 -->\n<g id=\"node17\" class=\"node\">\n<title>126</title>\n<path fill=\"#fcf2ea\" stroke=\"#000000\" d=\"M864.5,-393C864.5,-393 757.5,-393 757.5,-393 751.5,-393 745.5,-387 745.5,-381 745.5,-381 745.5,-322 745.5,-322 745.5,-316 751.5,-310 757.5,-310 757.5,-310 864.5,-310 864.5,-310 870.5,-310 876.5,-316 876.5,-322 876.5,-322 876.5,-381 876.5,-381 876.5,-387 870.5,-393 864.5,-393\"/>\n<text text-anchor=\"start\" x=\"753.5\" y=\"-377.8\" font-family=\"Helvetica,sans-Serif\" font-size=\"14.00\" fill=\"#000000\">sulphates ≤ 0.685</text>\n<text text-anchor=\"start\" x=\"773\" y=\"-362.8\" font-family=\"Helvetica,sans-Serif\" font-size=\"14.00\" fill=\"#000000\">gini = 0.498</text>\n<text text-anchor=\"start\" x=\"763\" y=\"-347.8\" font-family=\"Helvetica,sans-Serif\" font-size=\"14.00\" fill=\"#000000\">samples = 163</text>\n<text text-anchor=\"start\" x=\"761\" y=\"-332.8\" font-family=\"Helvetica,sans-Serif\" font-size=\"14.00\" fill=\"#000000\">value = [86, 77]</text>\n<text text-anchor=\"start\" x=\"782\" y=\"-317.8\" font-family=\"Helvetica,sans-Serif\" font-size=\"14.00\" fill=\"#000000\">class = q</text>\n</g>\n<!-- 0&#45;&gt;126 -->\n<g id=\"edge16\" class=\"edge\">\n<title>0&#45;&gt;126</title>\n<path fill=\"none\" stroke=\"#000000\" d=\"M701.108,-428.8796C714.8734,-419.1868 729.6299,-408.7961 743.7193,-398.8752\"/>\n<polygon fill=\"#000000\" stroke=\"#000000\" points=\"745.7641,-401.716 751.9254,-393.0969 741.7339,-395.9926 745.7641,-401.716\"/>\n<text text-anchor=\"middle\" x=\"747.6491\" y=\"-414.0285\" font-family=\"Helvetica,sans-Serif\" font-size=\"14.00\" fill=\"#000000\">False</text>\n</g>\n<!-- 2 -->\n<g id=\"node3\" class=\"node\">\n<title>2</title>\n<path fill=\"#eca470\" stroke=\"#000000\" d=\"M290,-274C290,-274 190,-274 190,-274 184,-274 178,-268 178,-262 178,-262 178,-203 178,-203 178,-197 184,-191 190,-191 190,-191 290,-191 290,-191 296,-191 302,-197 302,-203 302,-203 302,-262 302,-262 302,-268 296,-274 290,-274\"/>\n<text text-anchor=\"start\" x=\"190.5\" y=\"-258.8\" font-family=\"Helvetica,sans-Serif\" font-size=\"14.00\" fill=\"#000000\">density ≤ 0.995</text>\n<text text-anchor=\"start\" x=\"202\" y=\"-243.8\" font-family=\"Helvetica,sans-Serif\" font-size=\"14.00\" fill=\"#000000\">gini = 0.341</text>\n<text text-anchor=\"start\" x=\"192\" y=\"-228.8\" font-family=\"Helvetica,sans-Serif\" font-size=\"14.00\" fill=\"#000000\">samples = 156</text>\n<text text-anchor=\"start\" x=\"186\" y=\"-213.8\" font-family=\"Helvetica,sans-Serif\" font-size=\"14.00\" fill=\"#000000\">value = [122, 34]</text>\n<text text-anchor=\"start\" x=\"211\" y=\"-198.8\" font-family=\"Helvetica,sans-Serif\" font-size=\"14.00\" fill=\"#000000\">class = q</text>\n</g>\n<!-- 1&#45;&gt;2 -->\n<g id=\"edge2\" class=\"edge\">\n<title>1&#45;&gt;2</title>\n<path fill=\"none\" stroke=\"#000000\" d=\"M397.7529,-311.7093C369.8253,-297.6865 338.6185,-282.0173 311.3796,-268.3404\"/>\n<polygon fill=\"#000000\" stroke=\"#000000\" points=\"312.8119,-265.1432 302.3047,-263.7838 309.6708,-271.3989 312.8119,-265.1432\"/>\n</g>\n<!-- 43 -->\n<g id=\"node10\" class=\"node\">\n<title>43</title>\n<path fill=\"#e68641\" stroke=\"#000000\" d=\"M530.5,-274C530.5,-274 423.5,-274 423.5,-274 417.5,-274 411.5,-268 411.5,-262 411.5,-262 411.5,-203 411.5,-203 411.5,-197 417.5,-191 423.5,-191 423.5,-191 530.5,-191 530.5,-191 536.5,-191 542.5,-197 542.5,-203 542.5,-203 542.5,-262 542.5,-262 542.5,-268 536.5,-274 530.5,-274\"/>\n<text text-anchor=\"start\" x=\"419.5\" y=\"-258.8\" font-family=\"Helvetica,sans-Serif\" font-size=\"14.00\" fill=\"#000000\">sulphates ≤ 0.665</text>\n<text text-anchor=\"start\" x=\"439\" y=\"-243.8\" font-family=\"Helvetica,sans-Serif\" font-size=\"14.00\" fill=\"#000000\">gini = 0.074</text>\n<text text-anchor=\"start\" x=\"429\" y=\"-228.8\" font-family=\"Helvetica,sans-Serif\" font-size=\"14.00\" fill=\"#000000\">samples = 752</text>\n<text text-anchor=\"start\" x=\"423\" y=\"-213.8\" font-family=\"Helvetica,sans-Serif\" font-size=\"14.00\" fill=\"#000000\">value = [723, 29]</text>\n<text text-anchor=\"start\" x=\"448\" y=\"-198.8\" font-family=\"Helvetica,sans-Serif\" font-size=\"14.00\" fill=\"#000000\">class = q</text>\n</g>\n<!-- 1&#45;&gt;43 -->\n<g id=\"edge9\" class=\"edge\">\n<title>1&#45;&gt;43</title>\n<path fill=\"none\" stroke=\"#000000\" d=\"M477,-309.8796C477,-301.6838 477,-292.9891 477,-284.5013\"/>\n<polygon fill=\"#000000\" stroke=\"#000000\" points=\"480.5001,-284.298 477,-274.2981 473.5001,-284.2981 480.5001,-284.298\"/>\n</g>\n<!-- 3 -->\n<g id=\"node4\" class=\"node\">\n<title>3</title>\n<path fill=\"#bddef6\" stroke=\"#000000\" d=\"M146,-155C146,-155 12,-155 12,-155 6,-155 0,-149 0,-143 0,-143 0,-84 0,-84 0,-78 6,-72 12,-72 12,-72 146,-72 146,-72 152,-72 158,-78 158,-84 158,-84 158,-143 158,-143 158,-149 152,-155 146,-155\"/>\n<text text-anchor=\"start\" x=\"8\" y=\"-139.8\" font-family=\"Helvetica,sans-Serif\" font-size=\"14.00\" fill=\"#000000\">volatile acidity ≤ 0.265</text>\n<text text-anchor=\"start\" x=\"45.5\" y=\"-124.8\" font-family=\"Helvetica,sans-Serif\" font-size=\"14.00\" fill=\"#000000\">gini = 0.48</text>\n<text text-anchor=\"start\" x=\"35\" y=\"-109.8\" font-family=\"Helvetica,sans-Serif\" font-size=\"14.00\" fill=\"#000000\">samples = 20</text>\n<text text-anchor=\"start\" x=\"33.5\" y=\"-94.8\" font-family=\"Helvetica,sans-Serif\" font-size=\"14.00\" fill=\"#000000\">value = [8, 12]</text>\n<text text-anchor=\"start\" x=\"50\" y=\"-79.8\" font-family=\"Helvetica,sans-Serif\" font-size=\"14.00\" fill=\"#000000\">class = u</text>\n</g>\n<!-- 2&#45;&gt;3 -->\n<g id=\"edge3\" class=\"edge\">\n<title>2&#45;&gt;3</title>\n<path fill=\"none\" stroke=\"#000000\" d=\"M183.69,-190.8796C170.6988,-181.2774 156.781,-170.9903 143.4723,-161.1534\"/>\n<polygon fill=\"#000000\" stroke=\"#000000\" points=\"145.4004,-158.2263 135.2782,-155.0969 141.2396,-163.8555 145.4004,-158.2263\"/>\n</g>\n<!-- 10 -->\n<g id=\"node7\" class=\"node\">\n<title>10</title>\n<path fill=\"#ea995f\" stroke=\"#000000\" d=\"M292,-155C292,-155 188,-155 188,-155 182,-155 176,-149 176,-143 176,-143 176,-84 176,-84 176,-78 182,-72 188,-72 188,-72 292,-72 292,-72 298,-72 304,-78 304,-84 304,-84 304,-143 304,-143 304,-149 298,-155 292,-155\"/>\n<text text-anchor=\"start\" x=\"184\" y=\"-139.8\" font-family=\"Helvetica,sans-Serif\" font-size=\"14.00\" fill=\"#000000\">citric acid ≤ 0.665</text>\n<text text-anchor=\"start\" x=\"202\" y=\"-124.8\" font-family=\"Helvetica,sans-Serif\" font-size=\"14.00\" fill=\"#000000\">gini = 0.271</text>\n<text text-anchor=\"start\" x=\"192\" y=\"-109.8\" font-family=\"Helvetica,sans-Serif\" font-size=\"14.00\" fill=\"#000000\">samples = 136</text>\n<text text-anchor=\"start\" x=\"186\" y=\"-94.8\" font-family=\"Helvetica,sans-Serif\" font-size=\"14.00\" fill=\"#000000\">value = [114, 22]</text>\n<text text-anchor=\"start\" x=\"211\" y=\"-79.8\" font-family=\"Helvetica,sans-Serif\" font-size=\"14.00\" fill=\"#000000\">class = q</text>\n</g>\n<!-- 2&#45;&gt;10 -->\n<g id=\"edge6\" class=\"edge\">\n<title>2&#45;&gt;10</title>\n<path fill=\"none\" stroke=\"#000000\" d=\"M240,-190.8796C240,-182.6838 240,-173.9891 240,-165.5013\"/>\n<polygon fill=\"#000000\" stroke=\"#000000\" points=\"243.5001,-165.298 240,-155.2981 236.5001,-165.2981 243.5001,-165.298\"/>\n</g>\n<!-- 4 -->\n<g id=\"node5\" class=\"node\">\n<title>4</title>\n<path fill=\"#c0c0c0\" stroke=\"#000000\" d=\"M58,-36C58,-36 28,-36 28,-36 22,-36 16,-30 16,-24 16,-24 16,-12 16,-12 16,-6 22,0 28,0 28,0 58,0 58,0 64,0 70,-6 70,-12 70,-12 70,-24 70,-24 70,-30 64,-36 58,-36\"/>\n<text text-anchor=\"middle\" x=\"43\" y=\"-14.3\" font-family=\"Helvetica,sans-Serif\" font-size=\"14.00\" fill=\"#000000\">(...)</text>\n</g>\n<!-- 3&#45;&gt;4 -->\n<g id=\"edge4\" class=\"edge\">\n<title>3&#45;&gt;4</title>\n<path fill=\"none\" stroke=\"#000000\" d=\"M63.3146,-71.8901C59.9739,-63.0279 56.525,-53.8788 53.4386,-45.6913\"/>\n<polygon fill=\"#000000\" stroke=\"#000000\" points=\"56.6877,-44.3878 49.8853,-36.2651 50.1376,-46.8569 56.6877,-44.3878\"/>\n</g>\n<!-- 5 -->\n<g id=\"node6\" class=\"node\">\n<title>5</title>\n<path fill=\"#c0c0c0\" stroke=\"#000000\" d=\"M130,-36C130,-36 100,-36 100,-36 94,-36 88,-30 88,-24 88,-24 88,-12 88,-12 88,-6 94,0 100,0 100,0 130,0 130,0 136,0 142,-6 142,-12 142,-12 142,-24 142,-24 142,-30 136,-36 130,-36\"/>\n<text text-anchor=\"middle\" x=\"115\" y=\"-14.3\" font-family=\"Helvetica,sans-Serif\" font-size=\"14.00\" fill=\"#000000\">(...)</text>\n</g>\n<!-- 3&#45;&gt;5 -->\n<g id=\"edge5\" class=\"edge\">\n<title>3&#45;&gt;5</title>\n<path fill=\"none\" stroke=\"#000000\" d=\"M94.6854,-71.8901C98.0261,-63.0279 101.475,-53.8788 104.5614,-45.6913\"/>\n<polygon fill=\"#000000\" stroke=\"#000000\" points=\"107.8624,-46.8569 108.1147,-36.2651 101.3123,-44.3878 107.8624,-46.8569\"/>\n</g>\n<!-- 11 -->\n<g id=\"node8\" class=\"node\">\n<title>11</title>\n<path fill=\"#c0c0c0\" stroke=\"#000000\" d=\"M220,-36C220,-36 190,-36 190,-36 184,-36 178,-30 178,-24 178,-24 178,-12 178,-12 178,-6 184,0 190,0 190,0 220,0 220,0 226,0 232,-6 232,-12 232,-12 232,-24 232,-24 232,-30 226,-36 220,-36\"/>\n<text text-anchor=\"middle\" x=\"205\" y=\"-14.3\" font-family=\"Helvetica,sans-Serif\" font-size=\"14.00\" fill=\"#000000\">(...)</text>\n</g>\n<!-- 10&#45;&gt;11 -->\n<g id=\"edge7\" class=\"edge\">\n<title>10&#45;&gt;11</title>\n<path fill=\"none\" stroke=\"#000000\" d=\"M224.7503,-71.8901C221.5024,-63.0279 218.1493,-53.8788 215.1486,-45.6913\"/>\n<polygon fill=\"#000000\" stroke=\"#000000\" points=\"218.4214,-44.45 211.694,-36.2651 211.8489,-46.8588 218.4214,-44.45\"/>\n</g>\n<!-- 40 -->\n<g id=\"node9\" class=\"node\">\n<title>40</title>\n<path fill=\"#c0c0c0\" stroke=\"#000000\" d=\"M292,-36C292,-36 262,-36 262,-36 256,-36 250,-30 250,-24 250,-24 250,-12 250,-12 250,-6 256,0 262,0 262,0 292,0 292,0 298,0 304,-6 304,-12 304,-12 304,-24 304,-24 304,-30 298,-36 292,-36\"/>\n<text text-anchor=\"middle\" x=\"277\" y=\"-14.3\" font-family=\"Helvetica,sans-Serif\" font-size=\"14.00\" fill=\"#000000\">(...)</text>\n</g>\n<!-- 10&#45;&gt;40 -->\n<g id=\"edge8\" class=\"edge\">\n<title>10&#45;&gt;40</title>\n<path fill=\"none\" stroke=\"#000000\" d=\"M256.1211,-71.8901C259.5546,-63.0279 263.0993,-53.8788 266.2715,-45.6913\"/>\n<polygon fill=\"#000000\" stroke=\"#000000\" points=\"269.5743,-46.8542 269.9235,-36.2651 263.0471,-44.3253 269.5743,-46.8542\"/>\n</g>\n<!-- 44 -->\n<g id=\"node11\" class=\"node\">\n<title>44</title>\n<path fill=\"#e5833c\" stroke=\"#000000\" d=\"M462,-155C462,-155 334,-155 334,-155 328,-155 322,-149 322,-143 322,-143 322,-84 322,-84 322,-78 328,-72 334,-72 334,-72 462,-72 462,-72 468,-72 474,-78 474,-84 474,-84 474,-143 474,-143 474,-149 468,-155 462,-155\"/>\n<text text-anchor=\"start\" x=\"330\" y=\"-139.8\" font-family=\"Helvetica,sans-Serif\" font-size=\"14.00\" fill=\"#000000\">residual sugar ≤ 1.25</text>\n<text text-anchor=\"start\" x=\"360\" y=\"-124.8\" font-family=\"Helvetica,sans-Serif\" font-size=\"14.00\" fill=\"#000000\">gini = 0.034</text>\n<text text-anchor=\"start\" x=\"350\" y=\"-109.8\" font-family=\"Helvetica,sans-Serif\" font-size=\"14.00\" fill=\"#000000\">samples = 528</text>\n<text text-anchor=\"start\" x=\"348\" y=\"-94.8\" font-family=\"Helvetica,sans-Serif\" font-size=\"14.00\" fill=\"#000000\">value = [519, 9]</text>\n<text text-anchor=\"start\" x=\"369\" y=\"-79.8\" font-family=\"Helvetica,sans-Serif\" font-size=\"14.00\" fill=\"#000000\">class = q</text>\n</g>\n<!-- 43&#45;&gt;44 -->\n<g id=\"edge10\" class=\"edge\">\n<title>43&#45;&gt;44</title>\n<path fill=\"none\" stroke=\"#000000\" d=\"M449.3696,-190.8796C443.57,-182.1434 437.3941,-172.8404 431.4092,-163.8253\"/>\n<polygon fill=\"#000000\" stroke=\"#000000\" points=\"434.1951,-161.6935 425.7483,-155.2981 428.3632,-165.5652 434.1951,-161.6935\"/>\n</g>\n<!-- 79 -->\n<g id=\"node14\" class=\"node\">\n<title>79</title>\n<path fill=\"#e88d4c\" stroke=\"#000000\" d=\"M632,-155C632,-155 504,-155 504,-155 498,-155 492,-149 492,-143 492,-143 492,-84 492,-84 492,-78 498,-72 504,-72 504,-72 632,-72 632,-72 638,-72 644,-78 644,-84 644,-84 644,-143 644,-143 644,-149 638,-155 632,-155\"/>\n<text text-anchor=\"start\" x=\"500\" y=\"-139.8\" font-family=\"Helvetica,sans-Serif\" font-size=\"14.00\" fill=\"#000000\">residual sugar ≤ 2.35</text>\n<text text-anchor=\"start\" x=\"530\" y=\"-124.8\" font-family=\"Helvetica,sans-Serif\" font-size=\"14.00\" fill=\"#000000\">gini = 0.163</text>\n<text text-anchor=\"start\" x=\"520\" y=\"-109.8\" font-family=\"Helvetica,sans-Serif\" font-size=\"14.00\" fill=\"#000000\">samples = 224</text>\n<text text-anchor=\"start\" x=\"514\" y=\"-94.8\" font-family=\"Helvetica,sans-Serif\" font-size=\"14.00\" fill=\"#000000\">value = [204, 20]</text>\n<text text-anchor=\"start\" x=\"539\" y=\"-79.8\" font-family=\"Helvetica,sans-Serif\" font-size=\"14.00\" fill=\"#000000\">class = q</text>\n</g>\n<!-- 43&#45;&gt;79 -->\n<g id=\"edge13\" class=\"edge\">\n<title>43&#45;&gt;79</title>\n<path fill=\"none\" stroke=\"#000000\" d=\"M508.8274,-190.8796C515.6457,-181.9633 522.9156,-172.4565 529.9421,-163.268\"/>\n<polygon fill=\"#000000\" stroke=\"#000000\" points=\"532.7425,-165.3678 536.0368,-155.2981 527.182,-161.1156 532.7425,-165.3678\"/>\n</g>\n<!-- 45 -->\n<g id=\"node12\" class=\"node\">\n<title>45</title>\n<path fill=\"#c0c0c0\" stroke=\"#000000\" d=\"M382,-36C382,-36 352,-36 352,-36 346,-36 340,-30 340,-24 340,-24 340,-12 340,-12 340,-6 346,0 352,0 352,0 382,0 382,0 388,0 394,-6 394,-12 394,-12 394,-24 394,-24 394,-30 388,-36 382,-36\"/>\n<text text-anchor=\"middle\" x=\"367\" y=\"-14.3\" font-family=\"Helvetica,sans-Serif\" font-size=\"14.00\" fill=\"#000000\">(...)</text>\n</g>\n<!-- 44&#45;&gt;45 -->\n<g id=\"edge11\" class=\"edge\">\n<title>44&#45;&gt;45</title>\n<path fill=\"none\" stroke=\"#000000\" d=\"M384.4931,-71.8901C381.648,-63.1253 378.7118,-54.0798 376.0765,-45.9615\"/>\n<polygon fill=\"#000000\" stroke=\"#000000\" points=\"379.3455,-44.6959 372.929,-36.2651 372.6875,-46.8572 379.3455,-44.6959\"/>\n</g>\n<!-- 48 -->\n<g id=\"node13\" class=\"node\">\n<title>48</title>\n<path fill=\"#c0c0c0\" stroke=\"#000000\" d=\"M454,-36C454,-36 424,-36 424,-36 418,-36 412,-30 412,-24 412,-24 412,-12 412,-12 412,-6 418,0 424,0 424,0 454,0 454,0 460,0 466,-6 466,-12 466,-12 466,-24 466,-24 466,-30 460,-36 454,-36\"/>\n<text text-anchor=\"middle\" x=\"439\" y=\"-14.3\" font-family=\"Helvetica,sans-Serif\" font-size=\"14.00\" fill=\"#000000\">(...)</text>\n</g>\n<!-- 44&#45;&gt;48 -->\n<g id=\"edge12\" class=\"edge\">\n<title>44&#45;&gt;48</title>\n<path fill=\"none\" stroke=\"#000000\" d=\"M415.8639,-71.8901C419.6686,-63.0279 423.5965,-53.8788 427.1116,-45.6913\"/>\n<polygon fill=\"#000000\" stroke=\"#000000\" points=\"430.4295,-46.8348 431.1584,-36.2651 423.9972,-44.0733 430.4295,-46.8348\"/>\n</g>\n<!-- 80 -->\n<g id=\"node15\" class=\"node\">\n<title>80</title>\n<path fill=\"#c0c0c0\" stroke=\"#000000\" d=\"M535,-36C535,-36 505,-36 505,-36 499,-36 493,-30 493,-24 493,-24 493,-12 493,-12 493,-6 499,0 505,0 505,0 535,0 535,0 541,0 547,-6 547,-12 547,-12 547,-24 547,-24 547,-30 541,-36 535,-36\"/>\n<text text-anchor=\"middle\" x=\"520\" y=\"-14.3\" font-family=\"Helvetica,sans-Serif\" font-size=\"14.00\" fill=\"#000000\">(...)</text>\n</g>\n<!-- 79&#45;&gt;80 -->\n<g id=\"edge14\" class=\"edge\">\n<title>79&#45;&gt;80</title>\n<path fill=\"none\" stroke=\"#000000\" d=\"M547.0861,-71.8901C542.5829,-62.9305 537.9322,-53.6777 533.7826,-45.4217\"/>\n<polygon fill=\"#000000\" stroke=\"#000000\" points=\"536.7985,-43.6282 529.1804,-36.2651 530.544,-46.7718 536.7985,-43.6282\"/>\n</g>\n<!-- 101 -->\n<g id=\"node16\" class=\"node\">\n<title>101</title>\n<path fill=\"#c0c0c0\" stroke=\"#000000\" d=\"M607,-36C607,-36 577,-36 577,-36 571,-36 565,-30 565,-24 565,-24 565,-12 565,-12 565,-6 571,0 577,0 577,0 607,0 607,0 613,0 619,-6 619,-12 619,-12 619,-24 619,-24 619,-30 613,-36 607,-36\"/>\n<text text-anchor=\"middle\" x=\"592\" y=\"-14.3\" font-family=\"Helvetica,sans-Serif\" font-size=\"14.00\" fill=\"#000000\">(...)</text>\n</g>\n<!-- 79&#45;&gt;101 -->\n<g id=\"edge15\" class=\"edge\">\n<title>79&#45;&gt;101</title>\n<path fill=\"none\" stroke=\"#000000\" d=\"M578.4569,-71.8901C580.6351,-63.2227 582.8823,-54.2808 584.9049,-46.2325\"/>\n<polygon fill=\"#000000\" stroke=\"#000000\" points=\"588.3669,-46.8166 587.4098,-36.2651 581.578,-45.1105 588.3669,-46.8166\"/>\n</g>\n<!-- 127 -->\n<g id=\"node18\" class=\"node\">\n<title>127</title>\n<path fill=\"#efb286\" stroke=\"#000000\" d=\"M887,-274C887,-274 735,-274 735,-274 729,-274 723,-268 723,-262 723,-262 723,-203 723,-203 723,-197 729,-191 735,-191 735,-191 887,-191 887,-191 893,-191 899,-197 899,-203 899,-203 899,-262 899,-262 899,-268 893,-274 887,-274\"/>\n<text text-anchor=\"start\" x=\"731\" y=\"-258.8\" font-family=\"Helvetica,sans-Serif\" font-size=\"14.00\" fill=\"#000000\">total sulfur dioxide ≤ 14.5</text>\n<text text-anchor=\"start\" x=\"773\" y=\"-243.8\" font-family=\"Helvetica,sans-Serif\" font-size=\"14.00\" fill=\"#000000\">gini = 0.404</text>\n<text text-anchor=\"start\" x=\"767\" y=\"-228.8\" font-family=\"Helvetica,sans-Serif\" font-size=\"14.00\" fill=\"#000000\">samples = 89</text>\n<text text-anchor=\"start\" x=\"761\" y=\"-213.8\" font-family=\"Helvetica,sans-Serif\" font-size=\"14.00\" fill=\"#000000\">value = [64, 25]</text>\n<text text-anchor=\"start\" x=\"782\" y=\"-198.8\" font-family=\"Helvetica,sans-Serif\" font-size=\"14.00\" fill=\"#000000\">class = q</text>\n</g>\n<!-- 126&#45;&gt;127 -->\n<g id=\"edge17\" class=\"edge\">\n<title>126&#45;&gt;127</title>\n<path fill=\"none\" stroke=\"#000000\" d=\"M811,-309.8796C811,-301.6838 811,-292.9891 811,-284.5013\"/>\n<polygon fill=\"#000000\" stroke=\"#000000\" points=\"814.5001,-284.298 811,-274.2981 807.5001,-284.2981 814.5001,-284.298\"/>\n</g>\n<!-- 156 -->\n<g id=\"node25\" class=\"node\">\n<title>156</title>\n<path fill=\"#8dc6f0\" stroke=\"#000000\" d=\"M1162,-274C1162,-274 1012,-274 1012,-274 1006,-274 1000,-268 1000,-262 1000,-262 1000,-203 1000,-203 1000,-197 1006,-191 1012,-191 1012,-191 1162,-191 1162,-191 1168,-191 1174,-197 1174,-203 1174,-203 1174,-262 1174,-262 1174,-268 1168,-274 1162,-274\"/>\n<text text-anchor=\"start\" x=\"1008\" y=\"-258.8\" font-family=\"Helvetica,sans-Serif\" font-size=\"14.00\" fill=\"#000000\">free sulfur dioxide ≤ 18.5</text>\n<text text-anchor=\"start\" x=\"1049\" y=\"-243.8\" font-family=\"Helvetica,sans-Serif\" font-size=\"14.00\" fill=\"#000000\">gini = 0.418</text>\n<text text-anchor=\"start\" x=\"1043\" y=\"-228.8\" font-family=\"Helvetica,sans-Serif\" font-size=\"14.00\" fill=\"#000000\">samples = 74</text>\n<text text-anchor=\"start\" x=\"1037\" y=\"-213.8\" font-family=\"Helvetica,sans-Serif\" font-size=\"14.00\" fill=\"#000000\">value = [22, 52]</text>\n<text text-anchor=\"start\" x=\"1058\" y=\"-198.8\" font-family=\"Helvetica,sans-Serif\" font-size=\"14.00\" fill=\"#000000\">class = u</text>\n</g>\n<!-- 126&#45;&gt;156 -->\n<g id=\"edge24\" class=\"edge\">\n<title>126&#45;&gt;156</title>\n<path fill=\"none\" stroke=\"#000000\" d=\"M876.7582,-323.1477C910.7122,-308.5081 952.792,-290.3651 990.3643,-274.1654\"/>\n<polygon fill=\"#000000\" stroke=\"#000000\" points=\"992.0147,-277.2653 999.8118,-270.092 989.2432,-270.8374 992.0147,-277.2653\"/>\n</g>\n<!-- 128 -->\n<g id=\"node19\" class=\"node\">\n<title>128</title>\n<path fill=\"#b0d8f5\" stroke=\"#000000\" d=\"M781.5,-155C781.5,-155 674.5,-155 674.5,-155 668.5,-155 662.5,-149 662.5,-143 662.5,-143 662.5,-84 662.5,-84 662.5,-78 668.5,-72 674.5,-72 674.5,-72 781.5,-72 781.5,-72 787.5,-72 793.5,-78 793.5,-84 793.5,-84 793.5,-143 793.5,-143 793.5,-149 787.5,-155 781.5,-155\"/>\n<text text-anchor=\"start\" x=\"670.5\" y=\"-139.8\" font-family=\"Helvetica,sans-Serif\" font-size=\"14.00\" fill=\"#000000\">sulphates ≤ 0.575</text>\n<text text-anchor=\"start\" x=\"690\" y=\"-124.8\" font-family=\"Helvetica,sans-Serif\" font-size=\"14.00\" fill=\"#000000\">gini = 0.469</text>\n<text text-anchor=\"start\" x=\"684\" y=\"-109.8\" font-family=\"Helvetica,sans-Serif\" font-size=\"14.00\" fill=\"#000000\">samples = 24</text>\n<text text-anchor=\"start\" x=\"682.5\" y=\"-94.8\" font-family=\"Helvetica,sans-Serif\" font-size=\"14.00\" fill=\"#000000\">value = [9, 15]</text>\n<text text-anchor=\"start\" x=\"699\" y=\"-79.8\" font-family=\"Helvetica,sans-Serif\" font-size=\"14.00\" fill=\"#000000\">class = u</text>\n</g>\n<!-- 127&#45;&gt;128 -->\n<g id=\"edge18\" class=\"edge\">\n<title>127&#45;&gt;128</title>\n<path fill=\"none\" stroke=\"#000000\" d=\"M781.9706,-190.8796C775.8145,-182.0534 769.2549,-172.6485 762.9064,-163.5466\"/>\n<polygon fill=\"#000000\" stroke=\"#000000\" points=\"765.7448,-161.4978 757.1533,-155.2981 760.0033,-165.5024 765.7448,-161.4978\"/>\n</g>\n<!-- 139 -->\n<g id=\"node22\" class=\"node\">\n<title>139</title>\n<path fill=\"#ea985d\" stroke=\"#000000\" d=\"M974,-155C974,-155 824,-155 824,-155 818,-155 812,-149 812,-143 812,-143 812,-84 812,-84 812,-78 818,-72 824,-72 824,-72 974,-72 974,-72 980,-72 986,-78 986,-84 986,-84 986,-143 986,-143 986,-149 980,-155 974,-155\"/>\n<text text-anchor=\"start\" x=\"820\" y=\"-139.8\" font-family=\"Helvetica,sans-Serif\" font-size=\"14.00\" fill=\"#000000\">free sulfur dioxide ≤ 31.5</text>\n<text text-anchor=\"start\" x=\"865.5\" y=\"-124.8\" font-family=\"Helvetica,sans-Serif\" font-size=\"14.00\" fill=\"#000000\">gini = 0.26</text>\n<text text-anchor=\"start\" x=\"855\" y=\"-109.8\" font-family=\"Helvetica,sans-Serif\" font-size=\"14.00\" fill=\"#000000\">samples = 65</text>\n<text text-anchor=\"start\" x=\"849\" y=\"-94.8\" font-family=\"Helvetica,sans-Serif\" font-size=\"14.00\" fill=\"#000000\">value = [55, 10]</text>\n<text text-anchor=\"start\" x=\"870\" y=\"-79.8\" font-family=\"Helvetica,sans-Serif\" font-size=\"14.00\" fill=\"#000000\">class = q</text>\n</g>\n<!-- 127&#45;&gt;139 -->\n<g id=\"edge21\" class=\"edge\">\n<title>127&#45;&gt;139</title>\n<path fill=\"none\" stroke=\"#000000\" d=\"M841.7781,-190.8796C848.3051,-182.0534 855.2599,-172.6485 861.9908,-163.5466\"/>\n<polygon fill=\"#000000\" stroke=\"#000000\" points=\"864.9588,-165.4195 868.0905,-155.2981 859.3305,-161.2574 864.9588,-165.4195\"/>\n</g>\n<!-- 129 -->\n<g id=\"node20\" class=\"node\">\n<title>129</title>\n<path fill=\"#c0c0c0\" stroke=\"#000000\" d=\"M684,-36C684,-36 654,-36 654,-36 648,-36 642,-30 642,-24 642,-24 642,-12 642,-12 642,-6 648,0 654,0 654,0 684,0 684,0 690,0 696,-6 696,-12 696,-12 696,-24 696,-24 696,-30 690,-36 684,-36\"/>\n<text text-anchor=\"middle\" x=\"669\" y=\"-14.3\" font-family=\"Helvetica,sans-Serif\" font-size=\"14.00\" fill=\"#000000\">(...)</text>\n</g>\n<!-- 128&#45;&gt;129 -->\n<g id=\"edge19\" class=\"edge\">\n<title>128&#45;&gt;129</title>\n<path fill=\"none\" stroke=\"#000000\" d=\"M702.2934,-71.8901C696.6378,-62.7357 690.7931,-53.2752 685.6094,-44.8847\"/>\n<polygon fill=\"#000000\" stroke=\"#000000\" points=\"688.5177,-42.9329 680.2842,-36.2651 682.5625,-46.6121 688.5177,-42.9329\"/>\n</g>\n<!-- 136 -->\n<g id=\"node21\" class=\"node\">\n<title>136</title>\n<path fill=\"#c0c0c0\" stroke=\"#000000\" d=\"M756,-36C756,-36 726,-36 726,-36 720,-36 714,-30 714,-24 714,-24 714,-12 714,-12 714,-6 720,0 726,0 726,0 756,0 756,0 762,0 768,-6 768,-12 768,-12 768,-24 768,-24 768,-30 762,-36 756,-36\"/>\n<text text-anchor=\"middle\" x=\"741\" y=\"-14.3\" font-family=\"Helvetica,sans-Serif\" font-size=\"14.00\" fill=\"#000000\">(...)</text>\n</g>\n<!-- 128&#45;&gt;136 -->\n<g id=\"edge20\" class=\"edge\">\n<title>128&#45;&gt;136</title>\n<path fill=\"none\" stroke=\"#000000\" d=\"M733.6642,-71.8901C734.844,-63.2227 736.0613,-54.2808 737.1568,-46.2325\"/>\n<polygon fill=\"#000000\" stroke=\"#000000\" points=\"740.6328,-46.6458 738.5137,-36.2651 733.6967,-45.7016 740.6328,-46.6458\"/>\n</g>\n<!-- 140 -->\n<g id=\"node23\" class=\"node\">\n<title>140</title>\n<path fill=\"#c0c0c0\" stroke=\"#000000\" d=\"M864,-36C864,-36 834,-36 834,-36 828,-36 822,-30 822,-24 822,-24 822,-12 822,-12 822,-6 828,0 834,0 834,0 864,0 864,0 870,0 876,-6 876,-12 876,-12 876,-24 876,-24 876,-30 870,-36 864,-36\"/>\n<text text-anchor=\"middle\" x=\"849\" y=\"-14.3\" font-family=\"Helvetica,sans-Serif\" font-size=\"14.00\" fill=\"#000000\">(...)</text>\n</g>\n<!-- 139&#45;&gt;140 -->\n<g id=\"edge22\" class=\"edge\">\n<title>139&#45;&gt;140</title>\n<path fill=\"none\" stroke=\"#000000\" d=\"M877.2147,-71.8901C872.4728,-62.8331 867.5741,-53.4765 863.2161,-45.1528\"/>\n<polygon fill=\"#000000\" stroke=\"#000000\" points=\"866.302,-43.5009 858.5629,-36.2651 860.1005,-46.7478 866.302,-43.5009\"/>\n</g>\n<!-- 153 -->\n<g id=\"node24\" class=\"node\">\n<title>153</title>\n<path fill=\"#c0c0c0\" stroke=\"#000000\" d=\"M936,-36C936,-36 906,-36 906,-36 900,-36 894,-30 894,-24 894,-24 894,-12 894,-12 894,-6 900,0 906,0 906,0 936,0 936,0 942,0 948,-6 948,-12 948,-12 948,-24 948,-24 948,-30 942,-36 936,-36\"/>\n<text text-anchor=\"middle\" x=\"921\" y=\"-14.3\" font-family=\"Helvetica,sans-Serif\" font-size=\"14.00\" fill=\"#000000\">(...)</text>\n</g>\n<!-- 139&#45;&gt;153 -->\n<g id=\"edge23\" class=\"edge\">\n<title>139&#45;&gt;153</title>\n<path fill=\"none\" stroke=\"#000000\" d=\"M908.5855,-71.8901C910.5822,-63.2227 912.6421,-54.2808 914.4962,-46.2325\"/>\n<polygon fill=\"#000000\" stroke=\"#000000\" points=\"917.9581,-46.7956 916.7923,-36.2651 911.1367,-45.2241 917.9581,-46.7956\"/>\n</g>\n<!-- 157 -->\n<g id=\"node26\" class=\"node\">\n<title>157</title>\n<path fill=\"#63b2eb\" stroke=\"#000000\" d=\"M1158,-155C1158,-155 1016,-155 1016,-155 1010,-155 1004,-149 1004,-143 1004,-143 1004,-84 1004,-84 1004,-78 1010,-72 1016,-72 1016,-72 1158,-72 1158,-72 1164,-72 1170,-78 1170,-84 1170,-84 1170,-143 1170,-143 1170,-149 1164,-155 1158,-155\"/>\n<text text-anchor=\"start\" x=\"1012\" y=\"-139.8\" font-family=\"Helvetica,sans-Serif\" font-size=\"14.00\" fill=\"#000000\">free sulfur dioxide ≤ 8.0</text>\n<text text-anchor=\"start\" x=\"1049\" y=\"-124.8\" font-family=\"Helvetica,sans-Serif\" font-size=\"14.00\" fill=\"#000000\">gini = 0.291</text>\n<text text-anchor=\"start\" x=\"1043\" y=\"-109.8\" font-family=\"Helvetica,sans-Serif\" font-size=\"14.00\" fill=\"#000000\">samples = 51</text>\n<text text-anchor=\"start\" x=\"1041.5\" y=\"-94.8\" font-family=\"Helvetica,sans-Serif\" font-size=\"14.00\" fill=\"#000000\">value = [9, 42]</text>\n<text text-anchor=\"start\" x=\"1058\" y=\"-79.8\" font-family=\"Helvetica,sans-Serif\" font-size=\"14.00\" fill=\"#000000\">class = u</text>\n</g>\n<!-- 156&#45;&gt;157 -->\n<g id=\"edge25\" class=\"edge\">\n<title>156&#45;&gt;157</title>\n<path fill=\"none\" stroke=\"#000000\" d=\"M1087,-190.8796C1087,-182.6838 1087,-173.9891 1087,-165.5013\"/>\n<polygon fill=\"#000000\" stroke=\"#000000\" points=\"1090.5001,-165.298 1087,-155.2981 1083.5001,-165.2981 1090.5001,-165.298\"/>\n</g>\n<!-- 172 -->\n<g id=\"node29\" class=\"node\">\n<title>172</title>\n<path fill=\"#f9e2d1\" stroke=\"#000000\" d=\"M1292,-155C1292,-155 1200,-155 1200,-155 1194,-155 1188,-149 1188,-143 1188,-143 1188,-84 1188,-84 1188,-78 1194,-72 1200,-72 1200,-72 1292,-72 1292,-72 1298,-72 1304,-78 1304,-84 1304,-84 1304,-143 1304,-143 1304,-149 1298,-155 1292,-155\"/>\n<text text-anchor=\"start\" x=\"1214.5\" y=\"-139.8\" font-family=\"Helvetica,sans-Serif\" font-size=\"14.00\" fill=\"#000000\">pH ≤ 3.36</text>\n<text text-anchor=\"start\" x=\"1208\" y=\"-124.8\" font-family=\"Helvetica,sans-Serif\" font-size=\"14.00\" fill=\"#000000\">gini = 0.491</text>\n<text text-anchor=\"start\" x=\"1202\" y=\"-109.8\" font-family=\"Helvetica,sans-Serif\" font-size=\"14.00\" fill=\"#000000\">samples = 23</text>\n<text text-anchor=\"start\" x=\"1196\" y=\"-94.8\" font-family=\"Helvetica,sans-Serif\" font-size=\"14.00\" fill=\"#000000\">value = [13, 10]</text>\n<text text-anchor=\"start\" x=\"1217\" y=\"-79.8\" font-family=\"Helvetica,sans-Serif\" font-size=\"14.00\" fill=\"#000000\">class = q</text>\n</g>\n<!-- 156&#45;&gt;172 -->\n<g id=\"edge28\" class=\"edge\">\n<title>156&#45;&gt;172</title>\n<path fill=\"none\" stroke=\"#000000\" d=\"M1142.6105,-190.8796C1155.4403,-181.2774 1169.1852,-170.9903 1182.3286,-161.1534\"/>\n<polygon fill=\"#000000\" stroke=\"#000000\" points=\"1184.5121,-163.891 1190.4209,-155.0969 1180.3177,-158.2868 1184.5121,-163.891\"/>\n</g>\n<!-- 158 -->\n<g id=\"node27\" class=\"node\">\n<title>158</title>\n<path fill=\"#c0c0c0\" stroke=\"#000000\" d=\"M1055,-36C1055,-36 1025,-36 1025,-36 1019,-36 1013,-30 1013,-24 1013,-24 1013,-12 1013,-12 1013,-6 1019,0 1025,0 1025,0 1055,0 1055,0 1061,0 1067,-6 1067,-12 1067,-12 1067,-24 1067,-24 1067,-30 1061,-36 1055,-36\"/>\n<text text-anchor=\"middle\" x=\"1040\" y=\"-14.3\" font-family=\"Helvetica,sans-Serif\" font-size=\"14.00\" fill=\"#000000\">(...)</text>\n</g>\n<!-- 157&#45;&gt;158 -->\n<g id=\"edge26\" class=\"edge\">\n<title>157&#45;&gt;158</title>\n<path fill=\"none\" stroke=\"#000000\" d=\"M1066.5218,-71.8901C1062.1124,-62.9305 1057.5586,-53.6777 1053.4955,-45.4217\"/>\n<polygon fill=\"#000000\" stroke=\"#000000\" points=\"1056.5451,-43.6919 1048.9891,-36.2651 1050.2645,-46.7829 1056.5451,-43.6919\"/>\n</g>\n<!-- 169 -->\n<g id=\"node28\" class=\"node\">\n<title>169</title>\n<path fill=\"#c0c0c0\" stroke=\"#000000\" d=\"M1127,-36C1127,-36 1097,-36 1097,-36 1091,-36 1085,-30 1085,-24 1085,-24 1085,-12 1085,-12 1085,-6 1091,0 1097,0 1097,0 1127,0 1127,0 1133,0 1139,-6 1139,-12 1139,-12 1139,-24 1139,-24 1139,-30 1133,-36 1127,-36\"/>\n<text text-anchor=\"middle\" x=\"1112\" y=\"-14.3\" font-family=\"Helvetica,sans-Serif\" font-size=\"14.00\" fill=\"#000000\">(...)</text>\n</g>\n<!-- 157&#45;&gt;169 -->\n<g id=\"edge27\" class=\"edge\">\n<title>157&#45;&gt;169</title>\n<path fill=\"none\" stroke=\"#000000\" d=\"M1097.8926,-71.8901C1100.1871,-63.1253 1102.555,-54.0798 1104.6802,-45.9615\"/>\n<polygon fill=\"#000000\" stroke=\"#000000\" points=\"1108.0719,-46.8255 1107.2186,-36.2651 1101.3001,-45.0527 1108.0719,-46.8255\"/>\n</g>\n<!-- 173 -->\n<g id=\"node30\" class=\"node\">\n<title>173</title>\n<path fill=\"#c0c0c0\" stroke=\"#000000\" d=\"M1225,-36C1225,-36 1195,-36 1195,-36 1189,-36 1183,-30 1183,-24 1183,-24 1183,-12 1183,-12 1183,-6 1189,0 1195,0 1195,0 1225,0 1225,0 1231,0 1237,-6 1237,-12 1237,-12 1237,-24 1237,-24 1237,-30 1231,-36 1225,-36\"/>\n<text text-anchor=\"middle\" x=\"1210\" y=\"-14.3\" font-family=\"Helvetica,sans-Serif\" font-size=\"14.00\" fill=\"#000000\">(...)</text>\n</g>\n<!-- 172&#45;&gt;173 -->\n<g id=\"edge29\" class=\"edge\">\n<title>172&#45;&gt;173</title>\n<path fill=\"none\" stroke=\"#000000\" d=\"M1230.3146,-71.8901C1226.9739,-63.0279 1223.525,-53.8788 1220.4386,-45.6913\"/>\n<polygon fill=\"#000000\" stroke=\"#000000\" points=\"1223.6877,-44.3878 1216.8853,-36.2651 1217.1376,-46.8569 1223.6877,-44.3878\"/>\n</g>\n<!-- 180 -->\n<g id=\"node31\" class=\"node\">\n<title>180</title>\n<path fill=\"#c0c0c0\" stroke=\"#000000\" d=\"M1297,-36C1297,-36 1267,-36 1267,-36 1261,-36 1255,-30 1255,-24 1255,-24 1255,-12 1255,-12 1255,-6 1261,0 1267,0 1267,0 1297,0 1297,0 1303,0 1309,-6 1309,-12 1309,-12 1309,-24 1309,-24 1309,-30 1303,-36 1297,-36\"/>\n<text text-anchor=\"middle\" x=\"1282\" y=\"-14.3\" font-family=\"Helvetica,sans-Serif\" font-size=\"14.00\" fill=\"#000000\">(...)</text>\n</g>\n<!-- 172&#45;&gt;180 -->\n<g id=\"edge30\" class=\"edge\">\n<title>172&#45;&gt;180</title>\n<path fill=\"none\" stroke=\"#000000\" d=\"M1261.6854,-71.8901C1265.0261,-63.0279 1268.475,-53.8788 1271.5614,-45.6913\"/>\n<polygon fill=\"#000000\" stroke=\"#000000\" points=\"1274.8624,-46.8569 1275.1147,-36.2651 1268.3123,-44.3878 1274.8624,-46.8569\"/>\n</g>\n</g>\n</svg>\n"
          },
          "metadata": {},
          "execution_count": 12
        }
      ],
      "source": [
        "dot_data = tree.export_graphviz(decTree, out_file=None, \n",
        "                      feature_names=features_df.columns.to_list(),  \n",
        "                      class_names='quality',\n",
        "                      filled=True, rounded=True,\n",
        "                      max_depth=3,\n",
        "                      special_characters=True)  \n",
        "graph = graphviz.Source(dot_data)  \n",
        "graph "
      ]
    },
    {
      "cell_type": "markdown",
      "metadata": {
        "id": "yQRg2V_aSn0y"
      },
      "source": [
        "According to the Decision Tree model, `alcohol` is the strongest determinator. When there's more than `11.5%` alcohol in the wine, then the amount of suphates would determine its taste. Otherwise it would be the acidity.\n",
        "\n",
        "Let's investigate the data based on this data."
      ]
    },
    {
      "cell_type": "code",
      "execution_count": null,
      "metadata": {
        "colab": {
          "base_uri": "https://localhost:8080/"
        },
        "id": "tV3iSj116JB_",
        "outputId": "563ab6a1-de4d-4e11-de69-a7d64b8c6034"
      },
      "outputs": [
        {
          "output_type": "execute_result",
          "data": {
            "text/plain": [
              "False    1242\n",
              "True      107\n",
              "Name: label, dtype: int64"
            ]
          },
          "metadata": {},
          "execution_count": 13
        }
      ],
      "source": [
        "# We add our True/False quality label to the dataset\n",
        "df['label'] = label\n",
        "# And count how many of them are True/False when the alcohol is less than 11.55 \n",
        "df[df['alcohol'] <= 11.55]['label'].value_counts()"
      ]
    },
    {
      "cell_type": "code",
      "execution_count": null,
      "metadata": {
        "colab": {
          "base_uri": "https://localhost:8080/"
        },
        "id": "I4b8e0Cp63wm",
        "outputId": "1bc170fd-2332-44c2-b2a8-86cebbd1cea0"
      },
      "outputs": [
        {
          "output_type": "execute_result",
          "data": {
            "text/plain": [
              "False    140\n",
              "True     110\n",
              "Name: label, dtype: int64"
            ]
          },
          "metadata": {},
          "execution_count": 14
        }
      ],
      "source": [
        "# And when it is above it:\n",
        "df[df['alcohol'] > 11.55]['label'].value_counts()"
      ]
    },
    {
      "cell_type": "markdown",
      "metadata": {
        "id": "0ay6tdbG7Pnt"
      },
      "source": [
        "The `.value_counts()` method of `pandas` gives us the number of rows corresponds to the unique values in the column. You can read about it more here: https://pandas.pydata.org/docs/reference/api/pandas.Series.value_counts.html\n",
        "\n",
        "How can you convert these counts into percentage of the total dataset size?"
      ]
    },
    {
      "cell_type": "code",
      "execution_count": null,
      "metadata": {
        "id": "jx5SHKJF7KnD",
        "colab": {
          "base_uri": "https://localhost:8080/",
          "height": 53
        },
        "outputId": "9d406f75-431c-409a-b5a6-72bc11df8c98"
      },
      "outputs": [
        {
          "output_type": "execute_result",
          "data": {
            "application/vnd.google.colaboratory.intrinsic+json": {
              "type": "string"
            },
            "text/plain": [
              "'\\nWrite code here to calculate the _percentage_ of good wine (True) compared to \\nok/bad wine (False) in the dataset, based on the alcohol column.\\n\\nTry different values to divide the alcohol percentage with, such as:\\n   11, 11.55, 12 \\nhow does these values affect the ratio?\\n'"
            ]
          },
          "metadata": {},
          "execution_count": 15
        }
      ],
      "source": [
        "### YOUR TURN ###\n",
        "\"\"\"\n",
        "Write code here to calculate the _percentage_ of good wine (True) compared to \n",
        "ok/bad wine (False) in the dataset, based on the alcohol column.\n",
        "\n",
        "Try different values to divide the alcohol percentage with, such as:\n",
        "   11, 11.55, 12 \n",
        "how does these values affect the ratio?\n",
        "\"\"\"\n",
        "\n",
        "\n",
        "\n",
        "##################"
      ]
    },
    {
      "cell_type": "markdown",
      "metadata": {
        "id": "vwKEhGJM8DE1"
      },
      "source": [
        "## Assesing a model"
      ]
    },
    {
      "cell_type": "markdown",
      "metadata": {
        "id": "zhd55Dcw8bvf"
      },
      "source": [
        "In the preparation part, we have divided our data to train and test-set.\n",
        "The test set helps us to see how well our model learned: does it only memorize the data, or can it infer and perform also n new, unseen data from the same distribution. This is referred to as the ability of a model **to generalize**."
      ]
    },
    {
      "cell_type": "markdown",
      "metadata": {
        "id": "R9pYMllm847C"
      },
      "source": [
        "There are [many methods](https://scikit-learn.org/stable/modules/classes.html?highlight=metrics#sklearn-metrics-metrics) to asses the model performance. These methods differ based on the task in hand: [classification](https://scikit-learn.org/stable/modules/classes.html?highlight=metrics#classification-metrics), [regression](https://scikit-learn.org/stable/modules/classes.html?highlight=metrics#regression-metrics), [clustering](https://scikit-learn.org/stable/modules/classes.html?highlight=metrics#clustering-metrics), etc.\n",
        "But they all have one thing in common: They all measure some kind of a **distance**: for example, in our classification task, they measure the distance between our model's outputs, the *predicted values*, to our `y`, our pre-defined labels. Hence giving us an indicator about the quality of the model predictions."
      ]
    },
    {
      "cell_type": "markdown",
      "metadata": {
        "id": "cSTRxaTF_l3_"
      },
      "source": [
        "We will use an assessment called [F-Score](https://deepai.org/machine-learning-glossary-and-terms/f-score).\n",
        "\n",
        "If you are not familiar yet with precision, recall and f-score, please take a few minutes to read the explantion and examples here:\n",
        "https://deepai.org/machine-learning-glossary-and-terms/f-score\n",
        "\n",
        "If you are familiar with sensitivity and specificity:\n",
        "* In what ways do precision and recall are similar to sensitivity and specificity?\n",
        "* In what ways do they differ?\n",
        "\n",
        "Compare your answers to this explanation: https://uberpython.wordpress.com/2012/01/01/precision-recall-sensitivity-and-specificity/"
      ]
    },
    {
      "cell_type": "code",
      "execution_count": null,
      "metadata": {
        "colab": {
          "base_uri": "https://localhost:8080/"
        },
        "id": "p5XXjD7W832Z",
        "outputId": "e6604908-ea88-4354-8624-180369d335e8"
      },
      "outputs": [
        {
          "output_type": "stream",
          "name": "stdout",
          "text": [
            "              precision    recall  f1-score   support\n",
            "\n",
            "     OK wine       0.92      0.89      0.90       451\n",
            "   Good wine       0.44      0.52      0.48        77\n",
            "\n",
            "    accuracy                           0.83       528\n",
            "   macro avg       0.68      0.70      0.69       528\n",
            "weighted avg       0.85      0.83      0.84       528\n",
            "\n"
          ]
        }
      ],
      "source": [
        "# sklearn.metrics library contains precision, recall, f-score, specificity and sensitivity\n",
        "pred_test = decTree.predict(X_test)\n",
        "print(classification_report(y_test, pred_test, target_names=['OK wine', 'Good wine']))"
      ]
    },
    {
      "cell_type": "markdown",
      "metadata": {
        "id": "5F8YliL5USN5"
      },
      "source": [
        "Another metric for binary classification is [ROC](https://en.wikipedia.org/wiki/Receiver_operating_characteristic) curves.\n",
        "\n",
        "Scikit-learn has [tools](https://scikit-learn.org/stable/modules/model_evaluation.html#receiver-operating-characteristic-roc) for [plotting](https://scikit-learn.org/stable/modules/generated/sklearn.metrics.RocCurveDisplay.html) those curves.\n",
        "\n",
        "Calculate and plot here the ROC curve of our classifier results on the test-set:\n",
        "\n",
        "* What is your Area Under Curve (AUC) score?\n",
        "* We have previously set the quality level to 6.5. \n",
        "  What is the AUC score when defining the good wines score as above 7?"
      ]
    },
    {
      "cell_type": "code",
      "execution_count": null,
      "metadata": {
        "id": "uVIqR3BpUKym"
      },
      "outputs": [],
      "source": [
        "from sklearn.metrics import roc_curve\n",
        "\n",
        "### YOUR TURN ###\n",
        "# Write your code here\n",
        "\n",
        "\n",
        "\n",
        "\n",
        "\n",
        "\n"
      ]
    },
    {
      "cell_type": "markdown",
      "metadata": {
        "id": "ChY7lIoQlsht"
      },
      "source": [
        "## Attribute Selection Measurement\n",
        "\n",
        "As we showed in the class, in every calculation step, the [DecisionTreeClassifier](https://scikit-learn.org/stable/modules/generated/sklearn.tree.DecisionTreeClassifier.html#sklearn-tree-decisiontreeclassifier) must select the *most valuable feature*, the best attribute, to divide the data by. How does that work?\n",
        "\n",
        "There are two main methods of measuring the feature contribution:\n",
        "* **Information gain** (aka **Entropy**) - the measurement of changes in entropy after the segmentation of a dataset based on an attribute.\n",
        "  \n",
        "  *Information Gain* = *Entropy*(Total # of Samples) - [(Weighted Avg) * *Entropy*(each feature)]\n",
        "  \n",
        "  *Entropy* (sample) = $-P(yes) * log_2 P(yes)- P(no) log_2 P(no)$\n",
        "\n",
        "* **Gini Index** (aka [Gini impurity](https://en.wikipedia.org/wiki/Decision_tree_learning#Gini_impurity)) - a random-sampling based probability measurement of the purity of the data. It measures how often a randomly chosen row from the data table would be incorrectly labeled if it was randomly labeled according to the distribution of labels in the subset.\n",
        "  It is calculated through the formula $1- ∑_jP_j^2$\n",
        "\n",
        "The DecisionTreeClassifier supports both options, and the default one (which we just used) is the 'Gini Index'.\n",
        "Try replacing the Gini Index with entropy - check the documentation for how to perform this. \n",
        "> Observe: How does the entropy method affect on the results?"
      ]
    },
    {
      "cell_type": "code",
      "execution_count": null,
      "metadata": {
        "id": "r0z6vtJstcNu"
      },
      "outputs": [],
      "source": [
        "### YOUR TURN ###\n",
        "# Create and train a DecisionTreeClassifier with entropy instead of the \n",
        "# default Gini index.\n",
        "# Calculate the F-Score and the AUC with the test-set, and compare it to the \n",
        "# previous results\n",
        "\n",
        "\n",
        "\n",
        "\n",
        "\n",
        "\n",
        "\n",
        "\n",
        "\n",
        "\n",
        "\n",
        "\n",
        "\n",
        "#################"
      ]
    },
    {
      "cell_type": "markdown",
      "metadata": {
        "id": "j5FFoRdnj4-s"
      },
      "source": [
        "To dive deeper in to Decision-Trees, a recommended reading is https://www.javatpoint.com/machine-learning-decision-tree-classification-algorithm"
      ]
    },
    {
      "cell_type": "markdown",
      "metadata": {
        "id": "hurOgee6sH4I"
      },
      "source": [
        "## Take-aways\n",
        "\n",
        "* Decision Trees are simple to understand and to interpret (White-Box)\n",
        "* They simulates human rational decision-making process\n",
        "* They can handle both numerical (e.g. alcohol %) and categorical (e.g. colors) features\n",
        "* They requires little to no data preparation\n",
        "* They can perform well on both small and large datasets"
      ]
    },
    {
      "cell_type": "markdown",
      "metadata": {
        "id": "XLSaVYi4U8p6"
      },
      "source": [
        "# Regression"
      ]
    },
    {
      "cell_type": "markdown",
      "metadata": {
        "id": "cFiE6gkkU-3U"
      },
      "source": [
        "You have already learned about regression models. Let's rehearse them now using python and Scikit-Learn.\n",
        "\n",
        "We will practice two simple regression models: [Linear Regression](https://scikit-learn.org/stable/modules/linear_model.html#generalized-linear-regression) and [Logistic Regression](https://scikit-learn.org/stable/modules/linear_model.html#logistic-regression).\n"
      ]
    },
    {
      "cell_type": "markdown",
      "source": [
        "First, let's import the packages we are going to use"
      ],
      "metadata": {
        "id": "OsiHypbJFmM8"
      }
    },
    {
      "cell_type": "code",
      "execution_count": null,
      "metadata": {
        "id": "6irlmevJ5NfR"
      },
      "outputs": [],
      "source": [
        "from sklearn.linear_model import LinearRegression, LogisticRegression  \n",
        "from sklearn.preprocessing import StandardScaler"
      ]
    },
    {
      "cell_type": "markdown",
      "metadata": {
        "id": "RB0ef-cM8ZmP"
      },
      "source": [
        "--- \n",
        "\n",
        "We begin with Linear Regression - and attempt to fit a straight line to our data.\n"
      ]
    },
    {
      "cell_type": "markdown",
      "metadata": {
        "id": "mHHK4fOX5W5E"
      },
      "source": [
        "We begin, as before, by dividing our data and leaving some of it aside to test the model with.\n",
        "\n",
        "This time, we will use the `quality` column as it is: a set of numerical values.\n",
        "We will try to predict the quality score based on the features."
      ]
    },
    {
      "cell_type": "code",
      "execution_count": null,
      "metadata": {
        "id": "VThsQ0b03Ez_"
      },
      "outputs": [],
      "source": [
        "# 'quality' is our label - the column we would like to predict. \n",
        "features_df = df.drop('quality', axis=1)\n",
        "\n",
        "label = df['quality']\n",
        "\n",
        "X_train, X_test, y_train, y_test = train_test_split(features_df, \n",
        "                                                    label, \n",
        "                                                    test_size=0.33, \n",
        "                                                    random_state=42)"
      ]
    },
    {
      "cell_type": "code",
      "execution_count": null,
      "metadata": {
        "colab": {
          "base_uri": "https://localhost:8080/"
        },
        "id": "r9LEQhP_uSQX",
        "outputId": "f49512b6-54d1-4eda-b59b-50968dc18baa"
      },
      "outputs": [
        {
          "output_type": "execute_result",
          "data": {
            "text/plain": [
              "LinearRegression()"
            ]
          },
          "metadata": {},
          "execution_count": 35
        }
      ],
      "source": [
        "regressor = LinearRegression()  \n",
        "regressor.fit(X_train, y_train)"
      ]
    },
    {
      "cell_type": "markdown",
      "metadata": {
        "id": "1JVz7-CS5Qle"
      },
      "source": [
        "Let's see how well did our Linear Regressor do on our saved-aside test set:"
      ]
    },
    {
      "cell_type": "code",
      "execution_count": null,
      "metadata": {
        "colab": {
          "base_uri": "https://localhost:8080/"
        },
        "id": "fXLwMXLx11hr",
        "outputId": "3266fdef-d37c-41df-e01a-d5a5e72c26a6"
      },
      "outputs": [
        {
          "output_type": "stream",
          "name": "stdout",
          "text": [
            "predictions:  [5.34555675 5.1382492  5.48770853 5.42014113 5.53690683]\n",
            "rounded predictions:  [5, 5, 5, 5, 6]\n",
            "true values:  [6, 5, 6, 5, 6]\n"
          ]
        }
      ],
      "source": [
        "y_pred= regressor.predict(X_test)\n",
        "\n",
        "print('predictions: ', y_pred[:5])\n",
        "print('rounded predictions: ', list(map(round, y_pred))[:5])\n",
        "print('true values: ', y_test.to_list()[:5])"
      ]
    },
    {
      "cell_type": "markdown",
      "metadata": {
        "id": "6XnN07Zu7ZV0"
      },
      "source": [
        "Let's plot the predictions.\n",
        "\n",
        "The true values are the blue dots, and the red are our predictions.\n",
        "\n",
        "You can switch between the commentted lines to compare the rounded points and the true value of the regressor classifier."
      ]
    },
    {
      "cell_type": "code",
      "execution_count": null,
      "metadata": {
        "colab": {
          "base_uri": "https://localhost:8080/",
          "height": 611
        },
        "id": "W7VzgUcZ6R4i",
        "outputId": "8c72139c-7112-4ed8-eebd-51b3897572df"
      },
      "outputs": [
        {
          "output_type": "execute_result",
          "data": {
            "text/plain": [
              "<matplotlib.collections.PathCollection at 0x7fb73765add0>"
            ]
          },
          "metadata": {},
          "execution_count": 23
        },
        {
          "output_type": "display_data",
          "data": {
            "image/png": "[encoded data removed]",
            "text/plain": [
              "<Figure size 1008x720 with 1 Axes>"
            ]
          },
          "metadata": {}
        }
      ],
      "source": [
        "# num_of_points = len(y_test)\n",
        "num_of_points = 100\n",
        "\n",
        "plt.scatter(range(num_of_points), y_test[:num_of_points])\n",
        "\n",
        "# plot the rounded points:\n",
        "plt.scatter(range(num_of_points), list(map(round, y_pred))[:num_of_points], color=\"red\")\n",
        "\n",
        "# plot the true regression values\n",
        "# plt.scatter(range(num_of_points), y_pred[:num_of_points], color=\"red\")"
      ]
    },
    {
      "cell_type": "markdown",
      "metadata": {
        "id": "baVz1Ds45rVO"
      },
      "source": [
        "## Giving it a score\n",
        "\n",
        "For classification, we used classification-related metrics, such as F-Score, Precision, Recall, RUC and AUC scores.\n",
        "\n",
        "We can't use those for regression - we have no classes output.\n",
        "\n",
        "Instead, we need so somehow calculate the **distance** between our predicted results to the real results."
      ]
    },
    {
      "cell_type": "code",
      "execution_count": null,
      "metadata": {
        "colab": {
          "base_uri": "https://localhost:8080/"
        },
        "id": "nfMxq1jp22Sg",
        "outputId": "8240c294-9b5c-4540-9083-a1b38be289bc"
      },
      "outputs": [
        {
          "output_type": "stream",
          "name": "stdout",
          "text": [
            "mean absolute error:  0.4072606424405148\n",
            "explained variance score:  0.6102893183518037\n"
          ]
        }
      ],
      "source": [
        "from sklearn.metrics import mean_absolute_error, explained_variance_score\n",
        "\n",
        "print('mean absolute error: ', mean_absolute_error(y_test, y_pred))\n",
        "print('explained variance score: ', explained_variance_score(y_test, y_pred))"
      ]
    },
    {
      "cell_type": "markdown",
      "source": [
        "If we round our predictions, the result is slightly better (less error):"
      ],
      "metadata": {
        "id": "6M0CAsdhFpcX"
      }
    },
    {
      "cell_type": "code",
      "source": [
        "print('mean absolute error: ', mean_absolute_error(y_test, list(map(round, y_pred))))\n",
        "print('explained variance score: ', explained_variance_score(y_test, list(map(round, y_pred))))\n"
      ],
      "metadata": {
        "colab": {
          "base_uri": "https://localhost:8080/"
        },
        "id": "gK-fdOnlFY0E",
        "outputId": "838bcac4-0d04-4595-b5b9-833a416f9102"
      },
      "execution_count": null,
      "outputs": [
        {
          "output_type": "stream",
          "name": "stdout",
          "text": [
            "mean absolute error:  0.32765151515151514\n",
            "explained variance score:  0.47833693526808685\n"
          ]
        }
      ]
    },
    {
      "cell_type": "markdown",
      "metadata": {
        "id": "wFQ5XlnV8qWT"
      },
      "source": [
        "---\n",
        "\n",
        "Now that we have a number, we can compare that result to a Logistic Regression.\n",
        "\n",
        "Logistic Regression fits a non-straight line, so it can match better to the data. It requires some preparation, though: We need to normalize our data.\n"
      ]
    },
    {
      "cell_type": "code",
      "execution_count": null,
      "metadata": {
        "id": "JoVslqF3_MyE"
      },
      "outputs": [],
      "source": [
        "X_train, X_test, y_train, y_test = train_test_split(features_df, \n",
        "                                                    label, \n",
        "                                                    test_size=0.33, \n",
        "                                                    random_state=42)"
      ]
    },
    {
      "cell_type": "code",
      "execution_count": null,
      "metadata": {
        "id": "NA5p-cDt9rxR"
      },
      "outputs": [],
      "source": [
        "st_x= StandardScaler()    \n",
        "X_train= st_x.fit_transform(X_train)    \n",
        "X_test= st_x.transform(X_test)"
      ]
    },
    {
      "cell_type": "markdown",
      "metadata": {
        "id": "B-4qo9OP-YaF"
      },
      "source": [
        "Let's take a look at our normalized data:"
      ]
    },
    {
      "cell_type": "code",
      "execution_count": null,
      "metadata": {
        "colab": {
          "base_uri": "https://localhost:8080/",
          "height": 485
        },
        "id": "tQ17VtHv-Jss",
        "outputId": "9f5e02b8-caa9-468b-cea1-f6a3564d170f"
      },
      "outputs": [
        {
          "output_type": "execute_result",
          "data": {
            "text/html": [
              "\n",
              "  <div id=\"df-4b232a47-9b7d-439f-b905-cd32ecfb4a91\">\n",
              "    <div class=\"colab-df-container\">\n",
              "      <div>\n",
              "<style scoped>\n",
              "    .dataframe tbody tr th:only-of-type {\n",
              "        vertical-align: middle;\n",
              "    }\n",
              "\n",
              "    .dataframe tbody tr th {\n",
              "        vertical-align: top;\n",
              "    }\n",
              "\n",
              "    .dataframe thead th {\n",
              "        text-align: right;\n",
              "    }\n",
              "</style>\n",
              "<table border=\"1\" class=\"dataframe\">\n",
              "  <thead>\n",
              "    <tr style=\"text-align: right;\">\n",
              "      <th></th>\n",
              "      <th>fixed acidity</th>\n",
              "      <th>volatile acidity</th>\n",
              "      <th>citric acid</th>\n",
              "      <th>residual sugar</th>\n",
              "      <th>chlorides</th>\n",
              "      <th>free sulfur dioxide</th>\n",
              "      <th>total sulfur dioxide</th>\n",
              "      <th>density</th>\n",
              "      <th>pH</th>\n",
              "      <th>sulphates</th>\n",
              "      <th>alcohol</th>\n",
              "      <th>quality</th>\n",
              "    </tr>\n",
              "  </thead>\n",
              "  <tbody>\n",
              "    <tr>\n",
              "      <th>0</th>\n",
              "      <td>2.400695</td>\n",
              "      <td>-1.031037</td>\n",
              "      <td>1.127426</td>\n",
              "      <td>0.037723</td>\n",
              "      <td>-0.184551</td>\n",
              "      <td>1.078264</td>\n",
              "      <td>0.674266</td>\n",
              "      <td>1.422247</td>\n",
              "      <td>-1.260963</td>\n",
              "      <td>0.527261</td>\n",
              "      <td>-0.014319</td>\n",
              "      <td>-0.387783</td>\n",
              "    </tr>\n",
              "    <tr>\n",
              "      <th>1</th>\n",
              "      <td>-0.939671</td>\n",
              "      <td>1.229204</td>\n",
              "      <td>-1.325022</td>\n",
              "      <td>-0.104411</td>\n",
              "      <td>-0.205698</td>\n",
              "      <td>0.105783</td>\n",
              "      <td>-0.447656</td>\n",
              "      <td>-0.694295</td>\n",
              "      <td>1.526228</td>\n",
              "      <td>-0.282257</td>\n",
              "      <td>2.243632</td>\n",
              "      <td>-0.387783</td>\n",
              "    </tr>\n",
              "    <tr>\n",
              "      <th>2</th>\n",
              "      <td>-0.998274</td>\n",
              "      <td>0.551132</td>\n",
              "      <td>-1.376115</td>\n",
              "      <td>1.245861</td>\n",
              "      <td>0.111497</td>\n",
              "      <td>3.412217</td>\n",
              "      <td>0.932005</td>\n",
              "      <td>-0.650879</td>\n",
              "      <td>-0.742416</td>\n",
              "      <td>-1.207421</td>\n",
              "      <td>-0.861050</td>\n",
              "      <td>-0.387783</td>\n",
              "    </tr>\n",
              "    <tr>\n",
              "      <th>3</th>\n",
              "      <td>1.580254</td>\n",
              "      <td>-1.313567</td>\n",
              "      <td>1.587260</td>\n",
              "      <td>-0.317611</td>\n",
              "      <td>-0.713209</td>\n",
              "      <td>-0.866697</td>\n",
              "      <td>-0.841845</td>\n",
              "      <td>0.662462</td>\n",
              "      <td>-0.029413</td>\n",
              "      <td>1.278957</td>\n",
              "      <td>0.079763</td>\n",
              "      <td>2.578759</td>\n",
              "    </tr>\n",
              "    <tr>\n",
              "      <th>4</th>\n",
              "      <td>0.056578</td>\n",
              "      <td>1.200951</td>\n",
              "      <td>-0.814096</td>\n",
              "      <td>-0.459745</td>\n",
              "      <td>0.048058</td>\n",
              "      <td>0.008535</td>\n",
              "      <td>0.492333</td>\n",
              "      <td>-0.151592</td>\n",
              "      <td>-0.807234</td>\n",
              "      <td>0.932021</td>\n",
              "      <td>-0.766969</td>\n",
              "      <td>-0.387783</td>\n",
              "    </tr>\n",
              "    <tr>\n",
              "      <th>...</th>\n",
              "      <td>...</td>\n",
              "      <td>...</td>\n",
              "      <td>...</td>\n",
              "      <td>...</td>\n",
              "      <td>...</td>\n",
              "      <td>...</td>\n",
              "      <td>...</td>\n",
              "      <td>...</td>\n",
              "      <td>...</td>\n",
              "      <td>...</td>\n",
              "      <td>...</td>\n",
              "      <td>...</td>\n",
              "    </tr>\n",
              "    <tr>\n",
              "      <th>1066</th>\n",
              "      <td>0.466799</td>\n",
              "      <td>0.381614</td>\n",
              "      <td>-1.376115</td>\n",
              "      <td>-0.459745</td>\n",
              "      <td>-0.628624</td>\n",
              "      <td>-1.061193</td>\n",
              "      <td>-1.114746</td>\n",
              "      <td>0.499652</td>\n",
              "      <td>-0.872053</td>\n",
              "      <td>-0.166612</td>\n",
              "      <td>-0.014319</td>\n",
              "      <td>-0.387783</td>\n",
              "    </tr>\n",
              "    <tr>\n",
              "      <th>1067</th>\n",
              "      <td>-0.060627</td>\n",
              "      <td>0.579385</td>\n",
              "      <td>-0.865188</td>\n",
              "      <td>-0.317611</td>\n",
              "      <td>-0.311429</td>\n",
              "      <td>0.883768</td>\n",
              "      <td>0.401366</td>\n",
              "      <td>-0.216716</td>\n",
              "      <td>-0.159050</td>\n",
              "      <td>0.527261</td>\n",
              "      <td>0.456088</td>\n",
              "      <td>-0.387783</td>\n",
              "    </tr>\n",
              "    <tr>\n",
              "      <th>1068</th>\n",
              "      <td>-0.646657</td>\n",
              "      <td>0.494626</td>\n",
              "      <td>-1.069559</td>\n",
              "      <td>0.108790</td>\n",
              "      <td>-0.226844</td>\n",
              "      <td>-0.088713</td>\n",
              "      <td>1.159422</td>\n",
              "      <td>0.369403</td>\n",
              "      <td>1.266955</td>\n",
              "      <td>-0.687016</td>\n",
              "      <td>-0.861050</td>\n",
              "      <td>-0.387783</td>\n",
              "    </tr>\n",
              "    <tr>\n",
              "      <th>1069</th>\n",
              "      <td>-0.236436</td>\n",
              "      <td>-1.878628</td>\n",
              "      <td>0.412128</td>\n",
              "      <td>-0.601879</td>\n",
              "      <td>-0.713209</td>\n",
              "      <td>-0.866697</td>\n",
              "      <td>-0.963134</td>\n",
              "      <td>-1.193582</td>\n",
              "      <td>0.035405</td>\n",
              "      <td>0.816375</td>\n",
              "      <td>1.396901</td>\n",
              "      <td>2.578759</td>\n",
              "    </tr>\n",
              "    <tr>\n",
              "      <th>1070</th>\n",
              "      <td>-1.467098</td>\n",
              "      <td>-1.370073</td>\n",
              "      <td>-0.047706</td>\n",
              "      <td>-0.601879</td>\n",
              "      <td>-0.522892</td>\n",
              "      <td>-1.255689</td>\n",
              "      <td>-1.084423</td>\n",
              "      <td>-2.865107</td>\n",
              "      <td>0.489134</td>\n",
              "      <td>-0.687016</td>\n",
              "      <td>2.902201</td>\n",
              "      <td>-0.387783</td>\n",
              "    </tr>\n",
              "  </tbody>\n",
              "</table>\n",
              "<p>1071 rows × 12 columns</p>\n",
              "</div>\n",
              "      <button class=\"colab-df-convert\" onclick=\"convertToInteractive('df-4b232a47-9b7d-439f-b905-cd32ecfb4a91')\"\n",
              "              title=\"Convert this dataframe to an interactive table.\"\n",
              "              style=\"display:none;\">\n",
              "        \n",
              "  <svg xmlns=\"http://www.w3.org/2000/svg\" height=\"24px\"viewBox=\"0 0 24 24\"\n",
              "       width=\"24px\">\n",
              "    <path d=\"M0 0h24v24H0V0z\" fill=\"none\"/>\n",
              "    <path d=\"M18.56 5.44l.94 2.06.94-2.06 2.06-.94-2.06-.94-.94-2.06-.94 2.06-2.06.94zm-11 1L8.5 8.5l.94-2.06 2.06-.94-2.06-.94L8.5 2.5l-.94 2.06-2.06.94zm10 10l.94 2.06.94-2.06 2.06-.94-2.06-.94-.94-2.06-.94 2.06-2.06.94z\"/><path d=\"M17.41 7.96l-1.37-1.37c-.4-.4-.92-.59-1.43-.59-.52 0-1.04.2-1.43.59L10.3 9.45l-7.72 7.72c-.78.78-.78 2.05 0 2.83L4 21.41c.39.39.9.59 1.41.59.51 0 1.02-.2 1.41-.59l7.78-7.78 2.81-2.81c.8-.78.8-2.07 0-2.86zM5.41 20L4 18.59l7.72-7.72 1.47 1.35L5.41 20z\"/>\n",
              "  </svg>\n",
              "      </button>\n",
              "      \n",
              "  <style>\n",
              "    .colab-df-container {\n",
              "      display:flex;\n",
              "      flex-wrap:wrap;\n",
              "      gap: 12px;\n",
              "    }\n",
              "\n",
              "    .colab-df-convert {\n",
              "      background-color: #E8F0FE;\n",
              "      border: none;\n",
              "      border-radius: 50%;\n",
              "      cursor: pointer;\n",
              "      display: none;\n",
              "      fill: #1967D2;\n",
              "      height: 32px;\n",
              "      padding: 0 0 0 0;\n",
              "      width: 32px;\n",
              "    }\n",
              "\n",
              "    .colab-df-convert:hover {\n",
              "      background-color: #E2EBFA;\n",
              "      box-shadow: 0px 1px 2px rgba(60, 64, 67, 0.3), 0px 1px 3px 1px rgba(60, 64, 67, 0.15);\n",
              "      fill: #174EA6;\n",
              "    }\n",
              "\n",
              "    [theme=dark] .colab-df-convert {\n",
              "      background-color: #3B4455;\n",
              "      fill: #D2E3FC;\n",
              "    }\n",
              "\n",
              "    [theme=dark] .colab-df-convert:hover {\n",
              "      background-color: #434B5C;\n",
              "      box-shadow: 0px 1px 3px 1px rgba(0, 0, 0, 0.15);\n",
              "      filter: drop-shadow(0px 1px 2px rgba(0, 0, 0, 0.3));\n",
              "      fill: #FFFFFF;\n",
              "    }\n",
              "  </style>\n",
              "\n",
              "      <script>\n",
              "        const buttonEl =\n",
              "          document.querySelector('#df-4b232a47-9b7d-439f-b905-cd32ecfb4a91 button.colab-df-convert');\n",
              "        buttonEl.style.display =\n",
              "          google.colab.kernel.accessAllowed ? 'block' : 'none';\n",
              "\n",
              "        async function convertToInteractive(key) {\n",
              "          const element = document.querySelector('#df-4b232a47-9b7d-439f-b905-cd32ecfb4a91');\n",
              "          const dataTable =\n",
              "            await google.colab.kernel.invokeFunction('convertToInteractive',\n",
              "                                                     [key], {});\n",
              "          if (!dataTable) return;\n",
              "\n",
              "          const docLinkHtml = 'Like what you see? Visit the ' +\n",
              "            '<a target=\"_blank\" href=https://colab.research.google.com/notebooks/data_table.ipynb>data table notebook</a>'\n",
              "            + ' to learn more about interactive tables.';\n",
              "          element.innerHTML = '';\n",
              "          dataTable['output_type'] = 'display_data';\n",
              "          await google.colab.output.renderOutput(dataTable, element);\n",
              "          const docLink = document.createElement('div');\n",
              "          docLink.innerHTML = docLinkHtml;\n",
              "          element.appendChild(docLink);\n",
              "        }\n",
              "      </script>\n",
              "    </div>\n",
              "  </div>\n",
              "  "
            ],
            "text/plain": [
              "      fixed acidity  volatile acidity  ...   alcohol   quality\n",
              "0          2.400695         -1.031037  ... -0.014319 -0.387783\n",
              "1         -0.939671          1.229204  ...  2.243632 -0.387783\n",
              "2         -0.998274          0.551132  ... -0.861050 -0.387783\n",
              "3          1.580254         -1.313567  ...  0.079763  2.578759\n",
              "4          0.056578          1.200951  ... -0.766969 -0.387783\n",
              "...             ...               ...  ...       ...       ...\n",
              "1066       0.466799          0.381614  ... -0.014319 -0.387783\n",
              "1067      -0.060627          0.579385  ...  0.456088 -0.387783\n",
              "1068      -0.646657          0.494626  ... -0.861050 -0.387783\n",
              "1069      -0.236436         -1.878628  ...  1.396901  2.578759\n",
              "1070      -1.467098         -1.370073  ...  2.902201 -0.387783\n",
              "\n",
              "[1071 rows x 12 columns]"
            ]
          },
          "metadata": {},
          "execution_count": 27
        }
      ],
      "source": [
        "pd.DataFrame(X_train, columns=df.columns[:len(df.columns) - 1])"
      ]
    },
    {
      "cell_type": "code",
      "execution_count": null,
      "metadata": {
        "colab": {
          "base_uri": "https://localhost:8080/",
          "height": 426
        },
        "id": "5NzZ9_dj-dHk",
        "outputId": "9f353a80-0a5f-4144-e3c7-ac7eba3f1c3e"
      },
      "outputs": [
        {
          "output_type": "execute_result",
          "data": {
            "text/html": [
              "\n",
              "  <div id=\"df-9c53a181-afb1-47da-bce8-9e2fb2d203e6\">\n",
              "    <div class=\"colab-df-container\">\n",
              "      <div>\n",
              "<style scoped>\n",
              "    .dataframe tbody tr th:only-of-type {\n",
              "        vertical-align: middle;\n",
              "    }\n",
              "\n",
              "    .dataframe tbody tr th {\n",
              "        vertical-align: top;\n",
              "    }\n",
              "\n",
              "    .dataframe thead th {\n",
              "        text-align: right;\n",
              "    }\n",
              "</style>\n",
              "<table border=\"1\" class=\"dataframe\">\n",
              "  <thead>\n",
              "    <tr style=\"text-align: right;\">\n",
              "      <th></th>\n",
              "      <th>count</th>\n",
              "      <th>mean</th>\n",
              "      <th>std</th>\n",
              "      <th>min</th>\n",
              "      <th>25%</th>\n",
              "      <th>50%</th>\n",
              "      <th>75%</th>\n",
              "      <th>max</th>\n",
              "    </tr>\n",
              "  </thead>\n",
              "  <tbody>\n",
              "    <tr>\n",
              "      <th>fixed acidity</th>\n",
              "      <td>1071.0</td>\n",
              "      <td>-3.827211e-16</td>\n",
              "      <td>1.000467</td>\n",
              "      <td>-2.170333</td>\n",
              "      <td>-0.705260</td>\n",
              "      <td>-0.236436</td>\n",
              "      <td>0.525402</td>\n",
              "      <td>4.451797</td>\n",
              "    </tr>\n",
              "    <tr>\n",
              "      <th>volatile acidity</th>\n",
              "      <td>1071.0</td>\n",
              "      <td>1.498957e-16</td>\n",
              "      <td>1.000467</td>\n",
              "      <td>-2.330676</td>\n",
              "      <td>-0.748507</td>\n",
              "      <td>-0.070435</td>\n",
              "      <td>0.607638</td>\n",
              "      <td>4.506554</td>\n",
              "    </tr>\n",
              "    <tr>\n",
              "      <th>citric acid</th>\n",
              "      <td>1071.0</td>\n",
              "      <td>-2.038260e-16</td>\n",
              "      <td>1.000467</td>\n",
              "      <td>-1.376115</td>\n",
              "      <td>-0.916281</td>\n",
              "      <td>-0.047706</td>\n",
              "      <td>0.820870</td>\n",
              "      <td>3.733152</td>\n",
              "    </tr>\n",
              "    <tr>\n",
              "      <th>residual sugar</th>\n",
              "      <td>1071.0</td>\n",
              "      <td>4.295765e-16</td>\n",
              "      <td>1.000467</td>\n",
              "      <td>-1.170414</td>\n",
              "      <td>-0.459745</td>\n",
              "      <td>-0.246544</td>\n",
              "      <td>0.037723</td>\n",
              "      <td>9.205354</td>\n",
              "    </tr>\n",
              "    <tr>\n",
              "      <th>chlorides</th>\n",
              "      <td>1071.0</td>\n",
              "      <td>3.118161e-16</td>\n",
              "      <td>1.000467</td>\n",
              "      <td>-1.601355</td>\n",
              "      <td>-0.353722</td>\n",
              "      <td>-0.163405</td>\n",
              "      <td>0.048058</td>\n",
              "      <td>11.065288</td>\n",
              "    </tr>\n",
              "    <tr>\n",
              "      <th>free sulfur dioxide</th>\n",
              "      <td>1071.0</td>\n",
              "      <td>-5.742890e-17</td>\n",
              "      <td>1.000467</td>\n",
              "      <td>-1.450185</td>\n",
              "      <td>-0.866697</td>\n",
              "      <td>-0.185961</td>\n",
              "      <td>0.494776</td>\n",
              "      <td>5.065434</td>\n",
              "    </tr>\n",
              "    <tr>\n",
              "      <th>total sulfur dioxide</th>\n",
              "      <td>1071.0</td>\n",
              "      <td>4.125759e-17</td>\n",
              "      <td>1.000467</td>\n",
              "      <td>-1.236034</td>\n",
              "      <td>-0.750879</td>\n",
              "      <td>-0.265723</td>\n",
              "      <td>0.492333</td>\n",
              "      <td>7.345157</td>\n",
              "    </tr>\n",
              "    <tr>\n",
              "      <th>density</th>\n",
              "      <td>1071.0</td>\n",
              "      <td>4.908658e-14</td>\n",
              "      <td>1.000467</td>\n",
              "      <td>-3.641172</td>\n",
              "      <td>-0.588468</td>\n",
              "      <td>0.011219</td>\n",
              "      <td>0.570203</td>\n",
              "      <td>3.750442</td>\n",
              "    </tr>\n",
              "    <tr>\n",
              "      <th>pH</th>\n",
              "      <td>1071.0</td>\n",
              "      <td>8.691046e-16</td>\n",
              "      <td>1.000467</td>\n",
              "      <td>-3.724063</td>\n",
              "      <td>-0.612779</td>\n",
              "      <td>-0.029413</td>\n",
              "      <td>0.553952</td>\n",
              "      <td>4.507875</td>\n",
              "    </tr>\n",
              "    <tr>\n",
              "      <th>sulphates</th>\n",
              "      <td>1071.0</td>\n",
              "      <td>3.243593e-16</td>\n",
              "      <td>1.000467</td>\n",
              "      <td>-1.670003</td>\n",
              "      <td>-0.629193</td>\n",
              "      <td>-0.224434</td>\n",
              "      <td>0.411616</td>\n",
              "      <td>7.755104</td>\n",
              "    </tr>\n",
              "    <tr>\n",
              "      <th>alcohol</th>\n",
              "      <td>1071.0</td>\n",
              "      <td>-2.031781e-16</td>\n",
              "      <td>1.000467</td>\n",
              "      <td>-1.895944</td>\n",
              "      <td>-0.861050</td>\n",
              "      <td>-0.202481</td>\n",
              "      <td>0.550169</td>\n",
              "      <td>4.219339</td>\n",
              "    </tr>\n",
              "    <tr>\n",
              "      <th>quality</th>\n",
              "      <td>1071.0</td>\n",
              "      <td>9.158562e-17</td>\n",
              "      <td>1.000467</td>\n",
              "      <td>-0.387783</td>\n",
              "      <td>-0.387783</td>\n",
              "      <td>-0.387783</td>\n",
              "      <td>-0.387783</td>\n",
              "      <td>2.578759</td>\n",
              "    </tr>\n",
              "  </tbody>\n",
              "</table>\n",
              "</div>\n",
              "      <button class=\"colab-df-convert\" onclick=\"convertToInteractive('df-9c53a181-afb1-47da-bce8-9e2fb2d203e6')\"\n",
              "              title=\"Convert this dataframe to an interactive table.\"\n",
              "              style=\"display:none;\">\n",
              "        \n",
              "  <svg xmlns=\"http://www.w3.org/2000/svg\" height=\"24px\"viewBox=\"0 0 24 24\"\n",
              "       width=\"24px\">\n",
              "    <path d=\"M0 0h24v24H0V0z\" fill=\"none\"/>\n",
              "    <path d=\"M18.56 5.44l.94 2.06.94-2.06 2.06-.94-2.06-.94-.94-2.06-.94 2.06-2.06.94zm-11 1L8.5 8.5l.94-2.06 2.06-.94-2.06-.94L8.5 2.5l-.94 2.06-2.06.94zm10 10l.94 2.06.94-2.06 2.06-.94-2.06-.94-.94-2.06-.94 2.06-2.06.94z\"/><path d=\"M17.41 7.96l-1.37-1.37c-.4-.4-.92-.59-1.43-.59-.52 0-1.04.2-1.43.59L10.3 9.45l-7.72 7.72c-.78.78-.78 2.05 0 2.83L4 21.41c.39.39.9.59 1.41.59.51 0 1.02-.2 1.41-.59l7.78-7.78 2.81-2.81c.8-.78.8-2.07 0-2.86zM5.41 20L4 18.59l7.72-7.72 1.47 1.35L5.41 20z\"/>\n",
              "  </svg>\n",
              "      </button>\n",
              "      \n",
              "  <style>\n",
              "    .colab-df-container {\n",
              "      display:flex;\n",
              "      flex-wrap:wrap;\n",
              "      gap: 12px;\n",
              "    }\n",
              "\n",
              "    .colab-df-convert {\n",
              "      background-color: #E8F0FE;\n",
              "      border: none;\n",
              "      border-radius: 50%;\n",
              "      cursor: pointer;\n",
              "      display: none;\n",
              "      fill: #1967D2;\n",
              "      height: 32px;\n",
              "      padding: 0 0 0 0;\n",
              "      width: 32px;\n",
              "    }\n",
              "\n",
              "    .colab-df-convert:hover {\n",
              "      background-color: #E2EBFA;\n",
              "      box-shadow: 0px 1px 2px rgba(60, 64, 67, 0.3), 0px 1px 3px 1px rgba(60, 64, 67, 0.15);\n",
              "      fill: #174EA6;\n",
              "    }\n",
              "\n",
              "    [theme=dark] .colab-df-convert {\n",
              "      background-color: #3B4455;\n",
              "      fill: #D2E3FC;\n",
              "    }\n",
              "\n",
              "    [theme=dark] .colab-df-convert:hover {\n",
              "      background-color: #434B5C;\n",
              "      box-shadow: 0px 1px 3px 1px rgba(0, 0, 0, 0.15);\n",
              "      filter: drop-shadow(0px 1px 2px rgba(0, 0, 0, 0.3));\n",
              "      fill: #FFFFFF;\n",
              "    }\n",
              "  </style>\n",
              "\n",
              "      <script>\n",
              "        const buttonEl =\n",
              "          document.querySelector('#df-9c53a181-afb1-47da-bce8-9e2fb2d203e6 button.colab-df-convert');\n",
              "        buttonEl.style.display =\n",
              "          google.colab.kernel.accessAllowed ? 'block' : 'none';\n",
              "\n",
              "        async function convertToInteractive(key) {\n",
              "          const element = document.querySelector('#df-9c53a181-afb1-47da-bce8-9e2fb2d203e6');\n",
              "          const dataTable =\n",
              "            await google.colab.kernel.invokeFunction('convertToInteractive',\n",
              "                                                     [key], {});\n",
              "          if (!dataTable) return;\n",
              "\n",
              "          const docLinkHtml = 'Like what you see? Visit the ' +\n",
              "            '<a target=\"_blank\" href=https://colab.research.google.com/notebooks/data_table.ipynb>data table notebook</a>'\n",
              "            + ' to learn more about interactive tables.';\n",
              "          element.innerHTML = '';\n",
              "          dataTable['output_type'] = 'display_data';\n",
              "          await google.colab.output.renderOutput(dataTable, element);\n",
              "          const docLink = document.createElement('div');\n",
              "          docLink.innerHTML = docLinkHtml;\n",
              "          element.appendChild(docLink);\n",
              "        }\n",
              "      </script>\n",
              "    </div>\n",
              "  </div>\n",
              "  "
            ],
            "text/plain": [
              "                       count          mean  ...       75%        max\n",
              "fixed acidity         1071.0 -3.827211e-16  ...  0.525402   4.451797\n",
              "volatile acidity      1071.0  1.498957e-16  ...  0.607638   4.506554\n",
              "citric acid           1071.0 -2.038260e-16  ...  0.820870   3.733152\n",
              "residual sugar        1071.0  4.295765e-16  ...  0.037723   9.205354\n",
              "chlorides             1071.0  3.118161e-16  ...  0.048058  11.065288\n",
              "free sulfur dioxide   1071.0 -5.742890e-17  ...  0.494776   5.065434\n",
              "total sulfur dioxide  1071.0  4.125759e-17  ...  0.492333   7.345157\n",
              "density               1071.0  4.908658e-14  ...  0.570203   3.750442\n",
              "pH                    1071.0  8.691046e-16  ...  0.553952   4.507875\n",
              "sulphates             1071.0  3.243593e-16  ...  0.411616   7.755104\n",
              "alcohol               1071.0 -2.031781e-16  ...  0.550169   4.219339\n",
              "quality               1071.0  9.158562e-17  ... -0.387783   2.578759\n",
              "\n",
              "[12 rows x 8 columns]"
            ]
          },
          "metadata": {},
          "execution_count": 28
        }
      ],
      "source": [
        "pd.DataFrame(X_train, columns=df.columns[:len(df.columns) - 1]).describe().T"
      ]
    },
    {
      "cell_type": "markdown",
      "metadata": {
        "id": "CBzcgX5k-ppe"
      },
      "source": [
        "Notice that the standard deviation is now the same over all the columns; The maximum `total sulfur dioxide` is now only `7.3`. In fact, all the values have been `squeezed` to fit a smaller range. \n",
        "\n",
        "If we use the `LogisticRegression` on our original values, we will receive computation errors. By squeezing the data into smaller range, we avoid those errors and are enable to fit a regressor.\n",
        "\n",
        "We will see later that the same method is used for many other classifiers, including Deep Learning. This may also help to understand the easiness and non-complicated nature of the Decision Tree."
      ]
    },
    {
      "cell_type": "code",
      "execution_count": null,
      "metadata": {
        "colab": {
          "base_uri": "https://localhost:8080/"
        },
        "id": "VQbZsRO59m88",
        "outputId": "d95963e8-c829-440d-c35e-68c95f00fd32"
      },
      "outputs": [
        {
          "output_type": "stream",
          "name": "stderr",
          "text": [
            "/usr/local/lib/python3.7/dist-packages/sklearn/linear_model/_logistic.py:818: ConvergenceWarning: lbfgs failed to converge (status=1):\n",
            "STOP: TOTAL NO. of ITERATIONS REACHED LIMIT.\n",
            "\n",
            "Increase the number of iterations (max_iter) or scale the data as shown in:\n",
            "    https://scikit-learn.org/stable/modules/preprocessing.html\n",
            "Please also refer to the documentation for alternative solver options:\n",
            "    https://scikit-learn.org/stable/modules/linear_model.html#logistic-regression\n",
            "  extra_warning_msg=_LOGISTIC_SOLVER_CONVERGENCE_MSG,\n"
          ]
        },
        {
          "output_type": "execute_result",
          "data": {
            "text/plain": [
              "LogisticRegression(random_state=42)"
            ]
          },
          "metadata": {},
          "execution_count": 29
        }
      ],
      "source": [
        "classifier = LogisticRegression(random_state = 42)\n",
        "  \n",
        "classifier.fit(X_train, y_train)"
      ]
    },
    {
      "cell_type": "code",
      "execution_count": null,
      "metadata": {
        "id": "XrSLs2uR944r"
      },
      "outputs": [],
      "source": [
        "y_pred= classifier.predict(X_test)  "
      ]
    },
    {
      "cell_type": "code",
      "execution_count": null,
      "metadata": {
        "colab": {
          "base_uri": "https://localhost:8080/"
        },
        "id": "K6ht2h-U-AgY",
        "outputId": "a300c9a3-651e-42bc-9e5d-ffcafe6b98f3"
      },
      "outputs": [
        {
          "output_type": "stream",
          "name": "stdout",
          "text": [
            "mean absolute error:  0.3125\n",
            "explained variance score:  0.47690699425315386\n"
          ]
        }
      ],
      "source": [
        "print('mean absolute error: ', mean_absolute_error(y_test, y_pred))\n",
        "print('explained variance score: ', explained_variance_score(y_test, y_pred))"
      ]
    },
    {
      "cell_type": "code",
      "source": [
        "# num_of_points = len(y_test)\n",
        "num_of_points = 100\n",
        "\n",
        "plt.scatter(range(num_of_points), y_test[:num_of_points])\n",
        "\n",
        "# plot the rounded points:\n",
        "# plt.scatter(range(num_of_points), list(map(round, y_pred))[:num_of_points], color=\"red\")\n",
        "\n",
        "# plot the regression values\n",
        "plt.scatter(range(num_of_points), y_pred[:num_of_points], color=\"red\")"
      ],
      "metadata": {
        "colab": {
          "base_uri": "https://localhost:8080/",
          "height": 611
        },
        "id": "coG5uYnaNrye",
        "outputId": "1c6e72b1-0429-4298-973f-c2f9d3c3b476"
      },
      "execution_count": null,
      "outputs": [
        {
          "output_type": "execute_result",
          "data": {
            "text/plain": [
              "<matplotlib.collections.PathCollection at 0x7fb736d14550>"
            ]
          },
          "metadata": {},
          "execution_count": 32
        },
        {
          "output_type": "display_data",
          "data": {
            "image/png": "[encoded data removed]",
            "text/plain": [
              "<Figure size 1008x720 with 1 Axes>"
            ]
          },
          "metadata": {}
        }
      ]
    },
    {
      "cell_type": "markdown",
      "metadata": {
        "id": "nsRIRMge-HBj"
      },
      "source": [
        "The red points are hiding the blue points - meaning they were predicted correctly. The blue points are the missed one.\n",
        "\n",
        "Overall, for our data, it seems that the Logistic Regression method performed only slightly better than the linear regression one after rounding our data points. \n",
        "\n",
        "Compared to the regression methods, the Decision-Tree had given us insights about the importance of the features in determining the taste quality score. Also, it did not require pre-processing techniques such as normalizing the data first.\n",
        "\n",
        "---"
      ]
    },
    {
      "cell_type": "markdown",
      "metadata": {
        "id": "IifLBbT1YiA7"
      },
      "source": [
        "# Knime\n",
        "[KNIME](https://www.knime.com/) is a great tool (GUI based), used by the industry, that can be used for processing this data without the need to program it in python. \n",
        "\n",
        "It is based on a GUI to create a graph-workflow, where each node is an action, and the data moves inside the edges from one action-node to another. So for example, you can consider using these nodes: \n",
        "\n",
        "1. File Reader (for csv) to linear correlation node and to interactive histogram for basic EDA.\n",
        "2. File Reader to 'Rule Engine Node' to turn the 10 point scale to dichtome variable (good wine and rest), the code to put in the rule engine is something like this:\n",
        "  - $quality$ > 6.5 => \"good\"\n",
        "  - TRUE => \"bad\"\n",
        "3. Rule Engine Node output to input of Column Filter node to filter out your original 10point feature (this prevent leaking)\n",
        "4. Column Filter Node output to input of Partitioning Node (your standard train/tes split, e.g. 75%/25%, choose 'random' or 'stratified')\n",
        "5. Partitioning Node train data split output to input of Train data split to input Decision Tree Learner node and\n",
        "6. Partitioning Node test data split output to input Decision Tree predictor Node\n",
        "7. Decision Tree learner Node output to input Decision Tree Node input\n",
        "8. Decision Tree output to input ROC Node.. (here you can evaluate your model base on AUC value)\n",
        "\n",
        "In this course, we will focus on giving you the theoretical knowledge and the coding skills in python, but feel free to give KNIME a try as well. \n"
      ]
    },
    {
      "cell_type": "markdown",
      "source": [
        "# Diving Deeper\n",
        "If you are interested to understand more how the algorithm makes its choices, this section is for you.\n",
        "\n",
        "The Decision-Tree we have detected is good - but not optimal.\n",
        "To find the optimal Decision-Tree is a NP-Complete problem in computer science. That is, it can not be solved in a reasonable time frame (As a function of the input size).\n",
        "\n",
        "Let's understand how the algorithm picks up its values.\n",
        "\n",
        "## Purity, Entropy and GINI\n",
        "\n",
        "### Purity\n",
        "[Purity](https://en.wikipedia.org/wiki/Information_gain_in_decision_trees) is the metric according to which a decision is made whether to split a node. Purity is the fraction or the percentage of points with the majority label. So a node is *100% impure* when a it is split evenly - 50/50, and it is *100% pure* when all of its data belongs to a single class.\n",
        "\n",
        "### Entropy \n",
        "\n",
        "[Entropy](https://en.wikipedia.org/wiki/Entropy_(information_theory) is defined as:\n",
        "$$ H(D) = -∑_{i=1}^{k} P(C_i|D) * log_2P(C_i|D) $$ \n",
        "Where $ P(C_i|D) $ is the probability of the attribute i in our dataset D.\n",
        "If a region is pure, that is, has all the points from the same class, then the entropy is zero. On the other hand, if the classes are all mixed up, and each appears with equal probability $ P(C_i|D) = \\frac{1}{k} $ then the entropy has the highest value.\n",
        "\n",
        "### Gini Index\n",
        "The Gini index is the second common measure to gauge the purity of a split point. It is defined as follows:\n",
        "$$ G(D) = 1 - \\sum_{i=1}^{k} P(C_i|D)^2 $$\n",
        "\n",
        "Or in words, one minus the squared sum of probabilities. The lower the Gini index value, the better the split point. If the node-division is pure, then the probability of the majority class is 1 and the probability of all other classes is 0, and thus, the Gini index is 0. On the other hand, when each class is equally represented, with probability $P(C_i|D) = 1$, then higher values of the Gini index indicate more disorder, and lower values indicate more order in terms of the class labels.\n",
        "\n",
        "### CART Method\n",
        "It worth mentioning that there are also other methods to measure the purity. For example, the Classification And Regression Trees ([CART](https://de.wikipedia.org/wiki/CART_(Algorithmus))) measure."
      ],
      "metadata": {
        "id": "gJTFd1h4-WHq"
      }
    },
    {
      "cell_type": "code",
      "source": [
        ""
      ],
      "metadata": {
        "id": "CP14fKfn-yIa"
      },
      "execution_count": null,
      "outputs": []
    }
  ],
  "metadata": {
    "colab": {
      "collapsed_sections": [],
      "name": "01_wine_tasting_decision_tree.ipynb",
      "toc_visible": true,
      "provenance": [],
      "authorship_tag": "ABX9TyPd8qqeHONP+Tl+VHGrWCfA",
      "include_colab_link": true
    },
    "kernelspec": {
      "display_name": "Python 3",
      "name": "python3"
    },
    "language_info": {
      "name": "python"
    }
  },
  "nbformat": 4,
  "nbformat_minor": 0
}