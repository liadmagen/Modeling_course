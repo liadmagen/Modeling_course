{
  "cells": [
    {
      "cell_type": "markdown",
      "metadata": {
        "id": "sT8MYR4hYfHf"
      },
      "source": [
        "# Wine Tasting\n",
        "\n",
        "In this exercise you will create and train a Decision-Tree classifier model, and compare it to two differet regression models. You will use Python for this and get to know the popular scientific package - [Sci-Kit-Learn](https://scikit-learn.org/stable/). \n",
        "\n",
        "## Context\n",
        "\n",
        "This dataset is related to red variants of the Portuguese \"Vinho Verde\" wine and was taken from here: https://archive.ics.uci.edu/ml/datasets/wine+quality. Due to privacy and logistic issues, only physicochemical (inputs) and sensory (the output) variables are available (e.g. there is no data about grape types, wine brand, wine selling price, etc.).\n",
        "\n",
        "## The Data\n",
        "\n",
        "For more information, read [Cortez et al., 2009].\n",
        "\n",
        "Input variables (based on physicochemical tests):\n",
        "1. fixed acidity\n",
        "2. volatile acidity\n",
        "3. citric acid\n",
        "4. residual sugar\n",
        "5. chlorides\n",
        "6. free sulfur dioxide\n",
        "7. total sulfur dioxide\n",
        "8. density\n",
        "9. pH\n",
        "10. sulphates\n",
        "11. alcohol\n",
        "\n",
        "Output variable (based on sensory data) - the *label*:\n",
        "12. quality (score between 0 and 10)\n",
        "\n",
        "## Our task today:\n",
        "\n",
        "Use machine learning to determine which physiochemical properties make a wine 'good'!\n",
        "\n",
        "## Acknowledgements\n",
        "\n",
        "P. Cortez, A. Cerdeira, F. Almeida, T. Matos and J. Reis. Modeling wine preferences by data mining from physicochemical properties. In Decision Support Systems, Elsevier, 47(4):547-553, 2009.\n"
      ]
    },
    {
      "cell_type": "markdown",
      "metadata": {
        "id": "9z3WDL62MPcl"
      },
      "source": [
        "# Decision Tree\n",
        "\n",
        "## Introduction\n",
        "We will start with an analysis of our data. We will plot the histograms and try to think which features would be the best to describe the wine taste.\n",
        "\n",
        "Decision Trees use yes/no (binary) questions to query the feautres to make a decision.\n",
        "\n",
        "Please read more about them in the SciKit-learn python package which we're using here to creat them: https://scikit-learn.org/stable/modules/tree.html\n",
        " "
      ]
    },
    {
      "cell_type": "markdown",
      "metadata": {
        "id": "XT99F-V88FkI"
      },
      "source": [
        "## Data preparation and examination"
      ]
    },
    {
      "cell_type": "code",
      "execution_count": null,
      "metadata": {
        "id": "h7A0xZiRYbad"
      },
      "outputs": [],
      "source": [
        "# Import the needed packages\n",
        "import graphviz\n",
        "\n",
        "import numpy as np\n",
        "import pandas as pd\n",
        "import matplotlib.pyplot as plt\n",
        "\n",
        "from sklearn import tree\n",
        "from sklearn.model_selection import train_test_split\n",
        "from sklearn.metrics import classification_report\n",
        "\n",
        "import seaborn as sns\n",
        "\n",
        "%matplotlib inline\n",
        "sns.set(style='white', context='notebook', rc={'figure.figsize':(14,10)})"
      ]
    },
    {
      "cell_type": "code",
      "execution_count": null,
      "metadata": {
        "id": "QJbYJLvbOE-s"
      },
      "outputs": [],
      "source": [
        "# Load the data:\n",
        "df = pd.read_csv('https://raw.githubusercontent.com/liadmagen/Modeling_course/main/data/winequality-red.csv')"
      ]
    },
    {
      "cell_type": "markdown",
      "metadata": {
        "id": "BKV9y19jN85A"
      },
      "source": [
        "We begin (ALWAYS) with looking at our data."
      ]
    },
    {
      "cell_type": "code",
      "execution_count": null,
      "metadata": {
        "colab": {
          "base_uri": "https://localhost:8080/",
          "height": 424
        },
        "id": "1uKeo_eYOTj8",
        "outputId": "928b131e-226b-4cbb-90e3-db67c56bc2c8"
      },
      "outputs": [
        {
          "output_type": "execute_result",
          "data": {
            "text/html": [
              "\n",
              "  <div id=\"df-be9bd13f-75f5-4c6b-9adf-895bd124fbee\">\n",
              "    <div class=\"colab-df-container\">\n",
              "      <div>\n",
              "<style scoped>\n",
              "    .dataframe tbody tr th:only-of-type {\n",
              "        vertical-align: middle;\n",
              "    }\n",
              "\n",
              "    .dataframe tbody tr th {\n",
              "        vertical-align: top;\n",
              "    }\n",
              "\n",
              "    .dataframe thead th {\n",
              "        text-align: right;\n",
              "    }\n",
              "</style>\n",
              "<table border=\"1\" class=\"dataframe\">\n",
              "  <thead>\n",
              "    <tr style=\"text-align: right;\">\n",
              "      <th></th>\n",
              "      <th>fixed acidity</th>\n",
              "      <th>volatile acidity</th>\n",
              "      <th>citric acid</th>\n",
              "      <th>residual sugar</th>\n",
              "      <th>chlorides</th>\n",
              "      <th>free sulfur dioxide</th>\n",
              "      <th>total sulfur dioxide</th>\n",
              "      <th>density</th>\n",
              "      <th>pH</th>\n",
              "      <th>sulphates</th>\n",
              "      <th>alcohol</th>\n",
              "      <th>quality</th>\n",
              "    </tr>\n",
              "  </thead>\n",
              "  <tbody>\n",
              "    <tr>\n",
              "      <th>0</th>\n",
              "      <td>7.4</td>\n",
              "      <td>0.700</td>\n",
              "      <td>0.00</td>\n",
              "      <td>1.9</td>\n",
              "      <td>0.076</td>\n",
              "      <td>11.0</td>\n",
              "      <td>34.0</td>\n",
              "      <td>0.99780</td>\n",
              "      <td>3.51</td>\n",
              "      <td>0.56</td>\n",
              "      <td>9.4</td>\n",
              "      <td>5</td>\n",
              "    </tr>\n",
              "    <tr>\n",
              "      <th>1</th>\n",
              "      <td>7.8</td>\n",
              "      <td>0.880</td>\n",
              "      <td>0.00</td>\n",
              "      <td>2.6</td>\n",
              "      <td>0.098</td>\n",
              "      <td>25.0</td>\n",
              "      <td>67.0</td>\n",
              "      <td>0.99680</td>\n",
              "      <td>3.20</td>\n",
              "      <td>0.68</td>\n",
              "      <td>9.8</td>\n",
              "      <td>5</td>\n",
              "    </tr>\n",
              "    <tr>\n",
              "      <th>2</th>\n",
              "      <td>7.8</td>\n",
              "      <td>0.760</td>\n",
              "      <td>0.04</td>\n",
              "      <td>2.3</td>\n",
              "      <td>0.092</td>\n",
              "      <td>15.0</td>\n",
              "      <td>54.0</td>\n",
              "      <td>0.99700</td>\n",
              "      <td>3.26</td>\n",
              "      <td>0.65</td>\n",
              "      <td>9.8</td>\n",
              "      <td>5</td>\n",
              "    </tr>\n",
              "    <tr>\n",
              "      <th>3</th>\n",
              "      <td>11.2</td>\n",
              "      <td>0.280</td>\n",
              "      <td>0.56</td>\n",
              "      <td>1.9</td>\n",
              "      <td>0.075</td>\n",
              "      <td>17.0</td>\n",
              "      <td>60.0</td>\n",
              "      <td>0.99800</td>\n",
              "      <td>3.16</td>\n",
              "      <td>0.58</td>\n",
              "      <td>9.8</td>\n",
              "      <td>6</td>\n",
              "    </tr>\n",
              "    <tr>\n",
              "      <th>4</th>\n",
              "      <td>7.4</td>\n",
              "      <td>0.700</td>\n",
              "      <td>0.00</td>\n",
              "      <td>1.9</td>\n",
              "      <td>0.076</td>\n",
              "      <td>11.0</td>\n",
              "      <td>34.0</td>\n",
              "      <td>0.99780</td>\n",
              "      <td>3.51</td>\n",
              "      <td>0.56</td>\n",
              "      <td>9.4</td>\n",
              "      <td>5</td>\n",
              "    </tr>\n",
              "    <tr>\n",
              "      <th>...</th>\n",
              "      <td>...</td>\n",
              "      <td>...</td>\n",
              "      <td>...</td>\n",
              "      <td>...</td>\n",
              "      <td>...</td>\n",
              "      <td>...</td>\n",
              "      <td>...</td>\n",
              "      <td>...</td>\n",
              "      <td>...</td>\n",
              "      <td>...</td>\n",
              "      <td>...</td>\n",
              "      <td>...</td>\n",
              "    </tr>\n",
              "    <tr>\n",
              "      <th>1594</th>\n",
              "      <td>6.2</td>\n",
              "      <td>0.600</td>\n",
              "      <td>0.08</td>\n",
              "      <td>2.0</td>\n",
              "      <td>0.090</td>\n",
              "      <td>32.0</td>\n",
              "      <td>44.0</td>\n",
              "      <td>0.99490</td>\n",
              "      <td>3.45</td>\n",
              "      <td>0.58</td>\n",
              "      <td>10.5</td>\n",
              "      <td>5</td>\n",
              "    </tr>\n",
              "    <tr>\n",
              "      <th>1595</th>\n",
              "      <td>5.9</td>\n",
              "      <td>0.550</td>\n",
              "      <td>0.10</td>\n",
              "      <td>2.2</td>\n",
              "      <td>0.062</td>\n",
              "      <td>39.0</td>\n",
              "      <td>51.0</td>\n",
              "      <td>0.99512</td>\n",
              "      <td>3.52</td>\n",
              "      <td>0.76</td>\n",
              "      <td>11.2</td>\n",
              "      <td>6</td>\n",
              "    </tr>\n",
              "    <tr>\n",
              "      <th>1596</th>\n",
              "      <td>6.3</td>\n",
              "      <td>0.510</td>\n",
              "      <td>0.13</td>\n",
              "      <td>2.3</td>\n",
              "      <td>0.076</td>\n",
              "      <td>29.0</td>\n",
              "      <td>40.0</td>\n",
              "      <td>0.99574</td>\n",
              "      <td>3.42</td>\n",
              "      <td>0.75</td>\n",
              "      <td>11.0</td>\n",
              "      <td>6</td>\n",
              "    </tr>\n",
              "    <tr>\n",
              "      <th>1597</th>\n",
              "      <td>5.9</td>\n",
              "      <td>0.645</td>\n",
              "      <td>0.12</td>\n",
              "      <td>2.0</td>\n",
              "      <td>0.075</td>\n",
              "      <td>32.0</td>\n",
              "      <td>44.0</td>\n",
              "      <td>0.99547</td>\n",
              "      <td>3.57</td>\n",
              "      <td>0.71</td>\n",
              "      <td>10.2</td>\n",
              "      <td>5</td>\n",
              "    </tr>\n",
              "    <tr>\n",
              "      <th>1598</th>\n",
              "      <td>6.0</td>\n",
              "      <td>0.310</td>\n",
              "      <td>0.47</td>\n",
              "      <td>3.6</td>\n",
              "      <td>0.067</td>\n",
              "      <td>18.0</td>\n",
              "      <td>42.0</td>\n",
              "      <td>0.99549</td>\n",
              "      <td>3.39</td>\n",
              "      <td>0.66</td>\n",
              "      <td>11.0</td>\n",
              "      <td>6</td>\n",
              "    </tr>\n",
              "  </tbody>\n",
              "</table>\n",
              "<p>1599 rows × 12 columns</p>\n",
              "</div>\n",
              "      <button class=\"colab-df-convert\" onclick=\"convertToInteractive('df-be9bd13f-75f5-4c6b-9adf-895bd124fbee')\"\n",
              "              title=\"Convert this dataframe to an interactive table.\"\n",
              "              style=\"display:none;\">\n",
              "        \n",
              "  <svg xmlns=\"http://www.w3.org/2000/svg\" height=\"24px\"viewBox=\"0 0 24 24\"\n",
              "       width=\"24px\">\n",
              "    <path d=\"M0 0h24v24H0V0z\" fill=\"none\"/>\n",
              "    <path d=\"M18.56 5.44l.94 2.06.94-2.06 2.06-.94-2.06-.94-.94-2.06-.94 2.06-2.06.94zm-11 1L8.5 8.5l.94-2.06 2.06-.94-2.06-.94L8.5 2.5l-.94 2.06-2.06.94zm10 10l.94 2.06.94-2.06 2.06-.94-2.06-.94-.94-2.06-.94 2.06-2.06.94z\"/><path d=\"M17.41 7.96l-1.37-1.37c-.4-.4-.92-.59-1.43-.59-.52 0-1.04.2-1.43.59L10.3 9.45l-7.72 7.72c-.78.78-.78 2.05 0 2.83L4 21.41c.39.39.9.59 1.41.59.51 0 1.02-.2 1.41-.59l7.78-7.78 2.81-2.81c.8-.78.8-2.07 0-2.86zM5.41 20L4 18.59l7.72-7.72 1.47 1.35L5.41 20z\"/>\n",
              "  </svg>\n",
              "      </button>\n",
              "      \n",
              "  <style>\n",
              "    .colab-df-container {\n",
              "      display:flex;\n",
              "      flex-wrap:wrap;\n",
              "      gap: 12px;\n",
              "    }\n",
              "\n",
              "    .colab-df-convert {\n",
              "      background-color: #E8F0FE;\n",
              "      border: none;\n",
              "      border-radius: 50%;\n",
              "      cursor: pointer;\n",
              "      display: none;\n",
              "      fill: #1967D2;\n",
              "      height: 32px;\n",
              "      padding: 0 0 0 0;\n",
              "      width: 32px;\n",
              "    }\n",
              "\n",
              "    .colab-df-convert:hover {\n",
              "      background-color: #E2EBFA;\n",
              "      box-shadow: 0px 1px 2px rgba(60, 64, 67, 0.3), 0px 1px 3px 1px rgba(60, 64, 67, 0.15);\n",
              "      fill: #174EA6;\n",
              "    }\n",
              "\n",
              "    [theme=dark] .colab-df-convert {\n",
              "      background-color: #3B4455;\n",
              "      fill: #D2E3FC;\n",
              "    }\n",
              "\n",
              "    [theme=dark] .colab-df-convert:hover {\n",
              "      background-color: #434B5C;\n",
              "      box-shadow: 0px 1px 3px 1px rgba(0, 0, 0, 0.15);\n",
              "      filter: drop-shadow(0px 1px 2px rgba(0, 0, 0, 0.3));\n",
              "      fill: #FFFFFF;\n",
              "    }\n",
              "  </style>\n",
              "\n",
              "      <script>\n",
              "        const buttonEl =\n",
              "          document.querySelector('#df-be9bd13f-75f5-4c6b-9adf-895bd124fbee button.colab-df-convert');\n",
              "        buttonEl.style.display =\n",
              "          google.colab.kernel.accessAllowed ? 'block' : 'none';\n",
              "\n",
              "        async function convertToInteractive(key) {\n",
              "          const element = document.querySelector('#df-be9bd13f-75f5-4c6b-9adf-895bd124fbee');\n",
              "          const dataTable =\n",
              "            await google.colab.kernel.invokeFunction('convertToInteractive',\n",
              "                                                     [key], {});\n",
              "          if (!dataTable) return;\n",
              "\n",
              "          const docLinkHtml = 'Like what you see? Visit the ' +\n",
              "            '<a target=\"_blank\" href=https://colab.research.google.com/notebooks/data_table.ipynb>data table notebook</a>'\n",
              "            + ' to learn more about interactive tables.';\n",
              "          element.innerHTML = '';\n",
              "          dataTable['output_type'] = 'display_data';\n",
              "          await google.colab.output.renderOutput(dataTable, element);\n",
              "          const docLink = document.createElement('div');\n",
              "          docLink.innerHTML = docLinkHtml;\n",
              "          element.appendChild(docLink);\n",
              "        }\n",
              "      </script>\n",
              "    </div>\n",
              "  </div>\n",
              "  "
            ],
            "text/plain": [
              "      fixed acidity  volatile acidity  citric acid  ...  sulphates  alcohol  quality\n",
              "0               7.4             0.700         0.00  ...       0.56      9.4        5\n",
              "1               7.8             0.880         0.00  ...       0.68      9.8        5\n",
              "2               7.8             0.760         0.04  ...       0.65      9.8        5\n",
              "3              11.2             0.280         0.56  ...       0.58      9.8        6\n",
              "4               7.4             0.700         0.00  ...       0.56      9.4        5\n",
              "...             ...               ...          ...  ...        ...      ...      ...\n",
              "1594            6.2             0.600         0.08  ...       0.58     10.5        5\n",
              "1595            5.9             0.550         0.10  ...       0.76     11.2        6\n",
              "1596            6.3             0.510         0.13  ...       0.75     11.0        6\n",
              "1597            5.9             0.645         0.12  ...       0.71     10.2        5\n",
              "1598            6.0             0.310         0.47  ...       0.66     11.0        6\n",
              "\n",
              "[1599 rows x 12 columns]"
            ]
          },
          "metadata": {},
          "execution_count": 3
        }
      ],
      "source": [
        "# The data itself\n",
        "df"
      ]
    },
    {
      "cell_type": "code",
      "execution_count": null,
      "metadata": {
        "colab": {
          "base_uri": "https://localhost:8080/",
          "height": 426
        },
        "id": "_6rVHsjiOVoN",
        "outputId": "63c32ca3-0a6f-4524-c461-e904aafb5e85"
      },
      "outputs": [
        {
          "output_type": "execute_result",
          "data": {
            "text/html": [
              "\n",
              "  <div id=\"df-895cc063-e4d5-456b-91c9-572410390f1b\">\n",
              "    <div class=\"colab-df-container\">\n",
              "      <div>\n",
              "<style scoped>\n",
              "    .dataframe tbody tr th:only-of-type {\n",
              "        vertical-align: middle;\n",
              "    }\n",
              "\n",
              "    .dataframe tbody tr th {\n",
              "        vertical-align: top;\n",
              "    }\n",
              "\n",
              "    .dataframe thead th {\n",
              "        text-align: right;\n",
              "    }\n",
              "</style>\n",
              "<table border=\"1\" class=\"dataframe\">\n",
              "  <thead>\n",
              "    <tr style=\"text-align: right;\">\n",
              "      <th></th>\n",
              "      <th>count</th>\n",
              "      <th>mean</th>\n",
              "      <th>std</th>\n",
              "      <th>min</th>\n",
              "      <th>25%</th>\n",
              "      <th>50%</th>\n",
              "      <th>75%</th>\n",
              "      <th>max</th>\n",
              "    </tr>\n",
              "  </thead>\n",
              "  <tbody>\n",
              "    <tr>\n",
              "      <th>fixed acidity</th>\n",
              "      <td>1599.0</td>\n",
              "      <td>8.319637</td>\n",
              "      <td>1.741096</td>\n",
              "      <td>4.60000</td>\n",
              "      <td>7.1000</td>\n",
              "      <td>7.90000</td>\n",
              "      <td>9.200000</td>\n",
              "      <td>15.90000</td>\n",
              "    </tr>\n",
              "    <tr>\n",
              "      <th>volatile acidity</th>\n",
              "      <td>1599.0</td>\n",
              "      <td>0.527821</td>\n",
              "      <td>0.179060</td>\n",
              "      <td>0.12000</td>\n",
              "      <td>0.3900</td>\n",
              "      <td>0.52000</td>\n",
              "      <td>0.640000</td>\n",
              "      <td>1.58000</td>\n",
              "    </tr>\n",
              "    <tr>\n",
              "      <th>citric acid</th>\n",
              "      <td>1599.0</td>\n",
              "      <td>0.270976</td>\n",
              "      <td>0.194801</td>\n",
              "      <td>0.00000</td>\n",
              "      <td>0.0900</td>\n",
              "      <td>0.26000</td>\n",
              "      <td>0.420000</td>\n",
              "      <td>1.00000</td>\n",
              "    </tr>\n",
              "    <tr>\n",
              "      <th>residual sugar</th>\n",
              "      <td>1599.0</td>\n",
              "      <td>2.538806</td>\n",
              "      <td>1.409928</td>\n",
              "      <td>0.90000</td>\n",
              "      <td>1.9000</td>\n",
              "      <td>2.20000</td>\n",
              "      <td>2.600000</td>\n",
              "      <td>15.50000</td>\n",
              "    </tr>\n",
              "    <tr>\n",
              "      <th>chlorides</th>\n",
              "      <td>1599.0</td>\n",
              "      <td>0.087467</td>\n",
              "      <td>0.047065</td>\n",
              "      <td>0.01200</td>\n",
              "      <td>0.0700</td>\n",
              "      <td>0.07900</td>\n",
              "      <td>0.090000</td>\n",
              "      <td>0.61100</td>\n",
              "    </tr>\n",
              "    <tr>\n",
              "      <th>free sulfur dioxide</th>\n",
              "      <td>1599.0</td>\n",
              "      <td>15.874922</td>\n",
              "      <td>10.460157</td>\n",
              "      <td>1.00000</td>\n",
              "      <td>7.0000</td>\n",
              "      <td>14.00000</td>\n",
              "      <td>21.000000</td>\n",
              "      <td>72.00000</td>\n",
              "    </tr>\n",
              "    <tr>\n",
              "      <th>total sulfur dioxide</th>\n",
              "      <td>1599.0</td>\n",
              "      <td>46.467792</td>\n",
              "      <td>32.895324</td>\n",
              "      <td>6.00000</td>\n",
              "      <td>22.0000</td>\n",
              "      <td>38.00000</td>\n",
              "      <td>62.000000</td>\n",
              "      <td>289.00000</td>\n",
              "    </tr>\n",
              "    <tr>\n",
              "      <th>density</th>\n",
              "      <td>1599.0</td>\n",
              "      <td>0.996747</td>\n",
              "      <td>0.001887</td>\n",
              "      <td>0.99007</td>\n",
              "      <td>0.9956</td>\n",
              "      <td>0.99675</td>\n",
              "      <td>0.997835</td>\n",
              "      <td>1.00369</td>\n",
              "    </tr>\n",
              "    <tr>\n",
              "      <th>pH</th>\n",
              "      <td>1599.0</td>\n",
              "      <td>3.311113</td>\n",
              "      <td>0.154386</td>\n",
              "      <td>2.74000</td>\n",
              "      <td>3.2100</td>\n",
              "      <td>3.31000</td>\n",
              "      <td>3.400000</td>\n",
              "      <td>4.01000</td>\n",
              "    </tr>\n",
              "    <tr>\n",
              "      <th>sulphates</th>\n",
              "      <td>1599.0</td>\n",
              "      <td>0.658149</td>\n",
              "      <td>0.169507</td>\n",
              "      <td>0.33000</td>\n",
              "      <td>0.5500</td>\n",
              "      <td>0.62000</td>\n",
              "      <td>0.730000</td>\n",
              "      <td>2.00000</td>\n",
              "    </tr>\n",
              "    <tr>\n",
              "      <th>alcohol</th>\n",
              "      <td>1599.0</td>\n",
              "      <td>10.422983</td>\n",
              "      <td>1.065668</td>\n",
              "      <td>8.40000</td>\n",
              "      <td>9.5000</td>\n",
              "      <td>10.20000</td>\n",
              "      <td>11.100000</td>\n",
              "      <td>14.90000</td>\n",
              "    </tr>\n",
              "    <tr>\n",
              "      <th>quality</th>\n",
              "      <td>1599.0</td>\n",
              "      <td>5.636023</td>\n",
              "      <td>0.807569</td>\n",
              "      <td>3.00000</td>\n",
              "      <td>5.0000</td>\n",
              "      <td>6.00000</td>\n",
              "      <td>6.000000</td>\n",
              "      <td>8.00000</td>\n",
              "    </tr>\n",
              "  </tbody>\n",
              "</table>\n",
              "</div>\n",
              "      <button class=\"colab-df-convert\" onclick=\"convertToInteractive('df-895cc063-e4d5-456b-91c9-572410390f1b')\"\n",
              "              title=\"Convert this dataframe to an interactive table.\"\n",
              "              style=\"display:none;\">\n",
              "        \n",
              "  <svg xmlns=\"http://www.w3.org/2000/svg\" height=\"24px\"viewBox=\"0 0 24 24\"\n",
              "       width=\"24px\">\n",
              "    <path d=\"M0 0h24v24H0V0z\" fill=\"none\"/>\n",
              "    <path d=\"M18.56 5.44l.94 2.06.94-2.06 2.06-.94-2.06-.94-.94-2.06-.94 2.06-2.06.94zm-11 1L8.5 8.5l.94-2.06 2.06-.94-2.06-.94L8.5 2.5l-.94 2.06-2.06.94zm10 10l.94 2.06.94-2.06 2.06-.94-2.06-.94-.94-2.06-.94 2.06-2.06.94z\"/><path d=\"M17.41 7.96l-1.37-1.37c-.4-.4-.92-.59-1.43-.59-.52 0-1.04.2-1.43.59L10.3 9.45l-7.72 7.72c-.78.78-.78 2.05 0 2.83L4 21.41c.39.39.9.59 1.41.59.51 0 1.02-.2 1.41-.59l7.78-7.78 2.81-2.81c.8-.78.8-2.07 0-2.86zM5.41 20L4 18.59l7.72-7.72 1.47 1.35L5.41 20z\"/>\n",
              "  </svg>\n",
              "      </button>\n",
              "      \n",
              "  <style>\n",
              "    .colab-df-container {\n",
              "      display:flex;\n",
              "      flex-wrap:wrap;\n",
              "      gap: 12px;\n",
              "    }\n",
              "\n",
              "    .colab-df-convert {\n",
              "      background-color: #E8F0FE;\n",
              "      border: none;\n",
              "      border-radius: 50%;\n",
              "      cursor: pointer;\n",
              "      display: none;\n",
              "      fill: #1967D2;\n",
              "      height: 32px;\n",
              "      padding: 0 0 0 0;\n",
              "      width: 32px;\n",
              "    }\n",
              "\n",
              "    .colab-df-convert:hover {\n",
              "      background-color: #E2EBFA;\n",
              "      box-shadow: 0px 1px 2px rgba(60, 64, 67, 0.3), 0px 1px 3px 1px rgba(60, 64, 67, 0.15);\n",
              "      fill: #174EA6;\n",
              "    }\n",
              "\n",
              "    [theme=dark] .colab-df-convert {\n",
              "      background-color: #3B4455;\n",
              "      fill: #D2E3FC;\n",
              "    }\n",
              "\n",
              "    [theme=dark] .colab-df-convert:hover {\n",
              "      background-color: #434B5C;\n",
              "      box-shadow: 0px 1px 3px 1px rgba(0, 0, 0, 0.15);\n",
              "      filter: drop-shadow(0px 1px 2px rgba(0, 0, 0, 0.3));\n",
              "      fill: #FFFFFF;\n",
              "    }\n",
              "  </style>\n",
              "\n",
              "      <script>\n",
              "        const buttonEl =\n",
              "          document.querySelector('#df-895cc063-e4d5-456b-91c9-572410390f1b button.colab-df-convert');\n",
              "        buttonEl.style.display =\n",
              "          google.colab.kernel.accessAllowed ? 'block' : 'none';\n",
              "\n",
              "        async function convertToInteractive(key) {\n",
              "          const element = document.querySelector('#df-895cc063-e4d5-456b-91c9-572410390f1b');\n",
              "          const dataTable =\n",
              "            await google.colab.kernel.invokeFunction('convertToInteractive',\n",
              "                                                     [key], {});\n",
              "          if (!dataTable) return;\n",
              "\n",
              "          const docLinkHtml = 'Like what you see? Visit the ' +\n",
              "            '<a target=\"_blank\" href=https://colab.research.google.com/notebooks/data_table.ipynb>data table notebook</a>'\n",
              "            + ' to learn more about interactive tables.';\n",
              "          element.innerHTML = '';\n",
              "          dataTable['output_type'] = 'display_data';\n",
              "          await google.colab.output.renderOutput(dataTable, element);\n",
              "          const docLink = document.createElement('div');\n",
              "          docLink.innerHTML = docLinkHtml;\n",
              "          element.appendChild(docLink);\n",
              "        }\n",
              "      </script>\n",
              "    </div>\n",
              "  </div>\n",
              "  "
            ],
            "text/plain": [
              "                       count       mean  ...        75%        max\n",
              "fixed acidity         1599.0   8.319637  ...   9.200000   15.90000\n",
              "volatile acidity      1599.0   0.527821  ...   0.640000    1.58000\n",
              "citric acid           1599.0   0.270976  ...   0.420000    1.00000\n",
              "residual sugar        1599.0   2.538806  ...   2.600000   15.50000\n",
              "chlorides             1599.0   0.087467  ...   0.090000    0.61100\n",
              "free sulfur dioxide   1599.0  15.874922  ...  21.000000   72.00000\n",
              "total sulfur dioxide  1599.0  46.467792  ...  62.000000  289.00000\n",
              "density               1599.0   0.996747  ...   0.997835    1.00369\n",
              "pH                    1599.0   3.311113  ...   3.400000    4.01000\n",
              "sulphates             1599.0   0.658149  ...   0.730000    2.00000\n",
              "alcohol               1599.0  10.422983  ...  11.100000   14.90000\n",
              "quality               1599.0   5.636023  ...   6.000000    8.00000\n",
              "\n",
              "[12 rows x 8 columns]"
            ]
          },
          "metadata": {},
          "execution_count": 4
        }
      ],
      "source": [
        "# Statistics about the data - the percentiles can give us already a good indication about the features\n",
        "# Can you  guess at this stage which of these features would be the most prominant in determing the quality (the taste)?\n",
        "df.describe().T"
      ]
    },
    {
      "cell_type": "code",
      "execution_count": null,
      "metadata": {
        "colab": {
          "base_uri": "https://localhost:8080/",
          "height": 284
        },
        "id": "2URgb5MNNa2S",
        "outputId": "f05b9c43-b56c-49aa-d4c3-834ff0b288da"
      },
      "outputs": [
        {
          "output_type": "display_data",
          "data": {
            "image/png": "[encoded data removed]",
            "text/plain": [
              "<Figure size 432x288 with 12 Axes>"
            ]
          },
          "metadata": {
            "needs_background": "light"
          }
        }
      ],
      "source": [
        "# And plotting histograms\n",
        "hists = df.hist()"
      ]
    },
    {
      "cell_type": "markdown",
      "metadata": {
        "id": "tZQtjm22PzCY"
      },
      "source": [
        "Machine Learning algorithms for classification are, in fact, functions. These functions receive data as an input and output a function that assigns a label to a sample. The input data that the Machine Learning algorithm needs are in the form of:  `f(X) --> y`, where `X` is a set of `features` and `y` is the `label` for these features.\n",
        "\n",
        "Before we train our Decision Tree, we want to do several things:\n",
        "\n",
        "1. We want to leave aside some of the values so we can have a good test for the model, so we can determine how well it performed. \n",
        "  \n",
        "  Remind yourself that when a teacher creates an exam, they want to see that the students have indeed understood the material and not learned it by heart.\n",
        "\n",
        "  Therefore, we must put aside some wine data points, with which we can test the Decision Tree model.\n",
        "\n",
        "  [Scikit-Learn](https://scikit-learn.org/stable/index.html) has a great method for that: [train_test_split](https://scikit-learn.org/stable/modules/generated/sklearn.model_selection.train_test_split.html), which we are going to use here.\n",
        "2. The quality is a number between 3 to 8 (look at the min/max in the statistics section), where most of the values are around 5 and 6. We can divide the quality into two classes by answering the question - is this wine very good? Then we will get two classes: **FALSE** (<=6.5), and **TRUE** (>6.5), representing the **OK** and **VERY GOOD** labels. This will make the task easier for the algorithm (fewer leaf-types, mean more options to create helpful features). "
      ]
    },
    {
      "cell_type": "code",
      "execution_count": null,
      "metadata": {
        "id": "-jEROOVuQcvj"
      },
      "outputs": [],
      "source": [
        "# 'quality' is our label - the column we would like to predict. \n",
        "features_df = df.drop('quality', axis=1)\n",
        "\n",
        "label = df['quality'] > 6.5\n",
        "\n",
        "X_train, X_test, y_train, y_test = train_test_split(features_df, \n",
        "                                                    label, \n",
        "                                                    test_size=0.33, \n",
        "                                                    random_state=42)\n"
      ]
    },
    {
      "cell_type": "code",
      "execution_count": null,
      "metadata": {
        "colab": {
          "base_uri": "https://localhost:8080/",
          "height": 285
        },
        "id": "gkCmBjs7Rnbs",
        "outputId": "f7150fe8-d73c-4e93-a427-e43ec4c94724"
      },
      "outputs": [
        {
          "output_type": "execute_result",
          "data": {
            "text/plain": [
              "<matplotlib.axes._subplots.AxesSubplot at 0x7facfd69e290>"
            ]
          },
          "metadata": {},
          "execution_count": 7
        },
        {
          "output_type": "display_data",
          "data": {
            "image/png": "[encoded data removed]",
            "text/plain": [
              "<Figure size 432x288 with 1 Axes>"
            ]
          },
          "metadata": {
            "needs_background": "light"
          }
        }
      ],
      "source": [
        "label.map(int).hist()"
      ]
    },
    {
      "cell_type": "markdown",
      "metadata": {
        "id": "RDzk-GhKWC_a"
      },
      "source": [
        "Before training our Decision Tree, let's look at the data again - this time according to our division of the good wines:"
      ]
    },
    {
      "cell_type": "code",
      "execution_count": null,
      "metadata": {
        "colab": {
          "base_uri": "https://localhost:8080/",
          "height": 426
        },
        "id": "7dRs5LdWV7Pu",
        "outputId": "93a7a38b-990e-4c21-d322-573d0d7b34d7"
      },
      "outputs": [
        {
          "output_type": "execute_result",
          "data": {
            "text/html": [
              "\n",
              "  <div id=\"df-eadc4208-4f82-4ec6-b27f-3007d530812d\">\n",
              "    <div class=\"colab-df-container\">\n",
              "      <div>\n",
              "<style scoped>\n",
              "    .dataframe tbody tr th:only-of-type {\n",
              "        vertical-align: middle;\n",
              "    }\n",
              "\n",
              "    .dataframe tbody tr th {\n",
              "        vertical-align: top;\n",
              "    }\n",
              "\n",
              "    .dataframe thead th {\n",
              "        text-align: right;\n",
              "    }\n",
              "</style>\n",
              "<table border=\"1\" class=\"dataframe\">\n",
              "  <thead>\n",
              "    <tr style=\"text-align: right;\">\n",
              "      <th></th>\n",
              "      <th>count</th>\n",
              "      <th>mean</th>\n",
              "      <th>std</th>\n",
              "      <th>min</th>\n",
              "      <th>25%</th>\n",
              "      <th>50%</th>\n",
              "      <th>75%</th>\n",
              "      <th>max</th>\n",
              "    </tr>\n",
              "  </thead>\n",
              "  <tbody>\n",
              "    <tr>\n",
              "      <th>fixed acidity</th>\n",
              "      <td>217.0</td>\n",
              "      <td>8.847005</td>\n",
              "      <td>1.999977</td>\n",
              "      <td>4.90000</td>\n",
              "      <td>7.4000</td>\n",
              "      <td>8.70000</td>\n",
              "      <td>10.10000</td>\n",
              "      <td>15.6000</td>\n",
              "    </tr>\n",
              "    <tr>\n",
              "      <th>volatile acidity</th>\n",
              "      <td>217.0</td>\n",
              "      <td>0.405530</td>\n",
              "      <td>0.144963</td>\n",
              "      <td>0.12000</td>\n",
              "      <td>0.3000</td>\n",
              "      <td>0.37000</td>\n",
              "      <td>0.49000</td>\n",
              "      <td>0.9150</td>\n",
              "    </tr>\n",
              "    <tr>\n",
              "      <th>citric acid</th>\n",
              "      <td>217.0</td>\n",
              "      <td>0.376498</td>\n",
              "      <td>0.194438</td>\n",
              "      <td>0.00000</td>\n",
              "      <td>0.3000</td>\n",
              "      <td>0.40000</td>\n",
              "      <td>0.49000</td>\n",
              "      <td>0.7600</td>\n",
              "    </tr>\n",
              "    <tr>\n",
              "      <th>residual sugar</th>\n",
              "      <td>217.0</td>\n",
              "      <td>2.708756</td>\n",
              "      <td>1.363026</td>\n",
              "      <td>1.20000</td>\n",
              "      <td>2.0000</td>\n",
              "      <td>2.30000</td>\n",
              "      <td>2.70000</td>\n",
              "      <td>8.9000</td>\n",
              "    </tr>\n",
              "    <tr>\n",
              "      <th>chlorides</th>\n",
              "      <td>217.0</td>\n",
              "      <td>0.075912</td>\n",
              "      <td>0.028480</td>\n",
              "      <td>0.01200</td>\n",
              "      <td>0.0620</td>\n",
              "      <td>0.07300</td>\n",
              "      <td>0.08500</td>\n",
              "      <td>0.3580</td>\n",
              "    </tr>\n",
              "    <tr>\n",
              "      <th>free sulfur dioxide</th>\n",
              "      <td>217.0</td>\n",
              "      <td>13.981567</td>\n",
              "      <td>10.234615</td>\n",
              "      <td>3.00000</td>\n",
              "      <td>6.0000</td>\n",
              "      <td>11.00000</td>\n",
              "      <td>18.00000</td>\n",
              "      <td>54.0000</td>\n",
              "    </tr>\n",
              "    <tr>\n",
              "      <th>total sulfur dioxide</th>\n",
              "      <td>217.0</td>\n",
              "      <td>34.889401</td>\n",
              "      <td>32.572238</td>\n",
              "      <td>7.00000</td>\n",
              "      <td>17.0000</td>\n",
              "      <td>27.00000</td>\n",
              "      <td>43.00000</td>\n",
              "      <td>289.0000</td>\n",
              "    </tr>\n",
              "    <tr>\n",
              "      <th>density</th>\n",
              "      <td>217.0</td>\n",
              "      <td>0.996030</td>\n",
              "      <td>0.002201</td>\n",
              "      <td>0.99064</td>\n",
              "      <td>0.9947</td>\n",
              "      <td>0.99572</td>\n",
              "      <td>0.99735</td>\n",
              "      <td>1.0032</td>\n",
              "    </tr>\n",
              "    <tr>\n",
              "      <th>pH</th>\n",
              "      <td>217.0</td>\n",
              "      <td>3.288802</td>\n",
              "      <td>0.154478</td>\n",
              "      <td>2.88000</td>\n",
              "      <td>3.2000</td>\n",
              "      <td>3.27000</td>\n",
              "      <td>3.38000</td>\n",
              "      <td>3.7800</td>\n",
              "    </tr>\n",
              "    <tr>\n",
              "      <th>sulphates</th>\n",
              "      <td>217.0</td>\n",
              "      <td>0.743456</td>\n",
              "      <td>0.134038</td>\n",
              "      <td>0.39000</td>\n",
              "      <td>0.6500</td>\n",
              "      <td>0.74000</td>\n",
              "      <td>0.82000</td>\n",
              "      <td>1.3600</td>\n",
              "    </tr>\n",
              "    <tr>\n",
              "      <th>alcohol</th>\n",
              "      <td>217.0</td>\n",
              "      <td>11.518049</td>\n",
              "      <td>0.998153</td>\n",
              "      <td>9.20000</td>\n",
              "      <td>10.8000</td>\n",
              "      <td>11.60000</td>\n",
              "      <td>12.20000</td>\n",
              "      <td>14.0000</td>\n",
              "    </tr>\n",
              "    <tr>\n",
              "      <th>quality</th>\n",
              "      <td>217.0</td>\n",
              "      <td>7.082949</td>\n",
              "      <td>0.276443</td>\n",
              "      <td>7.00000</td>\n",
              "      <td>7.0000</td>\n",
              "      <td>7.00000</td>\n",
              "      <td>7.00000</td>\n",
              "      <td>8.0000</td>\n",
              "    </tr>\n",
              "  </tbody>\n",
              "</table>\n",
              "</div>\n",
              "      <button class=\"colab-df-convert\" onclick=\"convertToInteractive('df-eadc4208-4f82-4ec6-b27f-3007d530812d')\"\n",
              "              title=\"Convert this dataframe to an interactive table.\"\n",
              "              style=\"display:none;\">\n",
              "        \n",
              "  <svg xmlns=\"http://www.w3.org/2000/svg\" height=\"24px\"viewBox=\"0 0 24 24\"\n",
              "       width=\"24px\">\n",
              "    <path d=\"M0 0h24v24H0V0z\" fill=\"none\"/>\n",
              "    <path d=\"M18.56 5.44l.94 2.06.94-2.06 2.06-.94-2.06-.94-.94-2.06-.94 2.06-2.06.94zm-11 1L8.5 8.5l.94-2.06 2.06-.94-2.06-.94L8.5 2.5l-.94 2.06-2.06.94zm10 10l.94 2.06.94-2.06 2.06-.94-2.06-.94-.94-2.06-.94 2.06-2.06.94z\"/><path d=\"M17.41 7.96l-1.37-1.37c-.4-.4-.92-.59-1.43-.59-.52 0-1.04.2-1.43.59L10.3 9.45l-7.72 7.72c-.78.78-.78 2.05 0 2.83L4 21.41c.39.39.9.59 1.41.59.51 0 1.02-.2 1.41-.59l7.78-7.78 2.81-2.81c.8-.78.8-2.07 0-2.86zM5.41 20L4 18.59l7.72-7.72 1.47 1.35L5.41 20z\"/>\n",
              "  </svg>\n",
              "      </button>\n",
              "      \n",
              "  <style>\n",
              "    .colab-df-container {\n",
              "      display:flex;\n",
              "      flex-wrap:wrap;\n",
              "      gap: 12px;\n",
              "    }\n",
              "\n",
              "    .colab-df-convert {\n",
              "      background-color: #E8F0FE;\n",
              "      border: none;\n",
              "      border-radius: 50%;\n",
              "      cursor: pointer;\n",
              "      display: none;\n",
              "      fill: #1967D2;\n",
              "      height: 32px;\n",
              "      padding: 0 0 0 0;\n",
              "      width: 32px;\n",
              "    }\n",
              "\n",
              "    .colab-df-convert:hover {\n",
              "      background-color: #E2EBFA;\n",
              "      box-shadow: 0px 1px 2px rgba(60, 64, 67, 0.3), 0px 1px 3px 1px rgba(60, 64, 67, 0.15);\n",
              "      fill: #174EA6;\n",
              "    }\n",
              "\n",
              "    [theme=dark] .colab-df-convert {\n",
              "      background-color: #3B4455;\n",
              "      fill: #D2E3FC;\n",
              "    }\n",
              "\n",
              "    [theme=dark] .colab-df-convert:hover {\n",
              "      background-color: #434B5C;\n",
              "      box-shadow: 0px 1px 3px 1px rgba(0, 0, 0, 0.15);\n",
              "      filter: drop-shadow(0px 1px 2px rgba(0, 0, 0, 0.3));\n",
              "      fill: #FFFFFF;\n",
              "    }\n",
              "  </style>\n",
              "\n",
              "      <script>\n",
              "        const buttonEl =\n",
              "          document.querySelector('#df-eadc4208-4f82-4ec6-b27f-3007d530812d button.colab-df-convert');\n",
              "        buttonEl.style.display =\n",
              "          google.colab.kernel.accessAllowed ? 'block' : 'none';\n",
              "\n",
              "        async function convertToInteractive(key) {\n",
              "          const element = document.querySelector('#df-eadc4208-4f82-4ec6-b27f-3007d530812d');\n",
              "          const dataTable =\n",
              "            await google.colab.kernel.invokeFunction('convertToInteractive',\n",
              "                                                     [key], {});\n",
              "          if (!dataTable) return;\n",
              "\n",
              "          const docLinkHtml = 'Like what you see? Visit the ' +\n",
              "            '<a target=\"_blank\" href=https://colab.research.google.com/notebooks/data_table.ipynb>data table notebook</a>'\n",
              "            + ' to learn more about interactive tables.';\n",
              "          element.innerHTML = '';\n",
              "          dataTable['output_type'] = 'display_data';\n",
              "          await google.colab.output.renderOutput(dataTable, element);\n",
              "          const docLink = document.createElement('div');\n",
              "          docLink.innerHTML = docLinkHtml;\n",
              "          element.appendChild(docLink);\n",
              "        }\n",
              "      </script>\n",
              "    </div>\n",
              "  </div>\n",
              "  "
            ],
            "text/plain": [
              "                      count       mean        std  ...       50%       75%       max\n",
              "fixed acidity         217.0   8.847005   1.999977  ...   8.70000  10.10000   15.6000\n",
              "volatile acidity      217.0   0.405530   0.144963  ...   0.37000   0.49000    0.9150\n",
              "citric acid           217.0   0.376498   0.194438  ...   0.40000   0.49000    0.7600\n",
              "residual sugar        217.0   2.708756   1.363026  ...   2.30000   2.70000    8.9000\n",
              "chlorides             217.0   0.075912   0.028480  ...   0.07300   0.08500    0.3580\n",
              "free sulfur dioxide   217.0  13.981567  10.234615  ...  11.00000  18.00000   54.0000\n",
              "total sulfur dioxide  217.0  34.889401  32.572238  ...  27.00000  43.00000  289.0000\n",
              "density               217.0   0.996030   0.002201  ...   0.99572   0.99735    1.0032\n",
              "pH                    217.0   3.288802   0.154478  ...   3.27000   3.38000    3.7800\n",
              "sulphates             217.0   0.743456   0.134038  ...   0.74000   0.82000    1.3600\n",
              "alcohol               217.0  11.518049   0.998153  ...  11.60000  12.20000   14.0000\n",
              "quality               217.0   7.082949   0.276443  ...   7.00000   7.00000    8.0000\n",
              "\n",
              "[12 rows x 8 columns]"
            ]
          },
          "metadata": {},
          "execution_count": 8
        }
      ],
      "source": [
        "df[label].describe().T"
      ]
    },
    {
      "cell_type": "markdown",
      "metadata": {
        "id": "hQYCxRsOWMzk"
      },
      "source": [
        "And the 'OK' wines:"
      ]
    },
    {
      "cell_type": "code",
      "execution_count": null,
      "metadata": {
        "colab": {
          "base_uri": "https://localhost:8080/",
          "height": 426
        },
        "id": "NqwOOngvV_JT",
        "outputId": "e8a7a0c3-4024-4e9c-97cb-174790b3ab28"
      },
      "outputs": [
        {
          "output_type": "execute_result",
          "data": {
            "text/html": [
              "\n",
              "  <div id=\"df-f55f81ed-6506-48f5-ad68-b4d3906071b4\">\n",
              "    <div class=\"colab-df-container\">\n",
              "      <div>\n",
              "<style scoped>\n",
              "    .dataframe tbody tr th:only-of-type {\n",
              "        vertical-align: middle;\n",
              "    }\n",
              "\n",
              "    .dataframe tbody tr th {\n",
              "        vertical-align: top;\n",
              "    }\n",
              "\n",
              "    .dataframe thead th {\n",
              "        text-align: right;\n",
              "    }\n",
              "</style>\n",
              "<table border=\"1\" class=\"dataframe\">\n",
              "  <thead>\n",
              "    <tr style=\"text-align: right;\">\n",
              "      <th></th>\n",
              "      <th>count</th>\n",
              "      <th>mean</th>\n",
              "      <th>std</th>\n",
              "      <th>min</th>\n",
              "      <th>25%</th>\n",
              "      <th>50%</th>\n",
              "      <th>75%</th>\n",
              "      <th>max</th>\n",
              "    </tr>\n",
              "  </thead>\n",
              "  <tbody>\n",
              "    <tr>\n",
              "      <th>fixed acidity</th>\n",
              "      <td>1382.0</td>\n",
              "      <td>8.236831</td>\n",
              "      <td>1.682726</td>\n",
              "      <td>4.60000</td>\n",
              "      <td>7.100000</td>\n",
              "      <td>7.8000</td>\n",
              "      <td>9.1000</td>\n",
              "      <td>15.90000</td>\n",
              "    </tr>\n",
              "    <tr>\n",
              "      <th>volatile acidity</th>\n",
              "      <td>1382.0</td>\n",
              "      <td>0.547022</td>\n",
              "      <td>0.176337</td>\n",
              "      <td>0.16000</td>\n",
              "      <td>0.420000</td>\n",
              "      <td>0.5400</td>\n",
              "      <td>0.6500</td>\n",
              "      <td>1.58000</td>\n",
              "    </tr>\n",
              "    <tr>\n",
              "      <th>citric acid</th>\n",
              "      <td>1382.0</td>\n",
              "      <td>0.254407</td>\n",
              "      <td>0.189665</td>\n",
              "      <td>0.00000</td>\n",
              "      <td>0.082500</td>\n",
              "      <td>0.2400</td>\n",
              "      <td>0.4000</td>\n",
              "      <td>1.00000</td>\n",
              "    </tr>\n",
              "    <tr>\n",
              "      <th>residual sugar</th>\n",
              "      <td>1382.0</td>\n",
              "      <td>2.512120</td>\n",
              "      <td>1.415778</td>\n",
              "      <td>0.90000</td>\n",
              "      <td>1.900000</td>\n",
              "      <td>2.2000</td>\n",
              "      <td>2.6000</td>\n",
              "      <td>15.50000</td>\n",
              "    </tr>\n",
              "    <tr>\n",
              "      <th>chlorides</th>\n",
              "      <td>1382.0</td>\n",
              "      <td>0.089281</td>\n",
              "      <td>0.049113</td>\n",
              "      <td>0.03400</td>\n",
              "      <td>0.071000</td>\n",
              "      <td>0.0800</td>\n",
              "      <td>0.0910</td>\n",
              "      <td>0.61100</td>\n",
              "    </tr>\n",
              "    <tr>\n",
              "      <th>free sulfur dioxide</th>\n",
              "      <td>1382.0</td>\n",
              "      <td>16.172214</td>\n",
              "      <td>10.467685</td>\n",
              "      <td>1.00000</td>\n",
              "      <td>8.000000</td>\n",
              "      <td>14.0000</td>\n",
              "      <td>22.0000</td>\n",
              "      <td>72.00000</td>\n",
              "    </tr>\n",
              "    <tr>\n",
              "      <th>total sulfur dioxide</th>\n",
              "      <td>1382.0</td>\n",
              "      <td>48.285818</td>\n",
              "      <td>32.585604</td>\n",
              "      <td>6.00000</td>\n",
              "      <td>23.000000</td>\n",
              "      <td>39.5000</td>\n",
              "      <td>65.0000</td>\n",
              "      <td>165.00000</td>\n",
              "    </tr>\n",
              "    <tr>\n",
              "      <th>density</th>\n",
              "      <td>1382.0</td>\n",
              "      <td>0.996859</td>\n",
              "      <td>0.001808</td>\n",
              "      <td>0.99007</td>\n",
              "      <td>0.995785</td>\n",
              "      <td>0.9968</td>\n",
              "      <td>0.9979</td>\n",
              "      <td>1.00369</td>\n",
              "    </tr>\n",
              "    <tr>\n",
              "      <th>pH</th>\n",
              "      <td>1382.0</td>\n",
              "      <td>3.314616</td>\n",
              "      <td>0.154135</td>\n",
              "      <td>2.74000</td>\n",
              "      <td>3.210000</td>\n",
              "      <td>3.3100</td>\n",
              "      <td>3.4100</td>\n",
              "      <td>4.01000</td>\n",
              "    </tr>\n",
              "    <tr>\n",
              "      <th>sulphates</th>\n",
              "      <td>1382.0</td>\n",
              "      <td>0.644754</td>\n",
              "      <td>0.170629</td>\n",
              "      <td>0.33000</td>\n",
              "      <td>0.540000</td>\n",
              "      <td>0.6000</td>\n",
              "      <td>0.7000</td>\n",
              "      <td>2.00000</td>\n",
              "    </tr>\n",
              "    <tr>\n",
              "      <th>alcohol</th>\n",
              "      <td>1382.0</td>\n",
              "      <td>10.251037</td>\n",
              "      <td>0.969664</td>\n",
              "      <td>8.40000</td>\n",
              "      <td>9.500000</td>\n",
              "      <td>10.0000</td>\n",
              "      <td>10.9000</td>\n",
              "      <td>14.90000</td>\n",
              "    </tr>\n",
              "    <tr>\n",
              "      <th>quality</th>\n",
              "      <td>1382.0</td>\n",
              "      <td>5.408828</td>\n",
              "      <td>0.601719</td>\n",
              "      <td>3.00000</td>\n",
              "      <td>5.000000</td>\n",
              "      <td>5.0000</td>\n",
              "      <td>6.0000</td>\n",
              "      <td>6.00000</td>\n",
              "    </tr>\n",
              "  </tbody>\n",
              "</table>\n",
              "</div>\n",
              "      <button class=\"colab-df-convert\" onclick=\"convertToInteractive('df-f55f81ed-6506-48f5-ad68-b4d3906071b4')\"\n",
              "              title=\"Convert this dataframe to an interactive table.\"\n",
              "              style=\"display:none;\">\n",
              "        \n",
              "  <svg xmlns=\"http://www.w3.org/2000/svg\" height=\"24px\"viewBox=\"0 0 24 24\"\n",
              "       width=\"24px\">\n",
              "    <path d=\"M0 0h24v24H0V0z\" fill=\"none\"/>\n",
              "    <path d=\"M18.56 5.44l.94 2.06.94-2.06 2.06-.94-2.06-.94-.94-2.06-.94 2.06-2.06.94zm-11 1L8.5 8.5l.94-2.06 2.06-.94-2.06-.94L8.5 2.5l-.94 2.06-2.06.94zm10 10l.94 2.06.94-2.06 2.06-.94-2.06-.94-.94-2.06-.94 2.06-2.06.94z\"/><path d=\"M17.41 7.96l-1.37-1.37c-.4-.4-.92-.59-1.43-.59-.52 0-1.04.2-1.43.59L10.3 9.45l-7.72 7.72c-.78.78-.78 2.05 0 2.83L4 21.41c.39.39.9.59 1.41.59.51 0 1.02-.2 1.41-.59l7.78-7.78 2.81-2.81c.8-.78.8-2.07 0-2.86zM5.41 20L4 18.59l7.72-7.72 1.47 1.35L5.41 20z\"/>\n",
              "  </svg>\n",
              "      </button>\n",
              "      \n",
              "  <style>\n",
              "    .colab-df-container {\n",
              "      display:flex;\n",
              "      flex-wrap:wrap;\n",
              "      gap: 12px;\n",
              "    }\n",
              "\n",
              "    .colab-df-convert {\n",
              "      background-color: #E8F0FE;\n",
              "      border: none;\n",
              "      border-radius: 50%;\n",
              "      cursor: pointer;\n",
              "      display: none;\n",
              "      fill: #1967D2;\n",
              "      height: 32px;\n",
              "      padding: 0 0 0 0;\n",
              "      width: 32px;\n",
              "    }\n",
              "\n",
              "    .colab-df-convert:hover {\n",
              "      background-color: #E2EBFA;\n",
              "      box-shadow: 0px 1px 2px rgba(60, 64, 67, 0.3), 0px 1px 3px 1px rgba(60, 64, 67, 0.15);\n",
              "      fill: #174EA6;\n",
              "    }\n",
              "\n",
              "    [theme=dark] .colab-df-convert {\n",
              "      background-color: #3B4455;\n",
              "      fill: #D2E3FC;\n",
              "    }\n",
              "\n",
              "    [theme=dark] .colab-df-convert:hover {\n",
              "      background-color: #434B5C;\n",
              "      box-shadow: 0px 1px 3px 1px rgba(0, 0, 0, 0.15);\n",
              "      filter: drop-shadow(0px 1px 2px rgba(0, 0, 0, 0.3));\n",
              "      fill: #FFFFFF;\n",
              "    }\n",
              "  </style>\n",
              "\n",
              "      <script>\n",
              "        const buttonEl =\n",
              "          document.querySelector('#df-f55f81ed-6506-48f5-ad68-b4d3906071b4 button.colab-df-convert');\n",
              "        buttonEl.style.display =\n",
              "          google.colab.kernel.accessAllowed ? 'block' : 'none';\n",
              "\n",
              "        async function convertToInteractive(key) {\n",
              "          const element = document.querySelector('#df-f55f81ed-6506-48f5-ad68-b4d3906071b4');\n",
              "          const dataTable =\n",
              "            await google.colab.kernel.invokeFunction('convertToInteractive',\n",
              "                                                     [key], {});\n",
              "          if (!dataTable) return;\n",
              "\n",
              "          const docLinkHtml = 'Like what you see? Visit the ' +\n",
              "            '<a target=\"_blank\" href=https://colab.research.google.com/notebooks/data_table.ipynb>data table notebook</a>'\n",
              "            + ' to learn more about interactive tables.';\n",
              "          element.innerHTML = '';\n",
              "          dataTable['output_type'] = 'display_data';\n",
              "          await google.colab.output.renderOutput(dataTable, element);\n",
              "          const docLink = document.createElement('div');\n",
              "          docLink.innerHTML = docLinkHtml;\n",
              "          element.appendChild(docLink);\n",
              "        }\n",
              "      </script>\n",
              "    </div>\n",
              "  </div>\n",
              "  "
            ],
            "text/plain": [
              "                       count       mean        std  ...      50%      75%        max\n",
              "fixed acidity         1382.0   8.236831   1.682726  ...   7.8000   9.1000   15.90000\n",
              "volatile acidity      1382.0   0.547022   0.176337  ...   0.5400   0.6500    1.58000\n",
              "citric acid           1382.0   0.254407   0.189665  ...   0.2400   0.4000    1.00000\n",
              "residual sugar        1382.0   2.512120   1.415778  ...   2.2000   2.6000   15.50000\n",
              "chlorides             1382.0   0.089281   0.049113  ...   0.0800   0.0910    0.61100\n",
              "free sulfur dioxide   1382.0  16.172214  10.467685  ...  14.0000  22.0000   72.00000\n",
              "total sulfur dioxide  1382.0  48.285818  32.585604  ...  39.5000  65.0000  165.00000\n",
              "density               1382.0   0.996859   0.001808  ...   0.9968   0.9979    1.00369\n",
              "pH                    1382.0   3.314616   0.154135  ...   3.3100   3.4100    4.01000\n",
              "sulphates             1382.0   0.644754   0.170629  ...   0.6000   0.7000    2.00000\n",
              "alcohol               1382.0  10.251037   0.969664  ...  10.0000  10.9000   14.90000\n",
              "quality               1382.0   5.408828   0.601719  ...   5.0000   6.0000    6.00000\n",
              "\n",
              "[12 rows x 8 columns]"
            ]
          },
          "metadata": {},
          "execution_count": 9
        }
      ],
      "source": [
        "df[~label].describe().T"
      ]
    },
    {
      "cell_type": "markdown",
      "metadata": {
        "id": "PWQmIWzMWQpf"
      },
      "source": [
        "Can you guestimate now which top 3 features would be meaningful in determing the wine quality?"
      ]
    },
    {
      "cell_type": "markdown",
      "metadata": {
        "id": "LM1CXLRYQLw9"
      },
      "source": [
        "## Training a Decision-Tree\n",
        "Now we are ready to train our classifier!\n",
        "Remember to never show your classifier the test-data! (Otherwise, it's cheating...)"
      ]
    },
    {
      "cell_type": "code",
      "execution_count": null,
      "metadata": {
        "colab": {
          "base_uri": "https://localhost:8080/"
        },
        "id": "IyI20DUTN6Da",
        "outputId": "49324a9d-e01d-4497-f7ba-f34133937946"
      },
      "outputs": [
        {
          "output_type": "execute_result",
          "data": {
            "text/plain": [
              "DecisionTreeClassifier()"
            ]
          },
          "metadata": {},
          "execution_count": 10
        }
      ],
      "source": [
        "# Instantiate the class instance:\n",
        "decTree = tree.DecisionTreeClassifier()\n",
        "\n",
        "# Train it on our data\n",
        "decTree.fit(X_train, y_train)"
      ]
    },
    {
      "cell_type": "markdown",
      "metadata": {
        "id": "6SvmEskQViVT"
      },
      "source": [
        "Let's plot the first 3 layers of the tree, to examine which features contributes to the good wines:"
      ]
    },
    {
      "cell_type": "code",
      "execution_count": null,
      "metadata": {
        "colab": {
          "base_uri": "https://localhost:8080/",
          "height": 735
        },
        "id": "WzE4PwztPYnn",
        "outputId": "f8368ebd-b16b-40c4-cb05-6bf26edc172c"
      },
      "outputs": [
        {
          "output_type": "execute_result",
          "data": {
            "text/plain": [
              "<graphviz.files.Source at 0x7facfcdbef50>"
            ],
            "image/svg+xml": "<?xml version=\"1.0\" encoding=\"UTF-8\" standalone=\"no\"?>\n<!DOCTYPE svg PUBLIC \"-//W3C//DTD SVG 1.1//EN\"\n \"http://www.w3.org/Graphics/SVG/1.1/DTD/svg11.dtd\">\n<!-- Generated by graphviz version 2.40.1 (20161225.0304)\n -->\n<!-- Title: Tree Pages: 1 -->\n<svg width=\"1317pt\" height=\"520pt\"\n viewBox=\"0.00 0.00 1317.00 520.00\" xmlns=\"http://www.w3.org/2000/svg\" xmlns:xlink=\"http://www.w3.org/1999/xlink\">\n<g id=\"graph0\" class=\"graph\" transform=\"scale(1 1) rotate(0) translate(4 516)\">\n<title>Tree</title>\n<polygon fill=\"#ffffff\" stroke=\"transparent\" points=\"-4,4 -4,-516 1313,-516 1313,4 -4,4\"/>\n<!-- 0 -->\n<g id=\"node1\" class=\"node\">\n<title>0</title>\n<path fill=\"#e99457\" stroke=\"#000000\" d=\"M696,-512C696,-512 588,-512 588,-512 582,-512 576,-506 576,-500 576,-500 576,-441 576,-441 576,-435 582,-429 588,-429 588,-429 696,-429 696,-429 702,-429 708,-435 708,-441 708,-441 708,-500 708,-500 708,-506 702,-512 696,-512\"/>\n<text text-anchor=\"start\" x=\"592.5\" y=\"-496.8\" font-family=\"Helvetica,sans-Serif\" font-size=\"14.00\" fill=\"#000000\">alcohol ≤ 11.55</text>\n<text text-anchor=\"start\" x=\"604\" y=\"-481.8\" font-family=\"Helvetica,sans-Serif\" font-size=\"14.00\" fill=\"#000000\">gini = 0.227</text>\n<text text-anchor=\"start\" x=\"590\" y=\"-466.8\" font-family=\"Helvetica,sans-Serif\" font-size=\"14.00\" fill=\"#000000\">samples = 1071</text>\n<text text-anchor=\"start\" x=\"584\" y=\"-451.8\" font-family=\"Helvetica,sans-Serif\" font-size=\"14.00\" fill=\"#000000\">value = [931, 140]</text>\n<text text-anchor=\"start\" x=\"613\" y=\"-436.8\" font-family=\"Helvetica,sans-Serif\" font-size=\"14.00\" fill=\"#000000\">class = q</text>\n</g>\n<!-- 1 -->\n<g id=\"node2\" class=\"node\">\n<title>1</title>\n<path fill=\"#e78a48\" stroke=\"#000000\" d=\"M544,-393C544,-393 410,-393 410,-393 404,-393 398,-387 398,-381 398,-381 398,-322 398,-322 398,-316 404,-310 410,-310 410,-310 544,-310 544,-310 550,-310 556,-316 556,-322 556,-322 556,-381 556,-381 556,-387 550,-393 544,-393\"/>\n<text text-anchor=\"start\" x=\"406\" y=\"-377.8\" font-family=\"Helvetica,sans-Serif\" font-size=\"14.00\" fill=\"#000000\">volatile acidity ≤ 0.375</text>\n<text text-anchor=\"start\" x=\"439\" y=\"-362.8\" font-family=\"Helvetica,sans-Serif\" font-size=\"14.00\" fill=\"#000000\">gini = 0.129</text>\n<text text-anchor=\"start\" x=\"429\" y=\"-347.8\" font-family=\"Helvetica,sans-Serif\" font-size=\"14.00\" fill=\"#000000\">samples = 908</text>\n<text text-anchor=\"start\" x=\"423\" y=\"-332.8\" font-family=\"Helvetica,sans-Serif\" font-size=\"14.00\" fill=\"#000000\">value = [845, 63]</text>\n<text text-anchor=\"start\" x=\"448\" y=\"-317.8\" font-family=\"Helvetica,sans-Serif\" font-size=\"14.00\" fill=\"#000000\">class = q</text>\n</g>\n<!-- 0&#45;&gt;1 -->\n<g id=\"edge1\" class=\"edge\">\n<title>0&#45;&gt;1</title>\n<path fill=\"none\" stroke=\"#000000\" d=\"M584.291,-428.8796C570.977,-419.2774 556.7134,-408.9903 543.0741,-399.1534\"/>\n<polygon fill=\"#000000\" stroke=\"#000000\" points=\"544.8345,-396.1077 534.6764,-393.0969 540.7398,-401.7852 544.8345,-396.1077\"/>\n<text text-anchor=\"middle\" x=\"538.6736\" y=\"-414.0753\" font-family=\"Helvetica,sans-Serif\" font-size=\"14.00\" fill=\"#000000\">True</text>\n</g>\n<!-- 128 -->\n<g id=\"node17\" class=\"node\">\n<title>128</title>\n<path fill=\"#fcf2ea\" stroke=\"#000000\" d=\"M864.5,-393C864.5,-393 757.5,-393 757.5,-393 751.5,-393 745.5,-387 745.5,-381 745.5,-381 745.5,-322 745.5,-322 745.5,-316 751.5,-310 757.5,-310 757.5,-310 864.5,-310 864.5,-310 870.5,-310 876.5,-316 876.5,-322 876.5,-322 876.5,-381 876.5,-381 876.5,-387 870.5,-393 864.5,-393\"/>\n<text text-anchor=\"start\" x=\"753.5\" y=\"-377.8\" font-family=\"Helvetica,sans-Serif\" font-size=\"14.00\" fill=\"#000000\">sulphates ≤ 0.685</text>\n<text text-anchor=\"start\" x=\"773\" y=\"-362.8\" font-family=\"Helvetica,sans-Serif\" font-size=\"14.00\" fill=\"#000000\">gini = 0.498</text>\n<text text-anchor=\"start\" x=\"763\" y=\"-347.8\" font-family=\"Helvetica,sans-Serif\" font-size=\"14.00\" fill=\"#000000\">samples = 163</text>\n<text text-anchor=\"start\" x=\"761\" y=\"-332.8\" font-family=\"Helvetica,sans-Serif\" font-size=\"14.00\" fill=\"#000000\">value = [86, 77]</text>\n<text text-anchor=\"start\" x=\"782\" y=\"-317.8\" font-family=\"Helvetica,sans-Serif\" font-size=\"14.00\" fill=\"#000000\">class = q</text>\n</g>\n<!-- 0&#45;&gt;128 -->\n<g id=\"edge16\" class=\"edge\">\n<title>0&#45;&gt;128</title>\n<path fill=\"none\" stroke=\"#000000\" d=\"M701.108,-428.8796C714.8734,-419.1868 729.6299,-408.7961 743.7193,-398.8752\"/>\n<polygon fill=\"#000000\" stroke=\"#000000\" points=\"745.7641,-401.716 751.9254,-393.0969 741.7339,-395.9926 745.7641,-401.716\"/>\n<text text-anchor=\"middle\" x=\"747.6491\" y=\"-414.0285\" font-family=\"Helvetica,sans-Serif\" font-size=\"14.00\" fill=\"#000000\">False</text>\n</g>\n<!-- 2 -->\n<g id=\"node3\" class=\"node\">\n<title>2</title>\n<path fill=\"#eca470\" stroke=\"#000000\" d=\"M290,-274C290,-274 190,-274 190,-274 184,-274 178,-268 178,-262 178,-262 178,-203 178,-203 178,-197 184,-191 190,-191 190,-191 290,-191 290,-191 296,-191 302,-197 302,-203 302,-203 302,-262 302,-262 302,-268 296,-274 290,-274\"/>\n<text text-anchor=\"start\" x=\"190.5\" y=\"-258.8\" font-family=\"Helvetica,sans-Serif\" font-size=\"14.00\" fill=\"#000000\">density ≤ 0.995</text>\n<text text-anchor=\"start\" x=\"202\" y=\"-243.8\" font-family=\"Helvetica,sans-Serif\" font-size=\"14.00\" fill=\"#000000\">gini = 0.341</text>\n<text text-anchor=\"start\" x=\"192\" y=\"-228.8\" font-family=\"Helvetica,sans-Serif\" font-size=\"14.00\" fill=\"#000000\">samples = 156</text>\n<text text-anchor=\"start\" x=\"186\" y=\"-213.8\" font-family=\"Helvetica,sans-Serif\" font-size=\"14.00\" fill=\"#000000\">value = [122, 34]</text>\n<text text-anchor=\"start\" x=\"211\" y=\"-198.8\" font-family=\"Helvetica,sans-Serif\" font-size=\"14.00\" fill=\"#000000\">class = q</text>\n</g>\n<!-- 1&#45;&gt;2 -->\n<g id=\"edge2\" class=\"edge\">\n<title>1&#45;&gt;2</title>\n<path fill=\"none\" stroke=\"#000000\" d=\"M397.7529,-311.7093C369.8253,-297.6865 338.6185,-282.0173 311.3796,-268.3404\"/>\n<polygon fill=\"#000000\" stroke=\"#000000\" points=\"312.8119,-265.1432 302.3047,-263.7838 309.6708,-271.3989 312.8119,-265.1432\"/>\n</g>\n<!-- 45 -->\n<g id=\"node10\" class=\"node\">\n<title>45</title>\n<path fill=\"#e68641\" stroke=\"#000000\" d=\"M530.5,-274C530.5,-274 423.5,-274 423.5,-274 417.5,-274 411.5,-268 411.5,-262 411.5,-262 411.5,-203 411.5,-203 411.5,-197 417.5,-191 423.5,-191 423.5,-191 530.5,-191 530.5,-191 536.5,-191 542.5,-197 542.5,-203 542.5,-203 542.5,-262 542.5,-262 542.5,-268 536.5,-274 530.5,-274\"/>\n<text text-anchor=\"start\" x=\"419.5\" y=\"-258.8\" font-family=\"Helvetica,sans-Serif\" font-size=\"14.00\" fill=\"#000000\">sulphates ≤ 0.665</text>\n<text text-anchor=\"start\" x=\"439\" y=\"-243.8\" font-family=\"Helvetica,sans-Serif\" font-size=\"14.00\" fill=\"#000000\">gini = 0.074</text>\n<text text-anchor=\"start\" x=\"429\" y=\"-228.8\" font-family=\"Helvetica,sans-Serif\" font-size=\"14.00\" fill=\"#000000\">samples = 752</text>\n<text text-anchor=\"start\" x=\"423\" y=\"-213.8\" font-family=\"Helvetica,sans-Serif\" font-size=\"14.00\" fill=\"#000000\">value = [723, 29]</text>\n<text text-anchor=\"start\" x=\"448\" y=\"-198.8\" font-family=\"Helvetica,sans-Serif\" font-size=\"14.00\" fill=\"#000000\">class = q</text>\n</g>\n<!-- 1&#45;&gt;45 -->\n<g id=\"edge9\" class=\"edge\">\n<title>1&#45;&gt;45</title>\n<path fill=\"none\" stroke=\"#000000\" d=\"M477,-309.8796C477,-301.6838 477,-292.9891 477,-284.5013\"/>\n<polygon fill=\"#000000\" stroke=\"#000000\" points=\"480.5001,-284.298 477,-274.2981 473.5001,-284.2981 480.5001,-284.298\"/>\n</g>\n<!-- 3 -->\n<g id=\"node4\" class=\"node\">\n<title>3</title>\n<path fill=\"#bddef6\" stroke=\"#000000\" d=\"M146,-155C146,-155 12,-155 12,-155 6,-155 0,-149 0,-143 0,-143 0,-84 0,-84 0,-78 6,-72 12,-72 12,-72 146,-72 146,-72 152,-72 158,-78 158,-84 158,-84 158,-143 158,-143 158,-149 152,-155 146,-155\"/>\n<text text-anchor=\"start\" x=\"8\" y=\"-139.8\" font-family=\"Helvetica,sans-Serif\" font-size=\"14.00\" fill=\"#000000\">volatile acidity ≤ 0.265</text>\n<text text-anchor=\"start\" x=\"45.5\" y=\"-124.8\" font-family=\"Helvetica,sans-Serif\" font-size=\"14.00\" fill=\"#000000\">gini = 0.48</text>\n<text text-anchor=\"start\" x=\"35\" y=\"-109.8\" font-family=\"Helvetica,sans-Serif\" font-size=\"14.00\" fill=\"#000000\">samples = 20</text>\n<text text-anchor=\"start\" x=\"33.5\" y=\"-94.8\" font-family=\"Helvetica,sans-Serif\" font-size=\"14.00\" fill=\"#000000\">value = [8, 12]</text>\n<text text-anchor=\"start\" x=\"50\" y=\"-79.8\" font-family=\"Helvetica,sans-Serif\" font-size=\"14.00\" fill=\"#000000\">class = u</text>\n</g>\n<!-- 2&#45;&gt;3 -->\n<g id=\"edge3\" class=\"edge\">\n<title>2&#45;&gt;3</title>\n<path fill=\"none\" stroke=\"#000000\" d=\"M183.69,-190.8796C170.6988,-181.2774 156.781,-170.9903 143.4723,-161.1534\"/>\n<polygon fill=\"#000000\" stroke=\"#000000\" points=\"145.4004,-158.2263 135.2782,-155.0969 141.2396,-163.8555 145.4004,-158.2263\"/>\n</g>\n<!-- 10 -->\n<g id=\"node7\" class=\"node\">\n<title>10</title>\n<path fill=\"#ea995f\" stroke=\"#000000\" d=\"M292,-155C292,-155 188,-155 188,-155 182,-155 176,-149 176,-143 176,-143 176,-84 176,-84 176,-78 182,-72 188,-72 188,-72 292,-72 292,-72 298,-72 304,-78 304,-84 304,-84 304,-143 304,-143 304,-149 298,-155 292,-155\"/>\n<text text-anchor=\"start\" x=\"184\" y=\"-139.8\" font-family=\"Helvetica,sans-Serif\" font-size=\"14.00\" fill=\"#000000\">citric acid ≤ 0.665</text>\n<text text-anchor=\"start\" x=\"202\" y=\"-124.8\" font-family=\"Helvetica,sans-Serif\" font-size=\"14.00\" fill=\"#000000\">gini = 0.271</text>\n<text text-anchor=\"start\" x=\"192\" y=\"-109.8\" font-family=\"Helvetica,sans-Serif\" font-size=\"14.00\" fill=\"#000000\">samples = 136</text>\n<text text-anchor=\"start\" x=\"186\" y=\"-94.8\" font-family=\"Helvetica,sans-Serif\" font-size=\"14.00\" fill=\"#000000\">value = [114, 22]</text>\n<text text-anchor=\"start\" x=\"211\" y=\"-79.8\" font-family=\"Helvetica,sans-Serif\" font-size=\"14.00\" fill=\"#000000\">class = q</text>\n</g>\n<!-- 2&#45;&gt;10 -->\n<g id=\"edge6\" class=\"edge\">\n<title>2&#45;&gt;10</title>\n<path fill=\"none\" stroke=\"#000000\" d=\"M240,-190.8796C240,-182.6838 240,-173.9891 240,-165.5013\"/>\n<polygon fill=\"#000000\" stroke=\"#000000\" points=\"243.5001,-165.298 240,-155.2981 236.5001,-165.2981 243.5001,-165.298\"/>\n</g>\n<!-- 4 -->\n<g id=\"node5\" class=\"node\">\n<title>4</title>\n<path fill=\"#c0c0c0\" stroke=\"#000000\" d=\"M58,-36C58,-36 28,-36 28,-36 22,-36 16,-30 16,-24 16,-24 16,-12 16,-12 16,-6 22,0 28,0 28,0 58,0 58,0 64,0 70,-6 70,-12 70,-12 70,-24 70,-24 70,-30 64,-36 58,-36\"/>\n<text text-anchor=\"middle\" x=\"43\" y=\"-14.3\" font-family=\"Helvetica,sans-Serif\" font-size=\"14.00\" fill=\"#000000\">(...)</text>\n</g>\n<!-- 3&#45;&gt;4 -->\n<g id=\"edge4\" class=\"edge\">\n<title>3&#45;&gt;4</title>\n<path fill=\"none\" stroke=\"#000000\" d=\"M63.3146,-71.8901C59.9739,-63.0279 56.525,-53.8788 53.4386,-45.6913\"/>\n<polygon fill=\"#000000\" stroke=\"#000000\" points=\"56.6877,-44.3878 49.8853,-36.2651 50.1376,-46.8569 56.6877,-44.3878\"/>\n</g>\n<!-- 5 -->\n<g id=\"node6\" class=\"node\">\n<title>5</title>\n<path fill=\"#c0c0c0\" stroke=\"#000000\" d=\"M130,-36C130,-36 100,-36 100,-36 94,-36 88,-30 88,-24 88,-24 88,-12 88,-12 88,-6 94,0 100,0 100,0 130,0 130,0 136,0 142,-6 142,-12 142,-12 142,-24 142,-24 142,-30 136,-36 130,-36\"/>\n<text text-anchor=\"middle\" x=\"115\" y=\"-14.3\" font-family=\"Helvetica,sans-Serif\" font-size=\"14.00\" fill=\"#000000\">(...)</text>\n</g>\n<!-- 3&#45;&gt;5 -->\n<g id=\"edge5\" class=\"edge\">\n<title>3&#45;&gt;5</title>\n<path fill=\"none\" stroke=\"#000000\" d=\"M94.6854,-71.8901C98.0261,-63.0279 101.475,-53.8788 104.5614,-45.6913\"/>\n<polygon fill=\"#000000\" stroke=\"#000000\" points=\"107.8624,-46.8569 108.1147,-36.2651 101.3123,-44.3878 107.8624,-46.8569\"/>\n</g>\n<!-- 11 -->\n<g id=\"node8\" class=\"node\">\n<title>11</title>\n<path fill=\"#c0c0c0\" stroke=\"#000000\" d=\"M220,-36C220,-36 190,-36 190,-36 184,-36 178,-30 178,-24 178,-24 178,-12 178,-12 178,-6 184,0 190,0 190,0 220,0 220,0 226,0 232,-6 232,-12 232,-12 232,-24 232,-24 232,-30 226,-36 220,-36\"/>\n<text text-anchor=\"middle\" x=\"205\" y=\"-14.3\" font-family=\"Helvetica,sans-Serif\" font-size=\"14.00\" fill=\"#000000\">(...)</text>\n</g>\n<!-- 10&#45;&gt;11 -->\n<g id=\"edge7\" class=\"edge\">\n<title>10&#45;&gt;11</title>\n<path fill=\"none\" stroke=\"#000000\" d=\"M224.7503,-71.8901C221.5024,-63.0279 218.1493,-53.8788 215.1486,-45.6913\"/>\n<polygon fill=\"#000000\" stroke=\"#000000\" points=\"218.4214,-44.45 211.694,-36.2651 211.8489,-46.8588 218.4214,-44.45\"/>\n</g>\n<!-- 42 -->\n<g id=\"node9\" class=\"node\">\n<title>42</title>\n<path fill=\"#c0c0c0\" stroke=\"#000000\" d=\"M292,-36C292,-36 262,-36 262,-36 256,-36 250,-30 250,-24 250,-24 250,-12 250,-12 250,-6 256,0 262,0 262,0 292,0 292,0 298,0 304,-6 304,-12 304,-12 304,-24 304,-24 304,-30 298,-36 292,-36\"/>\n<text text-anchor=\"middle\" x=\"277\" y=\"-14.3\" font-family=\"Helvetica,sans-Serif\" font-size=\"14.00\" fill=\"#000000\">(...)</text>\n</g>\n<!-- 10&#45;&gt;42 -->\n<g id=\"edge8\" class=\"edge\">\n<title>10&#45;&gt;42</title>\n<path fill=\"none\" stroke=\"#000000\" d=\"M256.1211,-71.8901C259.5546,-63.0279 263.0993,-53.8788 266.2715,-45.6913\"/>\n<polygon fill=\"#000000\" stroke=\"#000000\" points=\"269.5743,-46.8542 269.9235,-36.2651 263.0471,-44.3253 269.5743,-46.8542\"/>\n</g>\n<!-- 46 -->\n<g id=\"node11\" class=\"node\">\n<title>46</title>\n<path fill=\"#e5833c\" stroke=\"#000000\" d=\"M462,-155C462,-155 334,-155 334,-155 328,-155 322,-149 322,-143 322,-143 322,-84 322,-84 322,-78 328,-72 334,-72 334,-72 462,-72 462,-72 468,-72 474,-78 474,-84 474,-84 474,-143 474,-143 474,-149 468,-155 462,-155\"/>\n<text text-anchor=\"start\" x=\"330\" y=\"-139.8\" font-family=\"Helvetica,sans-Serif\" font-size=\"14.00\" fill=\"#000000\">residual sugar ≤ 1.25</text>\n<text text-anchor=\"start\" x=\"360\" y=\"-124.8\" font-family=\"Helvetica,sans-Serif\" font-size=\"14.00\" fill=\"#000000\">gini = 0.034</text>\n<text text-anchor=\"start\" x=\"350\" y=\"-109.8\" font-family=\"Helvetica,sans-Serif\" font-size=\"14.00\" fill=\"#000000\">samples = 528</text>\n<text text-anchor=\"start\" x=\"348\" y=\"-94.8\" font-family=\"Helvetica,sans-Serif\" font-size=\"14.00\" fill=\"#000000\">value = [519, 9]</text>\n<text text-anchor=\"start\" x=\"369\" y=\"-79.8\" font-family=\"Helvetica,sans-Serif\" font-size=\"14.00\" fill=\"#000000\">class = q</text>\n</g>\n<!-- 45&#45;&gt;46 -->\n<g id=\"edge10\" class=\"edge\">\n<title>45&#45;&gt;46</title>\n<path fill=\"none\" stroke=\"#000000\" d=\"M449.3696,-190.8796C443.57,-182.1434 437.3941,-172.8404 431.4092,-163.8253\"/>\n<polygon fill=\"#000000\" stroke=\"#000000\" points=\"434.1951,-161.6935 425.7483,-155.2981 428.3632,-165.5652 434.1951,-161.6935\"/>\n</g>\n<!-- 81 -->\n<g id=\"node14\" class=\"node\">\n<title>81</title>\n<path fill=\"#e88d4c\" stroke=\"#000000\" d=\"M632,-155C632,-155 504,-155 504,-155 498,-155 492,-149 492,-143 492,-143 492,-84 492,-84 492,-78 498,-72 504,-72 504,-72 632,-72 632,-72 638,-72 644,-78 644,-84 644,-84 644,-143 644,-143 644,-149 638,-155 632,-155\"/>\n<text text-anchor=\"start\" x=\"500\" y=\"-139.8\" font-family=\"Helvetica,sans-Serif\" font-size=\"14.00\" fill=\"#000000\">residual sugar ≤ 2.35</text>\n<text text-anchor=\"start\" x=\"530\" y=\"-124.8\" font-family=\"Helvetica,sans-Serif\" font-size=\"14.00\" fill=\"#000000\">gini = 0.163</text>\n<text text-anchor=\"start\" x=\"520\" y=\"-109.8\" font-family=\"Helvetica,sans-Serif\" font-size=\"14.00\" fill=\"#000000\">samples = 224</text>\n<text text-anchor=\"start\" x=\"514\" y=\"-94.8\" font-family=\"Helvetica,sans-Serif\" font-size=\"14.00\" fill=\"#000000\">value = [204, 20]</text>\n<text text-anchor=\"start\" x=\"539\" y=\"-79.8\" font-family=\"Helvetica,sans-Serif\" font-size=\"14.00\" fill=\"#000000\">class = q</text>\n</g>\n<!-- 45&#45;&gt;81 -->\n<g id=\"edge13\" class=\"edge\">\n<title>45&#45;&gt;81</title>\n<path fill=\"none\" stroke=\"#000000\" d=\"M508.8274,-190.8796C515.6457,-181.9633 522.9156,-172.4565 529.9421,-163.268\"/>\n<polygon fill=\"#000000\" stroke=\"#000000\" points=\"532.7425,-165.3678 536.0368,-155.2981 527.182,-161.1156 532.7425,-165.3678\"/>\n</g>\n<!-- 47 -->\n<g id=\"node12\" class=\"node\">\n<title>47</title>\n<path fill=\"#c0c0c0\" stroke=\"#000000\" d=\"M382,-36C382,-36 352,-36 352,-36 346,-36 340,-30 340,-24 340,-24 340,-12 340,-12 340,-6 346,0 352,0 352,0 382,0 382,0 388,0 394,-6 394,-12 394,-12 394,-24 394,-24 394,-30 388,-36 382,-36\"/>\n<text text-anchor=\"middle\" x=\"367\" y=\"-14.3\" font-family=\"Helvetica,sans-Serif\" font-size=\"14.00\" fill=\"#000000\">(...)</text>\n</g>\n<!-- 46&#45;&gt;47 -->\n<g id=\"edge11\" class=\"edge\">\n<title>46&#45;&gt;47</title>\n<path fill=\"none\" stroke=\"#000000\" d=\"M384.4931,-71.8901C381.648,-63.1253 378.7118,-54.0798 376.0765,-45.9615\"/>\n<polygon fill=\"#000000\" stroke=\"#000000\" points=\"379.3455,-44.6959 372.929,-36.2651 372.6875,-46.8572 379.3455,-44.6959\"/>\n</g>\n<!-- 50 -->\n<g id=\"node13\" class=\"node\">\n<title>50</title>\n<path fill=\"#c0c0c0\" stroke=\"#000000\" d=\"M454,-36C454,-36 424,-36 424,-36 418,-36 412,-30 412,-24 412,-24 412,-12 412,-12 412,-6 418,0 424,0 424,0 454,0 454,0 460,0 466,-6 466,-12 466,-12 466,-24 466,-24 466,-30 460,-36 454,-36\"/>\n<text text-anchor=\"middle\" x=\"439\" y=\"-14.3\" font-family=\"Helvetica,sans-Serif\" font-size=\"14.00\" fill=\"#000000\">(...)</text>\n</g>\n<!-- 46&#45;&gt;50 -->\n<g id=\"edge12\" class=\"edge\">\n<title>46&#45;&gt;50</title>\n<path fill=\"none\" stroke=\"#000000\" d=\"M415.8639,-71.8901C419.6686,-63.0279 423.5965,-53.8788 427.1116,-45.6913\"/>\n<polygon fill=\"#000000\" stroke=\"#000000\" points=\"430.4295,-46.8348 431.1584,-36.2651 423.9972,-44.0733 430.4295,-46.8348\"/>\n</g>\n<!-- 82 -->\n<g id=\"node15\" class=\"node\">\n<title>82</title>\n<path fill=\"#c0c0c0\" stroke=\"#000000\" d=\"M535,-36C535,-36 505,-36 505,-36 499,-36 493,-30 493,-24 493,-24 493,-12 493,-12 493,-6 499,0 505,0 505,0 535,0 535,0 541,0 547,-6 547,-12 547,-12 547,-24 547,-24 547,-30 541,-36 535,-36\"/>\n<text text-anchor=\"middle\" x=\"520\" y=\"-14.3\" font-family=\"Helvetica,sans-Serif\" font-size=\"14.00\" fill=\"#000000\">(...)</text>\n</g>\n<!-- 81&#45;&gt;82 -->\n<g id=\"edge14\" class=\"edge\">\n<title>81&#45;&gt;82</title>\n<path fill=\"none\" stroke=\"#000000\" d=\"M547.0861,-71.8901C542.5829,-62.9305 537.9322,-53.6777 533.7826,-45.4217\"/>\n<polygon fill=\"#000000\" stroke=\"#000000\" points=\"536.7985,-43.6282 529.1804,-36.2651 530.544,-46.7718 536.7985,-43.6282\"/>\n</g>\n<!-- 103 -->\n<g id=\"node16\" class=\"node\">\n<title>103</title>\n<path fill=\"#c0c0c0\" stroke=\"#000000\" d=\"M607,-36C607,-36 577,-36 577,-36 571,-36 565,-30 565,-24 565,-24 565,-12 565,-12 565,-6 571,0 577,0 577,0 607,0 607,0 613,0 619,-6 619,-12 619,-12 619,-24 619,-24 619,-30 613,-36 607,-36\"/>\n<text text-anchor=\"middle\" x=\"592\" y=\"-14.3\" font-family=\"Helvetica,sans-Serif\" font-size=\"14.00\" fill=\"#000000\">(...)</text>\n</g>\n<!-- 81&#45;&gt;103 -->\n<g id=\"edge15\" class=\"edge\">\n<title>81&#45;&gt;103</title>\n<path fill=\"none\" stroke=\"#000000\" d=\"M578.4569,-71.8901C580.6351,-63.2227 582.8823,-54.2808 584.9049,-46.2325\"/>\n<polygon fill=\"#000000\" stroke=\"#000000\" points=\"588.3669,-46.8166 587.4098,-36.2651 581.578,-45.1105 588.3669,-46.8166\"/>\n</g>\n<!-- 129 -->\n<g id=\"node18\" class=\"node\">\n<title>129</title>\n<path fill=\"#efb286\" stroke=\"#000000\" d=\"M887,-274C887,-274 735,-274 735,-274 729,-274 723,-268 723,-262 723,-262 723,-203 723,-203 723,-197 729,-191 735,-191 735,-191 887,-191 887,-191 893,-191 899,-197 899,-203 899,-203 899,-262 899,-262 899,-268 893,-274 887,-274\"/>\n<text text-anchor=\"start\" x=\"731\" y=\"-258.8\" font-family=\"Helvetica,sans-Serif\" font-size=\"14.00\" fill=\"#000000\">total sulfur dioxide ≤ 14.5</text>\n<text text-anchor=\"start\" x=\"773\" y=\"-243.8\" font-family=\"Helvetica,sans-Serif\" font-size=\"14.00\" fill=\"#000000\">gini = 0.404</text>\n<text text-anchor=\"start\" x=\"767\" y=\"-228.8\" font-family=\"Helvetica,sans-Serif\" font-size=\"14.00\" fill=\"#000000\">samples = 89</text>\n<text text-anchor=\"start\" x=\"761\" y=\"-213.8\" font-family=\"Helvetica,sans-Serif\" font-size=\"14.00\" fill=\"#000000\">value = [64, 25]</text>\n<text text-anchor=\"start\" x=\"782\" y=\"-198.8\" font-family=\"Helvetica,sans-Serif\" font-size=\"14.00\" fill=\"#000000\">class = q</text>\n</g>\n<!-- 128&#45;&gt;129 -->\n<g id=\"edge17\" class=\"edge\">\n<title>128&#45;&gt;129</title>\n<path fill=\"none\" stroke=\"#000000\" d=\"M811,-309.8796C811,-301.6838 811,-292.9891 811,-284.5013\"/>\n<polygon fill=\"#000000\" stroke=\"#000000\" points=\"814.5001,-284.298 811,-274.2981 807.5001,-284.2981 814.5001,-284.298\"/>\n</g>\n<!-- 158 -->\n<g id=\"node25\" class=\"node\">\n<title>158</title>\n<path fill=\"#8dc6f0\" stroke=\"#000000\" d=\"M1162,-274C1162,-274 1012,-274 1012,-274 1006,-274 1000,-268 1000,-262 1000,-262 1000,-203 1000,-203 1000,-197 1006,-191 1012,-191 1012,-191 1162,-191 1162,-191 1168,-191 1174,-197 1174,-203 1174,-203 1174,-262 1174,-262 1174,-268 1168,-274 1162,-274\"/>\n<text text-anchor=\"start\" x=\"1008\" y=\"-258.8\" font-family=\"Helvetica,sans-Serif\" font-size=\"14.00\" fill=\"#000000\">free sulfur dioxide ≤ 18.5</text>\n<text text-anchor=\"start\" x=\"1049\" y=\"-243.8\" font-family=\"Helvetica,sans-Serif\" font-size=\"14.00\" fill=\"#000000\">gini = 0.418</text>\n<text text-anchor=\"start\" x=\"1043\" y=\"-228.8\" font-family=\"Helvetica,sans-Serif\" font-size=\"14.00\" fill=\"#000000\">samples = 74</text>\n<text text-anchor=\"start\" x=\"1037\" y=\"-213.8\" font-family=\"Helvetica,sans-Serif\" font-size=\"14.00\" fill=\"#000000\">value = [22, 52]</text>\n<text text-anchor=\"start\" x=\"1058\" y=\"-198.8\" font-family=\"Helvetica,sans-Serif\" font-size=\"14.00\" fill=\"#000000\">class = u</text>\n</g>\n<!-- 128&#45;&gt;158 -->\n<g id=\"edge24\" class=\"edge\">\n<title>128&#45;&gt;158</title>\n<path fill=\"none\" stroke=\"#000000\" d=\"M876.7582,-323.1477C910.7122,-308.5081 952.792,-290.3651 990.3643,-274.1654\"/>\n<polygon fill=\"#000000\" stroke=\"#000000\" points=\"992.0147,-277.2653 999.8118,-270.092 989.2432,-270.8374 992.0147,-277.2653\"/>\n</g>\n<!-- 130 -->\n<g id=\"node19\" class=\"node\">\n<title>130</title>\n<path fill=\"#b0d8f5\" stroke=\"#000000\" d=\"M781.5,-155C781.5,-155 674.5,-155 674.5,-155 668.5,-155 662.5,-149 662.5,-143 662.5,-143 662.5,-84 662.5,-84 662.5,-78 668.5,-72 674.5,-72 674.5,-72 781.5,-72 781.5,-72 787.5,-72 793.5,-78 793.5,-84 793.5,-84 793.5,-143 793.5,-143 793.5,-149 787.5,-155 781.5,-155\"/>\n<text text-anchor=\"start\" x=\"670.5\" y=\"-139.8\" font-family=\"Helvetica,sans-Serif\" font-size=\"14.00\" fill=\"#000000\">sulphates ≤ 0.575</text>\n<text text-anchor=\"start\" x=\"690\" y=\"-124.8\" font-family=\"Helvetica,sans-Serif\" font-size=\"14.00\" fill=\"#000000\">gini = 0.469</text>\n<text text-anchor=\"start\" x=\"684\" y=\"-109.8\" font-family=\"Helvetica,sans-Serif\" font-size=\"14.00\" fill=\"#000000\">samples = 24</text>\n<text text-anchor=\"start\" x=\"682.5\" y=\"-94.8\" font-family=\"Helvetica,sans-Serif\" font-size=\"14.00\" fill=\"#000000\">value = [9, 15]</text>\n<text text-anchor=\"start\" x=\"699\" y=\"-79.8\" font-family=\"Helvetica,sans-Serif\" font-size=\"14.00\" fill=\"#000000\">class = u</text>\n</g>\n<!-- 129&#45;&gt;130 -->\n<g id=\"edge18\" class=\"edge\">\n<title>129&#45;&gt;130</title>\n<path fill=\"none\" stroke=\"#000000\" d=\"M781.9706,-190.8796C775.8145,-182.0534 769.2549,-172.6485 762.9064,-163.5466\"/>\n<polygon fill=\"#000000\" stroke=\"#000000\" points=\"765.7448,-161.4978 757.1533,-155.2981 760.0033,-165.5024 765.7448,-161.4978\"/>\n</g>\n<!-- 141 -->\n<g id=\"node22\" class=\"node\">\n<title>141</title>\n<path fill=\"#ea985d\" stroke=\"#000000\" d=\"M974,-155C974,-155 824,-155 824,-155 818,-155 812,-149 812,-143 812,-143 812,-84 812,-84 812,-78 818,-72 824,-72 824,-72 974,-72 974,-72 980,-72 986,-78 986,-84 986,-84 986,-143 986,-143 986,-149 980,-155 974,-155\"/>\n<text text-anchor=\"start\" x=\"820\" y=\"-139.8\" font-family=\"Helvetica,sans-Serif\" font-size=\"14.00\" fill=\"#000000\">free sulfur dioxide ≤ 31.5</text>\n<text text-anchor=\"start\" x=\"865.5\" y=\"-124.8\" font-family=\"Helvetica,sans-Serif\" font-size=\"14.00\" fill=\"#000000\">gini = 0.26</text>\n<text text-anchor=\"start\" x=\"855\" y=\"-109.8\" font-family=\"Helvetica,sans-Serif\" font-size=\"14.00\" fill=\"#000000\">samples = 65</text>\n<text text-anchor=\"start\" x=\"849\" y=\"-94.8\" font-family=\"Helvetica,sans-Serif\" font-size=\"14.00\" fill=\"#000000\">value = [55, 10]</text>\n<text text-anchor=\"start\" x=\"870\" y=\"-79.8\" font-family=\"Helvetica,sans-Serif\" font-size=\"14.00\" fill=\"#000000\">class = q</text>\n</g>\n<!-- 129&#45;&gt;141 -->\n<g id=\"edge21\" class=\"edge\">\n<title>129&#45;&gt;141</title>\n<path fill=\"none\" stroke=\"#000000\" d=\"M841.7781,-190.8796C848.3051,-182.0534 855.2599,-172.6485 861.9908,-163.5466\"/>\n<polygon fill=\"#000000\" stroke=\"#000000\" points=\"864.9588,-165.4195 868.0905,-155.2981 859.3305,-161.2574 864.9588,-165.4195\"/>\n</g>\n<!-- 131 -->\n<g id=\"node20\" class=\"node\">\n<title>131</title>\n<path fill=\"#c0c0c0\" stroke=\"#000000\" d=\"M684,-36C684,-36 654,-36 654,-36 648,-36 642,-30 642,-24 642,-24 642,-12 642,-12 642,-6 648,0 654,0 654,0 684,0 684,0 690,0 696,-6 696,-12 696,-12 696,-24 696,-24 696,-30 690,-36 684,-36\"/>\n<text text-anchor=\"middle\" x=\"669\" y=\"-14.3\" font-family=\"Helvetica,sans-Serif\" font-size=\"14.00\" fill=\"#000000\">(...)</text>\n</g>\n<!-- 130&#45;&gt;131 -->\n<g id=\"edge19\" class=\"edge\">\n<title>130&#45;&gt;131</title>\n<path fill=\"none\" stroke=\"#000000\" d=\"M702.2934,-71.8901C696.6378,-62.7357 690.7931,-53.2752 685.6094,-44.8847\"/>\n<polygon fill=\"#000000\" stroke=\"#000000\" points=\"688.5177,-42.9329 680.2842,-36.2651 682.5625,-46.6121 688.5177,-42.9329\"/>\n</g>\n<!-- 138 -->\n<g id=\"node21\" class=\"node\">\n<title>138</title>\n<path fill=\"#c0c0c0\" stroke=\"#000000\" d=\"M756,-36C756,-36 726,-36 726,-36 720,-36 714,-30 714,-24 714,-24 714,-12 714,-12 714,-6 720,0 726,0 726,0 756,0 756,0 762,0 768,-6 768,-12 768,-12 768,-24 768,-24 768,-30 762,-36 756,-36\"/>\n<text text-anchor=\"middle\" x=\"741\" y=\"-14.3\" font-family=\"Helvetica,sans-Serif\" font-size=\"14.00\" fill=\"#000000\">(...)</text>\n</g>\n<!-- 130&#45;&gt;138 -->\n<g id=\"edge20\" class=\"edge\">\n<title>130&#45;&gt;138</title>\n<path fill=\"none\" stroke=\"#000000\" d=\"M733.6642,-71.8901C734.844,-63.2227 736.0613,-54.2808 737.1568,-46.2325\"/>\n<polygon fill=\"#000000\" stroke=\"#000000\" points=\"740.6328,-46.6458 738.5137,-36.2651 733.6967,-45.7016 740.6328,-46.6458\"/>\n</g>\n<!-- 142 -->\n<g id=\"node23\" class=\"node\">\n<title>142</title>\n<path fill=\"#c0c0c0\" stroke=\"#000000\" d=\"M864,-36C864,-36 834,-36 834,-36 828,-36 822,-30 822,-24 822,-24 822,-12 822,-12 822,-6 828,0 834,0 834,0 864,0 864,0 870,0 876,-6 876,-12 876,-12 876,-24 876,-24 876,-30 870,-36 864,-36\"/>\n<text text-anchor=\"middle\" x=\"849\" y=\"-14.3\" font-family=\"Helvetica,sans-Serif\" font-size=\"14.00\" fill=\"#000000\">(...)</text>\n</g>\n<!-- 141&#45;&gt;142 -->\n<g id=\"edge22\" class=\"edge\">\n<title>141&#45;&gt;142</title>\n<path fill=\"none\" stroke=\"#000000\" d=\"M877.2147,-71.8901C872.4728,-62.8331 867.5741,-53.4765 863.2161,-45.1528\"/>\n<polygon fill=\"#000000\" stroke=\"#000000\" points=\"866.302,-43.5009 858.5629,-36.2651 860.1005,-46.7478 866.302,-43.5009\"/>\n</g>\n<!-- 155 -->\n<g id=\"node24\" class=\"node\">\n<title>155</title>\n<path fill=\"#c0c0c0\" stroke=\"#000000\" d=\"M936,-36C936,-36 906,-36 906,-36 900,-36 894,-30 894,-24 894,-24 894,-12 894,-12 894,-6 900,0 906,0 906,0 936,0 936,0 942,0 948,-6 948,-12 948,-12 948,-24 948,-24 948,-30 942,-36 936,-36\"/>\n<text text-anchor=\"middle\" x=\"921\" y=\"-14.3\" font-family=\"Helvetica,sans-Serif\" font-size=\"14.00\" fill=\"#000000\">(...)</text>\n</g>\n<!-- 141&#45;&gt;155 -->\n<g id=\"edge23\" class=\"edge\">\n<title>141&#45;&gt;155</title>\n<path fill=\"none\" stroke=\"#000000\" d=\"M908.5855,-71.8901C910.5822,-63.2227 912.6421,-54.2808 914.4962,-46.2325\"/>\n<polygon fill=\"#000000\" stroke=\"#000000\" points=\"917.9581,-46.7956 916.7923,-36.2651 911.1367,-45.2241 917.9581,-46.7956\"/>\n</g>\n<!-- 159 -->\n<g id=\"node26\" class=\"node\">\n<title>159</title>\n<path fill=\"#63b2eb\" stroke=\"#000000\" d=\"M1158,-155C1158,-155 1016,-155 1016,-155 1010,-155 1004,-149 1004,-143 1004,-143 1004,-84 1004,-84 1004,-78 1010,-72 1016,-72 1016,-72 1158,-72 1158,-72 1164,-72 1170,-78 1170,-84 1170,-84 1170,-143 1170,-143 1170,-149 1164,-155 1158,-155\"/>\n<text text-anchor=\"start\" x=\"1012\" y=\"-139.8\" font-family=\"Helvetica,sans-Serif\" font-size=\"14.00\" fill=\"#000000\">free sulfur dioxide ≤ 8.0</text>\n<text text-anchor=\"start\" x=\"1049\" y=\"-124.8\" font-family=\"Helvetica,sans-Serif\" font-size=\"14.00\" fill=\"#000000\">gini = 0.291</text>\n<text text-anchor=\"start\" x=\"1043\" y=\"-109.8\" font-family=\"Helvetica,sans-Serif\" font-size=\"14.00\" fill=\"#000000\">samples = 51</text>\n<text text-anchor=\"start\" x=\"1041.5\" y=\"-94.8\" font-family=\"Helvetica,sans-Serif\" font-size=\"14.00\" fill=\"#000000\">value = [9, 42]</text>\n<text text-anchor=\"start\" x=\"1058\" y=\"-79.8\" font-family=\"Helvetica,sans-Serif\" font-size=\"14.00\" fill=\"#000000\">class = u</text>\n</g>\n<!-- 158&#45;&gt;159 -->\n<g id=\"edge25\" class=\"edge\">\n<title>158&#45;&gt;159</title>\n<path fill=\"none\" stroke=\"#000000\" d=\"M1087,-190.8796C1087,-182.6838 1087,-173.9891 1087,-165.5013\"/>\n<polygon fill=\"#000000\" stroke=\"#000000\" points=\"1090.5001,-165.298 1087,-155.2981 1083.5001,-165.2981 1090.5001,-165.298\"/>\n</g>\n<!-- 174 -->\n<g id=\"node29\" class=\"node\">\n<title>174</title>\n<path fill=\"#f9e2d1\" stroke=\"#000000\" d=\"M1292,-155C1292,-155 1200,-155 1200,-155 1194,-155 1188,-149 1188,-143 1188,-143 1188,-84 1188,-84 1188,-78 1194,-72 1200,-72 1200,-72 1292,-72 1292,-72 1298,-72 1304,-78 1304,-84 1304,-84 1304,-143 1304,-143 1304,-149 1298,-155 1292,-155\"/>\n<text text-anchor=\"start\" x=\"1214.5\" y=\"-139.8\" font-family=\"Helvetica,sans-Serif\" font-size=\"14.00\" fill=\"#000000\">pH ≤ 3.36</text>\n<text text-anchor=\"start\" x=\"1208\" y=\"-124.8\" font-family=\"Helvetica,sans-Serif\" font-size=\"14.00\" fill=\"#000000\">gini = 0.491</text>\n<text text-anchor=\"start\" x=\"1202\" y=\"-109.8\" font-family=\"Helvetica,sans-Serif\" font-size=\"14.00\" fill=\"#000000\">samples = 23</text>\n<text text-anchor=\"start\" x=\"1196\" y=\"-94.8\" font-family=\"Helvetica,sans-Serif\" font-size=\"14.00\" fill=\"#000000\">value = [13, 10]</text>\n<text text-anchor=\"start\" x=\"1217\" y=\"-79.8\" font-family=\"Helvetica,sans-Serif\" font-size=\"14.00\" fill=\"#000000\">class = q</text>\n</g>\n<!-- 158&#45;&gt;174 -->\n<g id=\"edge28\" class=\"edge\">\n<title>158&#45;&gt;174</title>\n<path fill=\"none\" stroke=\"#000000\" d=\"M1142.6105,-190.8796C1155.4403,-181.2774 1169.1852,-170.9903 1182.3286,-161.1534\"/>\n<polygon fill=\"#000000\" stroke=\"#000000\" points=\"1184.5121,-163.891 1190.4209,-155.0969 1180.3177,-158.2868 1184.5121,-163.891\"/>\n</g>\n<!-- 160 -->\n<g id=\"node27\" class=\"node\">\n<title>160</title>\n<path fill=\"#c0c0c0\" stroke=\"#000000\" d=\"M1055,-36C1055,-36 1025,-36 1025,-36 1019,-36 1013,-30 1013,-24 1013,-24 1013,-12 1013,-12 1013,-6 1019,0 1025,0 1025,0 1055,0 1055,0 1061,0 1067,-6 1067,-12 1067,-12 1067,-24 1067,-24 1067,-30 1061,-36 1055,-36\"/>\n<text text-anchor=\"middle\" x=\"1040\" y=\"-14.3\" font-family=\"Helvetica,sans-Serif\" font-size=\"14.00\" fill=\"#000000\">(...)</text>\n</g>\n<!-- 159&#45;&gt;160 -->\n<g id=\"edge26\" class=\"edge\">\n<title>159&#45;&gt;160</title>\n<path fill=\"none\" stroke=\"#000000\" d=\"M1066.5218,-71.8901C1062.1124,-62.9305 1057.5586,-53.6777 1053.4955,-45.4217\"/>\n<polygon fill=\"#000000\" stroke=\"#000000\" points=\"1056.5451,-43.6919 1048.9891,-36.2651 1050.2645,-46.7829 1056.5451,-43.6919\"/>\n</g>\n<!-- 171 -->\n<g id=\"node28\" class=\"node\">\n<title>171</title>\n<path fill=\"#c0c0c0\" stroke=\"#000000\" d=\"M1127,-36C1127,-36 1097,-36 1097,-36 1091,-36 1085,-30 1085,-24 1085,-24 1085,-12 1085,-12 1085,-6 1091,0 1097,0 1097,0 1127,0 1127,0 1133,0 1139,-6 1139,-12 1139,-12 1139,-24 1139,-24 1139,-30 1133,-36 1127,-36\"/>\n<text text-anchor=\"middle\" x=\"1112\" y=\"-14.3\" font-family=\"Helvetica,sans-Serif\" font-size=\"14.00\" fill=\"#000000\">(...)</text>\n</g>\n<!-- 159&#45;&gt;171 -->\n<g id=\"edge27\" class=\"edge\">\n<title>159&#45;&gt;171</title>\n<path fill=\"none\" stroke=\"#000000\" d=\"M1097.8926,-71.8901C1100.1871,-63.1253 1102.555,-54.0798 1104.6802,-45.9615\"/>\n<polygon fill=\"#000000\" stroke=\"#000000\" points=\"1108.0719,-46.8255 1107.2186,-36.2651 1101.3001,-45.0527 1108.0719,-46.8255\"/>\n</g>\n<!-- 175 -->\n<g id=\"node30\" class=\"node\">\n<title>175</title>\n<path fill=\"#c0c0c0\" stroke=\"#000000\" d=\"M1225,-36C1225,-36 1195,-36 1195,-36 1189,-36 1183,-30 1183,-24 1183,-24 1183,-12 1183,-12 1183,-6 1189,0 1195,0 1195,0 1225,0 1225,0 1231,0 1237,-6 1237,-12 1237,-12 1237,-24 1237,-24 1237,-30 1231,-36 1225,-36\"/>\n<text text-anchor=\"middle\" x=\"1210\" y=\"-14.3\" font-family=\"Helvetica,sans-Serif\" font-size=\"14.00\" fill=\"#000000\">(...)</text>\n</g>\n<!-- 174&#45;&gt;175 -->\n<g id=\"edge29\" class=\"edge\">\n<title>174&#45;&gt;175</title>\n<path fill=\"none\" stroke=\"#000000\" d=\"M1230.3146,-71.8901C1226.9739,-63.0279 1223.525,-53.8788 1220.4386,-45.6913\"/>\n<polygon fill=\"#000000\" stroke=\"#000000\" points=\"1223.6877,-44.3878 1216.8853,-36.2651 1217.1376,-46.8569 1223.6877,-44.3878\"/>\n</g>\n<!-- 182 -->\n<g id=\"node31\" class=\"node\">\n<title>182</title>\n<path fill=\"#c0c0c0\" stroke=\"#000000\" d=\"M1297,-36C1297,-36 1267,-36 1267,-36 1261,-36 1255,-30 1255,-24 1255,-24 1255,-12 1255,-12 1255,-6 1261,0 1267,0 1267,0 1297,0 1297,0 1303,0 1309,-6 1309,-12 1309,-12 1309,-24 1309,-24 1309,-30 1303,-36 1297,-36\"/>\n<text text-anchor=\"middle\" x=\"1282\" y=\"-14.3\" font-family=\"Helvetica,sans-Serif\" font-size=\"14.00\" fill=\"#000000\">(...)</text>\n</g>\n<!-- 174&#45;&gt;182 -->\n<g id=\"edge30\" class=\"edge\">\n<title>174&#45;&gt;182</title>\n<path fill=\"none\" stroke=\"#000000\" d=\"M1261.6854,-71.8901C1265.0261,-63.0279 1268.475,-53.8788 1271.5614,-45.6913\"/>\n<polygon fill=\"#000000\" stroke=\"#000000\" points=\"1274.8624,-46.8569 1275.1147,-36.2651 1268.3123,-44.3878 1274.8624,-46.8569\"/>\n</g>\n</g>\n</svg>\n"
          },
          "metadata": {},
          "execution_count": 11
        }
      ],
      "source": [
        "dot_data = tree.export_graphviz(decTree, out_file=None, \n",
        "                      feature_names=features_df.columns.to_list(),  \n",
        "                      class_names='quality',\n",
        "                      filled=True, rounded=True,\n",
        "                      max_depth=3,\n",
        "                      special_characters=True)  \n",
        "graph = graphviz.Source(dot_data)  \n",
        "graph "
      ]
    },
    {
      "cell_type": "markdown",
      "metadata": {
        "id": "yQRg2V_aSn0y"
      },
      "source": [
        "According to the Decision Tree model, `alcohol` is the strongest determinator. When there's more than `11.5%` alcohol in the wine, the amount of sulphates (sulfates) would determine its taste. Otherwise, it would be the acidity.\n",
        "\n",
        "Let's investigate the data based on this data."
      ]
    },
    {
      "cell_type": "code",
      "execution_count": null,
      "metadata": {
        "colab": {
          "base_uri": "https://localhost:8080/"
        },
        "id": "tV3iSj116JB_",
        "outputId": "3c7be073-e19a-42d1-b33f-45fe97f0e2b6"
      },
      "outputs": [
        {
          "output_type": "execute_result",
          "data": {
            "text/plain": [
              "False    1242\n",
              "True      107\n",
              "Name: label, dtype: int64"
            ]
          },
          "metadata": {},
          "execution_count": 12
        }
      ],
      "source": [
        "# We add our True/False quality label to the dataset\n",
        "df['label'] = label\n",
        "# And count how many of them are True/False when the alcohol is less than 11.55 \n",
        "df[df['alcohol'] <= 11.55]['label'].value_counts()"
      ]
    },
    {
      "cell_type": "code",
      "execution_count": null,
      "metadata": {
        "colab": {
          "base_uri": "https://localhost:8080/"
        },
        "id": "I4b8e0Cp63wm",
        "outputId": "d0a2005e-2647-49be-ea69-9ea92acc17d8"
      },
      "outputs": [
        {
          "output_type": "execute_result",
          "data": {
            "text/plain": [
              "False    140\n",
              "True     110\n",
              "Name: label, dtype: int64"
            ]
          },
          "metadata": {},
          "execution_count": 13
        }
      ],
      "source": [
        "# And when it is above it:\n",
        "df[df['alcohol'] > 11.55]['label'].value_counts()"
      ]
    },
    {
      "cell_type": "markdown",
      "metadata": {
        "id": "0ay6tdbG7Pnt"
      },
      "source": [
        "The `.value_counts()` method of `pandas` gives us the number of rows corresponds to the unique values in the column. You can read about it more here: https://pandas.pydata.org/docs/reference/api/pandas.Series.value_counts.html\n",
        "\n",
        "How can you convert these counts into percentage of the total dataset size?"
      ]
    },
    {
      "cell_type": "code",
      "execution_count": null,
      "metadata": {
        "id": "jx5SHKJF7KnD",
        "colab": {
          "base_uri": "https://localhost:8080/",
          "height": 53
        },
        "outputId": "0739a81d-031e-4dec-d212-70f69e2de680"
      },
      "outputs": [
        {
          "output_type": "execute_result",
          "data": {
            "application/vnd.google.colaboratory.intrinsic+json": {
              "type": "string"
            },
            "text/plain": [
              "'\\nWrite code here to calculate the _percentage_ of good wine (True) compared to \\nok/bad wine (False) in the dataset, based on the alcohol column.\\n\\nTry different values to divide the alcohol percentage with, such as:\\n   11, 11.55, 12 \\nhow does these values affect the ratio?\\n'"
            ]
          },
          "metadata": {},
          "execution_count": 14
        }
      ],
      "source": [
        "### YOUR TURN ###\n",
        "\"\"\"\n",
        "Write code here to calculate the _percentage_ of good wine (True) compared to \n",
        "ok/bad wine (False) in the dataset, based on the alcohol column.\n",
        "\n",
        "Try different values to divide the alcohol percentage with, such as:\n",
        "   11, 11.55, 12 \n",
        "how does these values affect the ratio?\n",
        "\"\"\"\n",
        "\n",
        "\n",
        "\n",
        "##################"
      ]
    },
    {
      "cell_type": "markdown",
      "metadata": {
        "id": "vwKEhGJM8DE1"
      },
      "source": [
        "## Assesing a model"
      ]
    },
    {
      "cell_type": "markdown",
      "metadata": {
        "id": "zhd55Dcw8bvf"
      },
      "source": [
        "In the preparation part, we have divided our data to train and test-set.\n",
        "The test set helps us to see how well our model learned: does it only memorize the data, or can it infer and perform also n new, unseen data from the same distribution. This is referred to as the ability of a model **to generalize**."
      ]
    },
    {
      "cell_type": "markdown",
      "metadata": {
        "id": "R9pYMllm847C"
      },
      "source": [
        "There are [many methods](https://scikit-learn.org/stable/modules/classes.html?highlight=metrics#sklearn-metrics-metrics) to asses the model performance. These methods differ based on the task in hand: [classification](https://scikit-learn.org/stable/modules/classes.html?highlight=metrics#classification-metrics), [regression](https://scikit-learn.org/stable/modules/classes.html?highlight=metrics#regression-metrics), [clustering](https://scikit-learn.org/stable/modules/classes.html?highlight=metrics#clustering-metrics), etc.\n",
        "But they all have one thing in common: They all measure some kind of a **distance**: for example, in our classification task, they measure the distance between our model's outputs, the *predicted values*, to our `y`, our pre-defined labels. Hence giving us an indicator about the quality of the model predictions."
      ]
    },
    {
      "cell_type": "markdown",
      "metadata": {
        "id": "cSTRxaTF_l3_"
      },
      "source": [
        "We will use an assessment called [F-Score](https://deepai.org/machine-learning-glossary-and-terms/f-score).\n",
        "\n",
        "If you are not familiar yet with precision, recall, and f-score, please take a few minutes to read the explanation and examples here:\n",
        "https://deepai.org/machine-learning-glossary-and-terms/f-score\n",
        "\n",
        "If you are familiar with sensitivity and specificity:\n",
        "* In what ways do precision and recall are similar to sensitivity and specificity?\n",
        "* In what ways do they differ?\n",
        "\n",
        "Compare your answers to this explanation: https://uberpython.wordpress.com/2012/01/01/precision-recall-sensitivity-and-specificity/"
      ]
    },
    {
      "cell_type": "code",
      "execution_count": null,
      "metadata": {
        "colab": {
          "base_uri": "https://localhost:8080/"
        },
        "id": "p5XXjD7W832Z",
        "outputId": "a41594d8-7a08-45c8-dd8c-b232cac278a6"
      },
      "outputs": [
        {
          "output_type": "stream",
          "name": "stdout",
          "text": [
            "              precision    recall  f1-score   support\n",
            "\n",
            "     OK wine       0.92      0.89      0.91       451\n",
            "   Good wine       0.47      0.56      0.51        77\n",
            "\n",
            "    accuracy                           0.84       528\n",
            "   macro avg       0.69      0.72      0.71       528\n",
            "weighted avg       0.86      0.84      0.85       528\n",
            "\n"
          ]
        }
      ],
      "source": [
        "# sklearn.metrics library contains precision, recall, f-score, specificity and sensitivity\n",
        "pred_test = decTree.predict(X_test)\n",
        "print(classification_report(y_test, pred_test, target_names=['OK wine', 'Good wine']))"
      ]
    },
    {
      "cell_type": "markdown",
      "metadata": {
        "id": "5F8YliL5USN5"
      },
      "source": [
        "Another metric for binary classification is [ROC](https://en.wikipedia.org/wiki/Receiver_operating_characteristic) curves.\n",
        "\n",
        "Scikit-learn has [tools](https://scikit-learn.org/stable/modules/model_evaluation.html#receiver-operating-characteristic-roc) for [plotting](https://scikit-learn.org/stable/modules/generated/sklearn.metrics.RocCurveDisplay.html) those curves.\n",
        "\n",
        "Calculate and plot here the ROC curve of our classifier results on the test-set:\n",
        "\n",
        "* What is your Area Under Curve (AUC) score?\n",
        "* We have previously set the quality level to 6.5. \n",
        "  What is the AUC score when defining the good wines score as above 7?"
      ]
    },
    {
      "cell_type": "code",
      "execution_count": null,
      "metadata": {
        "id": "uVIqR3BpUKym"
      },
      "outputs": [],
      "source": [
        "from sklearn.metrics import roc_curve, roc_auc_score\n",
        "\n",
        "### YOUR TURN ###\n",
        "# Write your code here\n",
        "\n",
        "\n",
        "\n",
        "\n",
        "\n",
        "\n"
      ]
    },
    {
      "cell_type": "markdown",
      "metadata": {
        "id": "ChY7lIoQlsht"
      },
      "source": [
        "## Attribute Selection Measurement\n",
        "\n",
        "As we showed in the class, in every calculation step, the [DecisionTreeClassifier](https://scikit-learn.org/stable/modules/generated/sklearn.tree.DecisionTreeClassifier.html#sklearn-tree-decisiontreeclassifier) must select the *most valuable feature*, the best attribute, by which to divide the data. How does that work?\n",
        "\n",
        "There are two main methods of measuring the feature contribution, which are referred to as the **purity** of the features.\n",
        "\n",
        "[Purity](https://en.wikipedia.org/wiki/Information_gain_in_decision_trees) is the metric according to which a decision is made whether to split a node. Purity is the fraction (the percentage) of points that corresponds to the majority label. A node is *100% impure* when it is split evenly - 50/50, and it is *100% pure* when all of its data belongs to a single class.\n",
        "\n",
        "Based on the purity measurement, the two methods are:\n",
        "\n",
        "* **Information gain** (aka **Entropy**) - the measurement of changes in entropy after the segmentation of a dataset based on an attribute.\n",
        "  \n",
        "  *Information Gain* = *Entropy*(Total # of Samples) - [(Weighted Avg) * *Entropy*(each feature)]\n",
        "  \n",
        "  *Entropy* (sample) = $-P(yes) * log_2 P(yes)- P(no) * log_2 P(no)$\n",
        "\n",
        "  If a node is pure, that is, has all the points from the same class, then the entropy is zero. On the other hand, if the classes are all mixed up, and each appears with equal probability for any of the *k* features - $ P(C_i) = \\frac{1}{k} $  then the entropy has the highest value.\n",
        "\n",
        "* **Gini Index** (aka [Gini impurity](https://en.wikipedia.org/wiki/Decision_tree_learning#Gini_impurity)) - a random-sampling based probability measurement of the purity of the data. It measures how often a randomly chosen row from the data table would be incorrectly labeled if it was randomly labeled according to the distribution of labels in the subset.\n",
        "  Its calculation formula is $1 - ∑_i^kP(C_i)^2$\n",
        "\n",
        "  Or, in words, one minus the squared sum of probabilities of each class. The lower the Gini index value, the better the split point is. If the node-division is pure, then the probability of the majority class is 1, and the probability of all other classes is 0, and thus, the Gini index is 0. On the other hand, when each class is equally represented, with probability $P(C_i) = 1$, then higher values of the Gini index indicate more disorder, and lower values indicate more order in terms of the class labels.\n",
        "\n",
        "\n",
        "The DecisionTreeClassifier supports both options, and the default one (which we just used) is the 'Gini Index'.\n",
        "\n",
        "### Exercise: \n",
        "Try replacing the Gini Index with entropy - check the documentation for how to perform this. \n",
        "> Observe: How does the entropy method affect the results?\n",
        "\n",
        "## Shallow Decision Tree\n",
        "\n",
        "One of the attributes of the [DecisionTreeClassifier](https://scikit-learn.org/stable/modules/generated/sklearn.tree.DecisionTreeClassifier.html#sklearn-tree-decisiontreeclassifier) is limiting the depth of the tree, not allowing the tree to be deeper than **n** layers.\n",
        "\n",
        "The previously trained Decision-Tree was unlimited in depth. \n",
        "\n",
        "Try limiting it to a depth of 3. \n",
        "> How does it affect the result?"
      ]
    },
    {
      "cell_type": "code",
      "execution_count": null,
      "metadata": {
        "id": "r0z6vtJstcNu"
      },
      "outputs": [],
      "source": [
        "### YOUR TURN ###\n",
        "# Create and train a DecisionTreeClassifier with entropy instead of the \n",
        "# default Gini index.\n",
        "# Calculate the F-Score and the AUC with the test-set, and compare it to the \n",
        "# previous results\n",
        "\n",
        "\n",
        "\n",
        "\n",
        "\n",
        "\n",
        "\n",
        "\n",
        "\n",
        "\n",
        "\n",
        "\n",
        "\n",
        "#################"
      ]
    },
    {
      "cell_type": "markdown",
      "metadata": {
        "id": "j5FFoRdnj4-s"
      },
      "source": [
        "To dive deeper in to Decision-Trees, a recommended reading is https://www.javatpoint.com/machine-learning-decision-tree-classification-algorithm"
      ]
    },
    {
      "cell_type": "markdown",
      "metadata": {
        "id": "hurOgee6sH4I"
      },
      "source": [
        "## Take-aways\n",
        "\n",
        "* Decision Trees are simple to understand and to interpret (White-Box)\n",
        "* They simulate the human rational decision-making process\n",
        "* They can handle both numerical (e.g., alcohol %) and categorical (e.g., colors) features\n",
        "* They require little to no data preparation\n",
        "* They can perform well on both small and large datasets"
      ]
    },
    {
      "cell_type": "markdown",
      "metadata": {
        "id": "XLSaVYi4U8p6"
      },
      "source": [
        "# Regression"
      ]
    },
    {
      "cell_type": "markdown",
      "metadata": {
        "id": "cFiE6gkkU-3U"
      },
      "source": [
        "You have already learned about regression models. Let's rehearse them now using python and Scikit-Learn.\n",
        "\n",
        "We will practice two simple regression models: [Linear Regression](https://scikit-learn.org/stable/modules/linear_model.html#generalized-linear-regression) and [Logistic Regression](https://scikit-learn.org/stable/modules/linear_model.html#logistic-regression).\n"
      ]
    },
    {
      "cell_type": "markdown",
      "source": [
        "## Recap - Linear Regression\n",
        "\n",
        "In linear regression, we try to fit a line - $aX+b$ -  to the data. The objective is to find the parameters $a$ and $b$ so that the distance (e.g. Euclidean) between the points to that line is the minimal. We are looking, therefore, to minimize the average distance. \n",
        "\n",
        "We can imagine these two parameters as a vector $\\vec w = \\begin{bmatrix}\n",
        "           a\\\\\n",
        "           b\n",
        "    \\end{bmatrix}\n",
        "$ \n",
        "This way, the definition can be also extended to additional dimensions and parameters combinations. \n",
        "\n",
        "How do we find the best parameters? The most common technique is called [*Least Squares*](https://en.wikipedia.org/wiki/Least_squares), where we calculate the slope using the formula: $a=\\frac{n\\sum{xy}-\\sum{x}\\sum{y}}{n\\sum{x^2}-\\sum{y^2}}$ (where $n$ is the number of samples) and to calculate the intersection with the y-axis, we can simply calculate: $b = y - ax$, which is based on the average sum of the squares. When it looks to minimize the average, it would look something like this:"
      ],
      "metadata": {
        "id": "cxYixlDddjs5"
      }
    },
    {
      "cell_type": "markdown",
      "source": [
        "![least squares method.gif](data:image/gif;base64,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)"
      ],
      "metadata": {
        "id": "9jE2HxVHl4-T"
      }
    },
    {
      "cell_type": "markdown",
      "source": [
        "Let's get to work.\n",
        "\n",
        "First, let's import the packages we are going to use"
      ],
      "metadata": {
        "id": "OsiHypbJFmM8"
      }
    },
    {
      "cell_type": "code",
      "execution_count": null,
      "metadata": {
        "id": "6irlmevJ5NfR"
      },
      "outputs": [],
      "source": [
        "from sklearn.linear_model import LinearRegression, LogisticRegression  \n",
        "from sklearn.preprocessing import StandardScaler"
      ]
    },
    {
      "cell_type": "markdown",
      "metadata": {
        "id": "RB0ef-cM8ZmP"
      },
      "source": [
        "--- \n",
        "\n",
        "We begin with Linear Regression - and attempt to fit a straight line to our data.\n"
      ]
    },
    {
      "cell_type": "markdown",
      "metadata": {
        "id": "mHHK4fOX5W5E"
      },
      "source": [
        "We begin, as before, by dividing our data and leaving some of it aside to test the model with.\n",
        "\n",
        "This time, we will use the `quality` column as it is: a set of numerical values.\n",
        "We will try to predict the quality score based on the features."
      ]
    },
    {
      "cell_type": "code",
      "execution_count": null,
      "metadata": {
        "id": "VThsQ0b03Ez_"
      },
      "outputs": [],
      "source": [
        "# 'quality' is our label - the column we would like to predict. \n",
        "features_df = df.drop('quality', axis=1)\n",
        "\n",
        "label = df['quality']\n",
        "\n",
        "X_train, X_test, y_train, y_test = train_test_split(features_df, \n",
        "                                                    label, \n",
        "                                                    test_size=0.33, \n",
        "                                                    random_state=42)"
      ]
    },
    {
      "cell_type": "code",
      "execution_count": null,
      "metadata": {
        "colab": {
          "base_uri": "https://localhost:8080/"
        },
        "id": "r9LEQhP_uSQX",
        "outputId": "1dc4eaa8-81f0-4b59-a1ee-819ec481605b"
      },
      "outputs": [
        {
          "output_type": "execute_result",
          "data": {
            "text/plain": [
              "LinearRegression()"
            ]
          },
          "metadata": {},
          "execution_count": 20
        }
      ],
      "source": [
        "regressor = LinearRegression()  \n",
        "regressor.fit(X_train, y_train)"
      ]
    },
    {
      "cell_type": "markdown",
      "metadata": {
        "id": "1JVz7-CS5Qle"
      },
      "source": [
        "Let's see how well did our Linear Regressor do on our saved-aside test set:"
      ]
    },
    {
      "cell_type": "code",
      "execution_count": null,
      "metadata": {
        "colab": {
          "base_uri": "https://localhost:8080/"
        },
        "id": "fXLwMXLx11hr",
        "outputId": "4b2bec0e-fd61-4c55-bc75-8bd95e9c9cc1"
      },
      "outputs": [
        {
          "output_type": "stream",
          "name": "stdout",
          "text": [
            "predictions:  [5.34555675 5.1382492  5.48770853 5.42014113 5.53690683]\n",
            "rounded predictions:  [5, 5, 5, 5, 6]\n",
            "true values:  [6, 5, 6, 5, 6]\n"
          ]
        }
      ],
      "source": [
        "y_pred= regressor.predict(X_test)\n",
        "\n",
        "print('predictions: ', y_pred[:5])\n",
        "print('rounded predictions: ', list(map(round, y_pred))[:5])\n",
        "print('true values: ', y_test.to_list()[:5])"
      ]
    },
    {
      "cell_type": "markdown",
      "metadata": {
        "id": "6XnN07Zu7ZV0"
      },
      "source": [
        "Let's plot the predictions.\n",
        "\n",
        "The true values are the blue dots, and the red are our predictions.\n",
        "\n",
        "You can switch between the commentted lines to compare the rounded points and the true value of the regressor classifier."
      ]
    },
    {
      "cell_type": "code",
      "execution_count": null,
      "metadata": {
        "colab": {
          "base_uri": "https://localhost:8080/",
          "height": 285
        },
        "id": "W7VzgUcZ6R4i",
        "outputId": "0f64b454-9150-40f6-c307-adebce956096"
      },
      "outputs": [
        {
          "output_type": "execute_result",
          "data": {
            "text/plain": [
              "<matplotlib.collections.PathCollection at 0x7facfccf6c90>"
            ]
          },
          "metadata": {},
          "execution_count": 22
        },
        {
          "output_type": "display_data",
          "data": {
            "image/png": "[encoded data removed]",
            "text/plain": [
              "<Figure size 432x288 with 1 Axes>"
            ]
          },
          "metadata": {
            "needs_background": "light"
          }
        }
      ],
      "source": [
        "# num_of_points = len(y_test)\n",
        "num_of_points = 100\n",
        "\n",
        "plt.scatter(range(num_of_points), y_test[:num_of_points])\n",
        "\n",
        "# plot the rounded points:\n",
        "plt.scatter(range(num_of_points), list(map(round, y_pred))[:num_of_points], color=\"red\")\n",
        "\n",
        "# plot the true regression values\n",
        "# plt.scatter(range(num_of_points), y_pred[:num_of_points], color=\"red\")"
      ]
    },
    {
      "cell_type": "markdown",
      "metadata": {
        "id": "baVz1Ds45rVO"
      },
      "source": [
        "## Giving it a score\n",
        "\n",
        "For classification, we used classification-related metrics, such as F-Score, Precision, Recall, RUC and AUC scores.\n",
        "\n",
        "We can't use those for regression - we have no classes output.\n",
        "\n",
        "Instead, we need so somehow calculate the **distance** between our predicted results to the real results."
      ]
    },
    {
      "cell_type": "code",
      "execution_count": null,
      "metadata": {
        "colab": {
          "base_uri": "https://localhost:8080/"
        },
        "id": "nfMxq1jp22Sg",
        "outputId": "18e1c4c5-5152-4180-8478-484921425f35"
      },
      "outputs": [
        {
          "output_type": "stream",
          "name": "stdout",
          "text": [
            "mean absolute error:  0.4072606424405148\n",
            "explained variance score:  0.6102893183518037\n"
          ]
        }
      ],
      "source": [
        "from sklearn.metrics import mean_absolute_error, explained_variance_score\n",
        "\n",
        "print('mean absolute error: ', mean_absolute_error(y_test, y_pred))\n",
        "print('explained variance score: ', explained_variance_score(y_test, y_pred))"
      ]
    },
    {
      "cell_type": "markdown",
      "source": [
        "If we round our predictions, the result is slightly better (less error):"
      ],
      "metadata": {
        "id": "6M0CAsdhFpcX"
      }
    },
    {
      "cell_type": "code",
      "source": [
        "print('mean absolute error: ', mean_absolute_error(y_test, list(map(round, y_pred))))\n",
        "print('explained variance score: ', explained_variance_score(y_test, list(map(round, y_pred))))\n"
      ],
      "metadata": {
        "colab": {
          "base_uri": "https://localhost:8080/"
        },
        "id": "gK-fdOnlFY0E",
        "outputId": "7ed13278-d0df-4f4c-a34e-aedefd4df786"
      },
      "execution_count": null,
      "outputs": [
        {
          "output_type": "stream",
          "name": "stdout",
          "text": [
            "mean absolute error:  0.32765151515151514\n",
            "explained variance score:  0.47833693526808685\n"
          ]
        }
      ]
    },
    {
      "cell_type": "markdown",
      "metadata": {
        "id": "wFQ5XlnV8qWT"
      },
      "source": [
        "---\n",
        "\n",
        "Now that we have a number, we can compare that result to a Logistic Regression.\n",
        "\n",
        "Logistic Regression fits a non-straight line, so it can match better to the data. It requires some preparation, though: We need to normalize our data.\n"
      ]
    },
    {
      "cell_type": "code",
      "execution_count": null,
      "metadata": {
        "id": "JoVslqF3_MyE"
      },
      "outputs": [],
      "source": [
        "X_train, X_test, y_train, y_test = train_test_split(features_df, \n",
        "                                                    label, \n",
        "                                                    test_size=0.33, \n",
        "                                                    random_state=42)"
      ]
    },
    {
      "cell_type": "code",
      "execution_count": null,
      "metadata": {
        "id": "NA5p-cDt9rxR"
      },
      "outputs": [],
      "source": [
        "st_x= StandardScaler()    \n",
        "X_train= st_x.fit_transform(X_train)    \n",
        "X_test= st_x.transform(X_test)"
      ]
    },
    {
      "cell_type": "markdown",
      "metadata": {
        "id": "B-4qo9OP-YaF"
      },
      "source": [
        "Let's take a look at our normalized data:"
      ]
    },
    {
      "cell_type": "code",
      "execution_count": null,
      "metadata": {
        "colab": {
          "base_uri": "https://localhost:8080/",
          "height": 468
        },
        "id": "tQ17VtHv-Jss",
        "outputId": "1ae13f81-c74f-4684-939c-25cedfbe817f"
      },
      "outputs": [
        {
          "output_type": "execute_result",
          "data": {
            "text/html": [
              "\n",
              "  <div id=\"df-f09530a0-3218-4810-8397-3ee9587674b5\">\n",
              "    <div class=\"colab-df-container\">\n",
              "      <div>\n",
              "<style scoped>\n",
              "    .dataframe tbody tr th:only-of-type {\n",
              "        vertical-align: middle;\n",
              "    }\n",
              "\n",
              "    .dataframe tbody tr th {\n",
              "        vertical-align: top;\n",
              "    }\n",
              "\n",
              "    .dataframe thead th {\n",
              "        text-align: right;\n",
              "    }\n",
              "</style>\n",
              "<table border=\"1\" class=\"dataframe\">\n",
              "  <thead>\n",
              "    <tr style=\"text-align: right;\">\n",
              "      <th></th>\n",
              "      <th>fixed acidity</th>\n",
              "      <th>volatile acidity</th>\n",
              "      <th>citric acid</th>\n",
              "      <th>residual sugar</th>\n",
              "      <th>chlorides</th>\n",
              "      <th>free sulfur dioxide</th>\n",
              "      <th>total sulfur dioxide</th>\n",
              "      <th>density</th>\n",
              "      <th>pH</th>\n",
              "      <th>sulphates</th>\n",
              "      <th>alcohol</th>\n",
              "      <th>quality</th>\n",
              "    </tr>\n",
              "  </thead>\n",
              "  <tbody>\n",
              "    <tr>\n",
              "      <th>0</th>\n",
              "      <td>2.400695</td>\n",
              "      <td>-1.031037</td>\n",
              "      <td>1.127426</td>\n",
              "      <td>0.037723</td>\n",
              "      <td>-0.184551</td>\n",
              "      <td>1.078264</td>\n",
              "      <td>0.674266</td>\n",
              "      <td>1.422247</td>\n",
              "      <td>-1.260963</td>\n",
              "      <td>0.527261</td>\n",
              "      <td>-0.014319</td>\n",
              "      <td>-0.387783</td>\n",
              "    </tr>\n",
              "    <tr>\n",
              "      <th>1</th>\n",
              "      <td>-0.939671</td>\n",
              "      <td>1.229204</td>\n",
              "      <td>-1.325022</td>\n",
              "      <td>-0.104411</td>\n",
              "      <td>-0.205698</td>\n",
              "      <td>0.105783</td>\n",
              "      <td>-0.447656</td>\n",
              "      <td>-0.694295</td>\n",
              "      <td>1.526228</td>\n",
              "      <td>-0.282257</td>\n",
              "      <td>2.243632</td>\n",
              "      <td>-0.387783</td>\n",
              "    </tr>\n",
              "    <tr>\n",
              "      <th>2</th>\n",
              "      <td>-0.998274</td>\n",
              "      <td>0.551132</td>\n",
              "      <td>-1.376115</td>\n",
              "      <td>1.245861</td>\n",
              "      <td>0.111497</td>\n",
              "      <td>3.412217</td>\n",
              "      <td>0.932005</td>\n",
              "      <td>-0.650879</td>\n",
              "      <td>-0.742416</td>\n",
              "      <td>-1.207421</td>\n",
              "      <td>-0.861050</td>\n",
              "      <td>-0.387783</td>\n",
              "    </tr>\n",
              "    <tr>\n",
              "      <th>3</th>\n",
              "      <td>1.580254</td>\n",
              "      <td>-1.313567</td>\n",
              "      <td>1.587260</td>\n",
              "      <td>-0.317611</td>\n",
              "      <td>-0.713209</td>\n",
              "      <td>-0.866697</td>\n",
              "      <td>-0.841845</td>\n",
              "      <td>0.662462</td>\n",
              "      <td>-0.029413</td>\n",
              "      <td>1.278957</td>\n",
              "      <td>0.079763</td>\n",
              "      <td>2.578759</td>\n",
              "    </tr>\n",
              "    <tr>\n",
              "      <th>4</th>\n",
              "      <td>0.056578</td>\n",
              "      <td>1.200951</td>\n",
              "      <td>-0.814096</td>\n",
              "      <td>-0.459745</td>\n",
              "      <td>0.048058</td>\n",
              "      <td>0.008535</td>\n",
              "      <td>0.492333</td>\n",
              "      <td>-0.151592</td>\n",
              "      <td>-0.807234</td>\n",
              "      <td>0.932021</td>\n",
              "      <td>-0.766969</td>\n",
              "      <td>-0.387783</td>\n",
              "    </tr>\n",
              "    <tr>\n",
              "      <th>...</th>\n",
              "      <td>...</td>\n",
              "      <td>...</td>\n",
              "      <td>...</td>\n",
              "      <td>...</td>\n",
              "      <td>...</td>\n",
              "      <td>...</td>\n",
              "      <td>...</td>\n",
              "      <td>...</td>\n",
              "      <td>...</td>\n",
              "      <td>...</td>\n",
              "      <td>...</td>\n",
              "      <td>...</td>\n",
              "    </tr>\n",
              "    <tr>\n",
              "      <th>1066</th>\n",
              "      <td>0.466799</td>\n",
              "      <td>0.381614</td>\n",
              "      <td>-1.376115</td>\n",
              "      <td>-0.459745</td>\n",
              "      <td>-0.628624</td>\n",
              "      <td>-1.061193</td>\n",
              "      <td>-1.114746</td>\n",
              "      <td>0.499652</td>\n",
              "      <td>-0.872053</td>\n",
              "      <td>-0.166612</td>\n",
              "      <td>-0.014319</td>\n",
              "      <td>-0.387783</td>\n",
              "    </tr>\n",
              "    <tr>\n",
              "      <th>1067</th>\n",
              "      <td>-0.060627</td>\n",
              "      <td>0.579385</td>\n",
              "      <td>-0.865188</td>\n",
              "      <td>-0.317611</td>\n",
              "      <td>-0.311429</td>\n",
              "      <td>0.883768</td>\n",
              "      <td>0.401366</td>\n",
              "      <td>-0.216716</td>\n",
              "      <td>-0.159050</td>\n",
              "      <td>0.527261</td>\n",
              "      <td>0.456088</td>\n",
              "      <td>-0.387783</td>\n",
              "    </tr>\n",
              "    <tr>\n",
              "      <th>1068</th>\n",
              "      <td>-0.646657</td>\n",
              "      <td>0.494626</td>\n",
              "      <td>-1.069559</td>\n",
              "      <td>0.108790</td>\n",
              "      <td>-0.226844</td>\n",
              "      <td>-0.088713</td>\n",
              "      <td>1.159422</td>\n",
              "      <td>0.369403</td>\n",
              "      <td>1.266955</td>\n",
              "      <td>-0.687016</td>\n",
              "      <td>-0.861050</td>\n",
              "      <td>-0.387783</td>\n",
              "    </tr>\n",
              "    <tr>\n",
              "      <th>1069</th>\n",
              "      <td>-0.236436</td>\n",
              "      <td>-1.878628</td>\n",
              "      <td>0.412128</td>\n",
              "      <td>-0.601879</td>\n",
              "      <td>-0.713209</td>\n",
              "      <td>-0.866697</td>\n",
              "      <td>-0.963134</td>\n",
              "      <td>-1.193582</td>\n",
              "      <td>0.035405</td>\n",
              "      <td>0.816375</td>\n",
              "      <td>1.396901</td>\n",
              "      <td>2.578759</td>\n",
              "    </tr>\n",
              "    <tr>\n",
              "      <th>1070</th>\n",
              "      <td>-1.467098</td>\n",
              "      <td>-1.370073</td>\n",
              "      <td>-0.047706</td>\n",
              "      <td>-0.601879</td>\n",
              "      <td>-0.522892</td>\n",
              "      <td>-1.255689</td>\n",
              "      <td>-1.084423</td>\n",
              "      <td>-2.865107</td>\n",
              "      <td>0.489134</td>\n",
              "      <td>-0.687016</td>\n",
              "      <td>2.902201</td>\n",
              "      <td>-0.387783</td>\n",
              "    </tr>\n",
              "  </tbody>\n",
              "</table>\n",
              "<p>1071 rows × 12 columns</p>\n",
              "</div>\n",
              "      <button class=\"colab-df-convert\" onclick=\"convertToInteractive('df-f09530a0-3218-4810-8397-3ee9587674b5')\"\n",
              "              title=\"Convert this dataframe to an interactive table.\"\n",
              "              style=\"display:none;\">\n",
              "        \n",
              "  <svg xmlns=\"http://www.w3.org/2000/svg\" height=\"24px\"viewBox=\"0 0 24 24\"\n",
              "       width=\"24px\">\n",
              "    <path d=\"M0 0h24v24H0V0z\" fill=\"none\"/>\n",
              "    <path d=\"M18.56 5.44l.94 2.06.94-2.06 2.06-.94-2.06-.94-.94-2.06-.94 2.06-2.06.94zm-11 1L8.5 8.5l.94-2.06 2.06-.94-2.06-.94L8.5 2.5l-.94 2.06-2.06.94zm10 10l.94 2.06.94-2.06 2.06-.94-2.06-.94-.94-2.06-.94 2.06-2.06.94z\"/><path d=\"M17.41 7.96l-1.37-1.37c-.4-.4-.92-.59-1.43-.59-.52 0-1.04.2-1.43.59L10.3 9.45l-7.72 7.72c-.78.78-.78 2.05 0 2.83L4 21.41c.39.39.9.59 1.41.59.51 0 1.02-.2 1.41-.59l7.78-7.78 2.81-2.81c.8-.78.8-2.07 0-2.86zM5.41 20L4 18.59l7.72-7.72 1.47 1.35L5.41 20z\"/>\n",
              "  </svg>\n",
              "      </button>\n",
              "      \n",
              "  <style>\n",
              "    .colab-df-container {\n",
              "      display:flex;\n",
              "      flex-wrap:wrap;\n",
              "      gap: 12px;\n",
              "    }\n",
              "\n",
              "    .colab-df-convert {\n",
              "      background-color: #E8F0FE;\n",
              "      border: none;\n",
              "      border-radius: 50%;\n",
              "      cursor: pointer;\n",
              "      display: none;\n",
              "      fill: #1967D2;\n",
              "      height: 32px;\n",
              "      padding: 0 0 0 0;\n",
              "      width: 32px;\n",
              "    }\n",
              "\n",
              "    .colab-df-convert:hover {\n",
              "      background-color: #E2EBFA;\n",
              "      box-shadow: 0px 1px 2px rgba(60, 64, 67, 0.3), 0px 1px 3px 1px rgba(60, 64, 67, 0.15);\n",
              "      fill: #174EA6;\n",
              "    }\n",
              "\n",
              "    [theme=dark] .colab-df-convert {\n",
              "      background-color: #3B4455;\n",
              "      fill: #D2E3FC;\n",
              "    }\n",
              "\n",
              "    [theme=dark] .colab-df-convert:hover {\n",
              "      background-color: #434B5C;\n",
              "      box-shadow: 0px 1px 3px 1px rgba(0, 0, 0, 0.15);\n",
              "      filter: drop-shadow(0px 1px 2px rgba(0, 0, 0, 0.3));\n",
              "      fill: #FFFFFF;\n",
              "    }\n",
              "  </style>\n",
              "\n",
              "      <script>\n",
              "        const buttonEl =\n",
              "          document.querySelector('#df-f09530a0-3218-4810-8397-3ee9587674b5 button.colab-df-convert');\n",
              "        buttonEl.style.display =\n",
              "          google.colab.kernel.accessAllowed ? 'block' : 'none';\n",
              "\n",
              "        async function convertToInteractive(key) {\n",
              "          const element = document.querySelector('#df-f09530a0-3218-4810-8397-3ee9587674b5');\n",
              "          const dataTable =\n",
              "            await google.colab.kernel.invokeFunction('convertToInteractive',\n",
              "                                                     [key], {});\n",
              "          if (!dataTable) return;\n",
              "\n",
              "          const docLinkHtml = 'Like what you see? Visit the ' +\n",
              "            '<a target=\"_blank\" href=https://colab.research.google.com/notebooks/data_table.ipynb>data table notebook</a>'\n",
              "            + ' to learn more about interactive tables.';\n",
              "          element.innerHTML = '';\n",
              "          dataTable['output_type'] = 'display_data';\n",
              "          await google.colab.output.renderOutput(dataTable, element);\n",
              "          const docLink = document.createElement('div');\n",
              "          docLink.innerHTML = docLinkHtml;\n",
              "          element.appendChild(docLink);\n",
              "        }\n",
              "      </script>\n",
              "    </div>\n",
              "  </div>\n",
              "  "
            ],
            "text/plain": [
              "      fixed acidity  volatile acidity  ...   alcohol   quality\n",
              "0          2.400695         -1.031037  ... -0.014319 -0.387783\n",
              "1         -0.939671          1.229204  ...  2.243632 -0.387783\n",
              "2         -0.998274          0.551132  ... -0.861050 -0.387783\n",
              "3          1.580254         -1.313567  ...  0.079763  2.578759\n",
              "4          0.056578          1.200951  ... -0.766969 -0.387783\n",
              "...             ...               ...  ...       ...       ...\n",
              "1066       0.466799          0.381614  ... -0.014319 -0.387783\n",
              "1067      -0.060627          0.579385  ...  0.456088 -0.387783\n",
              "1068      -0.646657          0.494626  ... -0.861050 -0.387783\n",
              "1069      -0.236436         -1.878628  ...  1.396901  2.578759\n",
              "1070      -1.467098         -1.370073  ...  2.902201 -0.387783\n",
              "\n",
              "[1071 rows x 12 columns]"
            ]
          },
          "metadata": {},
          "execution_count": 27
        }
      ],
      "source": [
        "pd.DataFrame(X_train, columns=df.columns[:len(df.columns) - 1])"
      ]
    },
    {
      "cell_type": "code",
      "execution_count": null,
      "metadata": {
        "colab": {
          "base_uri": "https://localhost:8080/",
          "height": 426
        },
        "id": "5NzZ9_dj-dHk",
        "outputId": "8635a0d8-509c-4f1c-c1cd-a51b53104b7c"
      },
      "outputs": [
        {
          "output_type": "execute_result",
          "data": {
            "text/html": [
              "\n",
              "  <div id=\"df-95bd9727-47d2-4008-8fcf-07962374948c\">\n",
              "    <div class=\"colab-df-container\">\n",
              "      <div>\n",
              "<style scoped>\n",
              "    .dataframe tbody tr th:only-of-type {\n",
              "        vertical-align: middle;\n",
              "    }\n",
              "\n",
              "    .dataframe tbody tr th {\n",
              "        vertical-align: top;\n",
              "    }\n",
              "\n",
              "    .dataframe thead th {\n",
              "        text-align: right;\n",
              "    }\n",
              "</style>\n",
              "<table border=\"1\" class=\"dataframe\">\n",
              "  <thead>\n",
              "    <tr style=\"text-align: right;\">\n",
              "      <th></th>\n",
              "      <th>count</th>\n",
              "      <th>mean</th>\n",
              "      <th>std</th>\n",
              "      <th>min</th>\n",
              "      <th>25%</th>\n",
              "      <th>50%</th>\n",
              "      <th>75%</th>\n",
              "      <th>max</th>\n",
              "    </tr>\n",
              "  </thead>\n",
              "  <tbody>\n",
              "    <tr>\n",
              "      <th>fixed acidity</th>\n",
              "      <td>1071.0</td>\n",
              "      <td>-3.827211e-16</td>\n",
              "      <td>1.000467</td>\n",
              "      <td>-2.170333</td>\n",
              "      <td>-0.705260</td>\n",
              "      <td>-0.236436</td>\n",
              "      <td>0.525402</td>\n",
              "      <td>4.451797</td>\n",
              "    </tr>\n",
              "    <tr>\n",
              "      <th>volatile acidity</th>\n",
              "      <td>1071.0</td>\n",
              "      <td>1.498957e-16</td>\n",
              "      <td>1.000467</td>\n",
              "      <td>-2.330676</td>\n",
              "      <td>-0.748507</td>\n",
              "      <td>-0.070435</td>\n",
              "      <td>0.607638</td>\n",
              "      <td>4.506554</td>\n",
              "    </tr>\n",
              "    <tr>\n",
              "      <th>citric acid</th>\n",
              "      <td>1071.0</td>\n",
              "      <td>-2.038260e-16</td>\n",
              "      <td>1.000467</td>\n",
              "      <td>-1.376115</td>\n",
              "      <td>-0.916281</td>\n",
              "      <td>-0.047706</td>\n",
              "      <td>0.820870</td>\n",
              "      <td>3.733152</td>\n",
              "    </tr>\n",
              "    <tr>\n",
              "      <th>residual sugar</th>\n",
              "      <td>1071.0</td>\n",
              "      <td>4.295765e-16</td>\n",
              "      <td>1.000467</td>\n",
              "      <td>-1.170414</td>\n",
              "      <td>-0.459745</td>\n",
              "      <td>-0.246544</td>\n",
              "      <td>0.037723</td>\n",
              "      <td>9.205354</td>\n",
              "    </tr>\n",
              "    <tr>\n",
              "      <th>chlorides</th>\n",
              "      <td>1071.0</td>\n",
              "      <td>3.118161e-16</td>\n",
              "      <td>1.000467</td>\n",
              "      <td>-1.601355</td>\n",
              "      <td>-0.353722</td>\n",
              "      <td>-0.163405</td>\n",
              "      <td>0.048058</td>\n",
              "      <td>11.065288</td>\n",
              "    </tr>\n",
              "    <tr>\n",
              "      <th>free sulfur dioxide</th>\n",
              "      <td>1071.0</td>\n",
              "      <td>-5.742890e-17</td>\n",
              "      <td>1.000467</td>\n",
              "      <td>-1.450185</td>\n",
              "      <td>-0.866697</td>\n",
              "      <td>-0.185961</td>\n",
              "      <td>0.494776</td>\n",
              "      <td>5.065434</td>\n",
              "    </tr>\n",
              "    <tr>\n",
              "      <th>total sulfur dioxide</th>\n",
              "      <td>1071.0</td>\n",
              "      <td>4.125759e-17</td>\n",
              "      <td>1.000467</td>\n",
              "      <td>-1.236034</td>\n",
              "      <td>-0.750879</td>\n",
              "      <td>-0.265723</td>\n",
              "      <td>0.492333</td>\n",
              "      <td>7.345157</td>\n",
              "    </tr>\n",
              "    <tr>\n",
              "      <th>density</th>\n",
              "      <td>1071.0</td>\n",
              "      <td>4.908658e-14</td>\n",
              "      <td>1.000467</td>\n",
              "      <td>-3.641172</td>\n",
              "      <td>-0.588468</td>\n",
              "      <td>0.011219</td>\n",
              "      <td>0.570203</td>\n",
              "      <td>3.750442</td>\n",
              "    </tr>\n",
              "    <tr>\n",
              "      <th>pH</th>\n",
              "      <td>1071.0</td>\n",
              "      <td>8.691046e-16</td>\n",
              "      <td>1.000467</td>\n",
              "      <td>-3.724063</td>\n",
              "      <td>-0.612779</td>\n",
              "      <td>-0.029413</td>\n",
              "      <td>0.553952</td>\n",
              "      <td>4.507875</td>\n",
              "    </tr>\n",
              "    <tr>\n",
              "      <th>sulphates</th>\n",
              "      <td>1071.0</td>\n",
              "      <td>3.243593e-16</td>\n",
              "      <td>1.000467</td>\n",
              "      <td>-1.670003</td>\n",
              "      <td>-0.629193</td>\n",
              "      <td>-0.224434</td>\n",
              "      <td>0.411616</td>\n",
              "      <td>7.755104</td>\n",
              "    </tr>\n",
              "    <tr>\n",
              "      <th>alcohol</th>\n",
              "      <td>1071.0</td>\n",
              "      <td>-2.031781e-16</td>\n",
              "      <td>1.000467</td>\n",
              "      <td>-1.895944</td>\n",
              "      <td>-0.861050</td>\n",
              "      <td>-0.202481</td>\n",
              "      <td>0.550169</td>\n",
              "      <td>4.219339</td>\n",
              "    </tr>\n",
              "    <tr>\n",
              "      <th>quality</th>\n",
              "      <td>1071.0</td>\n",
              "      <td>9.158562e-17</td>\n",
              "      <td>1.000467</td>\n",
              "      <td>-0.387783</td>\n",
              "      <td>-0.387783</td>\n",
              "      <td>-0.387783</td>\n",
              "      <td>-0.387783</td>\n",
              "      <td>2.578759</td>\n",
              "    </tr>\n",
              "  </tbody>\n",
              "</table>\n",
              "</div>\n",
              "      <button class=\"colab-df-convert\" onclick=\"convertToInteractive('df-95bd9727-47d2-4008-8fcf-07962374948c')\"\n",
              "              title=\"Convert this dataframe to an interactive table.\"\n",
              "              style=\"display:none;\">\n",
              "        \n",
              "  <svg xmlns=\"http://www.w3.org/2000/svg\" height=\"24px\"viewBox=\"0 0 24 24\"\n",
              "       width=\"24px\">\n",
              "    <path d=\"M0 0h24v24H0V0z\" fill=\"none\"/>\n",
              "    <path d=\"M18.56 5.44l.94 2.06.94-2.06 2.06-.94-2.06-.94-.94-2.06-.94 2.06-2.06.94zm-11 1L8.5 8.5l.94-2.06 2.06-.94-2.06-.94L8.5 2.5l-.94 2.06-2.06.94zm10 10l.94 2.06.94-2.06 2.06-.94-2.06-.94-.94-2.06-.94 2.06-2.06.94z\"/><path d=\"M17.41 7.96l-1.37-1.37c-.4-.4-.92-.59-1.43-.59-.52 0-1.04.2-1.43.59L10.3 9.45l-7.72 7.72c-.78.78-.78 2.05 0 2.83L4 21.41c.39.39.9.59 1.41.59.51 0 1.02-.2 1.41-.59l7.78-7.78 2.81-2.81c.8-.78.8-2.07 0-2.86zM5.41 20L4 18.59l7.72-7.72 1.47 1.35L5.41 20z\"/>\n",
              "  </svg>\n",
              "      </button>\n",
              "      \n",
              "  <style>\n",
              "    .colab-df-container {\n",
              "      display:flex;\n",
              "      flex-wrap:wrap;\n",
              "      gap: 12px;\n",
              "    }\n",
              "\n",
              "    .colab-df-convert {\n",
              "      background-color: #E8F0FE;\n",
              "      border: none;\n",
              "      border-radius: 50%;\n",
              "      cursor: pointer;\n",
              "      display: none;\n",
              "      fill: #1967D2;\n",
              "      height: 32px;\n",
              "      padding: 0 0 0 0;\n",
              "      width: 32px;\n",
              "    }\n",
              "\n",
              "    .colab-df-convert:hover {\n",
              "      background-color: #E2EBFA;\n",
              "      box-shadow: 0px 1px 2px rgba(60, 64, 67, 0.3), 0px 1px 3px 1px rgba(60, 64, 67, 0.15);\n",
              "      fill: #174EA6;\n",
              "    }\n",
              "\n",
              "    [theme=dark] .colab-df-convert {\n",
              "      background-color: #3B4455;\n",
              "      fill: #D2E3FC;\n",
              "    }\n",
              "\n",
              "    [theme=dark] .colab-df-convert:hover {\n",
              "      background-color: #434B5C;\n",
              "      box-shadow: 0px 1px 3px 1px rgba(0, 0, 0, 0.15);\n",
              "      filter: drop-shadow(0px 1px 2px rgba(0, 0, 0, 0.3));\n",
              "      fill: #FFFFFF;\n",
              "    }\n",
              "  </style>\n",
              "\n",
              "      <script>\n",
              "        const buttonEl =\n",
              "          document.querySelector('#df-95bd9727-47d2-4008-8fcf-07962374948c button.colab-df-convert');\n",
              "        buttonEl.style.display =\n",
              "          google.colab.kernel.accessAllowed ? 'block' : 'none';\n",
              "\n",
              "        async function convertToInteractive(key) {\n",
              "          const element = document.querySelector('#df-95bd9727-47d2-4008-8fcf-07962374948c');\n",
              "          const dataTable =\n",
              "            await google.colab.kernel.invokeFunction('convertToInteractive',\n",
              "                                                     [key], {});\n",
              "          if (!dataTable) return;\n",
              "\n",
              "          const docLinkHtml = 'Like what you see? Visit the ' +\n",
              "            '<a target=\"_blank\" href=https://colab.research.google.com/notebooks/data_table.ipynb>data table notebook</a>'\n",
              "            + ' to learn more about interactive tables.';\n",
              "          element.innerHTML = '';\n",
              "          dataTable['output_type'] = 'display_data';\n",
              "          await google.colab.output.renderOutput(dataTable, element);\n",
              "          const docLink = document.createElement('div');\n",
              "          docLink.innerHTML = docLinkHtml;\n",
              "          element.appendChild(docLink);\n",
              "        }\n",
              "      </script>\n",
              "    </div>\n",
              "  </div>\n",
              "  "
            ],
            "text/plain": [
              "                       count          mean  ...       75%        max\n",
              "fixed acidity         1071.0 -3.827211e-16  ...  0.525402   4.451797\n",
              "volatile acidity      1071.0  1.498957e-16  ...  0.607638   4.506554\n",
              "citric acid           1071.0 -2.038260e-16  ...  0.820870   3.733152\n",
              "residual sugar        1071.0  4.295765e-16  ...  0.037723   9.205354\n",
              "chlorides             1071.0  3.118161e-16  ...  0.048058  11.065288\n",
              "free sulfur dioxide   1071.0 -5.742890e-17  ...  0.494776   5.065434\n",
              "total sulfur dioxide  1071.0  4.125759e-17  ...  0.492333   7.345157\n",
              "density               1071.0  4.908658e-14  ...  0.570203   3.750442\n",
              "pH                    1071.0  8.691046e-16  ...  0.553952   4.507875\n",
              "sulphates             1071.0  3.243593e-16  ...  0.411616   7.755104\n",
              "alcohol               1071.0 -2.031781e-16  ...  0.550169   4.219339\n",
              "quality               1071.0  9.158562e-17  ... -0.387783   2.578759\n",
              "\n",
              "[12 rows x 8 columns]"
            ]
          },
          "metadata": {},
          "execution_count": 28
        }
      ],
      "source": [
        "pd.DataFrame(X_train, columns=df.columns[:len(df.columns) - 1]).describe().T"
      ]
    },
    {
      "cell_type": "markdown",
      "metadata": {
        "id": "CBzcgX5k-ppe"
      },
      "source": [
        "Notice that the standard deviation is now the same over all the columns; The maximum `total sulfur dioxide` is now only `7.3`. All the values have been `squeezed` to fit a smaller range. \n",
        "\n",
        "If we use the `LogisticRegression` on our original values, we will receive computation errors. By squeezing the data into a smaller range, we avoid those errors. Hence we can fit a regressor.\n",
        "\n",
        "We will see later during the course that the same method is used in other classifiers, including Deep Learning. It may also help you understand the easiness and non-complicated nature of the Decision Tree."
      ]
    },
    {
      "cell_type": "code",
      "execution_count": null,
      "metadata": {
        "colab": {
          "base_uri": "https://localhost:8080/"
        },
        "id": "VQbZsRO59m88",
        "outputId": "6bc52d6d-a093-4225-fe96-8ab9dae4491d"
      },
      "outputs": [
        {
          "output_type": "execute_result",
          "data": {
            "text/plain": [
              "LogisticRegression(max_iter=200, random_state=42)"
            ]
          },
          "metadata": {},
          "execution_count": 29
        }
      ],
      "source": [
        "classifier = LogisticRegression(random_state = 42, max_iter=200)\n",
        "  \n",
        "classifier.fit(X_train, y_train)"
      ]
    },
    {
      "cell_type": "code",
      "execution_count": null,
      "metadata": {
        "id": "XrSLs2uR944r"
      },
      "outputs": [],
      "source": [
        "y_pred= classifier.predict(X_test)  "
      ]
    },
    {
      "cell_type": "code",
      "execution_count": null,
      "metadata": {
        "colab": {
          "base_uri": "https://localhost:8080/"
        },
        "id": "K6ht2h-U-AgY",
        "outputId": "3d7ac1b1-c2c9-437d-e27e-73bb34ff73cc"
      },
      "outputs": [
        {
          "output_type": "stream",
          "name": "stdout",
          "text": [
            "mean absolute error:  0.3125\n",
            "explained variance score:  0.47690699425315386\n"
          ]
        }
      ],
      "source": [
        "print('mean absolute error: ', mean_absolute_error(y_test, y_pred))\n",
        "print('explained variance score: ', explained_variance_score(y_test, y_pred))"
      ]
    },
    {
      "cell_type": "code",
      "source": [
        "# num_of_points = len(y_test)\n",
        "num_of_points = 100\n",
        "\n",
        "plt.scatter(range(num_of_points), y_test[:num_of_points])\n",
        "\n",
        "# plot the rounded points:\n",
        "# plt.scatter(range(num_of_points), list(map(round, y_pred))[:num_of_points], color=\"red\")\n",
        "\n",
        "# plot the regression values\n",
        "plt.scatter(range(num_of_points), y_pred[:num_of_points], color=\"red\")"
      ],
      "metadata": {
        "colab": {
          "base_uri": "https://localhost:8080/",
          "height": 285
        },
        "id": "coG5uYnaNrye",
        "outputId": "cba58836-6738-4a56-e6a3-cb48bf0ebeea"
      },
      "execution_count": null,
      "outputs": [
        {
          "output_type": "execute_result",
          "data": {
            "text/plain": [
              "<matplotlib.collections.PathCollection at 0x7facfac7e490>"
            ]
          },
          "metadata": {},
          "execution_count": 32
        },
        {
          "output_type": "display_data",
          "data": {
            "image/png": "[encoded data removed]",
            "text/plain": [
              "<Figure size 432x288 with 1 Axes>"
            ]
          },
          "metadata": {
            "needs_background": "light"
          }
        }
      ]
    },
    {
      "cell_type": "markdown",
      "metadata": {
        "id": "nsRIRMge-HBj"
      },
      "source": [
        "The red points hide the blue ones - meaning they were predicted correctly. The blue points are the missed ones.\n",
        "\n",
        "Overall, for our data, it seems that the Logistic Regression method performed only slightly better than the linear regression one after rounding our data points. \n",
        "\n",
        "Compared to the regression methods, the Decision-Tree had given us insights into the importance of the features in determining the taste quality score. Also, it did not require pre-processing techniques such as normalizing the data first.\n",
        "\n",
        "---"
      ]
    },
    {
      "cell_type": "markdown",
      "source": [
        "## Computation Limitations\n",
        "The Decision-Tree we have detected is good - but not optimal.\n",
        "Finding the optimal Decision-Tree is an NP-Complete problem in computer science. That is, it can not be solved in a reasonable time frame (As a function of the input size).\n",
        "\n",
        "\n",
        "## CART Method\n",
        "It is worth mentioning that there are also other methods to measure purity. When using a Decision Tree for regression (Classification And Regression Trees or [CART](https://de.wikipedia.org/wiki/CART_(Algorithmus))) for short) are implemented in SciKit-Learn as [DecisionTreeRegressor](https://scikit-learn.org/stable/modules/generated/sklearn.tree.DecisionTreeRegressor.html#sklearn.tree.DecisionTreeRegressor) and they use different purity measurement methods to output not a discrete class, but a continuous ranking or a score. "
      ],
      "metadata": {
        "id": "gJTFd1h4-WHq"
      }
    },
    {
      "cell_type": "markdown",
      "metadata": {
        "id": "IifLBbT1YiA7"
      },
      "source": [
        "# Knime\n",
        "[KNIME](https://www.knime.com/) is a great tool (GUI-based), used by the industry, that can be used for processing this data without the need to program it in python. \n",
        "\n",
        "It is based on a GUI to create a graph workflow, where each node is an action, and the data moves inside the edges from one action node to another. So, for example, you can consider using these nodes: \n",
        "\n",
        "1. File Reader (for csv) to linear correlation node and to interactive histogram for basic EDA.\n",
        "2. File Reader to 'Rule Engine Node' to turn the 10 point scale to dichtome variable (good wine and rest), the code to put in the rule engine is something like this:\n",
        "  - $quality$ > 6.5 => \"good\"\n",
        "  - TRUE => \"bad\"\n",
        "3. Rule Engine Node output to input of Column Filter node to filter out your original 10point feature (this prevent leaking)\n",
        "4. Column Filter Node output to input of Partitioning Node (your standard train/tes split, e.g. 75%/25%, choose 'random' or 'stratified')\n",
        "5. Partitioning Node train data split output to input of Train data split to input Decision Tree Learner node and\n",
        "6. Partitioning Node test data split output to input Decision Tree predictor Node\n",
        "7. Decision Tree learner Node output to input Decision Tree Node input\n",
        "8. Decision Tree output to input ROC Node.. (here you can evaluate your model base on AUC value)\n",
        "\n",
        "In this course, we will focus on giving you the theoretical knowledge and the coding skills in python, but feel free to try KNIME as well. \n"
      ]
    },
    {
      "cell_type": "code",
      "source": [
        ""
      ],
      "metadata": {
        "id": "CP14fKfn-yIa"
      },
      "execution_count": null,
      "outputs": []
    }
  ],
  "metadata": {
    "colab": {
      "collapsed_sections": [],
      "name": "01_wine_tasting_decision_tree.ipynb",
      "toc_visible": true,
      "provenance": []
    },
    "kernelspec": {
      "display_name": "Python 3",
      "name": "python3"
    },
    "language_info": {
      "name": "python"
    }
  },
  "nbformat": 4,
  "nbformat_minor": 0
}