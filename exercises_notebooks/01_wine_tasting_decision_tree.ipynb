{
  "cells": [
    {
      "cell_type": "markdown",
      "metadata": {
        "id": "view-in-github",
        "colab_type": "text"
      },
      "source": [
        "<a href=\"https://colab.research.google.com/github/liadmagen/Modeling_course/blob/main/exercises_notebooks/01_wine_tasting_decision_tree.ipynb\" target=\"_parent\"><img src=\"https://colab.research.google.com/assets/colab-badge.svg\" alt=\"Open In Colab\"/></a>"
      ]
    },
    {
      "cell_type": "markdown",
      "metadata": {
        "id": "sT8MYR4hYfHf"
      },
      "source": [
        "# Wine Tasting\n",
        "\n",
        "In this exercise you will create and train a Decision-Tree classifier model, and compare it to two differet regression models. You will use Python for this and get to know the popular scientific package - [Sci-Kit-Learn](https://scikit-learn.org/stable/). \n",
        "\n",
        "## Context\n",
        "\n",
        "This dataset is related to red variants of the Portuguese \"Vinho Verde\" wine and was taken from here: https://archive.ics.uci.edu/ml/datasets/wine+quality. Due to privacy and logistic issues, only physicochemical (inputs) and sensory (the output) variables are available (e.g. there is no data about grape types, wine brand, wine selling price, etc.).\n",
        "\n",
        "## The Data\n",
        "\n",
        "For more information, read [Cortez et al., 2009].\n",
        "\n",
        "Input variables (based on physicochemical tests):\n",
        "1. fixed acidity\n",
        "2. volatile acidity\n",
        "3. citric acid\n",
        "4. residual sugar\n",
        "5. chlorides\n",
        "6. free sulfur dioxide\n",
        "7. total sulfur dioxide\n",
        "8. density\n",
        "9. pH\n",
        "10. sulphates\n",
        "11. alcohol\n",
        "\n",
        "Output variable (based on sensory data) - the *label*:\n",
        "12. quality (score between 0 and 10)\n",
        "\n",
        "## Our task today:\n",
        "\n",
        "Use machine learning to determine which physiochemical properties make a wine 'good'!\n",
        "\n",
        "## Acknowledgements\n",
        "\n",
        "P. Cortez, A. Cerdeira, F. Almeida, T. Matos and J. Reis. Modeling wine preferences by data mining from physicochemical properties. In Decision Support Systems, Elsevier, 47(4):547-553, 2009.\n"
      ]
    },
    {
      "cell_type": "markdown",
      "metadata": {
        "id": "9z3WDL62MPcl"
      },
      "source": [
        "# Decision Tree\n",
        "\n",
        "## Introduction\n",
        "We will start with an analysis of our data. We will plot the histograms and try to think which features would be the best to describe the wine taste.\n",
        "\n",
        "Decision Trees use yes/no (binary) questions to query the feautres to make a decision.\n",
        "\n",
        "Please read more about them in the SciKit-learn python package which we're using here to creat them: https://scikit-learn.org/stable/modules/tree.html\n",
        " "
      ]
    },
    {
      "cell_type": "markdown",
      "metadata": {
        "id": "XT99F-V88FkI"
      },
      "source": [
        "## Data preparation and examination"
      ]
    },
    {
      "cell_type": "code",
      "execution_count": 1,
      "metadata": {
        "id": "h7A0xZiRYbad"
      },
      "outputs": [],
      "source": [
        "# Import the needed packages\n",
        "import graphviz\n",
        "\n",
        "import numpy as np\n",
        "import pandas as pd\n",
        "import matplotlib.pyplot as plt\n",
        "\n",
        "from sklearn import tree\n",
        "from sklearn.model_selection import train_test_split\n",
        "from sklearn.metrics import classification_report\n",
        "\n",
        "import seaborn as sns\n",
        "\n",
        "%matplotlib inline\n",
        "sns.set(style='white', context='notebook', rc={'figure.figsize':(14,10)})"
      ]
    },
    {
      "cell_type": "code",
      "execution_count": 2,
      "metadata": {
        "id": "QJbYJLvbOE-s"
      },
      "outputs": [],
      "source": [
        "# Load the data:\n",
        "df = pd.read_csv('https://raw.githubusercontent.com/liadmagen/Modeling_course/main/data/winequality-red.csv')"
      ]
    },
    {
      "cell_type": "markdown",
      "metadata": {
        "id": "BKV9y19jN85A"
      },
      "source": [
        "We begin (ALWAYS) with looking at our data."
      ]
    },
    {
      "cell_type": "code",
      "execution_count": 3,
      "metadata": {
        "colab": {
          "base_uri": "https://localhost:8080/",
          "height": 424
        },
        "id": "1uKeo_eYOTj8",
        "outputId": "c1c101f8-40da-4c33-e687-3b2d97c10808"
      },
      "outputs": [
        {
          "output_type": "execute_result",
          "data": {
            "text/html": [
              "\n",
              "  <div id=\"df-3fc36b57-c12e-48b0-b6fd-8fd196b466a8\">\n",
              "    <div class=\"colab-df-container\">\n",
              "      <div>\n",
              "<style scoped>\n",
              "    .dataframe tbody tr th:only-of-type {\n",
              "        vertical-align: middle;\n",
              "    }\n",
              "\n",
              "    .dataframe tbody tr th {\n",
              "        vertical-align: top;\n",
              "    }\n",
              "\n",
              "    .dataframe thead th {\n",
              "        text-align: right;\n",
              "    }\n",
              "</style>\n",
              "<table border=\"1\" class=\"dataframe\">\n",
              "  <thead>\n",
              "    <tr style=\"text-align: right;\">\n",
              "      <th></th>\n",
              "      <th>fixed acidity</th>\n",
              "      <th>volatile acidity</th>\n",
              "      <th>citric acid</th>\n",
              "      <th>residual sugar</th>\n",
              "      <th>chlorides</th>\n",
              "      <th>free sulfur dioxide</th>\n",
              "      <th>total sulfur dioxide</th>\n",
              "      <th>density</th>\n",
              "      <th>pH</th>\n",
              "      <th>sulphates</th>\n",
              "      <th>alcohol</th>\n",
              "      <th>quality</th>\n",
              "    </tr>\n",
              "  </thead>\n",
              "  <tbody>\n",
              "    <tr>\n",
              "      <th>0</th>\n",
              "      <td>7.4</td>\n",
              "      <td>0.700</td>\n",
              "      <td>0.00</td>\n",
              "      <td>1.9</td>\n",
              "      <td>0.076</td>\n",
              "      <td>11.0</td>\n",
              "      <td>34.0</td>\n",
              "      <td>0.99780</td>\n",
              "      <td>3.51</td>\n",
              "      <td>0.56</td>\n",
              "      <td>9.4</td>\n",
              "      <td>5</td>\n",
              "    </tr>\n",
              "    <tr>\n",
              "      <th>1</th>\n",
              "      <td>7.8</td>\n",
              "      <td>0.880</td>\n",
              "      <td>0.00</td>\n",
              "      <td>2.6</td>\n",
              "      <td>0.098</td>\n",
              "      <td>25.0</td>\n",
              "      <td>67.0</td>\n",
              "      <td>0.99680</td>\n",
              "      <td>3.20</td>\n",
              "      <td>0.68</td>\n",
              "      <td>9.8</td>\n",
              "      <td>5</td>\n",
              "    </tr>\n",
              "    <tr>\n",
              "      <th>2</th>\n",
              "      <td>7.8</td>\n",
              "      <td>0.760</td>\n",
              "      <td>0.04</td>\n",
              "      <td>2.3</td>\n",
              "      <td>0.092</td>\n",
              "      <td>15.0</td>\n",
              "      <td>54.0</td>\n",
              "      <td>0.99700</td>\n",
              "      <td>3.26</td>\n",
              "      <td>0.65</td>\n",
              "      <td>9.8</td>\n",
              "      <td>5</td>\n",
              "    </tr>\n",
              "    <tr>\n",
              "      <th>3</th>\n",
              "      <td>11.2</td>\n",
              "      <td>0.280</td>\n",
              "      <td>0.56</td>\n",
              "      <td>1.9</td>\n",
              "      <td>0.075</td>\n",
              "      <td>17.0</td>\n",
              "      <td>60.0</td>\n",
              "      <td>0.99800</td>\n",
              "      <td>3.16</td>\n",
              "      <td>0.58</td>\n",
              "      <td>9.8</td>\n",
              "      <td>6</td>\n",
              "    </tr>\n",
              "    <tr>\n",
              "      <th>4</th>\n",
              "      <td>7.4</td>\n",
              "      <td>0.700</td>\n",
              "      <td>0.00</td>\n",
              "      <td>1.9</td>\n",
              "      <td>0.076</td>\n",
              "      <td>11.0</td>\n",
              "      <td>34.0</td>\n",
              "      <td>0.99780</td>\n",
              "      <td>3.51</td>\n",
              "      <td>0.56</td>\n",
              "      <td>9.4</td>\n",
              "      <td>5</td>\n",
              "    </tr>\n",
              "    <tr>\n",
              "      <th>...</th>\n",
              "      <td>...</td>\n",
              "      <td>...</td>\n",
              "      <td>...</td>\n",
              "      <td>...</td>\n",
              "      <td>...</td>\n",
              "      <td>...</td>\n",
              "      <td>...</td>\n",
              "      <td>...</td>\n",
              "      <td>...</td>\n",
              "      <td>...</td>\n",
              "      <td>...</td>\n",
              "      <td>...</td>\n",
              "    </tr>\n",
              "    <tr>\n",
              "      <th>1594</th>\n",
              "      <td>6.2</td>\n",
              "      <td>0.600</td>\n",
              "      <td>0.08</td>\n",
              "      <td>2.0</td>\n",
              "      <td>0.090</td>\n",
              "      <td>32.0</td>\n",
              "      <td>44.0</td>\n",
              "      <td>0.99490</td>\n",
              "      <td>3.45</td>\n",
              "      <td>0.58</td>\n",
              "      <td>10.5</td>\n",
              "      <td>5</td>\n",
              "    </tr>\n",
              "    <tr>\n",
              "      <th>1595</th>\n",
              "      <td>5.9</td>\n",
              "      <td>0.550</td>\n",
              "      <td>0.10</td>\n",
              "      <td>2.2</td>\n",
              "      <td>0.062</td>\n",
              "      <td>39.0</td>\n",
              "      <td>51.0</td>\n",
              "      <td>0.99512</td>\n",
              "      <td>3.52</td>\n",
              "      <td>0.76</td>\n",
              "      <td>11.2</td>\n",
              "      <td>6</td>\n",
              "    </tr>\n",
              "    <tr>\n",
              "      <th>1596</th>\n",
              "      <td>6.3</td>\n",
              "      <td>0.510</td>\n",
              "      <td>0.13</td>\n",
              "      <td>2.3</td>\n",
              "      <td>0.076</td>\n",
              "      <td>29.0</td>\n",
              "      <td>40.0</td>\n",
              "      <td>0.99574</td>\n",
              "      <td>3.42</td>\n",
              "      <td>0.75</td>\n",
              "      <td>11.0</td>\n",
              "      <td>6</td>\n",
              "    </tr>\n",
              "    <tr>\n",
              "      <th>1597</th>\n",
              "      <td>5.9</td>\n",
              "      <td>0.645</td>\n",
              "      <td>0.12</td>\n",
              "      <td>2.0</td>\n",
              "      <td>0.075</td>\n",
              "      <td>32.0</td>\n",
              "      <td>44.0</td>\n",
              "      <td>0.99547</td>\n",
              "      <td>3.57</td>\n",
              "      <td>0.71</td>\n",
              "      <td>10.2</td>\n",
              "      <td>5</td>\n",
              "    </tr>\n",
              "    <tr>\n",
              "      <th>1598</th>\n",
              "      <td>6.0</td>\n",
              "      <td>0.310</td>\n",
              "      <td>0.47</td>\n",
              "      <td>3.6</td>\n",
              "      <td>0.067</td>\n",
              "      <td>18.0</td>\n",
              "      <td>42.0</td>\n",
              "      <td>0.99549</td>\n",
              "      <td>3.39</td>\n",
              "      <td>0.66</td>\n",
              "      <td>11.0</td>\n",
              "      <td>6</td>\n",
              "    </tr>\n",
              "  </tbody>\n",
              "</table>\n",
              "<p>1599 rows × 12 columns</p>\n",
              "</div>\n",
              "      <button class=\"colab-df-convert\" onclick=\"convertToInteractive('df-3fc36b57-c12e-48b0-b6fd-8fd196b466a8')\"\n",
              "              title=\"Convert this dataframe to an interactive table.\"\n",
              "              style=\"display:none;\">\n",
              "        \n",
              "  <svg xmlns=\"http://www.w3.org/2000/svg\" height=\"24px\"viewBox=\"0 0 24 24\"\n",
              "       width=\"24px\">\n",
              "    <path d=\"M0 0h24v24H0V0z\" fill=\"none\"/>\n",
              "    <path d=\"M18.56 5.44l.94 2.06.94-2.06 2.06-.94-2.06-.94-.94-2.06-.94 2.06-2.06.94zm-11 1L8.5 8.5l.94-2.06 2.06-.94-2.06-.94L8.5 2.5l-.94 2.06-2.06.94zm10 10l.94 2.06.94-2.06 2.06-.94-2.06-.94-.94-2.06-.94 2.06-2.06.94z\"/><path d=\"M17.41 7.96l-1.37-1.37c-.4-.4-.92-.59-1.43-.59-.52 0-1.04.2-1.43.59L10.3 9.45l-7.72 7.72c-.78.78-.78 2.05 0 2.83L4 21.41c.39.39.9.59 1.41.59.51 0 1.02-.2 1.41-.59l7.78-7.78 2.81-2.81c.8-.78.8-2.07 0-2.86zM5.41 20L4 18.59l7.72-7.72 1.47 1.35L5.41 20z\"/>\n",
              "  </svg>\n",
              "      </button>\n",
              "      \n",
              "  <style>\n",
              "    .colab-df-container {\n",
              "      display:flex;\n",
              "      flex-wrap:wrap;\n",
              "      gap: 12px;\n",
              "    }\n",
              "\n",
              "    .colab-df-convert {\n",
              "      background-color: #E8F0FE;\n",
              "      border: none;\n",
              "      border-radius: 50%;\n",
              "      cursor: pointer;\n",
              "      display: none;\n",
              "      fill: #1967D2;\n",
              "      height: 32px;\n",
              "      padding: 0 0 0 0;\n",
              "      width: 32px;\n",
              "    }\n",
              "\n",
              "    .colab-df-convert:hover {\n",
              "      background-color: #E2EBFA;\n",
              "      box-shadow: 0px 1px 2px rgba(60, 64, 67, 0.3), 0px 1px 3px 1px rgba(60, 64, 67, 0.15);\n",
              "      fill: #174EA6;\n",
              "    }\n",
              "\n",
              "    [theme=dark] .colab-df-convert {\n",
              "      background-color: #3B4455;\n",
              "      fill: #D2E3FC;\n",
              "    }\n",
              "\n",
              "    [theme=dark] .colab-df-convert:hover {\n",
              "      background-color: #434B5C;\n",
              "      box-shadow: 0px 1px 3px 1px rgba(0, 0, 0, 0.15);\n",
              "      filter: drop-shadow(0px 1px 2px rgba(0, 0, 0, 0.3));\n",
              "      fill: #FFFFFF;\n",
              "    }\n",
              "  </style>\n",
              "\n",
              "      <script>\n",
              "        const buttonEl =\n",
              "          document.querySelector('#df-3fc36b57-c12e-48b0-b6fd-8fd196b466a8 button.colab-df-convert');\n",
              "        buttonEl.style.display =\n",
              "          google.colab.kernel.accessAllowed ? 'block' : 'none';\n",
              "\n",
              "        async function convertToInteractive(key) {\n",
              "          const element = document.querySelector('#df-3fc36b57-c12e-48b0-b6fd-8fd196b466a8');\n",
              "          const dataTable =\n",
              "            await google.colab.kernel.invokeFunction('convertToInteractive',\n",
              "                                                     [key], {});\n",
              "          if (!dataTable) return;\n",
              "\n",
              "          const docLinkHtml = 'Like what you see? Visit the ' +\n",
              "            '<a target=\"_blank\" href=https://colab.research.google.com/notebooks/data_table.ipynb>data table notebook</a>'\n",
              "            + ' to learn more about interactive tables.';\n",
              "          element.innerHTML = '';\n",
              "          dataTable['output_type'] = 'display_data';\n",
              "          await google.colab.output.renderOutput(dataTable, element);\n",
              "          const docLink = document.createElement('div');\n",
              "          docLink.innerHTML = docLinkHtml;\n",
              "          element.appendChild(docLink);\n",
              "        }\n",
              "      </script>\n",
              "    </div>\n",
              "  </div>\n",
              "  "
            ],
            "text/plain": [
              "      fixed acidity  volatile acidity  citric acid  ...  sulphates  alcohol  quality\n",
              "0               7.4             0.700         0.00  ...       0.56      9.4        5\n",
              "1               7.8             0.880         0.00  ...       0.68      9.8        5\n",
              "2               7.8             0.760         0.04  ...       0.65      9.8        5\n",
              "3              11.2             0.280         0.56  ...       0.58      9.8        6\n",
              "4               7.4             0.700         0.00  ...       0.56      9.4        5\n",
              "...             ...               ...          ...  ...        ...      ...      ...\n",
              "1594            6.2             0.600         0.08  ...       0.58     10.5        5\n",
              "1595            5.9             0.550         0.10  ...       0.76     11.2        6\n",
              "1596            6.3             0.510         0.13  ...       0.75     11.0        6\n",
              "1597            5.9             0.645         0.12  ...       0.71     10.2        5\n",
              "1598            6.0             0.310         0.47  ...       0.66     11.0        6\n",
              "\n",
              "[1599 rows x 12 columns]"
            ]
          },
          "metadata": {},
          "execution_count": 3
        }
      ],
      "source": [
        "# The data itself\n",
        "df"
      ]
    },
    {
      "cell_type": "code",
      "execution_count": 4,
      "metadata": {
        "colab": {
          "base_uri": "https://localhost:8080/",
          "height": 426
        },
        "id": "_6rVHsjiOVoN",
        "outputId": "0544c1d7-229c-492e-b6cf-c6bd96645c19"
      },
      "outputs": [
        {
          "output_type": "execute_result",
          "data": {
            "text/html": [
              "\n",
              "  <div id=\"df-38e5cbf5-79c7-460e-a776-6e68113d4be3\">\n",
              "    <div class=\"colab-df-container\">\n",
              "      <div>\n",
              "<style scoped>\n",
              "    .dataframe tbody tr th:only-of-type {\n",
              "        vertical-align: middle;\n",
              "    }\n",
              "\n",
              "    .dataframe tbody tr th {\n",
              "        vertical-align: top;\n",
              "    }\n",
              "\n",
              "    .dataframe thead th {\n",
              "        text-align: right;\n",
              "    }\n",
              "</style>\n",
              "<table border=\"1\" class=\"dataframe\">\n",
              "  <thead>\n",
              "    <tr style=\"text-align: right;\">\n",
              "      <th></th>\n",
              "      <th>count</th>\n",
              "      <th>mean</th>\n",
              "      <th>std</th>\n",
              "      <th>min</th>\n",
              "      <th>25%</th>\n",
              "      <th>50%</th>\n",
              "      <th>75%</th>\n",
              "      <th>max</th>\n",
              "    </tr>\n",
              "  </thead>\n",
              "  <tbody>\n",
              "    <tr>\n",
              "      <th>fixed acidity</th>\n",
              "      <td>1599.0</td>\n",
              "      <td>8.319637</td>\n",
              "      <td>1.741096</td>\n",
              "      <td>4.60000</td>\n",
              "      <td>7.1000</td>\n",
              "      <td>7.90000</td>\n",
              "      <td>9.200000</td>\n",
              "      <td>15.90000</td>\n",
              "    </tr>\n",
              "    <tr>\n",
              "      <th>volatile acidity</th>\n",
              "      <td>1599.0</td>\n",
              "      <td>0.527821</td>\n",
              "      <td>0.179060</td>\n",
              "      <td>0.12000</td>\n",
              "      <td>0.3900</td>\n",
              "      <td>0.52000</td>\n",
              "      <td>0.640000</td>\n",
              "      <td>1.58000</td>\n",
              "    </tr>\n",
              "    <tr>\n",
              "      <th>citric acid</th>\n",
              "      <td>1599.0</td>\n",
              "      <td>0.270976</td>\n",
              "      <td>0.194801</td>\n",
              "      <td>0.00000</td>\n",
              "      <td>0.0900</td>\n",
              "      <td>0.26000</td>\n",
              "      <td>0.420000</td>\n",
              "      <td>1.00000</td>\n",
              "    </tr>\n",
              "    <tr>\n",
              "      <th>residual sugar</th>\n",
              "      <td>1599.0</td>\n",
              "      <td>2.538806</td>\n",
              "      <td>1.409928</td>\n",
              "      <td>0.90000</td>\n",
              "      <td>1.9000</td>\n",
              "      <td>2.20000</td>\n",
              "      <td>2.600000</td>\n",
              "      <td>15.50000</td>\n",
              "    </tr>\n",
              "    <tr>\n",
              "      <th>chlorides</th>\n",
              "      <td>1599.0</td>\n",
              "      <td>0.087467</td>\n",
              "      <td>0.047065</td>\n",
              "      <td>0.01200</td>\n",
              "      <td>0.0700</td>\n",
              "      <td>0.07900</td>\n",
              "      <td>0.090000</td>\n",
              "      <td>0.61100</td>\n",
              "    </tr>\n",
              "    <tr>\n",
              "      <th>free sulfur dioxide</th>\n",
              "      <td>1599.0</td>\n",
              "      <td>15.874922</td>\n",
              "      <td>10.460157</td>\n",
              "      <td>1.00000</td>\n",
              "      <td>7.0000</td>\n",
              "      <td>14.00000</td>\n",
              "      <td>21.000000</td>\n",
              "      <td>72.00000</td>\n",
              "    </tr>\n",
              "    <tr>\n",
              "      <th>total sulfur dioxide</th>\n",
              "      <td>1599.0</td>\n",
              "      <td>46.467792</td>\n",
              "      <td>32.895324</td>\n",
              "      <td>6.00000</td>\n",
              "      <td>22.0000</td>\n",
              "      <td>38.00000</td>\n",
              "      <td>62.000000</td>\n",
              "      <td>289.00000</td>\n",
              "    </tr>\n",
              "    <tr>\n",
              "      <th>density</th>\n",
              "      <td>1599.0</td>\n",
              "      <td>0.996747</td>\n",
              "      <td>0.001887</td>\n",
              "      <td>0.99007</td>\n",
              "      <td>0.9956</td>\n",
              "      <td>0.99675</td>\n",
              "      <td>0.997835</td>\n",
              "      <td>1.00369</td>\n",
              "    </tr>\n",
              "    <tr>\n",
              "      <th>pH</th>\n",
              "      <td>1599.0</td>\n",
              "      <td>3.311113</td>\n",
              "      <td>0.154386</td>\n",
              "      <td>2.74000</td>\n",
              "      <td>3.2100</td>\n",
              "      <td>3.31000</td>\n",
              "      <td>3.400000</td>\n",
              "      <td>4.01000</td>\n",
              "    </tr>\n",
              "    <tr>\n",
              "      <th>sulphates</th>\n",
              "      <td>1599.0</td>\n",
              "      <td>0.658149</td>\n",
              "      <td>0.169507</td>\n",
              "      <td>0.33000</td>\n",
              "      <td>0.5500</td>\n",
              "      <td>0.62000</td>\n",
              "      <td>0.730000</td>\n",
              "      <td>2.00000</td>\n",
              "    </tr>\n",
              "    <tr>\n",
              "      <th>alcohol</th>\n",
              "      <td>1599.0</td>\n",
              "      <td>10.422983</td>\n",
              "      <td>1.065668</td>\n",
              "      <td>8.40000</td>\n",
              "      <td>9.5000</td>\n",
              "      <td>10.20000</td>\n",
              "      <td>11.100000</td>\n",
              "      <td>14.90000</td>\n",
              "    </tr>\n",
              "    <tr>\n",
              "      <th>quality</th>\n",
              "      <td>1599.0</td>\n",
              "      <td>5.636023</td>\n",
              "      <td>0.807569</td>\n",
              "      <td>3.00000</td>\n",
              "      <td>5.0000</td>\n",
              "      <td>6.00000</td>\n",
              "      <td>6.000000</td>\n",
              "      <td>8.00000</td>\n",
              "    </tr>\n",
              "  </tbody>\n",
              "</table>\n",
              "</div>\n",
              "      <button class=\"colab-df-convert\" onclick=\"convertToInteractive('df-38e5cbf5-79c7-460e-a776-6e68113d4be3')\"\n",
              "              title=\"Convert this dataframe to an interactive table.\"\n",
              "              style=\"display:none;\">\n",
              "        \n",
              "  <svg xmlns=\"http://www.w3.org/2000/svg\" height=\"24px\"viewBox=\"0 0 24 24\"\n",
              "       width=\"24px\">\n",
              "    <path d=\"M0 0h24v24H0V0z\" fill=\"none\"/>\n",
              "    <path d=\"M18.56 5.44l.94 2.06.94-2.06 2.06-.94-2.06-.94-.94-2.06-.94 2.06-2.06.94zm-11 1L8.5 8.5l.94-2.06 2.06-.94-2.06-.94L8.5 2.5l-.94 2.06-2.06.94zm10 10l.94 2.06.94-2.06 2.06-.94-2.06-.94-.94-2.06-.94 2.06-2.06.94z\"/><path d=\"M17.41 7.96l-1.37-1.37c-.4-.4-.92-.59-1.43-.59-.52 0-1.04.2-1.43.59L10.3 9.45l-7.72 7.72c-.78.78-.78 2.05 0 2.83L4 21.41c.39.39.9.59 1.41.59.51 0 1.02-.2 1.41-.59l7.78-7.78 2.81-2.81c.8-.78.8-2.07 0-2.86zM5.41 20L4 18.59l7.72-7.72 1.47 1.35L5.41 20z\"/>\n",
              "  </svg>\n",
              "      </button>\n",
              "      \n",
              "  <style>\n",
              "    .colab-df-container {\n",
              "      display:flex;\n",
              "      flex-wrap:wrap;\n",
              "      gap: 12px;\n",
              "    }\n",
              "\n",
              "    .colab-df-convert {\n",
              "      background-color: #E8F0FE;\n",
              "      border: none;\n",
              "      border-radius: 50%;\n",
              "      cursor: pointer;\n",
              "      display: none;\n",
              "      fill: #1967D2;\n",
              "      height: 32px;\n",
              "      padding: 0 0 0 0;\n",
              "      width: 32px;\n",
              "    }\n",
              "\n",
              "    .colab-df-convert:hover {\n",
              "      background-color: #E2EBFA;\n",
              "      box-shadow: 0px 1px 2px rgba(60, 64, 67, 0.3), 0px 1px 3px 1px rgba(60, 64, 67, 0.15);\n",
              "      fill: #174EA6;\n",
              "    }\n",
              "\n",
              "    [theme=dark] .colab-df-convert {\n",
              "      background-color: #3B4455;\n",
              "      fill: #D2E3FC;\n",
              "    }\n",
              "\n",
              "    [theme=dark] .colab-df-convert:hover {\n",
              "      background-color: #434B5C;\n",
              "      box-shadow: 0px 1px 3px 1px rgba(0, 0, 0, 0.15);\n",
              "      filter: drop-shadow(0px 1px 2px rgba(0, 0, 0, 0.3));\n",
              "      fill: #FFFFFF;\n",
              "    }\n",
              "  </style>\n",
              "\n",
              "      <script>\n",
              "        const buttonEl =\n",
              "          document.querySelector('#df-38e5cbf5-79c7-460e-a776-6e68113d4be3 button.colab-df-convert');\n",
              "        buttonEl.style.display =\n",
              "          google.colab.kernel.accessAllowed ? 'block' : 'none';\n",
              "\n",
              "        async function convertToInteractive(key) {\n",
              "          const element = document.querySelector('#df-38e5cbf5-79c7-460e-a776-6e68113d4be3');\n",
              "          const dataTable =\n",
              "            await google.colab.kernel.invokeFunction('convertToInteractive',\n",
              "                                                     [key], {});\n",
              "          if (!dataTable) return;\n",
              "\n",
              "          const docLinkHtml = 'Like what you see? Visit the ' +\n",
              "            '<a target=\"_blank\" href=https://colab.research.google.com/notebooks/data_table.ipynb>data table notebook</a>'\n",
              "            + ' to learn more about interactive tables.';\n",
              "          element.innerHTML = '';\n",
              "          dataTable['output_type'] = 'display_data';\n",
              "          await google.colab.output.renderOutput(dataTable, element);\n",
              "          const docLink = document.createElement('div');\n",
              "          docLink.innerHTML = docLinkHtml;\n",
              "          element.appendChild(docLink);\n",
              "        }\n",
              "      </script>\n",
              "    </div>\n",
              "  </div>\n",
              "  "
            ],
            "text/plain": [
              "                       count       mean  ...        75%        max\n",
              "fixed acidity         1599.0   8.319637  ...   9.200000   15.90000\n",
              "volatile acidity      1599.0   0.527821  ...   0.640000    1.58000\n",
              "citric acid           1599.0   0.270976  ...   0.420000    1.00000\n",
              "residual sugar        1599.0   2.538806  ...   2.600000   15.50000\n",
              "chlorides             1599.0   0.087467  ...   0.090000    0.61100\n",
              "free sulfur dioxide   1599.0  15.874922  ...  21.000000   72.00000\n",
              "total sulfur dioxide  1599.0  46.467792  ...  62.000000  289.00000\n",
              "density               1599.0   0.996747  ...   0.997835    1.00369\n",
              "pH                    1599.0   3.311113  ...   3.400000    4.01000\n",
              "sulphates             1599.0   0.658149  ...   0.730000    2.00000\n",
              "alcohol               1599.0  10.422983  ...  11.100000   14.90000\n",
              "quality               1599.0   5.636023  ...   6.000000    8.00000\n",
              "\n",
              "[12 rows x 8 columns]"
            ]
          },
          "metadata": {},
          "execution_count": 4
        }
      ],
      "source": [
        "# Statistics about the data - the percentiles can give us already a good indication about the features\n",
        "# Can you  guess at this stage which of these features would be the most prominant in determing the quality (the taste)?\n",
        "df.describe().T"
      ]
    },
    {
      "cell_type": "code",
      "execution_count": 5,
      "metadata": {
        "colab": {
          "base_uri": "https://localhost:8080/",
          "height": 284
        },
        "id": "2URgb5MNNa2S",
        "outputId": "f58ddd2d-c065-4925-afd1-9ca3ddd3ac43"
      },
      "outputs": [
        {
          "output_type": "display_data",
          "data": {
            "image/png": "[encoded data removed]",
            "text/plain": [
              "<Figure size 432x288 with 12 Axes>"
            ]
          },
          "metadata": {
            "needs_background": "light"
          }
        }
      ],
      "source": [
        "# And plotting histograms\n",
        "hists = df.hist()"
      ]
    },
    {
      "cell_type": "markdown",
      "metadata": {
        "id": "tZQtjm22PzCY"
      },
      "source": [
        "Before we train our Decision Tree, we want to do several thing:\n",
        "\n",
        "1. We want to leave aside some of the values so we can have a good test for the model, so we can determine how well it performed. \n",
        "  \n",
        "  Remind yourself that when a teacher creates an exam, they want to see that the students have actually understood the material, and not learned it by heart.\n",
        "\n",
        "  Therefore, we need to put aside some wines to test the Decision Tree model on.\n",
        "\n",
        "  [Scikit-Learn](https://scikit-learn.org/stable/index.html) has a great method for that: [train_test_split](https://scikit-learn.org/stable/modules/generated/sklearn.model_selection.train_test_split.html), which we are going to use here.\n",
        "2. The quality is a number between 3 to 8 (look at the min/max in the statistics section), where most of the values are around 5 and 6. We can divide the quality into two classes, by answering the question - is this wine very good? Then we will get two classes: **FALSE** (<=6.5), and **TRUE** (>6.5), representing the **OK** and **VERY GOOD** labels. This will make the task easier for the algorithm (less leaf-types, mean more options to create helpful features). \n",
        "\n",
        "3. Machine Learning models are a function that based on the data, it creates a function. The data that the Machine Learning needs is in the form of:  `f(X) --> y`. Where `X` is a set of `features` and `y` is the `label` for these features."
      ]
    },
    {
      "cell_type": "code",
      "execution_count": 6,
      "metadata": {
        "id": "-jEROOVuQcvj"
      },
      "outputs": [],
      "source": [
        "# 'quality' is our label - the column we would like to predict. \n",
        "features_df = df.drop('quality', axis=1)\n",
        "\n",
        "label = df['quality'] > 6.5\n",
        "\n",
        "X_train, X_test, y_train, y_test = train_test_split(features_df, \n",
        "                                                    label, \n",
        "                                                    test_size=0.33, \n",
        "                                                    random_state=42)\n"
      ]
    },
    {
      "cell_type": "code",
      "execution_count": 7,
      "metadata": {
        "colab": {
          "base_uri": "https://localhost:8080/",
          "height": 285
        },
        "id": "gkCmBjs7Rnbs",
        "outputId": "57357a7e-f92a-4513-d2c8-b9fd8341cde3"
      },
      "outputs": [
        {
          "output_type": "execute_result",
          "data": {
            "text/plain": [
              "<matplotlib.axes._subplots.AxesSubplot at 0x7f4c22028350>"
            ]
          },
          "metadata": {},
          "execution_count": 7
        },
        {
          "output_type": "display_data",
          "data": {
            "image/png": "[encoded data removed]",
            "text/plain": [
              "<Figure size 432x288 with 1 Axes>"
            ]
          },
          "metadata": {
            "needs_background": "light"
          }
        }
      ],
      "source": [
        "label.map(int).hist()"
      ]
    },
    {
      "cell_type": "markdown",
      "metadata": {
        "id": "RDzk-GhKWC_a"
      },
      "source": [
        "Before training our Decision Tree, let's look at the data again - this time according to our division of the good wines:"
      ]
    },
    {
      "cell_type": "code",
      "execution_count": 8,
      "metadata": {
        "colab": {
          "base_uri": "https://localhost:8080/",
          "height": 426
        },
        "id": "7dRs5LdWV7Pu",
        "outputId": "c5ebfd5f-7335-496a-8a07-05106795af04"
      },
      "outputs": [
        {
          "output_type": "execute_result",
          "data": {
            "text/html": [
              "\n",
              "  <div id=\"df-8cee4655-e689-435f-905e-e48471b5b72b\">\n",
              "    <div class=\"colab-df-container\">\n",
              "      <div>\n",
              "<style scoped>\n",
              "    .dataframe tbody tr th:only-of-type {\n",
              "        vertical-align: middle;\n",
              "    }\n",
              "\n",
              "    .dataframe tbody tr th {\n",
              "        vertical-align: top;\n",
              "    }\n",
              "\n",
              "    .dataframe thead th {\n",
              "        text-align: right;\n",
              "    }\n",
              "</style>\n",
              "<table border=\"1\" class=\"dataframe\">\n",
              "  <thead>\n",
              "    <tr style=\"text-align: right;\">\n",
              "      <th></th>\n",
              "      <th>count</th>\n",
              "      <th>mean</th>\n",
              "      <th>std</th>\n",
              "      <th>min</th>\n",
              "      <th>25%</th>\n",
              "      <th>50%</th>\n",
              "      <th>75%</th>\n",
              "      <th>max</th>\n",
              "    </tr>\n",
              "  </thead>\n",
              "  <tbody>\n",
              "    <tr>\n",
              "      <th>fixed acidity</th>\n",
              "      <td>217.0</td>\n",
              "      <td>8.847005</td>\n",
              "      <td>1.999977</td>\n",
              "      <td>4.90000</td>\n",
              "      <td>7.4000</td>\n",
              "      <td>8.70000</td>\n",
              "      <td>10.10000</td>\n",
              "      <td>15.6000</td>\n",
              "    </tr>\n",
              "    <tr>\n",
              "      <th>volatile acidity</th>\n",
              "      <td>217.0</td>\n",
              "      <td>0.405530</td>\n",
              "      <td>0.144963</td>\n",
              "      <td>0.12000</td>\n",
              "      <td>0.3000</td>\n",
              "      <td>0.37000</td>\n",
              "      <td>0.49000</td>\n",
              "      <td>0.9150</td>\n",
              "    </tr>\n",
              "    <tr>\n",
              "      <th>citric acid</th>\n",
              "      <td>217.0</td>\n",
              "      <td>0.376498</td>\n",
              "      <td>0.194438</td>\n",
              "      <td>0.00000</td>\n",
              "      <td>0.3000</td>\n",
              "      <td>0.40000</td>\n",
              "      <td>0.49000</td>\n",
              "      <td>0.7600</td>\n",
              "    </tr>\n",
              "    <tr>\n",
              "      <th>residual sugar</th>\n",
              "      <td>217.0</td>\n",
              "      <td>2.708756</td>\n",
              "      <td>1.363026</td>\n",
              "      <td>1.20000</td>\n",
              "      <td>2.0000</td>\n",
              "      <td>2.30000</td>\n",
              "      <td>2.70000</td>\n",
              "      <td>8.9000</td>\n",
              "    </tr>\n",
              "    <tr>\n",
              "      <th>chlorides</th>\n",
              "      <td>217.0</td>\n",
              "      <td>0.075912</td>\n",
              "      <td>0.028480</td>\n",
              "      <td>0.01200</td>\n",
              "      <td>0.0620</td>\n",
              "      <td>0.07300</td>\n",
              "      <td>0.08500</td>\n",
              "      <td>0.3580</td>\n",
              "    </tr>\n",
              "    <tr>\n",
              "      <th>free sulfur dioxide</th>\n",
              "      <td>217.0</td>\n",
              "      <td>13.981567</td>\n",
              "      <td>10.234615</td>\n",
              "      <td>3.00000</td>\n",
              "      <td>6.0000</td>\n",
              "      <td>11.00000</td>\n",
              "      <td>18.00000</td>\n",
              "      <td>54.0000</td>\n",
              "    </tr>\n",
              "    <tr>\n",
              "      <th>total sulfur dioxide</th>\n",
              "      <td>217.0</td>\n",
              "      <td>34.889401</td>\n",
              "      <td>32.572238</td>\n",
              "      <td>7.00000</td>\n",
              "      <td>17.0000</td>\n",
              "      <td>27.00000</td>\n",
              "      <td>43.00000</td>\n",
              "      <td>289.0000</td>\n",
              "    </tr>\n",
              "    <tr>\n",
              "      <th>density</th>\n",
              "      <td>217.0</td>\n",
              "      <td>0.996030</td>\n",
              "      <td>0.002201</td>\n",
              "      <td>0.99064</td>\n",
              "      <td>0.9947</td>\n",
              "      <td>0.99572</td>\n",
              "      <td>0.99735</td>\n",
              "      <td>1.0032</td>\n",
              "    </tr>\n",
              "    <tr>\n",
              "      <th>pH</th>\n",
              "      <td>217.0</td>\n",
              "      <td>3.288802</td>\n",
              "      <td>0.154478</td>\n",
              "      <td>2.88000</td>\n",
              "      <td>3.2000</td>\n",
              "      <td>3.27000</td>\n",
              "      <td>3.38000</td>\n",
              "      <td>3.7800</td>\n",
              "    </tr>\n",
              "    <tr>\n",
              "      <th>sulphates</th>\n",
              "      <td>217.0</td>\n",
              "      <td>0.743456</td>\n",
              "      <td>0.134038</td>\n",
              "      <td>0.39000</td>\n",
              "      <td>0.6500</td>\n",
              "      <td>0.74000</td>\n",
              "      <td>0.82000</td>\n",
              "      <td>1.3600</td>\n",
              "    </tr>\n",
              "    <tr>\n",
              "      <th>alcohol</th>\n",
              "      <td>217.0</td>\n",
              "      <td>11.518049</td>\n",
              "      <td>0.998153</td>\n",
              "      <td>9.20000</td>\n",
              "      <td>10.8000</td>\n",
              "      <td>11.60000</td>\n",
              "      <td>12.20000</td>\n",
              "      <td>14.0000</td>\n",
              "    </tr>\n",
              "    <tr>\n",
              "      <th>quality</th>\n",
              "      <td>217.0</td>\n",
              "      <td>7.082949</td>\n",
              "      <td>0.276443</td>\n",
              "      <td>7.00000</td>\n",
              "      <td>7.0000</td>\n",
              "      <td>7.00000</td>\n",
              "      <td>7.00000</td>\n",
              "      <td>8.0000</td>\n",
              "    </tr>\n",
              "  </tbody>\n",
              "</table>\n",
              "</div>\n",
              "      <button class=\"colab-df-convert\" onclick=\"convertToInteractive('df-8cee4655-e689-435f-905e-e48471b5b72b')\"\n",
              "              title=\"Convert this dataframe to an interactive table.\"\n",
              "              style=\"display:none;\">\n",
              "        \n",
              "  <svg xmlns=\"http://www.w3.org/2000/svg\" height=\"24px\"viewBox=\"0 0 24 24\"\n",
              "       width=\"24px\">\n",
              "    <path d=\"M0 0h24v24H0V0z\" fill=\"none\"/>\n",
              "    <path d=\"M18.56 5.44l.94 2.06.94-2.06 2.06-.94-2.06-.94-.94-2.06-.94 2.06-2.06.94zm-11 1L8.5 8.5l.94-2.06 2.06-.94-2.06-.94L8.5 2.5l-.94 2.06-2.06.94zm10 10l.94 2.06.94-2.06 2.06-.94-2.06-.94-.94-2.06-.94 2.06-2.06.94z\"/><path d=\"M17.41 7.96l-1.37-1.37c-.4-.4-.92-.59-1.43-.59-.52 0-1.04.2-1.43.59L10.3 9.45l-7.72 7.72c-.78.78-.78 2.05 0 2.83L4 21.41c.39.39.9.59 1.41.59.51 0 1.02-.2 1.41-.59l7.78-7.78 2.81-2.81c.8-.78.8-2.07 0-2.86zM5.41 20L4 18.59l7.72-7.72 1.47 1.35L5.41 20z\"/>\n",
              "  </svg>\n",
              "      </button>\n",
              "      \n",
              "  <style>\n",
              "    .colab-df-container {\n",
              "      display:flex;\n",
              "      flex-wrap:wrap;\n",
              "      gap: 12px;\n",
              "    }\n",
              "\n",
              "    .colab-df-convert {\n",
              "      background-color: #E8F0FE;\n",
              "      border: none;\n",
              "      border-radius: 50%;\n",
              "      cursor: pointer;\n",
              "      display: none;\n",
              "      fill: #1967D2;\n",
              "      height: 32px;\n",
              "      padding: 0 0 0 0;\n",
              "      width: 32px;\n",
              "    }\n",
              "\n",
              "    .colab-df-convert:hover {\n",
              "      background-color: #E2EBFA;\n",
              "      box-shadow: 0px 1px 2px rgba(60, 64, 67, 0.3), 0px 1px 3px 1px rgba(60, 64, 67, 0.15);\n",
              "      fill: #174EA6;\n",
              "    }\n",
              "\n",
              "    [theme=dark] .colab-df-convert {\n",
              "      background-color: #3B4455;\n",
              "      fill: #D2E3FC;\n",
              "    }\n",
              "\n",
              "    [theme=dark] .colab-df-convert:hover {\n",
              "      background-color: #434B5C;\n",
              "      box-shadow: 0px 1px 3px 1px rgba(0, 0, 0, 0.15);\n",
              "      filter: drop-shadow(0px 1px 2px rgba(0, 0, 0, 0.3));\n",
              "      fill: #FFFFFF;\n",
              "    }\n",
              "  </style>\n",
              "\n",
              "      <script>\n",
              "        const buttonEl =\n",
              "          document.querySelector('#df-8cee4655-e689-435f-905e-e48471b5b72b button.colab-df-convert');\n",
              "        buttonEl.style.display =\n",
              "          google.colab.kernel.accessAllowed ? 'block' : 'none';\n",
              "\n",
              "        async function convertToInteractive(key) {\n",
              "          const element = document.querySelector('#df-8cee4655-e689-435f-905e-e48471b5b72b');\n",
              "          const dataTable =\n",
              "            await google.colab.kernel.invokeFunction('convertToInteractive',\n",
              "                                                     [key], {});\n",
              "          if (!dataTable) return;\n",
              "\n",
              "          const docLinkHtml = 'Like what you see? Visit the ' +\n",
              "            '<a target=\"_blank\" href=https://colab.research.google.com/notebooks/data_table.ipynb>data table notebook</a>'\n",
              "            + ' to learn more about interactive tables.';\n",
              "          element.innerHTML = '';\n",
              "          dataTable['output_type'] = 'display_data';\n",
              "          await google.colab.output.renderOutput(dataTable, element);\n",
              "          const docLink = document.createElement('div');\n",
              "          docLink.innerHTML = docLinkHtml;\n",
              "          element.appendChild(docLink);\n",
              "        }\n",
              "      </script>\n",
              "    </div>\n",
              "  </div>\n",
              "  "
            ],
            "text/plain": [
              "                      count       mean        std  ...       50%       75%       max\n",
              "fixed acidity         217.0   8.847005   1.999977  ...   8.70000  10.10000   15.6000\n",
              "volatile acidity      217.0   0.405530   0.144963  ...   0.37000   0.49000    0.9150\n",
              "citric acid           217.0   0.376498   0.194438  ...   0.40000   0.49000    0.7600\n",
              "residual sugar        217.0   2.708756   1.363026  ...   2.30000   2.70000    8.9000\n",
              "chlorides             217.0   0.075912   0.028480  ...   0.07300   0.08500    0.3580\n",
              "free sulfur dioxide   217.0  13.981567  10.234615  ...  11.00000  18.00000   54.0000\n",
              "total sulfur dioxide  217.0  34.889401  32.572238  ...  27.00000  43.00000  289.0000\n",
              "density               217.0   0.996030   0.002201  ...   0.99572   0.99735    1.0032\n",
              "pH                    217.0   3.288802   0.154478  ...   3.27000   3.38000    3.7800\n",
              "sulphates             217.0   0.743456   0.134038  ...   0.74000   0.82000    1.3600\n",
              "alcohol               217.0  11.518049   0.998153  ...  11.60000  12.20000   14.0000\n",
              "quality               217.0   7.082949   0.276443  ...   7.00000   7.00000    8.0000\n",
              "\n",
              "[12 rows x 8 columns]"
            ]
          },
          "metadata": {},
          "execution_count": 8
        }
      ],
      "source": [
        "df[label].describe().T"
      ]
    },
    {
      "cell_type": "markdown",
      "metadata": {
        "id": "hQYCxRsOWMzk"
      },
      "source": [
        "And the 'OK' wines:"
      ]
    },
    {
      "cell_type": "code",
      "execution_count": 9,
      "metadata": {
        "colab": {
          "base_uri": "https://localhost:8080/",
          "height": 426
        },
        "id": "NqwOOngvV_JT",
        "outputId": "63fa9685-e604-4dc2-8554-a805e8b65398"
      },
      "outputs": [
        {
          "output_type": "execute_result",
          "data": {
            "text/html": [
              "\n",
              "  <div id=\"df-00fa23ab-cb2e-44d9-ac34-40101e2d149e\">\n",
              "    <div class=\"colab-df-container\">\n",
              "      <div>\n",
              "<style scoped>\n",
              "    .dataframe tbody tr th:only-of-type {\n",
              "        vertical-align: middle;\n",
              "    }\n",
              "\n",
              "    .dataframe tbody tr th {\n",
              "        vertical-align: top;\n",
              "    }\n",
              "\n",
              "    .dataframe thead th {\n",
              "        text-align: right;\n",
              "    }\n",
              "</style>\n",
              "<table border=\"1\" class=\"dataframe\">\n",
              "  <thead>\n",
              "    <tr style=\"text-align: right;\">\n",
              "      <th></th>\n",
              "      <th>count</th>\n",
              "      <th>mean</th>\n",
              "      <th>std</th>\n",
              "      <th>min</th>\n",
              "      <th>25%</th>\n",
              "      <th>50%</th>\n",
              "      <th>75%</th>\n",
              "      <th>max</th>\n",
              "    </tr>\n",
              "  </thead>\n",
              "  <tbody>\n",
              "    <tr>\n",
              "      <th>fixed acidity</th>\n",
              "      <td>1382.0</td>\n",
              "      <td>8.236831</td>\n",
              "      <td>1.682726</td>\n",
              "      <td>4.60000</td>\n",
              "      <td>7.100000</td>\n",
              "      <td>7.8000</td>\n",
              "      <td>9.1000</td>\n",
              "      <td>15.90000</td>\n",
              "    </tr>\n",
              "    <tr>\n",
              "      <th>volatile acidity</th>\n",
              "      <td>1382.0</td>\n",
              "      <td>0.547022</td>\n",
              "      <td>0.176337</td>\n",
              "      <td>0.16000</td>\n",
              "      <td>0.420000</td>\n",
              "      <td>0.5400</td>\n",
              "      <td>0.6500</td>\n",
              "      <td>1.58000</td>\n",
              "    </tr>\n",
              "    <tr>\n",
              "      <th>citric acid</th>\n",
              "      <td>1382.0</td>\n",
              "      <td>0.254407</td>\n",
              "      <td>0.189665</td>\n",
              "      <td>0.00000</td>\n",
              "      <td>0.082500</td>\n",
              "      <td>0.2400</td>\n",
              "      <td>0.4000</td>\n",
              "      <td>1.00000</td>\n",
              "    </tr>\n",
              "    <tr>\n",
              "      <th>residual sugar</th>\n",
              "      <td>1382.0</td>\n",
              "      <td>2.512120</td>\n",
              "      <td>1.415778</td>\n",
              "      <td>0.90000</td>\n",
              "      <td>1.900000</td>\n",
              "      <td>2.2000</td>\n",
              "      <td>2.6000</td>\n",
              "      <td>15.50000</td>\n",
              "    </tr>\n",
              "    <tr>\n",
              "      <th>chlorides</th>\n",
              "      <td>1382.0</td>\n",
              "      <td>0.089281</td>\n",
              "      <td>0.049113</td>\n",
              "      <td>0.03400</td>\n",
              "      <td>0.071000</td>\n",
              "      <td>0.0800</td>\n",
              "      <td>0.0910</td>\n",
              "      <td>0.61100</td>\n",
              "    </tr>\n",
              "    <tr>\n",
              "      <th>free sulfur dioxide</th>\n",
              "      <td>1382.0</td>\n",
              "      <td>16.172214</td>\n",
              "      <td>10.467685</td>\n",
              "      <td>1.00000</td>\n",
              "      <td>8.000000</td>\n",
              "      <td>14.0000</td>\n",
              "      <td>22.0000</td>\n",
              "      <td>72.00000</td>\n",
              "    </tr>\n",
              "    <tr>\n",
              "      <th>total sulfur dioxide</th>\n",
              "      <td>1382.0</td>\n",
              "      <td>48.285818</td>\n",
              "      <td>32.585604</td>\n",
              "      <td>6.00000</td>\n",
              "      <td>23.000000</td>\n",
              "      <td>39.5000</td>\n",
              "      <td>65.0000</td>\n",
              "      <td>165.00000</td>\n",
              "    </tr>\n",
              "    <tr>\n",
              "      <th>density</th>\n",
              "      <td>1382.0</td>\n",
              "      <td>0.996859</td>\n",
              "      <td>0.001808</td>\n",
              "      <td>0.99007</td>\n",
              "      <td>0.995785</td>\n",
              "      <td>0.9968</td>\n",
              "      <td>0.9979</td>\n",
              "      <td>1.00369</td>\n",
              "    </tr>\n",
              "    <tr>\n",
              "      <th>pH</th>\n",
              "      <td>1382.0</td>\n",
              "      <td>3.314616</td>\n",
              "      <td>0.154135</td>\n",
              "      <td>2.74000</td>\n",
              "      <td>3.210000</td>\n",
              "      <td>3.3100</td>\n",
              "      <td>3.4100</td>\n",
              "      <td>4.01000</td>\n",
              "    </tr>\n",
              "    <tr>\n",
              "      <th>sulphates</th>\n",
              "      <td>1382.0</td>\n",
              "      <td>0.644754</td>\n",
              "      <td>0.170629</td>\n",
              "      <td>0.33000</td>\n",
              "      <td>0.540000</td>\n",
              "      <td>0.6000</td>\n",
              "      <td>0.7000</td>\n",
              "      <td>2.00000</td>\n",
              "    </tr>\n",
              "    <tr>\n",
              "      <th>alcohol</th>\n",
              "      <td>1382.0</td>\n",
              "      <td>10.251037</td>\n",
              "      <td>0.969664</td>\n",
              "      <td>8.40000</td>\n",
              "      <td>9.500000</td>\n",
              "      <td>10.0000</td>\n",
              "      <td>10.9000</td>\n",
              "      <td>14.90000</td>\n",
              "    </tr>\n",
              "    <tr>\n",
              "      <th>quality</th>\n",
              "      <td>1382.0</td>\n",
              "      <td>5.408828</td>\n",
              "      <td>0.601719</td>\n",
              "      <td>3.00000</td>\n",
              "      <td>5.000000</td>\n",
              "      <td>5.0000</td>\n",
              "      <td>6.0000</td>\n",
              "      <td>6.00000</td>\n",
              "    </tr>\n",
              "  </tbody>\n",
              "</table>\n",
              "</div>\n",
              "      <button class=\"colab-df-convert\" onclick=\"convertToInteractive('df-00fa23ab-cb2e-44d9-ac34-40101e2d149e')\"\n",
              "              title=\"Convert this dataframe to an interactive table.\"\n",
              "              style=\"display:none;\">\n",
              "        \n",
              "  <svg xmlns=\"http://www.w3.org/2000/svg\" height=\"24px\"viewBox=\"0 0 24 24\"\n",
              "       width=\"24px\">\n",
              "    <path d=\"M0 0h24v24H0V0z\" fill=\"none\"/>\n",
              "    <path d=\"M18.56 5.44l.94 2.06.94-2.06 2.06-.94-2.06-.94-.94-2.06-.94 2.06-2.06.94zm-11 1L8.5 8.5l.94-2.06 2.06-.94-2.06-.94L8.5 2.5l-.94 2.06-2.06.94zm10 10l.94 2.06.94-2.06 2.06-.94-2.06-.94-.94-2.06-.94 2.06-2.06.94z\"/><path d=\"M17.41 7.96l-1.37-1.37c-.4-.4-.92-.59-1.43-.59-.52 0-1.04.2-1.43.59L10.3 9.45l-7.72 7.72c-.78.78-.78 2.05 0 2.83L4 21.41c.39.39.9.59 1.41.59.51 0 1.02-.2 1.41-.59l7.78-7.78 2.81-2.81c.8-.78.8-2.07 0-2.86zM5.41 20L4 18.59l7.72-7.72 1.47 1.35L5.41 20z\"/>\n",
              "  </svg>\n",
              "      </button>\n",
              "      \n",
              "  <style>\n",
              "    .colab-df-container {\n",
              "      display:flex;\n",
              "      flex-wrap:wrap;\n",
              "      gap: 12px;\n",
              "    }\n",
              "\n",
              "    .colab-df-convert {\n",
              "      background-color: #E8F0FE;\n",
              "      border: none;\n",
              "      border-radius: 50%;\n",
              "      cursor: pointer;\n",
              "      display: none;\n",
              "      fill: #1967D2;\n",
              "      height: 32px;\n",
              "      padding: 0 0 0 0;\n",
              "      width: 32px;\n",
              "    }\n",
              "\n",
              "    .colab-df-convert:hover {\n",
              "      background-color: #E2EBFA;\n",
              "      box-shadow: 0px 1px 2px rgba(60, 64, 67, 0.3), 0px 1px 3px 1px rgba(60, 64, 67, 0.15);\n",
              "      fill: #174EA6;\n",
              "    }\n",
              "\n",
              "    [theme=dark] .colab-df-convert {\n",
              "      background-color: #3B4455;\n",
              "      fill: #D2E3FC;\n",
              "    }\n",
              "\n",
              "    [theme=dark] .colab-df-convert:hover {\n",
              "      background-color: #434B5C;\n",
              "      box-shadow: 0px 1px 3px 1px rgba(0, 0, 0, 0.15);\n",
              "      filter: drop-shadow(0px 1px 2px rgba(0, 0, 0, 0.3));\n",
              "      fill: #FFFFFF;\n",
              "    }\n",
              "  </style>\n",
              "\n",
              "      <script>\n",
              "        const buttonEl =\n",
              "          document.querySelector('#df-00fa23ab-cb2e-44d9-ac34-40101e2d149e button.colab-df-convert');\n",
              "        buttonEl.style.display =\n",
              "          google.colab.kernel.accessAllowed ? 'block' : 'none';\n",
              "\n",
              "        async function convertToInteractive(key) {\n",
              "          const element = document.querySelector('#df-00fa23ab-cb2e-44d9-ac34-40101e2d149e');\n",
              "          const dataTable =\n",
              "            await google.colab.kernel.invokeFunction('convertToInteractive',\n",
              "                                                     [key], {});\n",
              "          if (!dataTable) return;\n",
              "\n",
              "          const docLinkHtml = 'Like what you see? Visit the ' +\n",
              "            '<a target=\"_blank\" href=https://colab.research.google.com/notebooks/data_table.ipynb>data table notebook</a>'\n",
              "            + ' to learn more about interactive tables.';\n",
              "          element.innerHTML = '';\n",
              "          dataTable['output_type'] = 'display_data';\n",
              "          await google.colab.output.renderOutput(dataTable, element);\n",
              "          const docLink = document.createElement('div');\n",
              "          docLink.innerHTML = docLinkHtml;\n",
              "          element.appendChild(docLink);\n",
              "        }\n",
              "      </script>\n",
              "    </div>\n",
              "  </div>\n",
              "  "
            ],
            "text/plain": [
              "                       count       mean        std  ...      50%      75%        max\n",
              "fixed acidity         1382.0   8.236831   1.682726  ...   7.8000   9.1000   15.90000\n",
              "volatile acidity      1382.0   0.547022   0.176337  ...   0.5400   0.6500    1.58000\n",
              "citric acid           1382.0   0.254407   0.189665  ...   0.2400   0.4000    1.00000\n",
              "residual sugar        1382.0   2.512120   1.415778  ...   2.2000   2.6000   15.50000\n",
              "chlorides             1382.0   0.089281   0.049113  ...   0.0800   0.0910    0.61100\n",
              "free sulfur dioxide   1382.0  16.172214  10.467685  ...  14.0000  22.0000   72.00000\n",
              "total sulfur dioxide  1382.0  48.285818  32.585604  ...  39.5000  65.0000  165.00000\n",
              "density               1382.0   0.996859   0.001808  ...   0.9968   0.9979    1.00369\n",
              "pH                    1382.0   3.314616   0.154135  ...   3.3100   3.4100    4.01000\n",
              "sulphates             1382.0   0.644754   0.170629  ...   0.6000   0.7000    2.00000\n",
              "alcohol               1382.0  10.251037   0.969664  ...  10.0000  10.9000   14.90000\n",
              "quality               1382.0   5.408828   0.601719  ...   5.0000   6.0000    6.00000\n",
              "\n",
              "[12 rows x 8 columns]"
            ]
          },
          "metadata": {},
          "execution_count": 9
        }
      ],
      "source": [
        "df[~label].describe().T"
      ]
    },
    {
      "cell_type": "markdown",
      "metadata": {
        "id": "PWQmIWzMWQpf"
      },
      "source": [
        "Can you guestimate now which top 3 features would be meaningful in determing the wine quality?"
      ]
    },
    {
      "cell_type": "markdown",
      "metadata": {
        "id": "LM1CXLRYQLw9"
      },
      "source": [
        "## Training a Decision-Tree\n",
        "Now we are ready to train our classifier!\n",
        "Remember to never show your classifier the test-data! (Otherwise, it's cheating...)"
      ]
    },
    {
      "cell_type": "code",
      "execution_count": 15,
      "metadata": {
        "colab": {
          "base_uri": "https://localhost:8080/"
        },
        "id": "IyI20DUTN6Da",
        "outputId": "38fac8cd-9230-4def-8ba6-750bcd8d954b"
      },
      "outputs": [
        {
          "output_type": "execute_result",
          "data": {
            "text/plain": [
              "DecisionTreeClassifier(criterion='entropy', max_depth=3)"
            ]
          },
          "metadata": {},
          "execution_count": 15
        }
      ],
      "source": [
        "# Instantiate the class instance:\n",
        "decTree = tree.DecisionTreeClassifier(criterion='entropy', max_depth=3)\n",
        "\n",
        "# Train it on our data\n",
        "decTree.fit(X_train, y_train)"
      ]
    },
    {
      "cell_type": "markdown",
      "metadata": {
        "id": "6SvmEskQViVT"
      },
      "source": [
        "Let's plot the first 3 layers of the tree, to examine which features contributes to the good wines:"
      ]
    },
    {
      "cell_type": "code",
      "execution_count": 16,
      "metadata": {
        "colab": {
          "base_uri": "https://localhost:8080/",
          "height": 619
        },
        "id": "WzE4PwztPYnn",
        "outputId": "e9099f04-47d5-4a68-bf98-252a3c808e0b"
      },
      "outputs": [
        {
          "output_type": "execute_result",
          "data": {
            "text/plain": [
              "<graphviz.files.Source at 0x7f4c3693cfd0>"
            ],
            "image/svg+xml": "<?xml version=\"1.0\" encoding=\"UTF-8\" standalone=\"no\"?>\n<!DOCTYPE svg PUBLIC \"-//W3C//DTD SVG 1.1//EN\"\n \"http://www.w3.org/Graphics/SVG/1.1/DTD/svg11.dtd\">\n<!-- Generated by graphviz version 2.40.1 (20161225.0304)\n -->\n<!-- Title: Tree Pages: 1 -->\n<svg width=\"1078pt\" height=\"433pt\"\n viewBox=\"0.00 0.00 1078.00 433.00\" xmlns=\"http://www.w3.org/2000/svg\" xmlns:xlink=\"http://www.w3.org/1999/xlink\">\n<g id=\"graph0\" class=\"graph\" transform=\"scale(1 1) rotate(0) translate(4 429)\">\n<title>Tree</title>\n<polygon fill=\"#ffffff\" stroke=\"transparent\" points=\"-4,4 -4,-429 1074,-429 1074,4 -4,4\"/>\n<!-- 0 -->\n<g id=\"node1\" class=\"node\">\n<title>0</title>\n<path fill=\"#e99457\" stroke=\"#000000\" d=\"M570,-425C570,-425 462,-425 462,-425 456,-425 450,-419 450,-413 450,-413 450,-354 450,-354 450,-348 456,-342 462,-342 462,-342 570,-342 570,-342 576,-342 582,-348 582,-354 582,-354 582,-413 582,-413 582,-419 576,-425 570,-425\"/>\n<text text-anchor=\"start\" x=\"466.5\" y=\"-409.8\" font-family=\"Helvetica,sans-Serif\" font-size=\"14.00\" fill=\"#000000\">alcohol ≤ 11.55</text>\n<text text-anchor=\"start\" x=\"465\" y=\"-394.8\" font-family=\"Helvetica,sans-Serif\" font-size=\"14.00\" fill=\"#000000\">entropy = 0.559</text>\n<text text-anchor=\"start\" x=\"464\" y=\"-379.8\" font-family=\"Helvetica,sans-Serif\" font-size=\"14.00\" fill=\"#000000\">samples = 1071</text>\n<text text-anchor=\"start\" x=\"458\" y=\"-364.8\" font-family=\"Helvetica,sans-Serif\" font-size=\"14.00\" fill=\"#000000\">value = [931, 140]</text>\n<text text-anchor=\"start\" x=\"487\" y=\"-349.8\" font-family=\"Helvetica,sans-Serif\" font-size=\"14.00\" fill=\"#000000\">class = q</text>\n</g>\n<!-- 1 -->\n<g id=\"node2\" class=\"node\">\n<title>1</title>\n<path fill=\"#e78a48\" stroke=\"#000000\" d=\"M485.5,-306C485.5,-306 378.5,-306 378.5,-306 372.5,-306 366.5,-300 366.5,-294 366.5,-294 366.5,-235 366.5,-235 366.5,-229 372.5,-223 378.5,-223 378.5,-223 485.5,-223 485.5,-223 491.5,-223 497.5,-229 497.5,-235 497.5,-235 497.5,-294 497.5,-294 497.5,-300 491.5,-306 485.5,-306\"/>\n<text text-anchor=\"start\" x=\"374.5\" y=\"-290.8\" font-family=\"Helvetica,sans-Serif\" font-size=\"14.00\" fill=\"#000000\">sulphates ≤ 0.665</text>\n<text text-anchor=\"start\" x=\"381\" y=\"-275.8\" font-family=\"Helvetica,sans-Serif\" font-size=\"14.00\" fill=\"#000000\">entropy = 0.364</text>\n<text text-anchor=\"start\" x=\"384\" y=\"-260.8\" font-family=\"Helvetica,sans-Serif\" font-size=\"14.00\" fill=\"#000000\">samples = 908</text>\n<text text-anchor=\"start\" x=\"378\" y=\"-245.8\" font-family=\"Helvetica,sans-Serif\" font-size=\"14.00\" fill=\"#000000\">value = [845, 63]</text>\n<text text-anchor=\"start\" x=\"403\" y=\"-230.8\" font-family=\"Helvetica,sans-Serif\" font-size=\"14.00\" fill=\"#000000\">class = q</text>\n</g>\n<!-- 0&#45;&gt;1 -->\n<g id=\"edge1\" class=\"edge\">\n<title>0&#45;&gt;1</title>\n<path fill=\"none\" stroke=\"#000000\" d=\"M486.6209,-341.8796C480.3906,-333.0534 473.7519,-323.6485 467.327,-314.5466\"/>\n<polygon fill=\"#000000\" stroke=\"#000000\" points=\"470.1308,-312.4494 461.5045,-306.2981 464.412,-316.4862 470.1308,-312.4494\"/>\n<text text-anchor=\"middle\" x=\"457.2568\" y=\"-327.2346\" font-family=\"Helvetica,sans-Serif\" font-size=\"14.00\" fill=\"#000000\">True</text>\n</g>\n<!-- 8 -->\n<g id=\"node9\" class=\"node\">\n<title>8</title>\n<path fill=\"#fcf2ea\" stroke=\"#000000\" d=\"M687.5,-306C687.5,-306 580.5,-306 580.5,-306 574.5,-306 568.5,-300 568.5,-294 568.5,-294 568.5,-235 568.5,-235 568.5,-229 574.5,-223 580.5,-223 580.5,-223 687.5,-223 687.5,-223 693.5,-223 699.5,-229 699.5,-235 699.5,-235 699.5,-294 699.5,-294 699.5,-300 693.5,-306 687.5,-306\"/>\n<text text-anchor=\"start\" x=\"576.5\" y=\"-290.8\" font-family=\"Helvetica,sans-Serif\" font-size=\"14.00\" fill=\"#000000\">sulphates ≤ 0.685</text>\n<text text-anchor=\"start\" x=\"583\" y=\"-275.8\" font-family=\"Helvetica,sans-Serif\" font-size=\"14.00\" fill=\"#000000\">entropy = 0.998</text>\n<text text-anchor=\"start\" x=\"586\" y=\"-260.8\" font-family=\"Helvetica,sans-Serif\" font-size=\"14.00\" fill=\"#000000\">samples = 163</text>\n<text text-anchor=\"start\" x=\"584\" y=\"-245.8\" font-family=\"Helvetica,sans-Serif\" font-size=\"14.00\" fill=\"#000000\">value = [86, 77]</text>\n<text text-anchor=\"start\" x=\"605\" y=\"-230.8\" font-family=\"Helvetica,sans-Serif\" font-size=\"14.00\" fill=\"#000000\">class = q</text>\n</g>\n<!-- 0&#45;&gt;8 -->\n<g id=\"edge8\" class=\"edge\">\n<title>0&#45;&gt;8</title>\n<path fill=\"none\" stroke=\"#000000\" d=\"M557.2707,-341.8796C566.3799,-332.6931 576.1108,-322.8798 585.4776,-313.4336\"/>\n<polygon fill=\"#000000\" stroke=\"#000000\" points=\"587.9973,-315.8634 592.5532,-306.2981 583.0267,-310.9345 587.9973,-315.8634\"/>\n<text text-anchor=\"middle\" x=\"592.6587\" y=\"-327.5978\" font-family=\"Helvetica,sans-Serif\" font-size=\"14.00\" fill=\"#000000\">False</text>\n</g>\n<!-- 2 -->\n<g id=\"node3\" class=\"node\">\n<title>2</title>\n<path fill=\"#e6843e\" stroke=\"#000000\" d=\"M275,-187C275,-187 125,-187 125,-187 119,-187 113,-181 113,-175 113,-175 113,-116 113,-116 113,-110 119,-104 125,-104 125,-104 275,-104 275,-104 281,-104 287,-110 287,-116 287,-116 287,-175 287,-175 287,-181 281,-187 275,-187\"/>\n<text text-anchor=\"start\" x=\"121\" y=\"-171.8\" font-family=\"Helvetica,sans-Serif\" font-size=\"14.00\" fill=\"#000000\">free sulfur dioxide ≤ 15.5</text>\n<text text-anchor=\"start\" x=\"149\" y=\"-156.8\" font-family=\"Helvetica,sans-Serif\" font-size=\"14.00\" fill=\"#000000\">entropy = 0.163</text>\n<text text-anchor=\"start\" x=\"152\" y=\"-141.8\" font-family=\"Helvetica,sans-Serif\" font-size=\"14.00\" fill=\"#000000\">samples = 586</text>\n<text text-anchor=\"start\" x=\"146\" y=\"-126.8\" font-family=\"Helvetica,sans-Serif\" font-size=\"14.00\" fill=\"#000000\">value = [572, 14]</text>\n<text text-anchor=\"start\" x=\"171\" y=\"-111.8\" font-family=\"Helvetica,sans-Serif\" font-size=\"14.00\" fill=\"#000000\">class = q</text>\n</g>\n<!-- 1&#45;&gt;2 -->\n<g id=\"edge2\" class=\"edge\">\n<title>1&#45;&gt;2</title>\n<path fill=\"none\" stroke=\"#000000\" d=\"M366.4484,-230.8765C342.7157,-218.7033 315.4841,-204.7354 290.0144,-191.6712\"/>\n<polygon fill=\"#000000\" stroke=\"#000000\" points=\"291.5828,-188.5421 281.0876,-187.0924 288.388,-194.7706 291.5828,-188.5421\"/>\n</g>\n<!-- 5 -->\n<g id=\"node6\" class=\"node\">\n<title>5</title>\n<path fill=\"#ea985d\" stroke=\"#000000\" d=\"M482,-187C482,-187 382,-187 382,-187 376,-187 370,-181 370,-175 370,-175 370,-116 370,-116 370,-110 376,-104 382,-104 382,-104 482,-104 482,-104 488,-104 494,-110 494,-116 494,-116 494,-175 494,-175 494,-181 488,-187 482,-187\"/>\n<text text-anchor=\"start\" x=\"386.5\" y=\"-171.8\" font-family=\"Helvetica,sans-Serif\" font-size=\"14.00\" fill=\"#000000\">alcohol ≤ 9.65</text>\n<text text-anchor=\"start\" x=\"381\" y=\"-156.8\" font-family=\"Helvetica,sans-Serif\" font-size=\"14.00\" fill=\"#000000\">entropy = 0.615</text>\n<text text-anchor=\"start\" x=\"384\" y=\"-141.8\" font-family=\"Helvetica,sans-Serif\" font-size=\"14.00\" fill=\"#000000\">samples = 322</text>\n<text text-anchor=\"start\" x=\"378\" y=\"-126.8\" font-family=\"Helvetica,sans-Serif\" font-size=\"14.00\" fill=\"#000000\">value = [273, 49]</text>\n<text text-anchor=\"start\" x=\"403\" y=\"-111.8\" font-family=\"Helvetica,sans-Serif\" font-size=\"14.00\" fill=\"#000000\">class = q</text>\n</g>\n<!-- 1&#45;&gt;5 -->\n<g id=\"edge5\" class=\"edge\">\n<title>1&#45;&gt;5</title>\n<path fill=\"none\" stroke=\"#000000\" d=\"M432,-222.8796C432,-214.6838 432,-205.9891 432,-197.5013\"/>\n<polygon fill=\"#000000\" stroke=\"#000000\" points=\"435.5001,-197.298 432,-187.2981 428.5001,-197.2981 435.5001,-197.298\"/>\n</g>\n<!-- 3 -->\n<g id=\"node4\" class=\"node\">\n<title>3</title>\n<path fill=\"#e68641\" stroke=\"#000000\" d=\"M112,-68C112,-68 12,-68 12,-68 6,-68 0,-62 0,-56 0,-56 0,-12 0,-12 0,-6 6,0 12,0 12,0 112,0 112,0 118,0 124,-6 124,-12 124,-12 124,-56 124,-56 124,-62 118,-68 112,-68\"/>\n<text text-anchor=\"start\" x=\"11\" y=\"-52.8\" font-family=\"Helvetica,sans-Serif\" font-size=\"14.00\" fill=\"#000000\">entropy = 0.246</text>\n<text text-anchor=\"start\" x=\"14\" y=\"-37.8\" font-family=\"Helvetica,sans-Serif\" font-size=\"14.00\" fill=\"#000000\">samples = 343</text>\n<text text-anchor=\"start\" x=\"8\" y=\"-22.8\" font-family=\"Helvetica,sans-Serif\" font-size=\"14.00\" fill=\"#000000\">value = [329, 14]</text>\n<text text-anchor=\"start\" x=\"33\" y=\"-7.8\" font-family=\"Helvetica,sans-Serif\" font-size=\"14.00\" fill=\"#000000\">class = q</text>\n</g>\n<!-- 2&#45;&gt;3 -->\n<g id=\"edge3\" class=\"edge\">\n<title>2&#45;&gt;3</title>\n<path fill=\"none\" stroke=\"#000000\" d=\"M148.6139,-103.9815C136.7839,-94.4232 124.2136,-84.2668 112.4249,-74.7419\"/>\n<polygon fill=\"#000000\" stroke=\"#000000\" points=\"114.3851,-71.826 104.4071,-68.2637 109.9858,-77.2708 114.3851,-71.826\"/>\n</g>\n<!-- 4 -->\n<g id=\"node5\" class=\"node\">\n<title>4</title>\n<path fill=\"#e58139\" stroke=\"#000000\" d=\"M246,-68C246,-68 154,-68 154,-68 148,-68 142,-62 142,-56 142,-56 142,-12 142,-12 142,-6 148,0 154,0 154,0 246,0 246,0 252,0 258,-6 258,-12 258,-12 258,-56 258,-56 258,-62 252,-68 246,-68\"/>\n<text text-anchor=\"start\" x=\"157.5\" y=\"-52.8\" font-family=\"Helvetica,sans-Serif\" font-size=\"14.00\" fill=\"#000000\">entropy = 0.0</text>\n<text text-anchor=\"start\" x=\"152\" y=\"-37.8\" font-family=\"Helvetica,sans-Serif\" font-size=\"14.00\" fill=\"#000000\">samples = 243</text>\n<text text-anchor=\"start\" x=\"150\" y=\"-22.8\" font-family=\"Helvetica,sans-Serif\" font-size=\"14.00\" fill=\"#000000\">value = [243, 0]</text>\n<text text-anchor=\"start\" x=\"171\" y=\"-7.8\" font-family=\"Helvetica,sans-Serif\" font-size=\"14.00\" fill=\"#000000\">class = q</text>\n</g>\n<!-- 2&#45;&gt;4 -->\n<g id=\"edge4\" class=\"edge\">\n<title>2&#45;&gt;4</title>\n<path fill=\"none\" stroke=\"#000000\" d=\"M200,-103.9815C200,-95.618 200,-86.7965 200,-78.3409\"/>\n<polygon fill=\"#000000\" stroke=\"#000000\" points=\"203.5001,-78.2636 200,-68.2637 196.5001,-78.2637 203.5001,-78.2636\"/>\n</g>\n<!-- 6 -->\n<g id=\"node7\" class=\"node\">\n<title>6</title>\n<path fill=\"#e58139\" stroke=\"#000000\" d=\"M371.5,-68C371.5,-68 288.5,-68 288.5,-68 282.5,-68 276.5,-62 276.5,-56 276.5,-56 276.5,-12 276.5,-12 276.5,-6 282.5,0 288.5,0 288.5,0 371.5,0 371.5,0 377.5,0 383.5,-6 383.5,-12 383.5,-12 383.5,-56 383.5,-56 383.5,-62 377.5,-68 371.5,-68\"/>\n<text text-anchor=\"start\" x=\"287.5\" y=\"-52.8\" font-family=\"Helvetica,sans-Serif\" font-size=\"14.00\" fill=\"#000000\">entropy = 0.0</text>\n<text text-anchor=\"start\" x=\"286\" y=\"-37.8\" font-family=\"Helvetica,sans-Serif\" font-size=\"14.00\" fill=\"#000000\">samples = 82</text>\n<text text-anchor=\"start\" x=\"284.5\" y=\"-22.8\" font-family=\"Helvetica,sans-Serif\" font-size=\"14.00\" fill=\"#000000\">value = [82, 0]</text>\n<text text-anchor=\"start\" x=\"301\" y=\"-7.8\" font-family=\"Helvetica,sans-Serif\" font-size=\"14.00\" fill=\"#000000\">class = q</text>\n</g>\n<!-- 5&#45;&gt;6 -->\n<g id=\"edge6\" class=\"edge\">\n<title>5&#45;&gt;6</title>\n<path fill=\"none\" stroke=\"#000000\" d=\"M394.019,-103.9815C385.6114,-94.7908 376.6979,-85.0472 368.2785,-75.8436\"/>\n<polygon fill=\"#000000\" stroke=\"#000000\" points=\"370.6766,-73.2797 361.3443,-68.2637 365.5117,-78.0045 370.6766,-73.2797\"/>\n</g>\n<!-- 7 -->\n<g id=\"node8\" class=\"node\">\n<title>7</title>\n<path fill=\"#eca16c\" stroke=\"#000000\" d=\"M514,-68C514,-68 414,-68 414,-68 408,-68 402,-62 402,-56 402,-56 402,-12 402,-12 402,-6 408,0 414,0 414,0 514,0 514,0 520,0 526,-6 526,-12 526,-12 526,-56 526,-56 526,-62 520,-68 514,-68\"/>\n<text text-anchor=\"start\" x=\"417\" y=\"-52.8\" font-family=\"Helvetica,sans-Serif\" font-size=\"14.00\" fill=\"#000000\">entropy = 0.73</text>\n<text text-anchor=\"start\" x=\"416\" y=\"-37.8\" font-family=\"Helvetica,sans-Serif\" font-size=\"14.00\" fill=\"#000000\">samples = 240</text>\n<text text-anchor=\"start\" x=\"410\" y=\"-22.8\" font-family=\"Helvetica,sans-Serif\" font-size=\"14.00\" fill=\"#000000\">value = [191, 49]</text>\n<text text-anchor=\"start\" x=\"435\" y=\"-7.8\" font-family=\"Helvetica,sans-Serif\" font-size=\"14.00\" fill=\"#000000\">class = q</text>\n</g>\n<!-- 5&#45;&gt;7 -->\n<g id=\"edge7\" class=\"edge\">\n<title>5&#45;&gt;7</title>\n<path fill=\"none\" stroke=\"#000000\" d=\"M443.9156,-103.9815C446.3423,-95.5261 448.9033,-86.6026 451.3543,-78.0623\"/>\n<polygon fill=\"#000000\" stroke=\"#000000\" points=\"454.772,-78.8412 454.1665,-68.2637 448.0436,-76.9101 454.772,-78.8412\"/>\n</g>\n<!-- 9 -->\n<g id=\"node10\" class=\"node\">\n<title>9</title>\n<path fill=\"#efb286\" stroke=\"#000000\" d=\"M710,-187C710,-187 558,-187 558,-187 552,-187 546,-181 546,-175 546,-175 546,-116 546,-116 546,-110 552,-104 558,-104 558,-104 710,-104 710,-104 716,-104 722,-110 722,-116 722,-116 722,-175 722,-175 722,-181 716,-187 710,-187\"/>\n<text text-anchor=\"start\" x=\"554\" y=\"-171.8\" font-family=\"Helvetica,sans-Serif\" font-size=\"14.00\" fill=\"#000000\">total sulfur dioxide ≤ 14.5</text>\n<text text-anchor=\"start\" x=\"583\" y=\"-156.8\" font-family=\"Helvetica,sans-Serif\" font-size=\"14.00\" fill=\"#000000\">entropy = 0.857</text>\n<text text-anchor=\"start\" x=\"590\" y=\"-141.8\" font-family=\"Helvetica,sans-Serif\" font-size=\"14.00\" fill=\"#000000\">samples = 89</text>\n<text text-anchor=\"start\" x=\"584\" y=\"-126.8\" font-family=\"Helvetica,sans-Serif\" font-size=\"14.00\" fill=\"#000000\">value = [64, 25]</text>\n<text text-anchor=\"start\" x=\"605\" y=\"-111.8\" font-family=\"Helvetica,sans-Serif\" font-size=\"14.00\" fill=\"#000000\">class = q</text>\n</g>\n<!-- 8&#45;&gt;9 -->\n<g id=\"edge9\" class=\"edge\">\n<title>8&#45;&gt;9</title>\n<path fill=\"none\" stroke=\"#000000\" d=\"M634,-222.8796C634,-214.6838 634,-205.9891 634,-197.5013\"/>\n<polygon fill=\"#000000\" stroke=\"#000000\" points=\"637.5001,-197.298 634,-187.2981 630.5001,-197.2981 637.5001,-197.298\"/>\n</g>\n<!-- 12 -->\n<g id=\"node13\" class=\"node\">\n<title>12</title>\n<path fill=\"#8dc6f0\" stroke=\"#000000\" d=\"M950,-187C950,-187 800,-187 800,-187 794,-187 788,-181 788,-175 788,-175 788,-116 788,-116 788,-110 794,-104 800,-104 800,-104 950,-104 950,-104 956,-104 962,-110 962,-116 962,-116 962,-175 962,-175 962,-181 956,-187 950,-187\"/>\n<text text-anchor=\"start\" x=\"796\" y=\"-171.8\" font-family=\"Helvetica,sans-Serif\" font-size=\"14.00\" fill=\"#000000\">free sulfur dioxide ≤ 18.5</text>\n<text text-anchor=\"start\" x=\"824\" y=\"-156.8\" font-family=\"Helvetica,sans-Serif\" font-size=\"14.00\" fill=\"#000000\">entropy = 0.878</text>\n<text text-anchor=\"start\" x=\"831\" y=\"-141.8\" font-family=\"Helvetica,sans-Serif\" font-size=\"14.00\" fill=\"#000000\">samples = 74</text>\n<text text-anchor=\"start\" x=\"825\" y=\"-126.8\" font-family=\"Helvetica,sans-Serif\" font-size=\"14.00\" fill=\"#000000\">value = [22, 52]</text>\n<text text-anchor=\"start\" x=\"846\" y=\"-111.8\" font-family=\"Helvetica,sans-Serif\" font-size=\"14.00\" fill=\"#000000\">class = u</text>\n</g>\n<!-- 8&#45;&gt;12 -->\n<g id=\"edge12\" class=\"edge\">\n<title>8&#45;&gt;12</title>\n<path fill=\"none\" stroke=\"#000000\" d=\"M699.536,-232.1399C724.8321,-219.6493 754.241,-205.1279 781.6688,-191.5847\"/>\n<polygon fill=\"#000000\" stroke=\"#000000\" points=\"783.4688,-194.5994 790.8857,-187.0336 780.3696,-188.3228 783.4688,-194.5994\"/>\n</g>\n<!-- 10 -->\n<g id=\"node11\" class=\"node\">\n<title>10</title>\n<path fill=\"#b0d8f5\" stroke=\"#000000\" d=\"M650,-68C650,-68 556,-68 556,-68 550,-68 544,-62 544,-56 544,-56 544,-12 544,-12 544,-6 550,0 556,0 556,0 650,0 650,0 656,0 662,-6 662,-12 662,-12 662,-56 662,-56 662,-62 656,-68 650,-68\"/>\n<text text-anchor=\"start\" x=\"552\" y=\"-52.8\" font-family=\"Helvetica,sans-Serif\" font-size=\"14.00\" fill=\"#000000\">entropy = 0.954</text>\n<text text-anchor=\"start\" x=\"559\" y=\"-37.8\" font-family=\"Helvetica,sans-Serif\" font-size=\"14.00\" fill=\"#000000\">samples = 24</text>\n<text text-anchor=\"start\" x=\"557.5\" y=\"-22.8\" font-family=\"Helvetica,sans-Serif\" font-size=\"14.00\" fill=\"#000000\">value = [9, 15]</text>\n<text text-anchor=\"start\" x=\"574\" y=\"-7.8\" font-family=\"Helvetica,sans-Serif\" font-size=\"14.00\" fill=\"#000000\">class = u</text>\n</g>\n<!-- 9&#45;&gt;10 -->\n<g id=\"edge10\" class=\"edge\">\n<title>9&#45;&gt;10</title>\n<path fill=\"none\" stroke=\"#000000\" d=\"M622.4567,-103.9815C620.1059,-95.5261 617.6249,-86.6026 615.2505,-78.0623\"/>\n<polygon fill=\"#000000\" stroke=\"#000000\" points=\"618.5771,-76.9607 612.5262,-68.2637 611.8329,-78.8358 618.5771,-76.9607\"/>\n</g>\n<!-- 11 -->\n<g id=\"node12\" class=\"node\">\n<title>11</title>\n<path fill=\"#ea985d\" stroke=\"#000000\" d=\"M786,-68C786,-68 692,-68 692,-68 686,-68 680,-62 680,-56 680,-56 680,-12 680,-12 680,-6 686,0 692,0 692,0 786,0 786,0 792,0 798,-6 798,-12 798,-12 798,-56 798,-56 798,-62 792,-68 786,-68\"/>\n<text text-anchor=\"start\" x=\"688\" y=\"-52.8\" font-family=\"Helvetica,sans-Serif\" font-size=\"14.00\" fill=\"#000000\">entropy = 0.619</text>\n<text text-anchor=\"start\" x=\"695\" y=\"-37.8\" font-family=\"Helvetica,sans-Serif\" font-size=\"14.00\" fill=\"#000000\">samples = 65</text>\n<text text-anchor=\"start\" x=\"689\" y=\"-22.8\" font-family=\"Helvetica,sans-Serif\" font-size=\"14.00\" fill=\"#000000\">value = [55, 10]</text>\n<text text-anchor=\"start\" x=\"710\" y=\"-7.8\" font-family=\"Helvetica,sans-Serif\" font-size=\"14.00\" fill=\"#000000\">class = q</text>\n</g>\n<!-- 9&#45;&gt;11 -->\n<g id=\"edge11\" class=\"edge\">\n<title>9&#45;&gt;11</title>\n<path fill=\"none\" stroke=\"#000000\" d=\"M673.0981,-103.9815C681.8396,-94.6989 691.1122,-84.8522 699.8556,-75.5677\"/>\n<polygon fill=\"#000000\" stroke=\"#000000\" points=\"702.4261,-77.9433 706.7338,-68.2637 697.33,-73.1443 702.4261,-77.9433\"/>\n</g>\n<!-- 13 -->\n<g id=\"node14\" class=\"node\">\n<title>13</title>\n<path fill=\"#63b2eb\" stroke=\"#000000\" d=\"M922,-68C922,-68 828,-68 828,-68 822,-68 816,-62 816,-56 816,-56 816,-12 816,-12 816,-6 822,0 828,0 828,0 922,0 922,0 928,0 934,-6 934,-12 934,-12 934,-56 934,-56 934,-62 928,-68 922,-68\"/>\n<text text-anchor=\"start\" x=\"824\" y=\"-52.8\" font-family=\"Helvetica,sans-Serif\" font-size=\"14.00\" fill=\"#000000\">entropy = 0.672</text>\n<text text-anchor=\"start\" x=\"831\" y=\"-37.8\" font-family=\"Helvetica,sans-Serif\" font-size=\"14.00\" fill=\"#000000\">samples = 51</text>\n<text text-anchor=\"start\" x=\"829.5\" y=\"-22.8\" font-family=\"Helvetica,sans-Serif\" font-size=\"14.00\" fill=\"#000000\">value = [9, 42]</text>\n<text text-anchor=\"start\" x=\"846\" y=\"-7.8\" font-family=\"Helvetica,sans-Serif\" font-size=\"14.00\" fill=\"#000000\">class = u</text>\n</g>\n<!-- 12&#45;&gt;13 -->\n<g id=\"edge13\" class=\"edge\">\n<title>12&#45;&gt;13</title>\n<path fill=\"none\" stroke=\"#000000\" d=\"M875,-103.9815C875,-95.618 875,-86.7965 875,-78.3409\"/>\n<polygon fill=\"#000000\" stroke=\"#000000\" points=\"878.5001,-78.2636 875,-68.2637 871.5001,-78.2637 878.5001,-78.2636\"/>\n</g>\n<!-- 14 -->\n<g id=\"node15\" class=\"node\">\n<title>14</title>\n<path fill=\"#f9e2d1\" stroke=\"#000000\" d=\"M1058,-68C1058,-68 964,-68 964,-68 958,-68 952,-62 952,-56 952,-56 952,-12 952,-12 952,-6 958,0 964,0 964,0 1058,0 1058,0 1064,0 1070,-6 1070,-12 1070,-12 1070,-56 1070,-56 1070,-62 1064,-68 1058,-68\"/>\n<text text-anchor=\"start\" x=\"960\" y=\"-52.8\" font-family=\"Helvetica,sans-Serif\" font-size=\"14.00\" fill=\"#000000\">entropy = 0.988</text>\n<text text-anchor=\"start\" x=\"967\" y=\"-37.8\" font-family=\"Helvetica,sans-Serif\" font-size=\"14.00\" fill=\"#000000\">samples = 23</text>\n<text text-anchor=\"start\" x=\"961\" y=\"-22.8\" font-family=\"Helvetica,sans-Serif\" font-size=\"14.00\" fill=\"#000000\">value = [13, 10]</text>\n<text text-anchor=\"start\" x=\"982\" y=\"-7.8\" font-family=\"Helvetica,sans-Serif\" font-size=\"14.00\" fill=\"#000000\">class = q</text>\n</g>\n<!-- 12&#45;&gt;14 -->\n<g id=\"edge14\" class=\"edge\">\n<title>12&#45;&gt;14</title>\n<path fill=\"none\" stroke=\"#000000\" d=\"M925.6414,-103.9815C937.2999,-94.4232 949.688,-84.2668 961.3059,-74.7419\"/>\n<polygon fill=\"#000000\" stroke=\"#000000\" points=\"963.6933,-77.3105 969.2075,-68.2637 959.2552,-71.8972 963.6933,-77.3105\"/>\n</g>\n</g>\n</svg>\n"
          },
          "metadata": {},
          "execution_count": 16
        }
      ],
      "source": [
        "dot_data = tree.export_graphviz(decTree, out_file=None, \n",
        "                      feature_names=features_df.columns.to_list(),  \n",
        "                      class_names='quality',\n",
        "                      filled=True, rounded=True,\n",
        "                      max_depth=3,\n",
        "                      special_characters=True)  \n",
        "graph = graphviz.Source(dot_data)  \n",
        "graph "
      ]
    },
    {
      "cell_type": "markdown",
      "metadata": {
        "id": "yQRg2V_aSn0y"
      },
      "source": [
        "According to the Decision Tree model, `alcohol` is the strongest determinator. When there's more than `11.5%` alcohol in the wine, then the amount of suphates would determine its taste. Otherwise it would be the acidity.\n",
        "\n",
        "Let's investigate the data based on this data."
      ]
    },
    {
      "cell_type": "code",
      "execution_count": 12,
      "metadata": {
        "colab": {
          "base_uri": "https://localhost:8080/"
        },
        "id": "tV3iSj116JB_",
        "outputId": "d1c547c6-62be-4af1-a5fa-e29a905f549d"
      },
      "outputs": [
        {
          "output_type": "execute_result",
          "data": {
            "text/plain": [
              "False    1242\n",
              "True      107\n",
              "Name: label, dtype: int64"
            ]
          },
          "metadata": {},
          "execution_count": 12
        }
      ],
      "source": [
        "# We add our True/False quality label to the dataset\n",
        "df['label'] = label\n",
        "# And count how many of them are True/False when the alcohol is less than 11.55 \n",
        "df[df['alcohol'] <= 11.55]['label'].value_counts()"
      ]
    },
    {
      "cell_type": "code",
      "execution_count": 13,
      "metadata": {
        "colab": {
          "base_uri": "https://localhost:8080/"
        },
        "id": "I4b8e0Cp63wm",
        "outputId": "f4fa126e-c90a-4ac8-acfa-2fcb5b6fed4a"
      },
      "outputs": [
        {
          "output_type": "execute_result",
          "data": {
            "text/plain": [
              "False    140\n",
              "True     110\n",
              "Name: label, dtype: int64"
            ]
          },
          "metadata": {},
          "execution_count": 13
        }
      ],
      "source": [
        "# And when it is above it:\n",
        "df[df['alcohol'] > 11.55]['label'].value_counts()"
      ]
    },
    {
      "cell_type": "markdown",
      "metadata": {
        "id": "0ay6tdbG7Pnt"
      },
      "source": [
        "The `.value_counts()` method of `pandas` gives us the number of rows corresponds to the unique values in the column. You can read about it more here: https://pandas.pydata.org/docs/reference/api/pandas.Series.value_counts.html\n",
        "\n",
        "How can you convert these counts into percentage of the total dataset size?"
      ]
    },
    {
      "cell_type": "code",
      "execution_count": null,
      "metadata": {
        "id": "jx5SHKJF7KnD",
        "colab": {
          "base_uri": "https://localhost:8080/",
          "height": 53
        },
        "outputId": "9d406f75-431c-409a-b5a6-72bc11df8c98"
      },
      "outputs": [
        {
          "output_type": "execute_result",
          "data": {
            "application/vnd.google.colaboratory.intrinsic+json": {
              "type": "string"
            },
            "text/plain": [
              "'\\nWrite code here to calculate the _percentage_ of good wine (True) compared to \\nok/bad wine (False) in the dataset, based on the alcohol column.\\n\\nTry different values to divide the alcohol percentage with, such as:\\n   11, 11.55, 12 \\nhow does these values affect the ratio?\\n'"
            ]
          },
          "metadata": {},
          "execution_count": 15
        }
      ],
      "source": [
        "### YOUR TURN ###\n",
        "\"\"\"\n",
        "Write code here to calculate the _percentage_ of good wine (True) compared to \n",
        "ok/bad wine (False) in the dataset, based on the alcohol column.\n",
        "\n",
        "Try different values to divide the alcohol percentage with, such as:\n",
        "   11, 11.55, 12 \n",
        "how does these values affect the ratio?\n",
        "\"\"\"\n",
        "\n",
        "\n",
        "\n",
        "##################"
      ]
    },
    {
      "cell_type": "markdown",
      "metadata": {
        "id": "vwKEhGJM8DE1"
      },
      "source": [
        "## Assesing a model"
      ]
    },
    {
      "cell_type": "markdown",
      "metadata": {
        "id": "zhd55Dcw8bvf"
      },
      "source": [
        "In the preparation part, we have divided our data to train and test-set.\n",
        "The test set helps us to see how well our model learned: does it only memorize the data, or can it infer and perform also n new, unseen data from the same distribution. This is referred to as the ability of a model **to generalize**."
      ]
    },
    {
      "cell_type": "markdown",
      "metadata": {
        "id": "R9pYMllm847C"
      },
      "source": [
        "There are [many methods](https://scikit-learn.org/stable/modules/classes.html?highlight=metrics#sklearn-metrics-metrics) to asses the model performance. These methods differ based on the task in hand: [classification](https://scikit-learn.org/stable/modules/classes.html?highlight=metrics#classification-metrics), [regression](https://scikit-learn.org/stable/modules/classes.html?highlight=metrics#regression-metrics), [clustering](https://scikit-learn.org/stable/modules/classes.html?highlight=metrics#clustering-metrics), etc.\n",
        "But they all have one thing in common: They all measure some kind of a **distance**: for example, in our classification task, they measure the distance between our model's outputs, the *predicted values*, to our `y`, our pre-defined labels. Hence giving us an indicator about the quality of the model predictions."
      ]
    },
    {
      "cell_type": "markdown",
      "metadata": {
        "id": "cSTRxaTF_l3_"
      },
      "source": [
        "We will use an assessment called [F-Score](https://deepai.org/machine-learning-glossary-and-terms/f-score).\n",
        "\n",
        "If you are not familiar yet with precision, recall and f-score, please take a few minutes to read the explantion and examples here:\n",
        "https://deepai.org/machine-learning-glossary-and-terms/f-score\n",
        "\n",
        "If you are familiar with sensitivity and specificity:\n",
        "* In what ways do precision and recall are similar to sensitivity and specificity?\n",
        "* In what ways do they differ?\n",
        "\n",
        "Compare your answers to this explanation: https://uberpython.wordpress.com/2012/01/01/precision-recall-sensitivity-and-specificity/"
      ]
    },
    {
      "cell_type": "code",
      "execution_count": 17,
      "metadata": {
        "colab": {
          "base_uri": "https://localhost:8080/"
        },
        "id": "p5XXjD7W832Z",
        "outputId": "0b82ab47-2e35-40a1-e71f-17983550bda7"
      },
      "outputs": [
        {
          "output_type": "stream",
          "name": "stdout",
          "text": [
            "              precision    recall  f1-score   support\n",
            "\n",
            "     OK wine       0.88      0.97      0.93       451\n",
            "   Good wine       0.59      0.25      0.35        77\n",
            "\n",
            "    accuracy                           0.87       528\n",
            "   macro avg       0.74      0.61      0.64       528\n",
            "weighted avg       0.84      0.87      0.84       528\n",
            "\n"
          ]
        }
      ],
      "source": [
        "# sklearn.metrics library contains precision, recall, f-score, specificity and sensitivity\n",
        "pred_test = decTree.predict(X_test)\n",
        "print(classification_report(y_test, pred_test, target_names=['OK wine', 'Good wine']))"
      ]
    },
    {
      "cell_type": "markdown",
      "metadata": {
        "id": "5F8YliL5USN5"
      },
      "source": [
        "Another metric for binary classification is [ROC](https://en.wikipedia.org/wiki/Receiver_operating_characteristic) curves.\n",
        "\n",
        "Scikit-learn has [tools](https://scikit-learn.org/stable/modules/model_evaluation.html#receiver-operating-characteristic-roc) for [plotting](https://scikit-learn.org/stable/modules/generated/sklearn.metrics.RocCurveDisplay.html) those curves.\n",
        "\n",
        "Calculate and plot here the ROC curve of our classifier results on the test-set:\n",
        "\n",
        "* What is your Area Under Curve (AUC) score?\n",
        "* We have previously set the quality level to 6.5. \n",
        "  What is the AUC score when defining the good wines score as above 7?"
      ]
    },
    {
      "cell_type": "code",
      "execution_count": null,
      "metadata": {
        "id": "uVIqR3BpUKym"
      },
      "outputs": [],
      "source": [
        "from sklearn.metrics import roc_curve, roc_auc_score\n",
        "\n",
        "### YOUR TURN ###\n",
        "# Write your code here\n",
        "\n",
        "\n",
        "\n",
        "\n",
        "\n",
        "\n"
      ]
    },
    {
      "cell_type": "markdown",
      "metadata": {
        "id": "ChY7lIoQlsht"
      },
      "source": [
        "## Attribute Selection Measurement\n",
        "\n",
        "As we showed in the class, in every calculation step, the [DecisionTreeClassifier](https://scikit-learn.org/stable/modules/generated/sklearn.tree.DecisionTreeClassifier.html#sklearn-tree-decisiontreeclassifier) must select the *most valuable feature*, the best attribute, to divide the data by. How does that work?\n",
        "\n",
        "There are two main methods of measuring the feature contribution, which is referred to as the **purity** of the features.\n",
        "\n",
        "[Purity](https://en.wikipedia.org/wiki/Information_gain_in_decision_trees) is the metric according to which a decision is made whether to split a node. Purity is the fraction (the percentage) of points corresponds to the majority label. A node is *100% impure* when a it is split evenly - 50/50, and it is *100% pure* when all of its data belongs to a single class.\n",
        "\n",
        "Based on the purity measurement, the two methods are:\n",
        "\n",
        "* **Information gain** (aka **Entropy**) - the measurement of changes in entropy after the segmentation of a dataset based on an attribute.\n",
        "  \n",
        "  *Information Gain* = *Entropy*(Total # of Samples) - [(Weighted Avg) * *Entropy*(each feature)]\n",
        "  \n",
        "  *Entropy* (sample) = $-P(yes) * log_2 P(yes)- P(no) log_2 P(no)$\n",
        "\n",
        "  If a node is pure, that is, has all the points from the same class, then the entropy is zero. On the other hand, if the classes are all mixed up, and each appears with equal probability ofr any of the *k* features - $ P(C_i) = \\frac{1}{k} $  then the entropy has the highest value.\n",
        "\n",
        "* **Gini Index** (aka [Gini impurity](https://en.wikipedia.org/wiki/Decision_tree_learning#Gini_impurity)) - a random-sampling based probability measurement of the purity of the data. It measures how often a randomly chosen row from the data table would be incorrectly labeled if it was randomly labeled according to the distribution of labels in the subset.\n",
        "  It's calculation formula is $1 - ∑_i^kP(C_i)^2$\n",
        "\n",
        "  Or in words, one minus the squared sum of probabilities of each class. The lower the Gini index value, the better the split point is. If the node-division is pure, then the probability of the majority class is 1 and the probability of all other classes is 0, and thus, the Gini index is 0. On the other hand, when each class is equally represented, with probability $P(C_i) = 1$, then higher values of the Gini index indicate more disorder, and lower values indicate more order in terms of the class labels.\n",
        "\n",
        "\n",
        "The DecisionTreeClassifier supports both options, and the default one (which we just used) is the 'Gini Index'.\n",
        "\n",
        "### Exercise: \n",
        "Try replacing the Gini Index with entropy - check the documentation for how to perform this. \n",
        "> Observe: How does the entropy method affect on the results?\n",
        "\n",
        "## Shallow Decision Tree\n",
        "\n",
        "One of the attributes of the [DecisionTreeClassifier](https://scikit-learn.org/stable/modules/generated/sklearn.tree.DecisionTreeClassifier.html#sklearn-tree-decisiontreeclassifier) is limiting the depth of the tree, not allowing the tree to be deeper than **n** layers.\n",
        "\n",
        "The previously trained Decision-Tree was unlimited in depth. \n",
        "\n",
        "Try limiting it to a depth of 3. \n",
        "> How does it affect the result?"
      ]
    },
    {
      "cell_type": "code",
      "execution_count": null,
      "metadata": {
        "id": "r0z6vtJstcNu"
      },
      "outputs": [],
      "source": [
        "### YOUR TURN ###\n",
        "# Create and train a DecisionTreeClassifier with entropy instead of the \n",
        "# default Gini index.\n",
        "# Calculate the F-Score and the AUC with the test-set, and compare it to the \n",
        "# previous results\n",
        "\n",
        "\n",
        "\n",
        "\n",
        "\n",
        "\n",
        "\n",
        "\n",
        "\n",
        "\n",
        "\n",
        "\n",
        "\n",
        "#################"
      ]
    },
    {
      "cell_type": "markdown",
      "metadata": {
        "id": "j5FFoRdnj4-s"
      },
      "source": [
        "To dive deeper in to Decision-Trees, a recommended reading is https://www.javatpoint.com/machine-learning-decision-tree-classification-algorithm"
      ]
    },
    {
      "cell_type": "markdown",
      "metadata": {
        "id": "hurOgee6sH4I"
      },
      "source": [
        "## Take-aways\n",
        "\n",
        "* Decision Trees are simple to understand and to interpret (White-Box)\n",
        "* They simulates human rational decision-making process\n",
        "* They can handle both numerical (e.g. alcohol %) and categorical (e.g. colors) features\n",
        "* They requires little to no data preparation\n",
        "* They can perform well on both small and large datasets"
      ]
    },
    {
      "cell_type": "markdown",
      "metadata": {
        "id": "XLSaVYi4U8p6"
      },
      "source": [
        "# Regression"
      ]
    },
    {
      "cell_type": "markdown",
      "metadata": {
        "id": "cFiE6gkkU-3U"
      },
      "source": [
        "You have already learned about regression models. Let's rehearse them now using python and Scikit-Learn.\n",
        "\n",
        "We will practice two simple regression models: [Linear Regression](https://scikit-learn.org/stable/modules/linear_model.html#generalized-linear-regression) and [Logistic Regression](https://scikit-learn.org/stable/modules/linear_model.html#logistic-regression).\n"
      ]
    },
    {
      "cell_type": "markdown",
      "source": [
        "First, let's import the packages we are going to use"
      ],
      "metadata": {
        "id": "OsiHypbJFmM8"
      }
    },
    {
      "cell_type": "code",
      "execution_count": null,
      "metadata": {
        "id": "6irlmevJ5NfR"
      },
      "outputs": [],
      "source": [
        "from sklearn.linear_model import LinearRegression, LogisticRegression  \n",
        "from sklearn.preprocessing import StandardScaler"
      ]
    },
    {
      "cell_type": "markdown",
      "metadata": {
        "id": "RB0ef-cM8ZmP"
      },
      "source": [
        "--- \n",
        "\n",
        "We begin with Linear Regression - and attempt to fit a straight line to our data.\n"
      ]
    },
    {
      "cell_type": "markdown",
      "metadata": {
        "id": "mHHK4fOX5W5E"
      },
      "source": [
        "We begin, as before, by dividing our data and leaving some of it aside to test the model with.\n",
        "\n",
        "This time, we will use the `quality` column as it is: a set of numerical values.\n",
        "We will try to predict the quality score based on the features."
      ]
    },
    {
      "cell_type": "code",
      "execution_count": null,
      "metadata": {
        "id": "VThsQ0b03Ez_"
      },
      "outputs": [],
      "source": [
        "# 'quality' is our label - the column we would like to predict. \n",
        "features_df = df.drop('quality', axis=1)\n",
        "\n",
        "label = df['quality']\n",
        "\n",
        "X_train, X_test, y_train, y_test = train_test_split(features_df, \n",
        "                                                    label, \n",
        "                                                    test_size=0.33, \n",
        "                                                    random_state=42)"
      ]
    },
    {
      "cell_type": "code",
      "execution_count": null,
      "metadata": {
        "colab": {
          "base_uri": "https://localhost:8080/"
        },
        "id": "r9LEQhP_uSQX",
        "outputId": "f49512b6-54d1-4eda-b59b-50968dc18baa"
      },
      "outputs": [
        {
          "output_type": "execute_result",
          "data": {
            "text/plain": [
              "LinearRegression()"
            ]
          },
          "metadata": {},
          "execution_count": 35
        }
      ],
      "source": [
        "regressor = LinearRegression()  \n",
        "regressor.fit(X_train, y_train)"
      ]
    },
    {
      "cell_type": "markdown",
      "metadata": {
        "id": "1JVz7-CS5Qle"
      },
      "source": [
        "Let's see how well did our Linear Regressor do on our saved-aside test set:"
      ]
    },
    {
      "cell_type": "code",
      "execution_count": null,
      "metadata": {
        "colab": {
          "base_uri": "https://localhost:8080/"
        },
        "id": "fXLwMXLx11hr",
        "outputId": "3266fdef-d37c-41df-e01a-d5a5e72c26a6"
      },
      "outputs": [
        {
          "output_type": "stream",
          "name": "stdout",
          "text": [
            "predictions:  [5.34555675 5.1382492  5.48770853 5.42014113 5.53690683]\n",
            "rounded predictions:  [5, 5, 5, 5, 6]\n",
            "true values:  [6, 5, 6, 5, 6]\n"
          ]
        }
      ],
      "source": [
        "y_pred= regressor.predict(X_test)\n",
        "\n",
        "print('predictions: ', y_pred[:5])\n",
        "print('rounded predictions: ', list(map(round, y_pred))[:5])\n",
        "print('true values: ', y_test.to_list()[:5])"
      ]
    },
    {
      "cell_type": "markdown",
      "metadata": {
        "id": "6XnN07Zu7ZV0"
      },
      "source": [
        "Let's plot the predictions.\n",
        "\n",
        "The true values are the blue dots, and the red are our predictions.\n",
        "\n",
        "You can switch between the commentted lines to compare the rounded points and the true value of the regressor classifier."
      ]
    },
    {
      "cell_type": "code",
      "execution_count": null,
      "metadata": {
        "colab": {
          "base_uri": "https://localhost:8080/",
          "height": 611
        },
        "id": "W7VzgUcZ6R4i",
        "outputId": "8c72139c-7112-4ed8-eebd-51b3897572df"
      },
      "outputs": [
        {
          "output_type": "execute_result",
          "data": {
            "text/plain": [
              "<matplotlib.collections.PathCollection at 0x7fb73765add0>"
            ]
          },
          "metadata": {},
          "execution_count": 23
        },
        {
          "output_type": "display_data",
          "data": {
            "image/png": "[encoded data removed]",
            "text/plain": [
              "<Figure size 1008x720 with 1 Axes>"
            ]
          },
          "metadata": {}
        }
      ],
      "source": [
        "# num_of_points = len(y_test)\n",
        "num_of_points = 100\n",
        "\n",
        "plt.scatter(range(num_of_points), y_test[:num_of_points])\n",
        "\n",
        "# plot the rounded points:\n",
        "plt.scatter(range(num_of_points), list(map(round, y_pred))[:num_of_points], color=\"red\")\n",
        "\n",
        "# plot the true regression values\n",
        "# plt.scatter(range(num_of_points), y_pred[:num_of_points], color=\"red\")"
      ]
    },
    {
      "cell_type": "markdown",
      "metadata": {
        "id": "baVz1Ds45rVO"
      },
      "source": [
        "## Giving it a score\n",
        "\n",
        "For classification, we used classification-related metrics, such as F-Score, Precision, Recall, RUC and AUC scores.\n",
        "\n",
        "We can't use those for regression - we have no classes output.\n",
        "\n",
        "Instead, we need so somehow calculate the **distance** between our predicted results to the real results."
      ]
    },
    {
      "cell_type": "code",
      "execution_count": null,
      "metadata": {
        "colab": {
          "base_uri": "https://localhost:8080/"
        },
        "id": "nfMxq1jp22Sg",
        "outputId": "8240c294-9b5c-4540-9083-a1b38be289bc"
      },
      "outputs": [
        {
          "output_type": "stream",
          "name": "stdout",
          "text": [
            "mean absolute error:  0.4072606424405148\n",
            "explained variance score:  0.6102893183518037\n"
          ]
        }
      ],
      "source": [
        "from sklearn.metrics import mean_absolute_error, explained_variance_score\n",
        "\n",
        "print('mean absolute error: ', mean_absolute_error(y_test, y_pred))\n",
        "print('explained variance score: ', explained_variance_score(y_test, y_pred))"
      ]
    },
    {
      "cell_type": "markdown",
      "source": [
        "If we round our predictions, the result is slightly better (less error):"
      ],
      "metadata": {
        "id": "6M0CAsdhFpcX"
      }
    },
    {
      "cell_type": "code",
      "source": [
        "print('mean absolute error: ', mean_absolute_error(y_test, list(map(round, y_pred))))\n",
        "print('explained variance score: ', explained_variance_score(y_test, list(map(round, y_pred))))\n"
      ],
      "metadata": {
        "colab": {
          "base_uri": "https://localhost:8080/"
        },
        "id": "gK-fdOnlFY0E",
        "outputId": "838bcac4-0d04-4595-b5b9-833a416f9102"
      },
      "execution_count": null,
      "outputs": [
        {
          "output_type": "stream",
          "name": "stdout",
          "text": [
            "mean absolute error:  0.32765151515151514\n",
            "explained variance score:  0.47833693526808685\n"
          ]
        }
      ]
    },
    {
      "cell_type": "markdown",
      "metadata": {
        "id": "wFQ5XlnV8qWT"
      },
      "source": [
        "---\n",
        "\n",
        "Now that we have a number, we can compare that result to a Logistic Regression.\n",
        "\n",
        "Logistic Regression fits a non-straight line, so it can match better to the data. It requires some preparation, though: We need to normalize our data.\n"
      ]
    },
    {
      "cell_type": "code",
      "execution_count": null,
      "metadata": {
        "id": "JoVslqF3_MyE"
      },
      "outputs": [],
      "source": [
        "X_train, X_test, y_train, y_test = train_test_split(features_df, \n",
        "                                                    label, \n",
        "                                                    test_size=0.33, \n",
        "                                                    random_state=42)"
      ]
    },
    {
      "cell_type": "code",
      "execution_count": null,
      "metadata": {
        "id": "NA5p-cDt9rxR"
      },
      "outputs": [],
      "source": [
        "st_x= StandardScaler()    \n",
        "X_train= st_x.fit_transform(X_train)    \n",
        "X_test= st_x.transform(X_test)"
      ]
    },
    {
      "cell_type": "markdown",
      "metadata": {
        "id": "B-4qo9OP-YaF"
      },
      "source": [
        "Let's take a look at our normalized data:"
      ]
    },
    {
      "cell_type": "code",
      "execution_count": null,
      "metadata": {
        "colab": {
          "base_uri": "https://localhost:8080/",
          "height": 485
        },
        "id": "tQ17VtHv-Jss",
        "outputId": "9f5e02b8-caa9-468b-cea1-f6a3564d170f"
      },
      "outputs": [
        {
          "output_type": "execute_result",
          "data": {
            "text/html": [
              "\n",
              "  <div id=\"df-4b232a47-9b7d-439f-b905-cd32ecfb4a91\">\n",
              "    <div class=\"colab-df-container\">\n",
              "      <div>\n",
              "<style scoped>\n",
              "    .dataframe tbody tr th:only-of-type {\n",
              "        vertical-align: middle;\n",
              "    }\n",
              "\n",
              "    .dataframe tbody tr th {\n",
              "        vertical-align: top;\n",
              "    }\n",
              "\n",
              "    .dataframe thead th {\n",
              "        text-align: right;\n",
              "    }\n",
              "</style>\n",
              "<table border=\"1\" class=\"dataframe\">\n",
              "  <thead>\n",
              "    <tr style=\"text-align: right;\">\n",
              "      <th></th>\n",
              "      <th>fixed acidity</th>\n",
              "      <th>volatile acidity</th>\n",
              "      <th>citric acid</th>\n",
              "      <th>residual sugar</th>\n",
              "      <th>chlorides</th>\n",
              "      <th>free sulfur dioxide</th>\n",
              "      <th>total sulfur dioxide</th>\n",
              "      <th>density</th>\n",
              "      <th>pH</th>\n",
              "      <th>sulphates</th>\n",
              "      <th>alcohol</th>\n",
              "      <th>quality</th>\n",
              "    </tr>\n",
              "  </thead>\n",
              "  <tbody>\n",
              "    <tr>\n",
              "      <th>0</th>\n",
              "      <td>2.400695</td>\n",
              "      <td>-1.031037</td>\n",
              "      <td>1.127426</td>\n",
              "      <td>0.037723</td>\n",
              "      <td>-0.184551</td>\n",
              "      <td>1.078264</td>\n",
              "      <td>0.674266</td>\n",
              "      <td>1.422247</td>\n",
              "      <td>-1.260963</td>\n",
              "      <td>0.527261</td>\n",
              "      <td>-0.014319</td>\n",
              "      <td>-0.387783</td>\n",
              "    </tr>\n",
              "    <tr>\n",
              "      <th>1</th>\n",
              "      <td>-0.939671</td>\n",
              "      <td>1.229204</td>\n",
              "      <td>-1.325022</td>\n",
              "      <td>-0.104411</td>\n",
              "      <td>-0.205698</td>\n",
              "      <td>0.105783</td>\n",
              "      <td>-0.447656</td>\n",
              "      <td>-0.694295</td>\n",
              "      <td>1.526228</td>\n",
              "      <td>-0.282257</td>\n",
              "      <td>2.243632</td>\n",
              "      <td>-0.387783</td>\n",
              "    </tr>\n",
              "    <tr>\n",
              "      <th>2</th>\n",
              "      <td>-0.998274</td>\n",
              "      <td>0.551132</td>\n",
              "      <td>-1.376115</td>\n",
              "      <td>1.245861</td>\n",
              "      <td>0.111497</td>\n",
              "      <td>3.412217</td>\n",
              "      <td>0.932005</td>\n",
              "      <td>-0.650879</td>\n",
              "      <td>-0.742416</td>\n",
              "      <td>-1.207421</td>\n",
              "      <td>-0.861050</td>\n",
              "      <td>-0.387783</td>\n",
              "    </tr>\n",
              "    <tr>\n",
              "      <th>3</th>\n",
              "      <td>1.580254</td>\n",
              "      <td>-1.313567</td>\n",
              "      <td>1.587260</td>\n",
              "      <td>-0.317611</td>\n",
              "      <td>-0.713209</td>\n",
              "      <td>-0.866697</td>\n",
              "      <td>-0.841845</td>\n",
              "      <td>0.662462</td>\n",
              "      <td>-0.029413</td>\n",
              "      <td>1.278957</td>\n",
              "      <td>0.079763</td>\n",
              "      <td>2.578759</td>\n",
              "    </tr>\n",
              "    <tr>\n",
              "      <th>4</th>\n",
              "      <td>0.056578</td>\n",
              "      <td>1.200951</td>\n",
              "      <td>-0.814096</td>\n",
              "      <td>-0.459745</td>\n",
              "      <td>0.048058</td>\n",
              "      <td>0.008535</td>\n",
              "      <td>0.492333</td>\n",
              "      <td>-0.151592</td>\n",
              "      <td>-0.807234</td>\n",
              "      <td>0.932021</td>\n",
              "      <td>-0.766969</td>\n",
              "      <td>-0.387783</td>\n",
              "    </tr>\n",
              "    <tr>\n",
              "      <th>...</th>\n",
              "      <td>...</td>\n",
              "      <td>...</td>\n",
              "      <td>...</td>\n",
              "      <td>...</td>\n",
              "      <td>...</td>\n",
              "      <td>...</td>\n",
              "      <td>...</td>\n",
              "      <td>...</td>\n",
              "      <td>...</td>\n",
              "      <td>...</td>\n",
              "      <td>...</td>\n",
              "      <td>...</td>\n",
              "    </tr>\n",
              "    <tr>\n",
              "      <th>1066</th>\n",
              "      <td>0.466799</td>\n",
              "      <td>0.381614</td>\n",
              "      <td>-1.376115</td>\n",
              "      <td>-0.459745</td>\n",
              "      <td>-0.628624</td>\n",
              "      <td>-1.061193</td>\n",
              "      <td>-1.114746</td>\n",
              "      <td>0.499652</td>\n",
              "      <td>-0.872053</td>\n",
              "      <td>-0.166612</td>\n",
              "      <td>-0.014319</td>\n",
              "      <td>-0.387783</td>\n",
              "    </tr>\n",
              "    <tr>\n",
              "      <th>1067</th>\n",
              "      <td>-0.060627</td>\n",
              "      <td>0.579385</td>\n",
              "      <td>-0.865188</td>\n",
              "      <td>-0.317611</td>\n",
              "      <td>-0.311429</td>\n",
              "      <td>0.883768</td>\n",
              "      <td>0.401366</td>\n",
              "      <td>-0.216716</td>\n",
              "      <td>-0.159050</td>\n",
              "      <td>0.527261</td>\n",
              "      <td>0.456088</td>\n",
              "      <td>-0.387783</td>\n",
              "    </tr>\n",
              "    <tr>\n",
              "      <th>1068</th>\n",
              "      <td>-0.646657</td>\n",
              "      <td>0.494626</td>\n",
              "      <td>-1.069559</td>\n",
              "      <td>0.108790</td>\n",
              "      <td>-0.226844</td>\n",
              "      <td>-0.088713</td>\n",
              "      <td>1.159422</td>\n",
              "      <td>0.369403</td>\n",
              "      <td>1.266955</td>\n",
              "      <td>-0.687016</td>\n",
              "      <td>-0.861050</td>\n",
              "      <td>-0.387783</td>\n",
              "    </tr>\n",
              "    <tr>\n",
              "      <th>1069</th>\n",
              "      <td>-0.236436</td>\n",
              "      <td>-1.878628</td>\n",
              "      <td>0.412128</td>\n",
              "      <td>-0.601879</td>\n",
              "      <td>-0.713209</td>\n",
              "      <td>-0.866697</td>\n",
              "      <td>-0.963134</td>\n",
              "      <td>-1.193582</td>\n",
              "      <td>0.035405</td>\n",
              "      <td>0.816375</td>\n",
              "      <td>1.396901</td>\n",
              "      <td>2.578759</td>\n",
              "    </tr>\n",
              "    <tr>\n",
              "      <th>1070</th>\n",
              "      <td>-1.467098</td>\n",
              "      <td>-1.370073</td>\n",
              "      <td>-0.047706</td>\n",
              "      <td>-0.601879</td>\n",
              "      <td>-0.522892</td>\n",
              "      <td>-1.255689</td>\n",
              "      <td>-1.084423</td>\n",
              "      <td>-2.865107</td>\n",
              "      <td>0.489134</td>\n",
              "      <td>-0.687016</td>\n",
              "      <td>2.902201</td>\n",
              "      <td>-0.387783</td>\n",
              "    </tr>\n",
              "  </tbody>\n",
              "</table>\n",
              "<p>1071 rows × 12 columns</p>\n",
              "</div>\n",
              "      <button class=\"colab-df-convert\" onclick=\"convertToInteractive('df-4b232a47-9b7d-439f-b905-cd32ecfb4a91')\"\n",
              "              title=\"Convert this dataframe to an interactive table.\"\n",
              "              style=\"display:none;\">\n",
              "        \n",
              "  <svg xmlns=\"http://www.w3.org/2000/svg\" height=\"24px\"viewBox=\"0 0 24 24\"\n",
              "       width=\"24px\">\n",
              "    <path d=\"M0 0h24v24H0V0z\" fill=\"none\"/>\n",
              "    <path d=\"M18.56 5.44l.94 2.06.94-2.06 2.06-.94-2.06-.94-.94-2.06-.94 2.06-2.06.94zm-11 1L8.5 8.5l.94-2.06 2.06-.94-2.06-.94L8.5 2.5l-.94 2.06-2.06.94zm10 10l.94 2.06.94-2.06 2.06-.94-2.06-.94-.94-2.06-.94 2.06-2.06.94z\"/><path d=\"M17.41 7.96l-1.37-1.37c-.4-.4-.92-.59-1.43-.59-.52 0-1.04.2-1.43.59L10.3 9.45l-7.72 7.72c-.78.78-.78 2.05 0 2.83L4 21.41c.39.39.9.59 1.41.59.51 0 1.02-.2 1.41-.59l7.78-7.78 2.81-2.81c.8-.78.8-2.07 0-2.86zM5.41 20L4 18.59l7.72-7.72 1.47 1.35L5.41 20z\"/>\n",
              "  </svg>\n",
              "      </button>\n",
              "      \n",
              "  <style>\n",
              "    .colab-df-container {\n",
              "      display:flex;\n",
              "      flex-wrap:wrap;\n",
              "      gap: 12px;\n",
              "    }\n",
              "\n",
              "    .colab-df-convert {\n",
              "      background-color: #E8F0FE;\n",
              "      border: none;\n",
              "      border-radius: 50%;\n",
              "      cursor: pointer;\n",
              "      display: none;\n",
              "      fill: #1967D2;\n",
              "      height: 32px;\n",
              "      padding: 0 0 0 0;\n",
              "      width: 32px;\n",
              "    }\n",
              "\n",
              "    .colab-df-convert:hover {\n",
              "      background-color: #E2EBFA;\n",
              "      box-shadow: 0px 1px 2px rgba(60, 64, 67, 0.3), 0px 1px 3px 1px rgba(60, 64, 67, 0.15);\n",
              "      fill: #174EA6;\n",
              "    }\n",
              "\n",
              "    [theme=dark] .colab-df-convert {\n",
              "      background-color: #3B4455;\n",
              "      fill: #D2E3FC;\n",
              "    }\n",
              "\n",
              "    [theme=dark] .colab-df-convert:hover {\n",
              "      background-color: #434B5C;\n",
              "      box-shadow: 0px 1px 3px 1px rgba(0, 0, 0, 0.15);\n",
              "      filter: drop-shadow(0px 1px 2px rgba(0, 0, 0, 0.3));\n",
              "      fill: #FFFFFF;\n",
              "    }\n",
              "  </style>\n",
              "\n",
              "      <script>\n",
              "        const buttonEl =\n",
              "          document.querySelector('#df-4b232a47-9b7d-439f-b905-cd32ecfb4a91 button.colab-df-convert');\n",
              "        buttonEl.style.display =\n",
              "          google.colab.kernel.accessAllowed ? 'block' : 'none';\n",
              "\n",
              "        async function convertToInteractive(key) {\n",
              "          const element = document.querySelector('#df-4b232a47-9b7d-439f-b905-cd32ecfb4a91');\n",
              "          const dataTable =\n",
              "            await google.colab.kernel.invokeFunction('convertToInteractive',\n",
              "                                                     [key], {});\n",
              "          if (!dataTable) return;\n",
              "\n",
              "          const docLinkHtml = 'Like what you see? Visit the ' +\n",
              "            '<a target=\"_blank\" href=https://colab.research.google.com/notebooks/data_table.ipynb>data table notebook</a>'\n",
              "            + ' to learn more about interactive tables.';\n",
              "          element.innerHTML = '';\n",
              "          dataTable['output_type'] = 'display_data';\n",
              "          await google.colab.output.renderOutput(dataTable, element);\n",
              "          const docLink = document.createElement('div');\n",
              "          docLink.innerHTML = docLinkHtml;\n",
              "          element.appendChild(docLink);\n",
              "        }\n",
              "      </script>\n",
              "    </div>\n",
              "  </div>\n",
              "  "
            ],
            "text/plain": [
              "      fixed acidity  volatile acidity  ...   alcohol   quality\n",
              "0          2.400695         -1.031037  ... -0.014319 -0.387783\n",
              "1         -0.939671          1.229204  ...  2.243632 -0.387783\n",
              "2         -0.998274          0.551132  ... -0.861050 -0.387783\n",
              "3          1.580254         -1.313567  ...  0.079763  2.578759\n",
              "4          0.056578          1.200951  ... -0.766969 -0.387783\n",
              "...             ...               ...  ...       ...       ...\n",
              "1066       0.466799          0.381614  ... -0.014319 -0.387783\n",
              "1067      -0.060627          0.579385  ...  0.456088 -0.387783\n",
              "1068      -0.646657          0.494626  ... -0.861050 -0.387783\n",
              "1069      -0.236436         -1.878628  ...  1.396901  2.578759\n",
              "1070      -1.467098         -1.370073  ...  2.902201 -0.387783\n",
              "\n",
              "[1071 rows x 12 columns]"
            ]
          },
          "metadata": {},
          "execution_count": 27
        }
      ],
      "source": [
        "pd.DataFrame(X_train, columns=df.columns[:len(df.columns) - 1])"
      ]
    },
    {
      "cell_type": "code",
      "execution_count": null,
      "metadata": {
        "colab": {
          "base_uri": "https://localhost:8080/",
          "height": 426
        },
        "id": "5NzZ9_dj-dHk",
        "outputId": "9f353a80-0a5f-4144-e3c7-ac7eba3f1c3e"
      },
      "outputs": [
        {
          "output_type": "execute_result",
          "data": {
            "text/html": [
              "\n",
              "  <div id=\"df-9c53a181-afb1-47da-bce8-9e2fb2d203e6\">\n",
              "    <div class=\"colab-df-container\">\n",
              "      <div>\n",
              "<style scoped>\n",
              "    .dataframe tbody tr th:only-of-type {\n",
              "        vertical-align: middle;\n",
              "    }\n",
              "\n",
              "    .dataframe tbody tr th {\n",
              "        vertical-align: top;\n",
              "    }\n",
              "\n",
              "    .dataframe thead th {\n",
              "        text-align: right;\n",
              "    }\n",
              "</style>\n",
              "<table border=\"1\" class=\"dataframe\">\n",
              "  <thead>\n",
              "    <tr style=\"text-align: right;\">\n",
              "      <th></th>\n",
              "      <th>count</th>\n",
              "      <th>mean</th>\n",
              "      <th>std</th>\n",
              "      <th>min</th>\n",
              "      <th>25%</th>\n",
              "      <th>50%</th>\n",
              "      <th>75%</th>\n",
              "      <th>max</th>\n",
              "    </tr>\n",
              "  </thead>\n",
              "  <tbody>\n",
              "    <tr>\n",
              "      <th>fixed acidity</th>\n",
              "      <td>1071.0</td>\n",
              "      <td>-3.827211e-16</td>\n",
              "      <td>1.000467</td>\n",
              "      <td>-2.170333</td>\n",
              "      <td>-0.705260</td>\n",
              "      <td>-0.236436</td>\n",
              "      <td>0.525402</td>\n",
              "      <td>4.451797</td>\n",
              "    </tr>\n",
              "    <tr>\n",
              "      <th>volatile acidity</th>\n",
              "      <td>1071.0</td>\n",
              "      <td>1.498957e-16</td>\n",
              "      <td>1.000467</td>\n",
              "      <td>-2.330676</td>\n",
              "      <td>-0.748507</td>\n",
              "      <td>-0.070435</td>\n",
              "      <td>0.607638</td>\n",
              "      <td>4.506554</td>\n",
              "    </tr>\n",
              "    <tr>\n",
              "      <th>citric acid</th>\n",
              "      <td>1071.0</td>\n",
              "      <td>-2.038260e-16</td>\n",
              "      <td>1.000467</td>\n",
              "      <td>-1.376115</td>\n",
              "      <td>-0.916281</td>\n",
              "      <td>-0.047706</td>\n",
              "      <td>0.820870</td>\n",
              "      <td>3.733152</td>\n",
              "    </tr>\n",
              "    <tr>\n",
              "      <th>residual sugar</th>\n",
              "      <td>1071.0</td>\n",
              "      <td>4.295765e-16</td>\n",
              "      <td>1.000467</td>\n",
              "      <td>-1.170414</td>\n",
              "      <td>-0.459745</td>\n",
              "      <td>-0.246544</td>\n",
              "      <td>0.037723</td>\n",
              "      <td>9.205354</td>\n",
              "    </tr>\n",
              "    <tr>\n",
              "      <th>chlorides</th>\n",
              "      <td>1071.0</td>\n",
              "      <td>3.118161e-16</td>\n",
              "      <td>1.000467</td>\n",
              "      <td>-1.601355</td>\n",
              "      <td>-0.353722</td>\n",
              "      <td>-0.163405</td>\n",
              "      <td>0.048058</td>\n",
              "      <td>11.065288</td>\n",
              "    </tr>\n",
              "    <tr>\n",
              "      <th>free sulfur dioxide</th>\n",
              "      <td>1071.0</td>\n",
              "      <td>-5.742890e-17</td>\n",
              "      <td>1.000467</td>\n",
              "      <td>-1.450185</td>\n",
              "      <td>-0.866697</td>\n",
              "      <td>-0.185961</td>\n",
              "      <td>0.494776</td>\n",
              "      <td>5.065434</td>\n",
              "    </tr>\n",
              "    <tr>\n",
              "      <th>total sulfur dioxide</th>\n",
              "      <td>1071.0</td>\n",
              "      <td>4.125759e-17</td>\n",
              "      <td>1.000467</td>\n",
              "      <td>-1.236034</td>\n",
              "      <td>-0.750879</td>\n",
              "      <td>-0.265723</td>\n",
              "      <td>0.492333</td>\n",
              "      <td>7.345157</td>\n",
              "    </tr>\n",
              "    <tr>\n",
              "      <th>density</th>\n",
              "      <td>1071.0</td>\n",
              "      <td>4.908658e-14</td>\n",
              "      <td>1.000467</td>\n",
              "      <td>-3.641172</td>\n",
              "      <td>-0.588468</td>\n",
              "      <td>0.011219</td>\n",
              "      <td>0.570203</td>\n",
              "      <td>3.750442</td>\n",
              "    </tr>\n",
              "    <tr>\n",
              "      <th>pH</th>\n",
              "      <td>1071.0</td>\n",
              "      <td>8.691046e-16</td>\n",
              "      <td>1.000467</td>\n",
              "      <td>-3.724063</td>\n",
              "      <td>-0.612779</td>\n",
              "      <td>-0.029413</td>\n",
              "      <td>0.553952</td>\n",
              "      <td>4.507875</td>\n",
              "    </tr>\n",
              "    <tr>\n",
              "      <th>sulphates</th>\n",
              "      <td>1071.0</td>\n",
              "      <td>3.243593e-16</td>\n",
              "      <td>1.000467</td>\n",
              "      <td>-1.670003</td>\n",
              "      <td>-0.629193</td>\n",
              "      <td>-0.224434</td>\n",
              "      <td>0.411616</td>\n",
              "      <td>7.755104</td>\n",
              "    </tr>\n",
              "    <tr>\n",
              "      <th>alcohol</th>\n",
              "      <td>1071.0</td>\n",
              "      <td>-2.031781e-16</td>\n",
              "      <td>1.000467</td>\n",
              "      <td>-1.895944</td>\n",
              "      <td>-0.861050</td>\n",
              "      <td>-0.202481</td>\n",
              "      <td>0.550169</td>\n",
              "      <td>4.219339</td>\n",
              "    </tr>\n",
              "    <tr>\n",
              "      <th>quality</th>\n",
              "      <td>1071.0</td>\n",
              "      <td>9.158562e-17</td>\n",
              "      <td>1.000467</td>\n",
              "      <td>-0.387783</td>\n",
              "      <td>-0.387783</td>\n",
              "      <td>-0.387783</td>\n",
              "      <td>-0.387783</td>\n",
              "      <td>2.578759</td>\n",
              "    </tr>\n",
              "  </tbody>\n",
              "</table>\n",
              "</div>\n",
              "      <button class=\"colab-df-convert\" onclick=\"convertToInteractive('df-9c53a181-afb1-47da-bce8-9e2fb2d203e6')\"\n",
              "              title=\"Convert this dataframe to an interactive table.\"\n",
              "              style=\"display:none;\">\n",
              "        \n",
              "  <svg xmlns=\"http://www.w3.org/2000/svg\" height=\"24px\"viewBox=\"0 0 24 24\"\n",
              "       width=\"24px\">\n",
              "    <path d=\"M0 0h24v24H0V0z\" fill=\"none\"/>\n",
              "    <path d=\"M18.56 5.44l.94 2.06.94-2.06 2.06-.94-2.06-.94-.94-2.06-.94 2.06-2.06.94zm-11 1L8.5 8.5l.94-2.06 2.06-.94-2.06-.94L8.5 2.5l-.94 2.06-2.06.94zm10 10l.94 2.06.94-2.06 2.06-.94-2.06-.94-.94-2.06-.94 2.06-2.06.94z\"/><path d=\"M17.41 7.96l-1.37-1.37c-.4-.4-.92-.59-1.43-.59-.52 0-1.04.2-1.43.59L10.3 9.45l-7.72 7.72c-.78.78-.78 2.05 0 2.83L4 21.41c.39.39.9.59 1.41.59.51 0 1.02-.2 1.41-.59l7.78-7.78 2.81-2.81c.8-.78.8-2.07 0-2.86zM5.41 20L4 18.59l7.72-7.72 1.47 1.35L5.41 20z\"/>\n",
              "  </svg>\n",
              "      </button>\n",
              "      \n",
              "  <style>\n",
              "    .colab-df-container {\n",
              "      display:flex;\n",
              "      flex-wrap:wrap;\n",
              "      gap: 12px;\n",
              "    }\n",
              "\n",
              "    .colab-df-convert {\n",
              "      background-color: #E8F0FE;\n",
              "      border: none;\n",
              "      border-radius: 50%;\n",
              "      cursor: pointer;\n",
              "      display: none;\n",
              "      fill: #1967D2;\n",
              "      height: 32px;\n",
              "      padding: 0 0 0 0;\n",
              "      width: 32px;\n",
              "    }\n",
              "\n",
              "    .colab-df-convert:hover {\n",
              "      background-color: #E2EBFA;\n",
              "      box-shadow: 0px 1px 2px rgba(60, 64, 67, 0.3), 0px 1px 3px 1px rgba(60, 64, 67, 0.15);\n",
              "      fill: #174EA6;\n",
              "    }\n",
              "\n",
              "    [theme=dark] .colab-df-convert {\n",
              "      background-color: #3B4455;\n",
              "      fill: #D2E3FC;\n",
              "    }\n",
              "\n",
              "    [theme=dark] .colab-df-convert:hover {\n",
              "      background-color: #434B5C;\n",
              "      box-shadow: 0px 1px 3px 1px rgba(0, 0, 0, 0.15);\n",
              "      filter: drop-shadow(0px 1px 2px rgba(0, 0, 0, 0.3));\n",
              "      fill: #FFFFFF;\n",
              "    }\n",
              "  </style>\n",
              "\n",
              "      <script>\n",
              "        const buttonEl =\n",
              "          document.querySelector('#df-9c53a181-afb1-47da-bce8-9e2fb2d203e6 button.colab-df-convert');\n",
              "        buttonEl.style.display =\n",
              "          google.colab.kernel.accessAllowed ? 'block' : 'none';\n",
              "\n",
              "        async function convertToInteractive(key) {\n",
              "          const element = document.querySelector('#df-9c53a181-afb1-47da-bce8-9e2fb2d203e6');\n",
              "          const dataTable =\n",
              "            await google.colab.kernel.invokeFunction('convertToInteractive',\n",
              "                                                     [key], {});\n",
              "          if (!dataTable) return;\n",
              "\n",
              "          const docLinkHtml = 'Like what you see? Visit the ' +\n",
              "            '<a target=\"_blank\" href=https://colab.research.google.com/notebooks/data_table.ipynb>data table notebook</a>'\n",
              "            + ' to learn more about interactive tables.';\n",
              "          element.innerHTML = '';\n",
              "          dataTable['output_type'] = 'display_data';\n",
              "          await google.colab.output.renderOutput(dataTable, element);\n",
              "          const docLink = document.createElement('div');\n",
              "          docLink.innerHTML = docLinkHtml;\n",
              "          element.appendChild(docLink);\n",
              "        }\n",
              "      </script>\n",
              "    </div>\n",
              "  </div>\n",
              "  "
            ],
            "text/plain": [
              "                       count          mean  ...       75%        max\n",
              "fixed acidity         1071.0 -3.827211e-16  ...  0.525402   4.451797\n",
              "volatile acidity      1071.0  1.498957e-16  ...  0.607638   4.506554\n",
              "citric acid           1071.0 -2.038260e-16  ...  0.820870   3.733152\n",
              "residual sugar        1071.0  4.295765e-16  ...  0.037723   9.205354\n",
              "chlorides             1071.0  3.118161e-16  ...  0.048058  11.065288\n",
              "free sulfur dioxide   1071.0 -5.742890e-17  ...  0.494776   5.065434\n",
              "total sulfur dioxide  1071.0  4.125759e-17  ...  0.492333   7.345157\n",
              "density               1071.0  4.908658e-14  ...  0.570203   3.750442\n",
              "pH                    1071.0  8.691046e-16  ...  0.553952   4.507875\n",
              "sulphates             1071.0  3.243593e-16  ...  0.411616   7.755104\n",
              "alcohol               1071.0 -2.031781e-16  ...  0.550169   4.219339\n",
              "quality               1071.0  9.158562e-17  ... -0.387783   2.578759\n",
              "\n",
              "[12 rows x 8 columns]"
            ]
          },
          "metadata": {},
          "execution_count": 28
        }
      ],
      "source": [
        "pd.DataFrame(X_train, columns=df.columns[:len(df.columns) - 1]).describe().T"
      ]
    },
    {
      "cell_type": "markdown",
      "metadata": {
        "id": "CBzcgX5k-ppe"
      },
      "source": [
        "Notice that the standard deviation is now the same over all the columns; The maximum `total sulfur dioxide` is now only `7.3`. In fact, all the values have been `squeezed` to fit a smaller range. \n",
        "\n",
        "If we use the `LogisticRegression` on our original values, we will receive computation errors. By squeezing the data into smaller range, we avoid those errors and are enable to fit a regressor.\n",
        "\n",
        "We will see later that the same method is used for many other classifiers, including Deep Learning. This may also help to understand the easiness and non-complicated nature of the Decision Tree."
      ]
    },
    {
      "cell_type": "code",
      "execution_count": null,
      "metadata": {
        "colab": {
          "base_uri": "https://localhost:8080/"
        },
        "id": "VQbZsRO59m88",
        "outputId": "d95963e8-c829-440d-c35e-68c95f00fd32"
      },
      "outputs": [
        {
          "output_type": "stream",
          "name": "stderr",
          "text": [
            "/usr/local/lib/python3.7/dist-packages/sklearn/linear_model/_logistic.py:818: ConvergenceWarning: lbfgs failed to converge (status=1):\n",
            "STOP: TOTAL NO. of ITERATIONS REACHED LIMIT.\n",
            "\n",
            "Increase the number of iterations (max_iter) or scale the data as shown in:\n",
            "    https://scikit-learn.org/stable/modules/preprocessing.html\n",
            "Please also refer to the documentation for alternative solver options:\n",
            "    https://scikit-learn.org/stable/modules/linear_model.html#logistic-regression\n",
            "  extra_warning_msg=_LOGISTIC_SOLVER_CONVERGENCE_MSG,\n"
          ]
        },
        {
          "output_type": "execute_result",
          "data": {
            "text/plain": [
              "LogisticRegression(random_state=42)"
            ]
          },
          "metadata": {},
          "execution_count": 29
        }
      ],
      "source": [
        "classifier = LogisticRegression(random_state = 42)\n",
        "  \n",
        "classifier.fit(X_train, y_train)"
      ]
    },
    {
      "cell_type": "code",
      "execution_count": null,
      "metadata": {
        "id": "XrSLs2uR944r"
      },
      "outputs": [],
      "source": [
        "y_pred= classifier.predict(X_test)  "
      ]
    },
    {
      "cell_type": "code",
      "execution_count": null,
      "metadata": {
        "colab": {
          "base_uri": "https://localhost:8080/"
        },
        "id": "K6ht2h-U-AgY",
        "outputId": "a300c9a3-651e-42bc-9e5d-ffcafe6b98f3"
      },
      "outputs": [
        {
          "output_type": "stream",
          "name": "stdout",
          "text": [
            "mean absolute error:  0.3125\n",
            "explained variance score:  0.47690699425315386\n"
          ]
        }
      ],
      "source": [
        "print('mean absolute error: ', mean_absolute_error(y_test, y_pred))\n",
        "print('explained variance score: ', explained_variance_score(y_test, y_pred))"
      ]
    },
    {
      "cell_type": "code",
      "source": [
        "# num_of_points = len(y_test)\n",
        "num_of_points = 100\n",
        "\n",
        "plt.scatter(range(num_of_points), y_test[:num_of_points])\n",
        "\n",
        "# plot the rounded points:\n",
        "# plt.scatter(range(num_of_points), list(map(round, y_pred))[:num_of_points], color=\"red\")\n",
        "\n",
        "# plot the regression values\n",
        "plt.scatter(range(num_of_points), y_pred[:num_of_points], color=\"red\")"
      ],
      "metadata": {
        "colab": {
          "base_uri": "https://localhost:8080/",
          "height": 611
        },
        "id": "coG5uYnaNrye",
        "outputId": "1c6e72b1-0429-4298-973f-c2f9d3c3b476"
      },
      "execution_count": null,
      "outputs": [
        {
          "output_type": "execute_result",
          "data": {
            "text/plain": [
              "<matplotlib.collections.PathCollection at 0x7fb736d14550>"
            ]
          },
          "metadata": {},
          "execution_count": 32
        },
        {
          "output_type": "display_data",
          "data": {
            "image/png": "[encoded data removed]",
            "text/plain": [
              "<Figure size 1008x720 with 1 Axes>"
            ]
          },
          "metadata": {}
        }
      ]
    },
    {
      "cell_type": "markdown",
      "metadata": {
        "id": "nsRIRMge-HBj"
      },
      "source": [
        "The red points are hiding the blue points - meaning they were predicted correctly. The blue points are the missed one.\n",
        "\n",
        "Overall, for our data, it seems that the Logistic Regression method performed only slightly better than the linear regression one after rounding our data points. \n",
        "\n",
        "Compared to the regression methods, the Decision-Tree had given us insights about the importance of the features in determining the taste quality score. Also, it did not require pre-processing techniques such as normalizing the data first.\n",
        "\n",
        "---"
      ]
    },
    {
      "cell_type": "markdown",
      "source": [
        "## Computation Limitations\n",
        "The Decision-Tree we have detected is good - but not optimal.\n",
        "To find the optimal Decision-Tree is a NP-Complete problem in computer science. That is, it can not be solved in a reasonable time frame (As a function of the input size).\n",
        "\n",
        "\n",
        "## CART Method\n",
        "It worth mentioning that there are also other methods to measure the purity. When using a Decision Tree for regression (Classification And Regression Trees or [CART](https://de.wikipedia.org/wiki/CART_(Algorithmus))) for short) are implemented in SciKit-Learn as [DecisionTreeRegressor](https://scikit-learn.org/stable/modules/generated/sklearn.tree.DecisionTreeRegressor.html#sklearn.tree.DecisionTreeRegressor) and they use different purity measurement methods to output not a discrete class, but a continous ranking or a score. "
      ],
      "metadata": {
        "id": "gJTFd1h4-WHq"
      }
    },
    {
      "cell_type": "markdown",
      "metadata": {
        "id": "IifLBbT1YiA7"
      },
      "source": [
        "# Knime\n",
        "[KNIME](https://www.knime.com/) is a great tool (GUI based), used by the industry, that can be used for processing this data without the need to program it in python. \n",
        "\n",
        "It is based on a GUI to create a graph-workflow, where each node is an action, and the data moves inside the edges from one action-node to another. So for example, you can consider using these nodes: \n",
        "\n",
        "1. File Reader (for csv) to linear correlation node and to interactive histogram for basic EDA.\n",
        "2. File Reader to 'Rule Engine Node' to turn the 10 point scale to dichtome variable (good wine and rest), the code to put in the rule engine is something like this:\n",
        "  - $quality$ > 6.5 => \"good\"\n",
        "  - TRUE => \"bad\"\n",
        "3. Rule Engine Node output to input of Column Filter node to filter out your original 10point feature (this prevent leaking)\n",
        "4. Column Filter Node output to input of Partitioning Node (your standard train/tes split, e.g. 75%/25%, choose 'random' or 'stratified')\n",
        "5. Partitioning Node train data split output to input of Train data split to input Decision Tree Learner node and\n",
        "6. Partitioning Node test data split output to input Decision Tree predictor Node\n",
        "7. Decision Tree learner Node output to input Decision Tree Node input\n",
        "8. Decision Tree output to input ROC Node.. (here you can evaluate your model base on AUC value)\n",
        "\n",
        "In this course, we will focus on giving you the theoretical knowledge and the coding skills in python, but feel free to give KNIME a try as well. \n"
      ]
    },
    {
      "cell_type": "code",
      "source": [
        ""
      ],
      "metadata": {
        "id": "CP14fKfn-yIa"
      },
      "execution_count": null,
      "outputs": []
    }
  ],
  "metadata": {
    "colab": {
      "collapsed_sections": [],
      "name": "01_wine_tasting_decision_tree.ipynb",
      "toc_visible": true,
      "provenance": [],
      "authorship_tag": "ABX9TyPx39uP/5vGFzbmiudqLNda",
      "include_colab_link": true
    },
    "kernelspec": {
      "display_name": "Python 3",
      "name": "python3"
    },
    "language_info": {
      "name": "python"
    }
  },
  "nbformat": 4,
  "nbformat_minor": 0
}